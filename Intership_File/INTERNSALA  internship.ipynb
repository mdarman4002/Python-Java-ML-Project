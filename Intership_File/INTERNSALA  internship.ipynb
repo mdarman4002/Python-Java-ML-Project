{
 "cells": [
  {
   "cell_type": "code",
   "execution_count": 7,
   "id": "17116556",
   "metadata": {},
   "outputs": [
    {
     "data": {
      "text/html": [
       "<div>\n",
       "<style scoped>\n",
       "    .dataframe tbody tr th:only-of-type {\n",
       "        vertical-align: middle;\n",
       "    }\n",
       "\n",
       "    .dataframe tbody tr th {\n",
       "        vertical-align: top;\n",
       "    }\n",
       "\n",
       "    .dataframe thead th {\n",
       "        text-align: right;\n",
       "    }\n",
       "</style>\n",
       "<table border=\"1\" class=\"dataframe\">\n",
       "  <thead>\n",
       "    <tr style=\"text-align: right;\">\n",
       "      <th></th>\n",
       "      <th>Name</th>\n",
       "      <th>Age</th>\n",
       "      <th>Persue</th>\n",
       "    </tr>\n",
       "  </thead>\n",
       "  <tbody>\n",
       "    <tr>\n",
       "      <th>0</th>\n",
       "      <td>Mohammad Firdosh</td>\n",
       "      <td>19</td>\n",
       "      <td>Hafiz</td>\n",
       "    </tr>\n",
       "    <tr>\n",
       "      <th>1</th>\n",
       "      <td>Mohammad Arman</td>\n",
       "      <td>18</td>\n",
       "      <td>B.tech</td>\n",
       "    </tr>\n",
       "    <tr>\n",
       "      <th>2</th>\n",
       "      <td>Mohammad Wasim</td>\n",
       "      <td>17</td>\n",
       "      <td>I.A</td>\n",
       "    </tr>\n",
       "    <tr>\n",
       "      <th>3</th>\n",
       "      <td>Reshman Khatoon,</td>\n",
       "      <td>16</td>\n",
       "      <td>B.A</td>\n",
       "    </tr>\n",
       "    <tr>\n",
       "      <th>4</th>\n",
       "      <td>Saniya Khatoon</td>\n",
       "      <td>15</td>\n",
       "      <td>B.A</td>\n",
       "    </tr>\n",
       "    <tr>\n",
       "      <th>5</th>\n",
       "      <td>Mohammad Faishal</td>\n",
       "      <td>14</td>\n",
       "      <td>Amu 9th</td>\n",
       "    </tr>\n",
       "    <tr>\n",
       "      <th>6</th>\n",
       "      <td>Fariya Khatoon</td>\n",
       "      <td>12</td>\n",
       "      <td>7th class</td>\n",
       "    </tr>\n",
       "    <tr>\n",
       "      <th>7</th>\n",
       "      <td>Aafreen Khatoon</td>\n",
       "      <td>8</td>\n",
       "      <td>5th class</td>\n",
       "    </tr>\n",
       "    <tr>\n",
       "      <th>8</th>\n",
       "      <td>Samreen</td>\n",
       "      <td>8</td>\n",
       "      <td>4th class</td>\n",
       "    </tr>\n",
       "  </tbody>\n",
       "</table>\n",
       "</div>"
      ],
      "text/plain": [
       "               Name  Age     Persue\n",
       "0  Mohammad Firdosh   19      Hafiz\n",
       "1    Mohammad Arman   18     B.tech\n",
       "2    Mohammad Wasim   17        I.A\n",
       "3  Reshman Khatoon,   16        B.A\n",
       "4    Saniya Khatoon   15        B.A\n",
       "5  Mohammad Faishal   14    Amu 9th\n",
       "6    Fariya Khatoon   12  7th class\n",
       "7   Aafreen Khatoon    8  5th class\n",
       "8           Samreen    8  4th class"
      ]
     },
     "execution_count": 7,
     "metadata": {},
     "output_type": "execute_result"
    }
   ],
   "source": [
    "import pandas as pd \n",
    "df = pd.read_csv(\"family.csv\")\n",
    "df\n"
   ]
  },
  {
   "cell_type": "code",
   "execution_count": 11,
   "id": "6854ec92",
   "metadata": {},
   "outputs": [
    {
     "data": {
      "text/plain": [
       "Index(['Name', 'Age', 'Persue'], dtype='object')"
      ]
     },
     "execution_count": 11,
     "metadata": {},
     "output_type": "execute_result"
    }
   ],
   "source": [
    "df.columns"
   ]
  },
  {
   "cell_type": "code",
   "execution_count": 19,
   "id": "619cb977",
   "metadata": {},
   "outputs": [
    {
     "data": {
      "text/html": [
       "<div>\n",
       "<style scoped>\n",
       "    .dataframe tbody tr th:only-of-type {\n",
       "        vertical-align: middle;\n",
       "    }\n",
       "\n",
       "    .dataframe tbody tr th {\n",
       "        vertical-align: top;\n",
       "    }\n",
       "\n",
       "    .dataframe thead th {\n",
       "        text-align: right;\n",
       "    }\n",
       "</style>\n",
       "<table border=\"1\" class=\"dataframe\">\n",
       "  <thead>\n",
       "    <tr style=\"text-align: right;\">\n",
       "      <th></th>\n",
       "      <th>Name</th>\n",
       "      <th>Persue</th>\n",
       "      <th>Age</th>\n",
       "    </tr>\n",
       "  </thead>\n",
       "  <tbody>\n",
       "    <tr>\n",
       "      <th>0</th>\n",
       "      <td>Mohammad Firdosh</td>\n",
       "      <td>Hafiz</td>\n",
       "      <td>19</td>\n",
       "    </tr>\n",
       "    <tr>\n",
       "      <th>1</th>\n",
       "      <td>Mohammad Arman</td>\n",
       "      <td>B.tech</td>\n",
       "      <td>18</td>\n",
       "    </tr>\n",
       "    <tr>\n",
       "      <th>2</th>\n",
       "      <td>Mohammad Wasim</td>\n",
       "      <td>I.A</td>\n",
       "      <td>17</td>\n",
       "    </tr>\n",
       "    <tr>\n",
       "      <th>3</th>\n",
       "      <td>Reshman Khatoon,</td>\n",
       "      <td>B.A</td>\n",
       "      <td>16</td>\n",
       "    </tr>\n",
       "    <tr>\n",
       "      <th>4</th>\n",
       "      <td>Saniya Khatoon</td>\n",
       "      <td>B.A</td>\n",
       "      <td>15</td>\n",
       "    </tr>\n",
       "    <tr>\n",
       "      <th>5</th>\n",
       "      <td>Mohammad Faishal</td>\n",
       "      <td>Amu 9th</td>\n",
       "      <td>14</td>\n",
       "    </tr>\n",
       "    <tr>\n",
       "      <th>6</th>\n",
       "      <td>Fariya Khatoon</td>\n",
       "      <td>7th class</td>\n",
       "      <td>12</td>\n",
       "    </tr>\n",
       "    <tr>\n",
       "      <th>7</th>\n",
       "      <td>Aafreen Khatoon</td>\n",
       "      <td>5th class</td>\n",
       "      <td>8</td>\n",
       "    </tr>\n",
       "    <tr>\n",
       "      <th>8</th>\n",
       "      <td>Samreen</td>\n",
       "      <td>4th class</td>\n",
       "      <td>8</td>\n",
       "    </tr>\n",
       "  </tbody>\n",
       "</table>\n",
       "</div>"
      ],
      "text/plain": [
       "               Name     Persue  Age\n",
       "0  Mohammad Firdosh      Hafiz   19\n",
       "1    Mohammad Arman     B.tech   18\n",
       "2    Mohammad Wasim        I.A   17\n",
       "3  Reshman Khatoon,        B.A   16\n",
       "4    Saniya Khatoon        B.A   15\n",
       "5  Mohammad Faishal    Amu 9th   14\n",
       "6    Fariya Khatoon  7th class   12\n",
       "7   Aafreen Khatoon  5th class    8\n",
       "8           Samreen  4th class    8"
      ]
     },
     "execution_count": 19,
     "metadata": {},
     "output_type": "execute_result"
    }
   ],
   "source": [
    "df[['Name','Persue','Age']]"
   ]
  },
  {
   "cell_type": "code",
   "execution_count": 22,
   "id": "76e3e711",
   "metadata": {},
   "outputs": [
    {
     "data": {
      "text/html": [
       "<div>\n",
       "<style scoped>\n",
       "    .dataframe tbody tr th:only-of-type {\n",
       "        vertical-align: middle;\n",
       "    }\n",
       "\n",
       "    .dataframe tbody tr th {\n",
       "        vertical-align: top;\n",
       "    }\n",
       "\n",
       "    .dataframe thead th {\n",
       "        text-align: right;\n",
       "    }\n",
       "</style>\n",
       "<table border=\"1\" class=\"dataframe\">\n",
       "  <thead>\n",
       "    <tr style=\"text-align: right;\">\n",
       "      <th></th>\n",
       "      <th>Name</th>\n",
       "      <th>Age</th>\n",
       "      <th>Persue</th>\n",
       "    </tr>\n",
       "  </thead>\n",
       "  <tbody>\n",
       "    <tr>\n",
       "      <th>0</th>\n",
       "      <td>Mohammad Firdosh</td>\n",
       "      <td>19</td>\n",
       "      <td>Hafiz</td>\n",
       "    </tr>\n",
       "    <tr>\n",
       "      <th>1</th>\n",
       "      <td>Mohammad Arman</td>\n",
       "      <td>18</td>\n",
       "      <td>B.tech</td>\n",
       "    </tr>\n",
       "    <tr>\n",
       "      <th>2</th>\n",
       "      <td>Mohammad Wasim</td>\n",
       "      <td>17</td>\n",
       "      <td>I.A</td>\n",
       "    </tr>\n",
       "    <tr>\n",
       "      <th>3</th>\n",
       "      <td>Reshman Khatoon,</td>\n",
       "      <td>16</td>\n",
       "      <td>B.A</td>\n",
       "    </tr>\n",
       "    <tr>\n",
       "      <th>4</th>\n",
       "      <td>Saniya Khatoon</td>\n",
       "      <td>15</td>\n",
       "      <td>B.A</td>\n",
       "    </tr>\n",
       "  </tbody>\n",
       "</table>\n",
       "</div>"
      ],
      "text/plain": [
       "               Name  Age  Persue\n",
       "0  Mohammad Firdosh   19   Hafiz\n",
       "1    Mohammad Arman   18  B.tech\n",
       "2    Mohammad Wasim   17     I.A\n",
       "3  Reshman Khatoon,   16     B.A\n",
       "4    Saniya Khatoon   15     B.A"
      ]
     },
     "execution_count": 22,
     "metadata": {},
     "output_type": "execute_result"
    }
   ],
   "source": [
    "# selecting rows by their positions\n",
    "df.iloc[0:5]"
   ]
  },
  {
   "cell_type": "code",
   "execution_count": 27,
   "id": "fcc29931",
   "metadata": {},
   "outputs": [
    {
     "data": {
      "text/html": [
       "<div>\n",
       "<style scoped>\n",
       "    .dataframe tbody tr th:only-of-type {\n",
       "        vertical-align: middle;\n",
       "    }\n",
       "\n",
       "    .dataframe tbody tr th {\n",
       "        vertical-align: top;\n",
       "    }\n",
       "\n",
       "    .dataframe thead th {\n",
       "        text-align: right;\n",
       "    }\n",
       "</style>\n",
       "<table border=\"1\" class=\"dataframe\">\n",
       "  <thead>\n",
       "    <tr style=\"text-align: right;\">\n",
       "      <th></th>\n",
       "      <th>Name</th>\n",
       "      <th>Age</th>\n",
       "    </tr>\n",
       "  </thead>\n",
       "  <tbody>\n",
       "    <tr>\n",
       "      <th>0</th>\n",
       "      <td>Mohammad Firdosh</td>\n",
       "      <td>19</td>\n",
       "    </tr>\n",
       "    <tr>\n",
       "      <th>1</th>\n",
       "      <td>Mohammad Arman</td>\n",
       "      <td>18</td>\n",
       "    </tr>\n",
       "    <tr>\n",
       "      <th>2</th>\n",
       "      <td>Mohammad Wasim</td>\n",
       "      <td>17</td>\n",
       "    </tr>\n",
       "    <tr>\n",
       "      <th>3</th>\n",
       "      <td>Reshman Khatoon,</td>\n",
       "      <td>16</td>\n",
       "    </tr>\n",
       "    <tr>\n",
       "      <th>4</th>\n",
       "      <td>Saniya Khatoon</td>\n",
       "      <td>15</td>\n",
       "    </tr>\n",
       "    <tr>\n",
       "      <th>5</th>\n",
       "      <td>Mohammad Faishal</td>\n",
       "      <td>14</td>\n",
       "    </tr>\n",
       "    <tr>\n",
       "      <th>6</th>\n",
       "      <td>Fariya Khatoon</td>\n",
       "      <td>12</td>\n",
       "    </tr>\n",
       "    <tr>\n",
       "      <th>7</th>\n",
       "      <td>Aafreen Khatoon</td>\n",
       "      <td>8</td>\n",
       "    </tr>\n",
       "    <tr>\n",
       "      <th>8</th>\n",
       "      <td>Samreen</td>\n",
       "      <td>8</td>\n",
       "    </tr>\n",
       "  </tbody>\n",
       "</table>\n",
       "</div>"
      ],
      "text/plain": [
       "               Name  Age\n",
       "0  Mohammad Firdosh   19\n",
       "1    Mohammad Arman   18\n",
       "2    Mohammad Wasim   17\n",
       "3  Reshman Khatoon,   16\n",
       "4    Saniya Khatoon   15\n",
       "5  Mohammad Faishal   14\n",
       "6    Fariya Khatoon   12\n",
       "7   Aafreen Khatoon    8\n",
       "8           Samreen    8"
      ]
     },
     "execution_count": 27,
     "metadata": {},
     "output_type": "execute_result"
    }
   ],
   "source": [
    "#selecting coloumns by their positions\n",
    "df.iloc[:,:2]"
   ]
  },
  {
   "cell_type": "code",
   "execution_count": 31,
   "id": "b127bb8e",
   "metadata": {},
   "outputs": [
    {
     "data": {
      "text/html": [
       "<div>\n",
       "<style scoped>\n",
       "    .dataframe tbody tr th:only-of-type {\n",
       "        vertical-align: middle;\n",
       "    }\n",
       "\n",
       "    .dataframe tbody tr th {\n",
       "        vertical-align: top;\n",
       "    }\n",
       "\n",
       "    .dataframe thead th {\n",
       "        text-align: right;\n",
       "    }\n",
       "</style>\n",
       "<table border=\"1\" class=\"dataframe\">\n",
       "  <thead>\n",
       "    <tr style=\"text-align: right;\">\n",
       "      <th></th>\n",
       "      <th>Name</th>\n",
       "      <th>Age</th>\n",
       "      <th>Persue</th>\n",
       "    </tr>\n",
       "  </thead>\n",
       "  <tbody>\n",
       "    <tr>\n",
       "      <th>7</th>\n",
       "      <td>Aafreen Khatoon</td>\n",
       "      <td>8</td>\n",
       "      <td>5th class</td>\n",
       "    </tr>\n",
       "    <tr>\n",
       "      <th>8</th>\n",
       "      <td>Samreen</td>\n",
       "      <td>8</td>\n",
       "      <td>4th class</td>\n",
       "    </tr>\n",
       "  </tbody>\n",
       "</table>\n",
       "</div>"
      ],
      "text/plain": [
       "              Name  Age     Persue\n",
       "7  Aafreen Khatoon    8  5th class\n",
       "8          Samreen    8  4th class"
      ]
     },
     "execution_count": 31,
     "metadata": {},
     "output_type": "execute_result"
    }
   ],
   "source": [
    "# find similar data\n",
    "df[df['Age']==8]"
   ]
  },
  {
   "cell_type": "code",
   "execution_count": 32,
   "id": "f2316b15",
   "metadata": {},
   "outputs": [
    {
     "data": {
      "text/html": [
       "<div>\n",
       "<style scoped>\n",
       "    .dataframe tbody tr th:only-of-type {\n",
       "        vertical-align: middle;\n",
       "    }\n",
       "\n",
       "    .dataframe tbody tr th {\n",
       "        vertical-align: top;\n",
       "    }\n",
       "\n",
       "    .dataframe thead th {\n",
       "        text-align: right;\n",
       "    }\n",
       "</style>\n",
       "<table border=\"1\" class=\"dataframe\">\n",
       "  <thead>\n",
       "    <tr style=\"text-align: right;\">\n",
       "      <th></th>\n",
       "      <th>Name</th>\n",
       "      <th>Age</th>\n",
       "      <th>Persue</th>\n",
       "    </tr>\n",
       "  </thead>\n",
       "  <tbody>\n",
       "    <tr>\n",
       "      <th>8</th>\n",
       "      <td>Samreen</td>\n",
       "      <td>8</td>\n",
       "      <td>4th class</td>\n",
       "    </tr>\n",
       "  </tbody>\n",
       "</table>\n",
       "</div>"
      ],
      "text/plain": [
       "      Name  Age     Persue\n",
       "8  Samreen    8  4th class"
      ]
     },
     "execution_count": 32,
     "metadata": {},
     "output_type": "execute_result"
    }
   ],
   "source": [
    "df[df['Name']==\"Samreen\"]"
   ]
  },
  {
   "cell_type": "code",
   "execution_count": 7,
   "id": "df60ea41",
   "metadata": {},
   "outputs": [
    {
     "data": {
      "text/html": [
       "<div>\n",
       "<style scoped>\n",
       "    .dataframe tbody tr th:only-of-type {\n",
       "        vertical-align: middle;\n",
       "    }\n",
       "\n",
       "    .dataframe tbody tr th {\n",
       "        vertical-align: top;\n",
       "    }\n",
       "\n",
       "    .dataframe thead th {\n",
       "        text-align: right;\n",
       "    }\n",
       "</style>\n",
       "<table border=\"1\" class=\"dataframe\">\n",
       "  <thead>\n",
       "    <tr style=\"text-align: right;\">\n",
       "      <th></th>\n",
       "      <th>Student</th>\n",
       "      <th>Marks</th>\n",
       "      <th>Gender</th>\n",
       "      <th>Subject</th>\n",
       "    </tr>\n",
       "  </thead>\n",
       "  <tbody>\n",
       "    <tr>\n",
       "      <th>0</th>\n",
       "      <td>Arman</td>\n",
       "      <td>9700</td>\n",
       "      <td>male</td>\n",
       "      <td>English</td>\n",
       "    </tr>\n",
       "    <tr>\n",
       "      <th>1</th>\n",
       "      <td>FaishL</td>\n",
       "      <td>83</td>\n",
       "      <td>male</td>\n",
       "      <td>English</td>\n",
       "    </tr>\n",
       "    <tr>\n",
       "      <th>2</th>\n",
       "      <td>Wasim</td>\n",
       "      <td>78</td>\n",
       "      <td>male</td>\n",
       "      <td>Physics</td>\n",
       "    </tr>\n",
       "    <tr>\n",
       "      <th>3</th>\n",
       "      <td>Firdosh</td>\n",
       "      <td>86</td>\n",
       "      <td>male</td>\n",
       "      <td>Chemistry</td>\n",
       "    </tr>\n",
       "    <tr>\n",
       "      <th>4</th>\n",
       "      <td>tamanna</td>\n",
       "      <td>91</td>\n",
       "      <td>male</td>\n",
       "      <td>English</td>\n",
       "    </tr>\n",
       "  </tbody>\n",
       "</table>\n",
       "</div>"
      ],
      "text/plain": [
       "   Student  Marks Gender    Subject\n",
       "0    Arman   9700   male    English\n",
       "1   FaishL     83   male    English\n",
       "2    Wasim     78   male    Physics\n",
       "3  Firdosh     86   male  Chemistry\n",
       "4  tamanna     91   male    English"
      ]
     },
     "execution_count": 7,
     "metadata": {},
     "output_type": "execute_result"
    }
   ],
   "source": [
    "import pandas as pd\n",
    "median = {\n",
    "    \"Student\":[\"Arman\",\"FaishL\",\"Wasim\",\"Firdosh\",\"tamanna\"],\n",
    "    'Marks':[9700,83,78,86,91],\n",
    "    \"Gender\":[\"male\",\"male\",\"male\",\"male\",\"male\"],\n",
    "    \"Subject\":[\"English\",\"English\",\"Physics\",\"Chemistry\",\"English\"]\n",
    "    \n",
    "}\n",
    "median_file = pd.DataFrame(median)\n",
    "median_file"
   ]
  },
  {
   "cell_type": "code",
   "execution_count": 9,
   "id": "4946c8b7",
   "metadata": {},
   "outputs": [],
   "source": [
    "median_file.to_csv(\"median.csv\")"
   ]
  },
  {
   "cell_type": "code",
   "execution_count": 10,
   "id": "0e2e0e9a",
   "metadata": {},
   "outputs": [],
   "source": [
    "# to read the file illustrate above\n",
    "\n",
    "file = pd.read_csv(\"median.csv\")"
   ]
  },
  {
   "cell_type": "code",
   "execution_count": 11,
   "id": "7ef0055a",
   "metadata": {},
   "outputs": [
    {
     "data": {
      "text/html": [
       "<div>\n",
       "<style scoped>\n",
       "    .dataframe tbody tr th:only-of-type {\n",
       "        vertical-align: middle;\n",
       "    }\n",
       "\n",
       "    .dataframe tbody tr th {\n",
       "        vertical-align: top;\n",
       "    }\n",
       "\n",
       "    .dataframe thead th {\n",
       "        text-align: right;\n",
       "    }\n",
       "</style>\n",
       "<table border=\"1\" class=\"dataframe\">\n",
       "  <thead>\n",
       "    <tr style=\"text-align: right;\">\n",
       "      <th></th>\n",
       "      <th>Unnamed: 0</th>\n",
       "      <th>Student</th>\n",
       "      <th>Marks</th>\n",
       "      <th>Gender</th>\n",
       "      <th>Subject</th>\n",
       "    </tr>\n",
       "  </thead>\n",
       "  <tbody>\n",
       "    <tr>\n",
       "      <th>0</th>\n",
       "      <td>0</td>\n",
       "      <td>Arman</td>\n",
       "      <td>9700</td>\n",
       "      <td>male</td>\n",
       "      <td>English</td>\n",
       "    </tr>\n",
       "    <tr>\n",
       "      <th>1</th>\n",
       "      <td>1</td>\n",
       "      <td>FaishL</td>\n",
       "      <td>83</td>\n",
       "      <td>male</td>\n",
       "      <td>English</td>\n",
       "    </tr>\n",
       "    <tr>\n",
       "      <th>2</th>\n",
       "      <td>2</td>\n",
       "      <td>Wasim</td>\n",
       "      <td>78</td>\n",
       "      <td>male</td>\n",
       "      <td>Physics</td>\n",
       "    </tr>\n",
       "    <tr>\n",
       "      <th>3</th>\n",
       "      <td>3</td>\n",
       "      <td>Firdosh</td>\n",
       "      <td>86</td>\n",
       "      <td>male</td>\n",
       "      <td>Chemistry</td>\n",
       "    </tr>\n",
       "    <tr>\n",
       "      <th>4</th>\n",
       "      <td>4</td>\n",
       "      <td>tamanna</td>\n",
       "      <td>91</td>\n",
       "      <td>male</td>\n",
       "      <td>English</td>\n",
       "    </tr>\n",
       "  </tbody>\n",
       "</table>\n",
       "</div>"
      ],
      "text/plain": [
       "   Unnamed: 0  Student  Marks Gender    Subject\n",
       "0           0    Arman   9700   male    English\n",
       "1           1   FaishL     83   male    English\n",
       "2           2    Wasim     78   male    Physics\n",
       "3           3  Firdosh     86   male  Chemistry\n",
       "4           4  tamanna     91   male    English"
      ]
     },
     "execution_count": 11,
     "metadata": {},
     "output_type": "execute_result"
    }
   ],
   "source": [
    "file"
   ]
  },
  {
   "cell_type": "code",
   "execution_count": 18,
   "id": "5589774d",
   "metadata": {},
   "outputs": [
    {
     "name": "stdout",
     "output_type": "stream",
     "text": [
      "86.0\n"
     ]
    }
   ],
   "source": [
    "#printing median value\n",
    "median_data = file[\"Marks\"].median()\n",
    "print(median_data)"
   ]
  },
  {
   "cell_type": "code",
   "execution_count": 32,
   "id": "f77452be",
   "metadata": {},
   "outputs": [
    {
     "name": "stdout",
     "output_type": "stream",
     "text": [
      "first Quantile 83.0\n",
      "second Qunti 86.0\n",
      "third Qunti 91.0\n",
      "fourth Qunti 9700.0\n"
     ]
    }
   ],
   "source": [
    "# caluculating Quantiles. Remember Quantiles are 1/4th of quatiles #quartile is differ\n",
    "Q1 = file[\"Marks\"].quantile(0.25)\n",
    "Q2 = file[\"Marks\"].quantile(0.5)\n",
    "Q3 = file[\"Marks\"].quantile(0.75)\n",
    "Q4 = file[\"Marks\"].quantile(1)\n",
    "\n",
    "print(\"first Quantile\",Q1)\n",
    "print(\"second Qunti\",Q2)\n",
    "print(\"third Qunti\",Q3)\n",
    "print(\"fourth Qunti\",Q4)\n"
   ]
  },
  {
   "cell_type": "code",
   "execution_count": 33,
   "id": "7746afcb",
   "metadata": {},
   "outputs": [
    {
     "name": "stdout",
     "output_type": "stream",
     "text": [
      "9700\n",
      "78\n"
     ]
    }
   ],
   "source": [
    "obj1 = file[\"Marks\"].max()\n",
    "obj2 = file[\"Marks\"].min()\n",
    "print(obj1)\n",
    "print(obj2)"
   ]
  },
  {
   "cell_type": "code",
   "execution_count": 34,
   "id": "5ae46968",
   "metadata": {},
   "outputs": [
    {
     "data": {
      "text/plain": [
       "9622"
      ]
     },
     "execution_count": 34,
     "metadata": {},
     "output_type": "execute_result"
    }
   ],
   "source": [
    "# find range (max - min)\n",
    "range_data = obj1 - obj2\n",
    "range_data"
   ]
  },
  {
   "cell_type": "code",
   "execution_count": 35,
   "id": "5be61055",
   "metadata": {},
   "outputs": [
    {
     "data": {
      "text/plain": [
       "8.0"
      ]
     },
     "execution_count": 35,
     "metadata": {},
     "output_type": "execute_result"
    }
   ],
   "source": [
    "# calculating IQR  requires calculating 1st and 3rd quartiled.\n",
    "IQR = Q3 - Q1\n",
    "IQR"
   ]
  },
  {
   "cell_type": "code",
   "execution_count": 36,
   "id": "8276fb27",
   "metadata": {},
   "outputs": [
    {
     "name": "stdout",
     "output_type": "stream",
     "text": [
      "14793272.239999998\n"
     ]
    }
   ],
   "source": [
    "# calculating Variance\n",
    "mean = file[\"Marks\"].mean()\n",
    "difference = file[\"Marks\"] - mean\n",
    "squared_difference= difference ** 2\n",
    "variance = squared_difference.mean()\n",
    "print(variance)"
   ]
  },
  {
   "cell_type": "code",
   "execution_count": 37,
   "id": "f4691049",
   "metadata": {},
   "outputs": [
    {
     "data": {
      "text/plain": [
       "14793272.239999998"
      ]
     },
     "execution_count": 37,
     "metadata": {},
     "output_type": "execute_result"
    }
   ],
   "source": [
    "#calculating Variance in other way in short of time\n",
    "var_data = file['Marks'].var(ddof = 0)\n",
    "var_data"
   ]
  },
  {
   "cell_type": "code",
   "execution_count": 40,
   "id": "8f3e55d2",
   "metadata": {},
   "outputs": [
    {
     "data": {
      "text/plain": [
       "2007.6"
      ]
     },
     "execution_count": 40,
     "metadata": {},
     "output_type": "execute_result"
    }
   ],
   "source": [
    "# find mean value\n",
    "_mean = file[\"Marks\"].mean()\n",
    "_mean"
   ]
  },
  {
   "cell_type": "markdown",
   "id": "36f61c30",
   "metadata": {},
   "source": [
    "# standard variance"
   ]
  },
  {
   "cell_type": "code",
   "execution_count": 41,
   "id": "afadc8fb",
   "metadata": {},
   "outputs": [
    {
     "data": {
      "text/plain": [
       "3846.202313971536"
      ]
     },
     "execution_count": 41,
     "metadata": {},
     "output_type": "execute_result"
    }
   ],
   "source": [
    "# standard variance\n",
    "standard_deviation = variance**(1/2)\n",
    "standard_deviation"
   ]
  },
  {
   "cell_type": "code",
   "execution_count": 42,
   "id": "097b3dfc",
   "metadata": {},
   "outputs": [
    {
     "data": {
      "text/plain": [
       "14793272.239999998"
      ]
     },
     "execution_count": 42,
     "metadata": {},
     "output_type": "execute_result"
    }
   ],
   "source": [
    "# calculate variance\n",
    "var_data = file['Marks'].var(ddof = 0)\n",
    "var_data"
   ]
  },
  {
   "cell_type": "code",
   "execution_count": 47,
   "id": "729b2e36",
   "metadata": {},
   "outputs": [
    {
     "data": {
      "text/html": [
       "<div>\n",
       "<style scoped>\n",
       "    .dataframe tbody tr th:only-of-type {\n",
       "        vertical-align: middle;\n",
       "    }\n",
       "\n",
       "    .dataframe tbody tr th {\n",
       "        vertical-align: top;\n",
       "    }\n",
       "\n",
       "    .dataframe thead th {\n",
       "        text-align: right;\n",
       "    }\n",
       "</style>\n",
       "<table border=\"1\" class=\"dataframe\">\n",
       "  <thead>\n",
       "    <tr style=\"text-align: right;\">\n",
       "      <th></th>\n",
       "      <th>Unnamed: 0</th>\n",
       "      <th>Student</th>\n",
       "      <th>Marks</th>\n",
       "      <th>Gender</th>\n",
       "      <th>Subject</th>\n",
       "    </tr>\n",
       "  </thead>\n",
       "  <tbody>\n",
       "    <tr>\n",
       "      <th>0</th>\n",
       "      <td>0</td>\n",
       "      <td>Arman</td>\n",
       "      <td>9700</td>\n",
       "      <td>male</td>\n",
       "      <td>English</td>\n",
       "    </tr>\n",
       "    <tr>\n",
       "      <th>1</th>\n",
       "      <td>1</td>\n",
       "      <td>FaishL</td>\n",
       "      <td>83</td>\n",
       "      <td>male</td>\n",
       "      <td>English</td>\n",
       "    </tr>\n",
       "    <tr>\n",
       "      <th>2</th>\n",
       "      <td>2</td>\n",
       "      <td>Wasim</td>\n",
       "      <td>78</td>\n",
       "      <td>male</td>\n",
       "      <td>Physics</td>\n",
       "    </tr>\n",
       "    <tr>\n",
       "      <th>3</th>\n",
       "      <td>3</td>\n",
       "      <td>Firdosh</td>\n",
       "      <td>86</td>\n",
       "      <td>male</td>\n",
       "      <td>Chemistry</td>\n",
       "    </tr>\n",
       "    <tr>\n",
       "      <th>4</th>\n",
       "      <td>4</td>\n",
       "      <td>tamanna</td>\n",
       "      <td>91</td>\n",
       "      <td>male</td>\n",
       "      <td>English</td>\n",
       "    </tr>\n",
       "  </tbody>\n",
       "</table>\n",
       "</div>"
      ],
      "text/plain": [
       "   Unnamed: 0  Student  Marks Gender    Subject\n",
       "0           0    Arman   9700   male    English\n",
       "1           1   FaishL     83   male    English\n",
       "2           2    Wasim     78   male    Physics\n",
       "3           3  Firdosh     86   male  Chemistry\n",
       "4           4  tamanna     91   male    English"
      ]
     },
     "execution_count": 47,
     "metadata": {},
     "output_type": "execute_result"
    }
   ],
   "source": [
    "#standard deviation equal to root over variance\n",
    "std = file['Marks'].std(ddof = 0)\n",
    "std\n",
    "(file)"
   ]
  },
  {
   "cell_type": "code",
   "execution_count": 51,
   "id": "1e8959f3",
   "metadata": {},
   "outputs": [
    {
     "data": {
      "text/plain": [
       "English      3\n",
       "Physics      1\n",
       "Chemistry    1\n",
       "Name: Subject, dtype: int64"
      ]
     },
     "execution_count": 51,
     "metadata": {},
     "output_type": "execute_result"
    }
   ],
   "source": [
    "# Frequency Table for Categrical Variable\n",
    "freq_data = file[\"Subject\"].value_counts() # value_counts(),it's function\n",
    "freq_data                      "
   ]
  },
  {
   "cell_type": "markdown",
   "id": "c8fc5efc",
   "metadata": {},
   "source": [
    "# HISTOGRAM"
   ]
  },
  {
   "cell_type": "code",
   "execution_count": 52,
   "id": "7b771044",
   "metadata": {},
   "outputs": [
    {
     "data": {
      "text/html": [
       "<div>\n",
       "<style scoped>\n",
       "    .dataframe tbody tr th:only-of-type {\n",
       "        vertical-align: middle;\n",
       "    }\n",
       "\n",
       "    .dataframe tbody tr th {\n",
       "        vertical-align: top;\n",
       "    }\n",
       "\n",
       "    .dataframe thead th {\n",
       "        text-align: right;\n",
       "    }\n",
       "</style>\n",
       "<table border=\"1\" class=\"dataframe\">\n",
       "  <thead>\n",
       "    <tr style=\"text-align: right;\">\n",
       "      <th></th>\n",
       "      <th>Unnamed: 0</th>\n",
       "      <th>Student</th>\n",
       "      <th>Marks</th>\n",
       "      <th>Gender</th>\n",
       "      <th>Subject</th>\n",
       "    </tr>\n",
       "  </thead>\n",
       "  <tbody>\n",
       "    <tr>\n",
       "      <th>0</th>\n",
       "      <td>0</td>\n",
       "      <td>Arman</td>\n",
       "      <td>9700</td>\n",
       "      <td>male</td>\n",
       "      <td>English</td>\n",
       "    </tr>\n",
       "    <tr>\n",
       "      <th>1</th>\n",
       "      <td>1</td>\n",
       "      <td>FaishL</td>\n",
       "      <td>83</td>\n",
       "      <td>male</td>\n",
       "      <td>English</td>\n",
       "    </tr>\n",
       "    <tr>\n",
       "      <th>2</th>\n",
       "      <td>2</td>\n",
       "      <td>Wasim</td>\n",
       "      <td>78</td>\n",
       "      <td>male</td>\n",
       "      <td>Physics</td>\n",
       "    </tr>\n",
       "    <tr>\n",
       "      <th>3</th>\n",
       "      <td>3</td>\n",
       "      <td>Firdosh</td>\n",
       "      <td>86</td>\n",
       "      <td>male</td>\n",
       "      <td>Chemistry</td>\n",
       "    </tr>\n",
       "    <tr>\n",
       "      <th>4</th>\n",
       "      <td>4</td>\n",
       "      <td>tamanna</td>\n",
       "      <td>91</td>\n",
       "      <td>male</td>\n",
       "      <td>English</td>\n",
       "    </tr>\n",
       "  </tbody>\n",
       "</table>\n",
       "</div>"
      ],
      "text/plain": [
       "   Unnamed: 0  Student  Marks Gender    Subject\n",
       "0           0    Arman   9700   male    English\n",
       "1           1   FaishL     83   male    English\n",
       "2           2    Wasim     78   male    Physics\n",
       "3           3  Firdosh     86   male  Chemistry\n",
       "4           4  tamanna     91   male    English"
      ]
     },
     "execution_count": 52,
     "metadata": {},
     "output_type": "execute_result"
    }
   ],
   "source": [
    "import pandas as pd\n",
    "\n",
    "H = pd.read_csv('median.csv')\n",
    "H"
   ]
  },
  {
   "cell_type": "code",
   "execution_count": 53,
   "id": "4c573bdf",
   "metadata": {},
   "outputs": [],
   "source": [
    "import matplotlib.pyplot as plt\n",
    "%matplotlib inline"
   ]
  },
  {
   "cell_type": "code",
   "execution_count": null,
   "id": "c8e15499",
   "metadata": {},
   "outputs": [],
   "source": [
    "plt.hist= "
   ]
  }
 ],
 "metadata": {
  "kernelspec": {
   "display_name": "Python 3 (ipykernel)",
   "language": "python",
   "name": "python3"
  },
  "language_info": {
   "codemirror_mode": {
    "name": "ipython",
    "version": 3
   },
   "file_extension": ".py",
   "mimetype": "text/x-python",
   "name": "python",
   "nbconvert_exporter": "python",
   "pygments_lexer": "ipython3",
   "version": "3.9.7"
  }
 },
 "nbformat": 4,
 "nbformat_minor": 5
}
