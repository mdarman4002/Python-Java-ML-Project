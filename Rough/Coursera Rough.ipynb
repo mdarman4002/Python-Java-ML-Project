{
 "cells": [
  {
   "cell_type": "markdown",
   "id": "e26b5643",
   "metadata": {},
   "source": [
    "# loop"
   ]
  },
  {
   "cell_type": "code",
   "execution_count": null,
   "id": "a7e2996a",
   "metadata": {},
   "outputs": [],
   "source": [
    "for name in [\"arman\",\"Tamanna\",\"Mayank\"]:\n",
    "    print(\"Hi\",name,\"Please come to my party on Saturday night\")\n"
   ]
  },
  {
   "cell_type": "code",
   "execution_count": null,
   "id": "c72b7ed9",
   "metadata": {},
   "outputs": [],
   "source": []
  },
  {
   "cell_type": "code",
   "execution_count": null,
   "id": "e11324c1",
   "metadata": {},
   "outputs": [],
   "source": [
    "for achar in \"Go Spot Go\":\n",
    "    print(achar)"
   ]
  },
  {
   "cell_type": "code",
   "execution_count": null,
   "id": "02ab0220",
   "metadata": {},
   "outputs": [],
   "source": [
    "s=\"python\"# depends on pyhton=6 charectors\n",
    "for ch in s:\n",
    "    print(\"HELLO\")"
   ]
  },
  {
   "cell_type": "code",
   "execution_count": null,
   "id": "ca6725c4",
   "metadata": {},
   "outputs": [],
   "source": [
    "s=\"python rocks\"\n",
    "for ch in s[3:8]: # 5 TIMES print\n",
    "    print(\"HELLO\")"
   ]
  },
  {
   "cell_type": "code",
   "execution_count": null,
   "id": "06be6fc0",
   "metadata": {},
   "outputs": [],
   "source": [
    "fruits=[\"apple\",\"mango\",\"banana\",\"cherry\"]\n",
    "for arman in fruits:\n",
    "    print(arman)"
   ]
  },
  {
   "cell_type": "code",
   "execution_count": null,
   "id": "8779ddd0",
   "metadata": {},
   "outputs": [],
   "source": [
    "import turtle\n",
    "wn=turtle.Screen()\n",
    "alex= turtle.Turtle()\n",
    "\n",
    "for i in [0, 1, 2, 3]:\n",
    "    alex.forward(50)\n",
    "    alex.left(90)\n",
    "wn.exitonclick()"
   ]
  },
  {
   "cell_type": "code",
   "execution_count": null,
   "id": "ebb4c324",
   "metadata": {},
   "outputs": [],
   "source": [
    "print(\"arman\")"
   ]
  },
  {
   "cell_type": "markdown",
   "id": "8cef301c",
   "metadata": {},
   "source": [
    "# courcera week 2 Q no. 5"
   ]
  },
  {
   "cell_type": "code",
   "execution_count": 1,
   "id": "bc11cac6",
   "metadata": {},
   "outputs": [
    {
     "name": "stdout",
     "output_type": "stream",
     "text": [
      "37\n",
      "37\n",
      "37\n",
      "37\n",
      "37\n",
      "37\n",
      "37\n",
      "37\n",
      "37\n"
     ]
    }
   ],
   "source": [
    "addition_str = \"2+5+10+20\"\n",
    "sum_val=0\n",
    "for i in addition_str:\n",
    "    sum_val=sum(map(int,addition_str.split(\"+\")))\n",
    "    print(sum_val)\n"
   ]
  },
  {
   "cell_type": "markdown",
   "id": "fd000a92",
   "metadata": {},
   "source": [
    "# COURCERA week 2 Q 1 Write one for loop to print out each element of the list several_things. Then, write another for loop to print out the TYPE of each element of the list several_things. To complete this problem you should have written two different for loops, each of which iterates over the list several_things, but each of those 2 for loops should have a different result.\n",
    "\n"
   ]
  },
  {
   "cell_type": "code",
   "execution_count": 2,
   "id": "809fffb5",
   "metadata": {},
   "outputs": [
    {
     "name": "stdout",
     "output_type": "stream",
     "text": [
      "hello\n",
      "2\n",
      "4\n",
      "6.0\n",
      "7.5\n",
      "234352354\n",
      "the end\n",
      "\n",
      "99\n",
      "<class 'list'>\n"
     ]
    }
   ],
   "source": [
    "several_things = [\"hello\", 2, 4, 6.0, 7.5, 234352354, \"the end\", \"\", 99]\n",
    "for i in several_things:\n",
    "    print(i)\n",
    "print(type(several_things))\n"
   ]
  },
  {
   "cell_type": "markdown",
   "id": "443f49aa",
   "metadata": {},
   "source": [
    "# week 2 Q no 4 Write code that uses iteration to print out the length of each element of the list stored in str_list.\n",
    "\n"
   ]
  },
  {
   "cell_type": "code",
   "execution_count": 3,
   "id": "532e65e4",
   "metadata": {},
   "outputs": [
    {
     "name": "stdout",
     "output_type": "stream",
     "text": [
      "5\n",
      "0\n",
      "7\n",
      "9\n",
      "13\n"
     ]
    }
   ],
   "source": [
    "str_list = [\"hello\", \"\", \"goodbye\", \"wonderful\", \"I love Python\"]\n",
    "\n",
    "# Write your code here.\n",
    "for i in str_list:\n",
    "    print(len(i))\n",
    "#print(len(str_list))"
   ]
  },
  {
   "cell_type": "markdown",
   "id": "44221de5",
   "metadata": {},
   "source": [
    "# week 2 Create an empty string and assign it to the variable lett. Then using range, write code such that when your code is run, lett has 7 b’s (\"bbbbbbb\").\n",
    "\n"
   ]
  },
  {
   "cell_type": "code",
   "execution_count": 5,
   "id": "a1517101",
   "metadata": {},
   "outputs": [],
   "source": [
    "lett=\"\"\n",
    "for i in range(7):\n",
    "    lett+=\"b\"\n"
   ]
  },
  {
   "cell_type": "code",
   "execution_count": null,
   "id": "1c0dc8e5",
   "metadata": {},
   "outputs": [],
   "source": []
  },
  {
   "cell_type": "code",
   "execution_count": null,
   "id": "4f975f14",
   "metadata": {},
   "outputs": [],
   "source": []
  },
  {
   "cell_type": "code",
   "execution_count": null,
   "id": "fc9201af",
   "metadata": {},
   "outputs": [],
   "source": []
  }
 ],
 "metadata": {
  "kernelspec": {
   "display_name": "Python 3 (ipykernel)",
   "language": "python",
   "name": "python3"
  },
  "language_info": {
   "codemirror_mode": {
    "name": "ipython",
    "version": 3
   },
   "file_extension": ".py",
   "mimetype": "text/x-python",
   "name": "python",
   "nbconvert_exporter": "python",
   "pygments_lexer": "ipython3",
   "version": "3.9.7"
  }
 },
 "nbformat": 4,
 "nbformat_minor": 5
}
