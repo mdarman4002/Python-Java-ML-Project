{
 "cells": [
  {
   "cell_type": "markdown",
   "id": "14f3ccfd",
   "metadata": {},
   "source": [
    "# tkinter"
   ]
  },
  {
   "cell_type": "code",
   "execution_count": 1,
   "id": "170f5319",
   "metadata": {},
   "outputs": [],
   "source": [
    "import tkinter   # from tkinter import *\n",
    "win=tkinter.Tk()  #win=Tk()\n",
    "win.mainloop()"
   ]
  },
  {
   "cell_type": "code",
   "execution_count": 4,
   "id": "76ea43e6",
   "metadata": {},
   "outputs": [],
   "source": [
    "import tkinter as tk\n",
    "from tkinter import ttk\n",
    "win=tk.Tk()\n",
    "win.title(\"Arman GUI\")\n",
    "win.mainloop()"
   ]
  },
  {
   "cell_type": "markdown",
   "id": "ec0c5f7f",
   "metadata": {},
   "source": [
    "# labels"
   ]
  },
  {
   "cell_type": "code",
   "execution_count": null,
   "id": "b929f9b4",
   "metadata": {},
   "outputs": [],
   "source": [
    "widgets ----> label, buttons , radio buttons , tk ,tkk"
   ]
  },
  {
   "cell_type": "code",
   "execution_count": 3,
   "id": "b4e77c7f",
   "metadata": {},
   "outputs": [],
   "source": [
    "\n",
    "import tkinter as tk\n",
    "from tkinter import ttk\n",
    "win=tk.Tk()\n",
    "win.title(\"GUI\")\n",
    "# create lable\n",
    "name_label = ttk.Label(win, text=(\"Enter your name: \"))\n",
    "name_label.grid(row=0 , column=0, sticky=tk.W)\n",
    "\n",
    "age_label=ttk.Label(win, text = (\"Enter your age: \"))\n",
    "age_label.grid(row=1 , column=0, sticky=tk.W)\n",
    "\n",
    "email_label=ttk.Label(win, text= (\"Enter your email: \"))\n",
    "email_label.grid(row=2, column=0, sticky=tk.W)\n",
    "\n",
    "gender_label=ttk.Label(win, text= (\"select your gender \"))\n",
    "gender_label.grid(row=3, column=0, sticky=tk.W)\n",
    "\n",
    "# create entry box\n",
    "name_var = tk.StringVar()\n",
    "name_entrybox = ttk.Entry(win, width=16, textvariable = name_var)\n",
    "name_entrybox.grid(row=0, column=1)\n",
    "name_entrybox.focus()\n",
    "\n",
    "age_var = tk.StringVar()\n",
    "age_entrybox = ttk.Entry(win, width=16, textvariable = age_var)\n",
    "age_entrybox.grid(row=1, column=1)\n",
    "\n",
    "email_var = tk.StringVar()\n",
    "email_entrybox = ttk.Entry(win, width=16, textvariable = email_var)\n",
    "email_entrybox.grid(row=2, column=1)\n",
    "\n",
    "# create combobox\n",
    "gender_var = tk.StringVar()\n",
    "gender_combobox = ttk.Combobox(win, width = 14, textvariable= gender_var, state=\"readonly\")\n",
    "gender_combobox[\"values\"] = (\"Male\", \"Female\", \"Other\")\n",
    "gender_combobox.current(0)\n",
    "gender_combobox.grid(row=3, column=1)\n",
    "\n",
    "#create a button\n",
    "# def action():\n",
    "#     username= name_var.get()\n",
    "#     userage = age_var.get()\n",
    "#     user_email= email_var.get()\n",
    "#     print(f\"{username} is {userage} years old, {user_email}\")\n",
    "\n",
    "# submit_button= ttk.Button(win, text=\"Submit\", command=action)\n",
    "# submit_button.grid(row=3, column=0)\n",
    "\n",
    "win.mainloop()         "
   ]
  },
  {
   "cell_type": "markdown",
   "id": "e2bf690e",
   "metadata": {},
   "source": [
    "# button"
   ]
  },
  {
   "cell_type": "code",
   "execution_count": 28,
   "id": "4833c0dc",
   "metadata": {},
   "outputs": [],
   "source": [
    "import tkinter as tk\n",
    "from tkinter import ttk\n",
    "root = tk.Tk()\n",
    "root.title(\"Arman\")\n",
    "root.geometry(\"150x250\")\n",
    "button=Button(root, text=\"click here\")\n",
    "button.grid(row = 5, column=2)\n",
    "root.mainloop()"
   ]
  },
  {
   "cell_type": "code",
   "execution_count": 32,
   "id": "44f6d928",
   "metadata": {},
   "outputs": [],
   "source": [
    "# import everything from tkinter module\n",
    "from tkinter import *\n",
    "\n",
    "# create a tkinter window\n",
    "root = Tk()\t\t\t\n",
    "\n",
    "# Open window having dimension 100x100\n",
    "root.geometry('100x100')\n",
    "\n",
    "# Create a Button\n",
    "btn = Button(root, text = 'Click me !', bd = '5',command = root.destroy)\n",
    "#c=Canvas(bd=\"red\", bg=\"blue\").grid()\n",
    "# Set the position of button on the top of window.\n",
    "btn.pack(side = 'right')\n",
    "\n",
    "root.mainloop()\n"
   ]
  },
  {
   "cell_type": "code",
   "execution_count": 4,
   "id": "1a25f354",
   "metadata": {},
   "outputs": [
    {
     "ename": "NameError",
     "evalue": "name 'Canvas' is not defined",
     "output_type": "error",
     "traceback": [
      "\u001b[1;31m---------------------------------------------------------------------------\u001b[0m",
      "\u001b[1;31mNameError\u001b[0m                                 Traceback (most recent call last)",
      "\u001b[1;32m~\\AppData\\Local\\Temp/ipykernel_3688/4222098957.py\u001b[0m in \u001b[0;36m<module>\u001b[1;34m\u001b[0m\n\u001b[0;32m      5\u001b[0m \u001b[0mwin\u001b[0m\u001b[1;33m.\u001b[0m\u001b[0mgeometry\u001b[0m\u001b[1;33m(\u001b[0m\u001b[1;34m\"200x300\"\u001b[0m\u001b[1;33m)\u001b[0m\u001b[1;33m\u001b[0m\u001b[1;33m\u001b[0m\u001b[0m\n\u001b[0;32m      6\u001b[0m \u001b[1;33m\u001b[0m\u001b[0m\n\u001b[1;32m----> 7\u001b[1;33m \u001b[0mcanvas\u001b[0m\u001b[1;33m=\u001b[0m\u001b[0mCanvas\u001b[0m\u001b[1;33m(\u001b[0m\u001b[0mwin\u001b[0m\u001b[1;33m,\u001b[0m \u001b[0mheight\u001b[0m\u001b[1;33m=\u001b[0m\u001b[1;36m200\u001b[0m\u001b[1;33m,\u001b[0m \u001b[0mwidth\u001b[0m\u001b[1;33m=\u001b[0m\u001b[1;36m300\u001b[0m\u001b[1;33m,\u001b[0m\u001b[0mbg\u001b[0m\u001b[1;33m=\u001b[0m\u001b[1;34m\"blue\"\u001b[0m\u001b[1;33m)\u001b[0m\u001b[1;33m\u001b[0m\u001b[1;33m\u001b[0m\u001b[0m\n\u001b[0m\u001b[0;32m      8\u001b[0m \u001b[1;33m\u001b[0m\u001b[0m\n\u001b[0;32m      9\u001b[0m \u001b[0mline\u001b[0m\u001b[1;33m=\u001b[0m\u001b[0mcanvas\u001b[0m\u001b[1;33m.\u001b[0m\u001b[0mcreate_line\u001b[0m\u001b[1;33m(\u001b[0m\u001b[1;36m0\u001b[0m\u001b[1;33m,\u001b[0m\u001b[1;36m0\u001b[0m\u001b[1;33m,\u001b[0m\u001b[1;36m90\u001b[0m\u001b[1;33m,\u001b[0m\u001b[1;36m90\u001b[0m\u001b[1;33m,\u001b[0m\u001b[1;36m45\u001b[0m\u001b[1;33m,\u001b[0m\u001b[1;36m45\u001b[0m\u001b[1;33m,\u001b[0m \u001b[0mfill\u001b[0m \u001b[1;33m=\u001b[0m \u001b[1;34m\"red\"\u001b[0m\u001b[1;33m)\u001b[0m\u001b[1;33m\u001b[0m\u001b[1;33m\u001b[0m\u001b[0m\n",
      "\u001b[1;31mNameError\u001b[0m: name 'Canvas' is not defined"
     ]
    }
   ],
   "source": [
    "import tkinter as tk\n",
    "from tkinter import ttk\n",
    "win = tk.Tk()\n",
    "win.title(\"Painting\")\n",
    "win.geometry(\"200x300\")\n",
    "\n",
    "canvas=Canvas(win, height=200, width=300,bg=\"blue\")\n",
    "\n",
    "line=canvas.create_line(0,0,90,90,45,45, fill = \"red\")\n",
    "\n",
    "arc=canvas.create_arc(25,69,85,103, fill = \"green\")\n",
    "\n",
    "oval= canvas.create_oval(90,90,90,90, fill = \"pink\")\n",
    "\n",
    "canvas.grid()\n",
    "win.mainloop()\n"
   ]
  },
  {
   "cell_type": "code",
   "execution_count": null,
   "id": "f43d2914",
   "metadata": {},
   "outputs": [],
   "source": []
  },
  {
   "cell_type": "code",
   "execution_count": null,
   "id": "b11a825e",
   "metadata": {},
   "outputs": [],
   "source": []
  },
  {
   "cell_type": "code",
   "execution_count": null,
   "id": "9ee80bb4",
   "metadata": {},
   "outputs": [],
   "source": []
  }
 ],
 "metadata": {
  "kernelspec": {
   "display_name": "Python 3 (ipykernel)",
   "language": "python",
   "name": "python3"
  },
  "language_info": {
   "codemirror_mode": {
    "name": "ipython",
    "version": 3
   },
   "file_extension": ".py",
   "mimetype": "text/x-python",
   "name": "python",
   "nbconvert_exporter": "python",
   "pygments_lexer": "ipython3",
   "version": "3.9.7"
  }
 },
 "nbformat": 4,
 "nbformat_minor": 5
}
