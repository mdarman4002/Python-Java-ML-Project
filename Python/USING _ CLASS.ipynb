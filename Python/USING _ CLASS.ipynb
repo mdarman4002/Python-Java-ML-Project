{
 "cells": [
  {
   "cell_type": "markdown",
   "id": "9d027adc",
   "metadata": {},
   "source": [
    "# using class detail"
   ]
  },
  {
   "cell_type": "code",
   "execution_count": null,
   "id": "8f9a4a3f",
   "metadata": {},
   "outputs": [],
   "source": [
    "class detail:\n",
    "    def __init__(self,name,cource):\n",
    "        self.name=name\n",
    "        self.cource=cource\n",
    "    def show(self):\n",
    "        print(f\"name: {self.name} and cource: {self.cource}\")\n",
    "n,c=input(\"Enter your name and cource: \").split(\",\")\n",
    "obj=detail(n,c)\n",
    "obj.show()\n"
   ]
  },
  {
   "cell_type": "markdown",
   "id": "e6dfd1c0",
   "metadata": {},
   "source": [
    "# using class cuboid"
   ]
  },
  {
   "cell_type": "code",
   "execution_count": null,
   "id": "cf18c525",
   "metadata": {},
   "outputs": [],
   "source": [
    "class cuboid:\n",
    "    def __init__(self,l,b,h):\n",
    "        self.l=l\n",
    "        self.b=b\n",
    "        self.h=h\n",
    "    def show(self):\n",
    "        c=1\n",
    "        c=self.l*self.b*self.h\n",
    "        print(f\"volume of cuboid: {c}\")\n",
    "a=int(input(\"Enter lenght: \"))\n",
    "b=int(input(\"Enter breadth: \"))\n",
    "c=int(input(\"Enter height: \"))\n",
    "obj=cuboid(a,b,c)\n",
    "obj.show()"
   ]
  },
  {
   "cell_type": "markdown",
   "id": "e2f4a7f0",
   "metadata": {},
   "source": [
    "# using class Heron's formula"
   ]
  },
  {
   "cell_type": "code",
   "execution_count": null,
   "id": "0887fbe1",
   "metadata": {},
   "outputs": [],
   "source": [
    "class herons_formula:\n",
    "    def __init__(self,a,b,c):\n",
    "        self.a=a\n",
    "        self.b=b\n",
    "        self.c=c\n",
    "    def show(self):\n",
    "        s=0\n",
    "        s=(a+b+c)/2\n",
    "        area=(s*(s-a)*(s-b)*(s-c))**0.5\n",
    "        print(\"area of triangle using heron's formula:\",area)\n",
    "a=int(input(\"Enter first side: \"))\n",
    "b=int(input(\"Enter second side: \"))\n",
    "c=int(input(\"Enter third side: \"))\n",
    "obj=herons_formula(a,b,c)\n",
    "obj.show()"
   ]
  },
  {
   "cell_type": "markdown",
   "id": "3f237a4b",
   "metadata": {},
   "source": [
    "# using class find volume of cylinder"
   ]
  },
  {
   "cell_type": "code",
   "execution_count": null,
   "id": "eac6f6fb",
   "metadata": {},
   "outputs": [],
   "source": [
    "class cylinder_volume:\n",
    "    def __init__(self,radius,height):\n",
    "        self.radius=radius\n",
    "        self.height=height\n",
    "    def show(self):\n",
    "        volume=3.14*self.radius**2*self.height\n",
    "        print(\"Volume of cylinder: \",volume)\n",
    "r=float(input(\"Enter radius of cylinder: \"))\n",
    "h=float(input(\"Enter height of cylinder: \"))\n",
    "obj=cylinder_volume(r,h)\n",
    "obj.show()"
   ]
  },
  {
   "cell_type": "markdown",
   "id": "d79be77e",
   "metadata": {},
   "source": [
    "# perimeter of square"
   ]
  },
  {
   "cell_type": "code",
   "execution_count": null,
   "id": "cb5b2398",
   "metadata": {},
   "outputs": [],
   "source": [
    "class perimeter_square:\n",
    "    def __init__(self,_1side,_2side,_3side,_4side):\n",
    "        self._1side=_1side\n",
    "        self._2side=_2side\n",
    "        self._3side=_3side\n",
    "        self._4side=_4side\n",
    "        \n",
    "    def show(self):\n",
    "        #p=0\n",
    "        p= self._1side + self._2side + self._3side + self._4side\n",
    "        print(f\"perimeter of square: {p}\")\n",
    "a=int(input(\"first side: \"))\n",
    "b=int(input(\"Enter second side: \"))\n",
    "c=int(input(\"Enter third side: \"))\n",
    "d=int(input(\"Enter fourth side: \"))\n",
    "    \n",
    "obj1= perimeter_square(a,b,c,d)\n",
    "obj1.show()"
   ]
  },
  {
   "cell_type": "code",
   "execution_count": null,
   "id": "4a642f48",
   "metadata": {},
   "outputs": [],
   "source": []
  },
  {
   "cell_type": "code",
   "execution_count": null,
   "id": "2e9aa019",
   "metadata": {},
   "outputs": [],
   "source": []
  }
 ],
 "metadata": {
  "kernelspec": {
   "display_name": "Python 3 (ipykernel)",
   "language": "python",
   "name": "python3"
  },
  "language_info": {
   "codemirror_mode": {
    "name": "ipython",
    "version": 3
   },
   "file_extension": ".py",
   "mimetype": "text/x-python",
   "name": "python",
   "nbconvert_exporter": "python",
   "pygments_lexer": "ipython3",
   "version": "3.9.7"
  }
 },
 "nbformat": 4,
 "nbformat_minor": 5
}
