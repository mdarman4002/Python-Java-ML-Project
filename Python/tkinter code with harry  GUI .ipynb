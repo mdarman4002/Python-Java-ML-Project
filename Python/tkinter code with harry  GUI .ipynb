{
 "cells": [
  {
   "cell_type": "markdown",
   "id": "2695ca27",
   "metadata": {},
   "source": [
    "# basic gui , minsize and maxsize"
   ]
  },
  {
   "cell_type": "code",
   "execution_count": 3,
   "id": "ca856d7f",
   "metadata": {},
   "outputs": [],
   "source": [
    "import tkinter as tk\n",
    "from tkinter import ttk\n",
    "\n",
    "win=tk.Tk()\n",
    "win.title(\"Basic GUI\")\n",
    "win.geometry(\"500x400\")\n",
    "\n",
    "win.minsize(200,200)\n",
    "win.maxsize(900,600)\n",
    "\n",
    "label_1=ttk.Label(win, text=\"Noida, New Delhi\").grid()\n",
    "\n",
    "win.mainloop()\n"
   ]
  },
  {
   "cell_type": "markdown",
   "id": "72816381",
   "metadata": {},
   "source": [
    "# to take image "
   ]
  },
  {
   "cell_type": "code",
   "execution_count": 13,
   "id": "17b9a5d0",
   "metadata": {},
   "outputs": [
    {
     "ename": "FileNotFoundError",
     "evalue": "[Errno 2] No such file or directory: 'WhatsApp Image 2022-05-03 at 7.37.43 PM'",
     "output_type": "error",
     "traceback": [
      "\u001b[1;31m---------------------------------------------------------------------------\u001b[0m",
      "\u001b[1;31mFileNotFoundError\u001b[0m                         Traceback (most recent call last)",
      "\u001b[1;32m~\\AppData\\Local\\Temp/ipykernel_12732/3728074006.py\u001b[0m in \u001b[0;36m<module>\u001b[1;34m\u001b[0m\n\u001b[0;32m      6\u001b[0m \u001b[0mwin\u001b[0m\u001b[1;33m.\u001b[0m\u001b[0mgeometry\u001b[0m\u001b[1;33m(\u001b[0m\u001b[1;34m\"1000x900\"\u001b[0m\u001b[1;33m)\u001b[0m\u001b[1;33m\u001b[0m\u001b[1;33m\u001b[0m\u001b[0m\n\u001b[0;32m      7\u001b[0m \u001b[1;33m\u001b[0m\u001b[0m\n\u001b[1;32m----> 8\u001b[1;33m \u001b[0mimage\u001b[0m \u001b[1;33m=\u001b[0m \u001b[0mImage\u001b[0m\u001b[1;33m.\u001b[0m\u001b[0mopen\u001b[0m\u001b[1;33m(\u001b[0m\u001b[1;34m\"WhatsApp Image 2022-05-03 at 7.37.43 PM\"\u001b[0m\u001b[1;33m)\u001b[0m  \u001b[1;31m#file name\u001b[0m\u001b[1;33m\u001b[0m\u001b[1;33m\u001b[0m\u001b[0m\n\u001b[0m\u001b[0;32m      9\u001b[0m \u001b[0marman\u001b[0m\u001b[1;33m=\u001b[0m \u001b[0mImageTk\u001b[0m\u001b[1;33m.\u001b[0m\u001b[0mPhotoImage\u001b[0m\u001b[1;33m(\u001b[0m\u001b[0mimage\u001b[0m\u001b[1;33m)\u001b[0m\u001b[1;33m\u001b[0m\u001b[1;33m\u001b[0m\u001b[0m\n\u001b[0;32m     10\u001b[0m \u001b[1;33m\u001b[0m\u001b[0m\n",
      "\u001b[1;32m~\\anaconda3\\lib\\site-packages\\PIL\\Image.py\u001b[0m in \u001b[0;36mopen\u001b[1;34m(fp, mode, formats)\u001b[0m\n\u001b[0;32m   2973\u001b[0m \u001b[1;33m\u001b[0m\u001b[0m\n\u001b[0;32m   2974\u001b[0m     \u001b[1;32mif\u001b[0m \u001b[0mfilename\u001b[0m\u001b[1;33m:\u001b[0m\u001b[1;33m\u001b[0m\u001b[1;33m\u001b[0m\u001b[0m\n\u001b[1;32m-> 2975\u001b[1;33m         \u001b[0mfp\u001b[0m \u001b[1;33m=\u001b[0m \u001b[0mbuiltins\u001b[0m\u001b[1;33m.\u001b[0m\u001b[0mopen\u001b[0m\u001b[1;33m(\u001b[0m\u001b[0mfilename\u001b[0m\u001b[1;33m,\u001b[0m \u001b[1;34m\"rb\"\u001b[0m\u001b[1;33m)\u001b[0m\u001b[1;33m\u001b[0m\u001b[1;33m\u001b[0m\u001b[0m\n\u001b[0m\u001b[0;32m   2976\u001b[0m         \u001b[0mexclusive_fp\u001b[0m \u001b[1;33m=\u001b[0m \u001b[1;32mTrue\u001b[0m\u001b[1;33m\u001b[0m\u001b[1;33m\u001b[0m\u001b[0m\n\u001b[0;32m   2977\u001b[0m \u001b[1;33m\u001b[0m\u001b[0m\n",
      "\u001b[1;31mFileNotFoundError\u001b[0m: [Errno 2] No such file or directory: 'WhatsApp Image 2022-05-03 at 7.37.43 PM'"
     ]
    }
   ],
   "source": [
    "from tkinter import  *\n",
    "#from tkinter import ttk\n",
    "from PIL import Image, ImageTk\n",
    "win = tk.Tk()\n",
    "win.title(\"To take image from file\")\n",
    "win.geometry(\"1000x900\")\n",
    "\n",
    "image = Image.open(\"WhatsApp Image 2022-05-03 at 7.37.43 PM\")  #file name\n",
    "arman= ImageTk.PhotoImage(image)\n",
    "\n",
    "label = Label(image=arman).grid()\n",
    "\n",
    "win.mainloop()"
   ]
  },
  {
   "cell_type": "code",
   "execution_count": null,
   "id": "67cbe01c",
   "metadata": {},
   "outputs": [],
   "source": [
    "from tkinter import *\n",
    "\n",
    "win=Tk()\n"
   ]
  },
  {
   "cell_type": "markdown",
   "id": "7f0fe04f",
   "metadata": {},
   "source": [
    "# Notes"
   ]
  },
  {
   "cell_type": "code",
   "execution_count": null,
   "id": "44475173",
   "metadata": {},
   "outputs": [],
   "source": [
    "#import label attributes\n",
    "text = adds the text\n",
    "bd = background\n",
    "fg = foreground\n",
    "font = sets the font\n",
    "padx = x padding\n",
    "pady = y padding\n",
    "relief = border styling= SUNKEN, RAISED, GROOVE, RIDGE\n",
    "\n",
    "important Pack options\n",
    "anchor = nw, nw, sw, we\n",
    "side = top, bottom, left, right\n",
    "fill= X or  Y"
   ]
  },
  {
   "cell_type": "markdown",
   "id": "aa49c5ca",
   "metadata": {},
   "source": [
    "# basic"
   ]
  },
  {
   "cell_type": "code",
   "execution_count": 109,
   "id": "d27cd934",
   "metadata": {
    "scrolled": true
   },
   "outputs": [],
   "source": [
    "# import tkinter as tk\n",
    "# from tkinter import ttk\n",
    "from tkinter import *\n",
    "\n",
    "win=tk.Tk()\n",
    "win.geometry(\"200x300\")\n",
    "win.title(\"gui\")\n",
    "label= ttk.Label(text=\"\"\"According to consensus in modern genet\\n\n",
    "anatomically modern humans first arrived on t\\n\n",
    "he Indian subcontinent from Africa between 73,\\n\n",
    "000 and 55,000 years ago.[1] However, the \\n\n",
    "earliest known human \\n\n",
    "remains in South Asia.\"\"\",background = \"red\",foreground=\"blue\")\n",
    "label.pack( anchor=\"sw\")\n",
    "win.mainloop()"
   ]
  },
  {
   "cell_type": "code",
   "execution_count": null,
   "id": "f611f8e8",
   "metadata": {},
   "outputs": [],
   "source": []
  },
  {
   "cell_type": "code",
   "execution_count": null,
   "id": "9feecfa9",
   "metadata": {},
   "outputs": [],
   "source": []
  },
  {
   "cell_type": "code",
   "execution_count": 55,
   "id": "6de680e5",
   "metadata": {},
   "outputs": [],
   "source": [
    "#import tkinter as tk\n",
    "from tkinter import *\n",
    "\n",
    "win=tk.Tk()\n",
    "win.geometry(\"200x300\")     #font=(\"Gill\",19,\"bold\") can write\n",
    "win.title(\"Arman \")         #padx=23, pady=44 BOTTOM\n",
    "                            #relief=SUNKEN # fill = X Y\n",
    "\n",
    "\n",
    "l1=ttk.Label(win, text=\"aaaaaaaaaaaaaaaaaaaaaaaaaa\",font=\"Gill 25 bold\", foreground=\"white\", background=\"red\",borderwidth=3)\n",
    "l1.pack(anchor = \"ne\", fill=X, side=TOP, padx=20, pady=20)\n",
    "#l1.pack(side=\"bottom\", fill=X)\n",
    "win.mainloop()"
   ]
  },
  {
   "cell_type": "markdown",
   "id": "33e8ef8f",
   "metadata": {},
   "source": [
    "# frame"
   ]
  },
  {
   "cell_type": "code",
   "execution_count": 1,
   "id": "16a68d19",
   "metadata": {},
   "outputs": [
    {
     "ename": "NameError",
     "evalue": "name 'tk' is not defined",
     "output_type": "error",
     "traceback": [
      "\u001b[1;31m---------------------------------------------------------------------------\u001b[0m",
      "\u001b[1;31mNameError\u001b[0m                                 Traceback (most recent call last)",
      "\u001b[1;32m~\\AppData\\Local\\Temp/ipykernel_11580/4168028218.py\u001b[0m in \u001b[0;36m<module>\u001b[1;34m\u001b[0m\n\u001b[0;32m      3\u001b[0m \u001b[1;32mfrom\u001b[0m \u001b[0mtkinter\u001b[0m \u001b[1;32mimport\u001b[0m \u001b[1;33m*\u001b[0m\u001b[1;33m\u001b[0m\u001b[1;33m\u001b[0m\u001b[0m\n\u001b[0;32m      4\u001b[0m \u001b[1;33m\u001b[0m\u001b[0m\n\u001b[1;32m----> 5\u001b[1;33m \u001b[0mroot\u001b[0m\u001b[1;33m=\u001b[0m\u001b[0mtk\u001b[0m\u001b[1;33m.\u001b[0m\u001b[0mTk\u001b[0m\u001b[1;33m(\u001b[0m\u001b[1;33m)\u001b[0m\u001b[1;33m\u001b[0m\u001b[1;33m\u001b[0m\u001b[0m\n\u001b[0m\u001b[0;32m      6\u001b[0m \u001b[0mroot\u001b[0m\u001b[1;33m.\u001b[0m\u001b[0mgeometry\u001b[0m\u001b[1;33m(\u001b[0m\u001b[1;34m\"500x600\"\u001b[0m\u001b[1;33m)\u001b[0m\u001b[1;33m\u001b[0m\u001b[1;33m\u001b[0m\u001b[0m\n\u001b[0;32m      7\u001b[0m \u001b[1;33m\u001b[0m\u001b[0m\n",
      "\u001b[1;31mNameError\u001b[0m: name 'tk' is not defined"
     ]
    }
   ],
   "source": [
    "# import tkinter as tk\n",
    "# from tkinter import ttk\n",
    "from tkinter import *\n",
    "\n",
    "root=tk.Tk()\n",
    "root.geometry(\"500x600\")\n",
    "\n",
    "f1= Frame(root, background=\"grey\", borderwidth=5,relief=SUNKEN)\n",
    "f1.pack(side = LEFT,fill=\"y\",pady=142)\n",
    "\n",
    "f2=Frame(root, background=\"grey\", relief=SUNKEN)\n",
    "f2.pack(side=TOP, fill= \"x\")\n",
    "\n",
    "l=Label(f1,text=\"Project python\")\n",
    "l.pack(pady=142)\n",
    "\n",
    "l=Label(f2,text=\"welcome to sublime text\",foreground=\"red\")\n",
    "l.pack(padx=150)\n",
    "\n",
    "root.mainloop()"
   ]
  },
  {
   "cell_type": "code",
   "execution_count": 2,
   "id": "0a5552b0",
   "metadata": {},
   "outputs": [],
   "source": [
    "from tkinter import *\n",
    "win = Tk()\n",
    "\n",
    "\n",
    "f1 = Frame(win, width = 200, height = 250, bg = \"grey\", relief = SUNKEN).pack()\n",
    "l1 = Label(f1, text= \"arman\").pack(anchor = 'n')\n",
    "\n",
    "win.mainloop()"
   ]
  },
  {
   "cell_type": "code",
   "execution_count": 63,
   "id": "ae64c39f",
   "metadata": {},
   "outputs": [
    {
     "ename": "AttributeError",
     "evalue": "'NoneType' object has no attribute 'create_line'",
     "output_type": "error",
     "traceback": [
      "\u001b[1;31m---------------------------------------------------------------------------\u001b[0m",
      "\u001b[1;31mAttributeError\u001b[0m                            Traceback (most recent call last)",
      "\u001b[1;32m~\\AppData\\Local\\Temp/ipykernel_6796/1610760925.py\u001b[0m in \u001b[0;36m<module>\u001b[1;34m\u001b[0m\n\u001b[0;32m      4\u001b[0m \u001b[0mc\u001b[0m \u001b[1;33m=\u001b[0m \u001b[0mCanvas\u001b[0m\u001b[1;33m(\u001b[0m\u001b[0mwin\u001b[0m\u001b[1;33m)\u001b[0m\u001b[1;33m.\u001b[0m\u001b[0mpack\u001b[0m\u001b[1;33m(\u001b[0m\u001b[1;33m)\u001b[0m\u001b[1;33m\u001b[0m\u001b[1;33m\u001b[0m\u001b[0m\n\u001b[0;32m      5\u001b[0m \u001b[1;33m\u001b[0m\u001b[0m\n\u001b[1;32m----> 6\u001b[1;33m \u001b[0mc\u001b[0m\u001b[1;33m.\u001b[0m\u001b[0mcreate_line\u001b[0m\u001b[1;33m(\u001b[0m\u001b[1;36m0\u001b[0m\u001b[1;33m,\u001b[0m\u001b[1;36m0\u001b[0m\u001b[1;33m,\u001b[0m\u001b[1;36m100\u001b[0m\u001b[1;33m,\u001b[0m\u001b[1;36m100\u001b[0m\u001b[1;33m)\u001b[0m\u001b[1;33m\u001b[0m\u001b[1;33m\u001b[0m\u001b[0m\n\u001b[0m\u001b[0;32m      7\u001b[0m \u001b[0mc\u001b[0m\u001b[1;33m.\u001b[0m\u001b[0mcreate_line\u001b[0m\u001b[1;33m(\u001b[0m\u001b[1;36m0\u001b[0m\u001b[1;33m,\u001b[0m\u001b[1;36m0\u001b[0m\u001b[1;33m,\u001b[0m\u001b[1;36m800\u001b[0m\u001b[1;33m,\u001b[0m\u001b[1;36m0\u001b[0m\u001b[1;33m,\u001b[0m\u001b[0mfill\u001b[0m\u001b[1;33m=\u001b[0m\u001b[1;34m\"red\"\u001b[0m\u001b[1;33m)\u001b[0m\u001b[1;33m\u001b[0m\u001b[1;33m\u001b[0m\u001b[0m\n\u001b[0;32m      8\u001b[0m \u001b[0mwin\u001b[0m\u001b[1;33m.\u001b[0m\u001b[0mmainloop\u001b[0m\u001b[1;33m(\u001b[0m\u001b[1;33m)\u001b[0m\u001b[1;33m\u001b[0m\u001b[1;33m\u001b[0m\u001b[0m\n",
      "\u001b[1;31mAttributeError\u001b[0m: 'NoneType' object has no attribute 'create_line'"
     ]
    }
   ],
   "source": [
    "from tkinter import *\n",
    "win = Tk()\n",
    "win.geometry(\"200x250\")\n",
    "c = Canvas(win).pack()\n",
    "\n",
    "c.create_line(0,0,100,100)\n",
    "c.create_line(0,0,800,0,fill=\"red\")\n",
    "win.mainloop()"
   ]
  },
  {
   "cell_type": "code",
   "execution_count": 1,
   "id": "e86d334c",
   "metadata": {},
   "outputs": [
    {
     "ename": "NameError",
     "evalue": "name 'tk' is not defined",
     "output_type": "error",
     "traceback": [
      "\u001b[1;31m---------------------------------------------------------------------------\u001b[0m",
      "\u001b[1;31mNameError\u001b[0m                                 Traceback (most recent call last)",
      "\u001b[1;32m~\\AppData\\Local\\Temp/ipykernel_10044/1739122349.py\u001b[0m in \u001b[0;36m<module>\u001b[1;34m\u001b[0m\n\u001b[0;32m      1\u001b[0m \u001b[1;32mfrom\u001b[0m \u001b[0mtkinter\u001b[0m \u001b[1;32mimport\u001b[0m \u001b[1;33m*\u001b[0m\u001b[1;33m\u001b[0m\u001b[1;33m\u001b[0m\u001b[0m\n\u001b[0;32m      2\u001b[0m \u001b[1;33m\u001b[0m\u001b[0m\n\u001b[1;32m----> 3\u001b[1;33m \u001b[0mwin\u001b[0m\u001b[1;33m=\u001b[0m\u001b[0mtk\u001b[0m\u001b[1;33m.\u001b[0m\u001b[0mTk\u001b[0m\u001b[1;33m(\u001b[0m\u001b[1;33m)\u001b[0m\u001b[1;33m\u001b[0m\u001b[1;33m\u001b[0m\u001b[0m\n\u001b[0m\u001b[0;32m      4\u001b[0m \u001b[0mwin\u001b[0m\u001b[1;33m.\u001b[0m\u001b[0mgeometry\u001b[0m\u001b[1;33m(\u001b[0m\u001b[1;34m\"200x250\"\u001b[0m\u001b[1;33m)\u001b[0m\u001b[1;33m\u001b[0m\u001b[1;33m\u001b[0m\u001b[0m\n\u001b[0;32m      5\u001b[0m \u001b[0mwin\u001b[0m\u001b[1;33m.\u001b[0m\u001b[0mtitle\u001b[0m\u001b[1;33m(\u001b[0m\u001b[1;34m\"Python project by Arman\"\u001b[0m\u001b[1;33m)\u001b[0m\u001b[1;33m\u001b[0m\u001b[1;33m\u001b[0m\u001b[0m\n",
      "\u001b[1;31mNameError\u001b[0m: name 'tk' is not defined"
     ]
    }
   ],
   "source": [
    "from tkinter import *\n",
    "\n",
    "win=tk.Tk()\n",
    "win.geometry(\"200x250\")\n",
    "win.title(\"Python project by Arman\")\n",
    "\n",
    "frame_1= Frame(win, background=\"blue\", relief=GROOVE)\n",
    "frame_1.pack(side=LEFT, fill=\"x\")\n",
    "\n",
    "frame_2= Frame(win,background=\"blue\",relief=SUNKEN)\n",
    "frame_2.pack(side=RIGHT)\n",
    "\n",
    "frame_3= Frame(win, background=\"blue\",relief=SUNKEN)\n",
    "frame_3.pack(side=TOP)\n",
    "\n",
    "frame_4= Frame(win,background=\"blue\",relief=SUNKEN)\n",
    "frame_4.pack(side=BOTTOM)\n",
    "\n",
    "label_1=Label(frame_1, text=\"first frame in left side\", background=\"grey\",font=\"Gill 20 bold\" ,foreground = \"red\")\n",
    "label_1.pack(pady=200)\n",
    "\n",
    "label_2=Label(frame_2, text=\"second frame in right side\", background=\"grey\",font=\"Gill 20 bold\",foreground = \"red\")\n",
    "label_2.pack(pady=200)\n",
    "\n",
    "label_3=Label(frame_3, text=\"third frame in top side\", background=\"grey\",font=\"Gill 20 bold\",foreground = \"red\")\n",
    "label_3.pack(padx=200)\n",
    "\n",
    "label_4=Label(frame_4, text=\"fourth frame in bottom side\", background=\"grey\",font=\"Gill 20 bold\",foreground = \"red\")\n",
    "label_4.pack(padx=200)\n",
    "\n",
    "win.mainloop()\n",
    "\n",
    "\n"
   ]
  },
  {
   "cell_type": "markdown",
   "id": "84187311",
   "metadata": {},
   "source": [
    "# Button"
   ]
  },
  {
   "cell_type": "code",
   "execution_count": 4,
   "id": "31eff54c",
   "metadata": {},
   "outputs": [
    {
     "name": "stdout",
     "output_type": "stream",
     "text": [
      "hello button\n",
      "your name is arman\n",
      "hello button\n"
     ]
    }
   ],
   "source": [
    "from tkinter import *\n",
    "\n",
    "win=tk.Tk()\n",
    "win.geometry(\"200x250\")\n",
    "win.title(\"Python project by Arman\")\n",
    "def hello():\n",
    "    print(\"hello button\")\n",
    "def name():\n",
    "    print(\"your name is arman\")\n",
    "frame1=Frame(win, borderwidth=6,bg=\"grey\", relief=RAISED,)\n",
    "frame1.pack(side=LEFT, anchor=\"nw\")\n",
    "\n",
    "b1=Button(frame1, fg=\"red\", text=\"Print now\",command=hello)\n",
    "b1.pack()\n",
    "\n",
    "frame2=Frame(win, borderwidth=6,bg=\"grey\", relief=SUNKEN)\n",
    "frame2.pack(side=LEFT, anchor=\"nw\")\n",
    "\n",
    "b2=Button(frame2, fg=\"red\", text=\"Print now\",command=name)\n",
    "b2.pack()\n",
    "win.mainloop()\n",
    "\n",
    "\n"
   ]
  },
  {
   "cell_type": "code",
   "execution_count": 5,
   "id": "7091c1c8",
   "metadata": {},
   "outputs": [
    {
     "ename": "NameError",
     "evalue": "name 'tk' is not defined",
     "output_type": "error",
     "traceback": [
      "\u001b[1;31m---------------------------------------------------------------------------\u001b[0m",
      "\u001b[1;31mNameError\u001b[0m                                 Traceback (most recent call last)",
      "\u001b[1;32m~\\AppData\\Local\\Temp/ipykernel_11580/358456542.py\u001b[0m in \u001b[0;36m<module>\u001b[1;34m\u001b[0m\n\u001b[0;32m      1\u001b[0m \u001b[1;32mfrom\u001b[0m \u001b[0mtkinter\u001b[0m \u001b[1;32mimport\u001b[0m \u001b[1;33m*\u001b[0m\u001b[1;33m\u001b[0m\u001b[1;33m\u001b[0m\u001b[0m\n\u001b[1;32m----> 2\u001b[1;33m \u001b[0mwindow\u001b[0m\u001b[1;33m=\u001b[0m\u001b[0mtk\u001b[0m\u001b[1;33m.\u001b[0m\u001b[0mTk\u001b[0m\u001b[1;33m(\u001b[0m\u001b[1;33m)\u001b[0m\u001b[1;33m\u001b[0m\u001b[1;33m\u001b[0m\u001b[0m\n\u001b[0m\u001b[0;32m      3\u001b[0m \u001b[0mwindow\u001b[0m\u001b[1;33m.\u001b[0m\u001b[0mgeometry\u001b[0m\u001b[1;33m(\u001b[0m\u001b[1;34m\"200x300\"\u001b[0m\u001b[1;33m)\u001b[0m\u001b[1;33m\u001b[0m\u001b[1;33m\u001b[0m\u001b[0m\n\u001b[0;32m      4\u001b[0m \u001b[0mwindow\u001b[0m\u001b[1;33m.\u001b[0m\u001b[0mtitle\u001b[0m\u001b[1;33m(\u001b[0m\u001b[1;34m\"Button \"\u001b[0m\u001b[1;33m)\u001b[0m\u001b[1;33m\u001b[0m\u001b[1;33m\u001b[0m\u001b[0m\n\u001b[0;32m      5\u001b[0m \u001b[1;33m\u001b[0m\u001b[0m\n",
      "\u001b[1;31mNameError\u001b[0m: name 'tk' is not defined"
     ]
    }
   ],
   "source": [
    "from tkinter import *\n",
    "window=tk.Tk()\n",
    "window.geometry(\"200x300\")\n",
    "window.title(\"Button \")\n",
    "\n",
    "def your_name():\n",
    "    print(\"your name is MohammadArman\")\n",
    "    \n",
    "def college_name():\n",
    "    print(\"your college name is NIET\")\n",
    "\n",
    "def branch_name():\n",
    "    print(\"your branch name is B.Tech\")\n",
    "\n",
    "def freinds_name():\n",
    "    print(\"freinds name: Arman, faishal, ali, wasimul,firdosh\")\n",
    "\n",
    "frame_1=Frame(window, background=\"blue\",borderwidth=6)\n",
    "frame_1.pack(side=LEFT,anchor=\"nw\")\n",
    "\n",
    "b1=Button(frame_1, text=\"your name\",background= \"white\", foreground=\"red\",command=your_name, font=\"Gill 10 bold\")\n",
    "b1.pack(side=LEFT)\n",
    "\n",
    "\n",
    "b2=Button(frame_1, text=\"college name \",background= \"white\", foreground=\"red\",command=college_name, font=\"Gill 10 bold\")\n",
    "b2.pack(side=LEFT)\n",
    "\n",
    "b3=Button(frame_1, text=\"branch name\",background= \"white\", foreground=\"red\",command=branch_name, font=\"Gill 10 bold\")\n",
    "b3.pack(side=LEFT)\n",
    "\n",
    "b4=Button(frame_1, text=\"freinds name\",background= \"white\", foreground=\"red\",command=freinds_name, font=\"Gill 10 bold\")\n",
    "b4.pack(side=LEFT)\n",
    "\n",
    "\n",
    "\n",
    "window.mainloop()"
   ]
  },
  {
   "cell_type": "markdown",
   "id": "a33e9389",
   "metadata": {},
   "source": [
    "# notes "
   ]
  },
  {
   "cell_type": "code",
   "execution_count": null,
   "id": "6d4217da",
   "metadata": {},
   "outputs": [],
   "source": [
    "#variable classes in tkinter\n",
    "# BooleanVar , DoubleVar, IntVar, StringVar"
   ]
  },
  {
   "cell_type": "markdown",
   "id": "9db3f165",
   "metadata": {},
   "source": [
    "# grid and Entry "
   ]
  },
  {
   "cell_type": "code",
   "execution_count": 6,
   "id": "3e910e6d",
   "metadata": {},
   "outputs": [
    {
     "name": "stdout",
     "output_type": "stream",
     "text": [
      "user name is Arman\n",
      "user team's name is affansufian\n"
     ]
    }
   ],
   "source": [
    "from tkinter import *\n",
    "\n",
    "win=tk.Tk()\n",
    "win.geometry(\"200x300\") \n",
    "win.title(\"for dance classses\")\n",
    "win.configure(bg=\"yellow\")\n",
    "\n",
    "win.minsize(400,450)\n",
    "win.maxsize(600,700)\n",
    "\n",
    "def output():\n",
    "    print(f\"user name is {e1.get()}\")\n",
    "    print(f\"user team's name is {e2.get()}\")\n",
    "\n",
    "\n",
    "l1=Label(win, text=\"Enter your name: \",font=\"Gill 15 bold\", foreground=\"blue\")\n",
    "l1.grid(row=0, column=0)\n",
    "\n",
    "l2=Label(win, text=\"Your team's name: \",font=\"Gill 15 bold\", foreground=\"blue\")\n",
    "l2.grid(row=1, column=0)\n",
    "\n",
    "namevar=StringVar()\n",
    "teamvar=StringVar()\n",
    "\n",
    "e1=Entry(win, textvariable=namevar)\n",
    "e1.grid(row=0,column=1)\n",
    "\n",
    "e2=Entry(win, show=\"*\", textvariable= teamvar)\n",
    "e2.grid(row=1 ,column=1)\n",
    "\n",
    "b1=Button(win, text=\"Submit\",font=\"Calibri 15 bold\", foreground=\"blue\", command=output,padx=30).grid()\n",
    "win.mainloop()"
   ]
  },
  {
   "cell_type": "markdown",
   "id": "83ba3aab",
   "metadata": {},
   "source": [
    "# name, phone, gender, emergency,paymentmode"
   ]
  },
  {
   "cell_type": "code",
   "execution_count": 7,
   "id": "4c1e6b61",
   "metadata": {},
   "outputs": [
    {
     "name": "stdout",
     "output_type": "stream",
     "text": [
      "its work\n",
      "your name is arman,gender is male,phone no: 9572300101,emergency no; 7371934996,paymode: paytm\n"
     ]
    }
   ],
   "source": [
    "from tkinter import *\n",
    "\n",
    "win=Tk()\n",
    "win.title(\"Your information\")\n",
    "win.geometry(\"400x450\")\n",
    "#win.configure(bg=\"yellow\")\n",
    "\n",
    "win.minsize(600,650)\n",
    "win.maxsize(900,1000)\n",
    "\n",
    "\n",
    "def output():\n",
    "    print(\"its work\")# print(f\"user name is {e1.get()}\")\n",
    "    print(f\"your name is {ename.get()},gender is {egender.get()},phone no: {ephone.get()},emergency no; {eemergency.get()},paymode: {epay.get()}\")\n",
    "    with open(\"GUI.txt\",\"a\") as f:\n",
    "        f.write(f\"your name is {ename.get()},gender is {egender.get()},phone no: {ephone.get()},emergency no; {eemergency.get()},paymode: {epay.get()}\\n\")\n",
    "    \n",
    "    #     print(f\"gender is {egender.get()}\")\n",
    "#     print(f\"phone no: {ephone.get()}\")\n",
    "#     print(f\"emergency no; {eemergency.get()}\")\n",
    "#     print(f\"paymode: {epay.get()}\")\n",
    "    \n",
    "#labels\n",
    "Label(win, text = \"WELCOME  WELCOME WELCOME \", font=\"Gill 20 bold\", pady=15).grid(row=0, column=3)\n",
    "\n",
    "lname=Label(win, text=\"Enter your name \",font=\"Gill 15 bold\")\n",
    "lname.grid(row=2, column=0)\n",
    "\n",
    "lgender=Label(win, text=\"Enter your gender \",font=\"Gill 15 bold\")\n",
    "lgender.grid(row=3, column=0)\n",
    "\n",
    "lphone=Label(win, text=\"your contact no.\",font=\"Gill 15 bold\")\n",
    "lphone.grid(row=4, column=0)\n",
    "\n",
    "lemergency=Label(win, text=\"Emergency contact no. \",font=\"Gill 15 bold\")\n",
    "lemergency.grid(row=5, column=0)\n",
    "\n",
    "lpaymode=Label(win, text=\"payment mode \",font=\"Gill 15 bold\")\n",
    "lpaymode.grid(row=6, column=0)\n",
    "\n",
    "#packing values\n",
    "namevalue=StringVar()\n",
    "gendervalue=StringVar()\n",
    "phonevalue=StringVar()\n",
    "emergencyvalue=StringVar()\n",
    "payvalue=StringVar()\n",
    "#check=IntVar()\n",
    "\n",
    "#entry\n",
    "ename=Entry(win, textvariable=namevalue)\n",
    "ename.grid(row=2, column=3)\n",
    "\n",
    "egender=Entry(win,textvariable=gendervalue)\n",
    "egender.grid(row=3, column=3)\n",
    "\n",
    "ephone=Entry(win,textvariable=phonevalue,show=\"*\")\n",
    "ephone.grid(row=4, column=3)\n",
    "\n",
    "eemergency=Entry(win, textvariable=emergencyvalue,show=\"*\")\n",
    "eemergency.grid(row=5, column=3)\n",
    "\n",
    "epay=Entry(win, textvariable=payvalue)\n",
    "epay.grid(row=6, column=3)\n",
    "\n",
    "#submit\n",
    "button=Button(win, text=\"Submit\", command=output).grid(row=8 , column=2)\n",
    "#check=Checkbutton(win,text=\"Want to pre-book your meals!\",variable=check).grid(row=7, column=3)\n",
    "#radio=Radiobutton(win, text=\"some\").grid(row=9,column=2)\n",
    "win.mainloop()"
   ]
  },
  {
   "cell_type": "markdown",
   "id": "6015771c",
   "metadata": {},
   "source": [
    "# from google"
   ]
  },
  {
   "cell_type": "code",
   "execution_count": 8,
   "id": "53001b28",
   "metadata": {},
   "outputs": [],
   "source": [
    "import tkinter as tk\n",
    "from tkinter import ttk\n",
    "# root window\n",
    "root = tk.Tk()\n",
    "root.geometry(\"240x100\")\n",
    "root.title('Login')\n",
    "root.resizable(0, 0)\n",
    "\n",
    "# configure the grid\n",
    "root.columnconfigure(0, weight=1)\n",
    "root.columnconfigure(1, weight=3)\n",
    "\n",
    "\n",
    "# username\n",
    "username_label = ttk.Label(root, text=\"Username:\")\n",
    "username_label.grid(column=0, row=0, sticky=tk.W, padx=5, pady=5)\n",
    "\n",
    "username_entry = ttk.Entry(root)\n",
    "username_entry.grid(column=1, row=0, sticky=tk.E, padx=5, pady=5)\n",
    "\n",
    "# password\n",
    "password_label = ttk.Label(root, text=\"Password:\")\n",
    "password_label.grid(column=0, row=1, sticky=tk.W, padx=5, pady=5)\n",
    "\n",
    "password_entry = ttk.Entry(root,  show=\"*\")\n",
    "password_entry.grid(column=1, row=1, sticky=tk.E, padx=5, pady=5)\n",
    "\n",
    "# login button\n",
    "login_button = ttk.Button(root, text=\"Login\")\n",
    "login_button.grid(column=1, row=3, sticky=tk.E, padx=5, pady=5)\n",
    "\n",
    "\n",
    "root.mainloop()\n"
   ]
  },
  {
   "cell_type": "markdown",
   "id": "74d76ee3",
   "metadata": {},
   "source": [
    "# Canvas"
   ]
  },
  {
   "cell_type": "code",
   "execution_count": null,
   "id": "713144d8",
   "metadata": {},
   "outputs": [],
   "source": []
  },
  {
   "cell_type": "code",
   "execution_count": 48,
   "id": "0df60e83",
   "metadata": {},
   "outputs": [],
   "source": [
    "from tkinter import *\n",
    "canvas=Tk()\n",
    "canvas.geometry(\"500x600\")\n",
    "canvas.title(\"Canvas project\")\n",
    "\n",
    "c=Canvas(canvas, width=300, height=400)\n",
    "c.pack()\n",
    "\n",
    "c.create_line(0,0,800,0,fill=\"red\")\n",
    "c.create_line(0,400,800,0, fill=\"red\")\n",
    "\n",
    "c.create_rectangle(0,0,190,320,fill=\"blue\")\n",
    "c.create_text(45,60, text=\"Arman\", font=\"Gill 22 bold\")\n",
    "c.create_oval(90,90,90,90,fill=(\"yellow\"))\n",
    "canvas.mainloop()"
   ]
  },
  {
   "cell_type": "markdown",
   "id": "6a8bc672",
   "metadata": {},
   "source": [
    "# generator iterator"
   ]
  },
  {
   "cell_type": "code",
   "execution_count": 19,
   "id": "eb14ed05",
   "metadata": {},
   "outputs": [
    {
     "name": "stdout",
     "output_type": "stream",
     "text": [
      "hi\n",
      "arman\n",
      "10\n",
      "10\n"
     ]
    }
   ],
   "source": [
    "def greeting():\n",
    "    print(\"hi\")\n",
    "    yield 1\n",
    "    print(\"arman\")\n",
    "    yield 10\n",
    "    print(\"nietian\")\n",
    "    yield 30\n",
    "obj=greeting()\n",
    "result=next(obj)\n",
    "result=next(obj)\n",
    "print(result)\n",
    "print(result)"
   ]
  },
  {
   "cell_type": "code",
   "execution_count": 20,
   "id": "bdd4bd0e",
   "metadata": {},
   "outputs": [
    {
     "name": "stdout",
     "output_type": "stream",
     "text": [
      "0\n",
      "1\n",
      "4\n",
      "9\n",
      "16\n"
     ]
    }
   ],
   "source": [
    "class Squares:\n",
    "    def __init__(self, length):\n",
    "        self.length = length\n",
    "        self.current = 0\n",
    "\n",
    "    def __iter__(self):\n",
    "        return self\n",
    "\n",
    "    def __next__(self):\n",
    "        result = self.current ** 2\n",
    "\n",
    "        self.current += 1\n",
    "\n",
    "        if self.current > self.length:\n",
    "            raise StopIteration\n",
    "\n",
    "        return result\n",
    "    \n",
    "length = 5\n",
    "square = Squares(length)\n",
    "for s in square:\n",
    "    print(s)"
   ]
  },
  {
   "cell_type": "code",
   "execution_count": 27,
   "id": "d456363a",
   "metadata": {},
   "outputs": [
    {
     "name": "stdout",
     "output_type": "stream",
     "text": [
      "0\n",
      "1\n",
      "4\n",
      "9\n",
      "16\n"
     ]
    }
   ],
   "source": [
    "def square(length):\n",
    "    for i in range(length):\n",
    "        yield i**2\n",
    "length=5\n",
    "result=square(length)\n",
    "for s in result:\n",
    "    print(s)        "
   ]
  },
  {
   "cell_type": "markdown",
   "id": "65071ca7",
   "metadata": {},
   "source": [
    "# Events"
   ]
  },
  {
   "cell_type": "code",
   "execution_count": 82,
   "id": "29c53ac1",
   "metadata": {},
   "outputs": [
    {
     "name": "stdout",
     "output_type": "stream",
     "text": [
      "you clicked successful26,18\n",
      "you clicked successful36,14\n"
     ]
    }
   ],
   "source": [
    "from tkinter import *\n",
    "win=Tk()\n",
    "win.geometry(\"644x334\")\n",
    "\n",
    "def arman(event):\n",
    "    print(f\"you clicked successful{event.x},{event.y}\")\n",
    "\n",
    "widget = Button(win, text=\"click me \")\n",
    "widget.pack()\n",
    "\n",
    "widget.bind(\"<Button-1>\",arman)\n",
    "widget.bind(\"<Double-1>\",quit)\n",
    "\n",
    "win.mainloop()\n",
    "\n"
   ]
  },
  {
   "cell_type": "code",
   "execution_count": 73,
   "id": "b26e0151",
   "metadata": {},
   "outputs": [
    {
     "name": "stdout",
     "output_type": "stream",
     "text": [
      "Enter width of gui: 500\n",
      "Enter height of gue: 300\n",
      "Enter width of gui: 100\n",
      "Enter height of gue: 200\n"
     ]
    }
   ],
   "source": [
    "from tkinter import *\n",
    "win=Tk()\n",
    "win.geometry(\"200x300\")\n",
    "win.title(\" A \\ T you \")\n",
    "\n",
    "def change():\n",
    "    win=Tk()\n",
    "    win.title(\"new window using Canvas\")\n",
    "    w=input(\"Enter width of gui: \")\n",
    "    h=input(\"Enter height of gue: \")\n",
    "    c=Canvas(win, width=w, height=h).pack()\n",
    "    win.mainloop()\n",
    "\n",
    "\n",
    "button=Button(win, text=\"clict to change\",command= change)\n",
    "button.grid()\n",
    "\n",
    "win.mainloop()"
   ]
  },
  {
   "cell_type": "markdown",
   "id": "7d4782f3",
   "metadata": {},
   "source": [
    "# to make menu edit file..."
   ]
  },
  {
   "cell_type": "code",
   "execution_count": 9,
   "id": "e49053f6",
   "metadata": {},
   "outputs": [],
   "source": [
    "from tkinter import *\n",
    "win=Tk()\n",
    "win.geometry(\"220x330\")\n",
    "win.title(\"NotePad by Arman\")\n",
    "\n",
    "def Myfunc():\n",
    "    print(f\"everything is going well\")\n",
    "\n",
    "\n",
    "filemenu=Menu(win)\n",
    "m1=Menu(filemenu, tearoff=0)\n",
    "m1.add_command(label=\"new project\",command=Myfunc)\n",
    "m1.add_command(label=\"save\",command=Myfunc)\n",
    "m1.add_separator()\n",
    "win.config(men=filemenu)\n",
    "\n",
    "filemenu.add_cascade(label=\"File\", men=m1)\n",
    "\n",
    "#editmenu=Edit(win)\n",
    "m2=Menu(filemenu, tearoff=0)\n",
    "m2.add_command(label=\"new project\",command=Myfunc)\n",
    "m2.add_command(label=\"save\",command=Myfunc)\n",
    "m2.add_separator()\n",
    "win.config(men=filemenu)\n",
    "\n",
    "filemenu.add_cascade(label=\"Edit\", men=m2)\n",
    "\n",
    "win.mainloop()"
   ]
  },
  {
   "cell_type": "code",
   "execution_count": 75,
   "id": "9a89c518",
   "metadata": {},
   "outputs": [
    {
     "name": "stdout",
     "output_type": "stream",
     "text": [
      "successful\n"
     ]
    }
   ],
   "source": [
    "\n",
    "from tkinter import *\n",
    "\n",
    "def save():\n",
    "    print(\"successful\")\n",
    "\n",
    "win=Tk()\n",
    "win.title(\"Note\")\n",
    "win.geometry(\"200x250\")\n",
    "\n",
    "mainmenu = Menu(win)\n",
    "\n",
    "m1 = Menu(mainmenu, tearoff=0)\n",
    "m1.add_command(label = \"save\",command = save)\n",
    "m1.add_separator()\n",
    "m1.add_command(label = \"save as\", command= save)\n",
    "win.configure(menu=mainmenu)\n",
    "\n",
    "mainmenu.add_cascade(label=\"file\", menu= m1)\n",
    "\n",
    "win.mainloop()"
   ]
  },
  {
   "cell_type": "code",
   "execution_count": 54,
   "id": "b1e0bc78",
   "metadata": {},
   "outputs": [],
   "source": [
    "from tkinter import *\n",
    "win=Tk()\n",
    "win.geometry(\"220x330\")\n",
    "win.title(\"NotePad by Arman\")\n",
    "\n",
    "def save():\n",
    "    print(\"your click on save\")\n",
    "def save_as():\n",
    "    print(\"you click on save as\")\n",
    "def edit():\n",
    "    print(\"you click on edit\")\n",
    "\n",
    "mainmenu=Menu(win)\n",
    "m1=Menu(mainmenu,tearoff=0)\n",
    "m1.add_command(label=\"save\", command=save)\n",
    "m1.add_command(label=\"save_as\", command=save_as)\n",
    "m1.add_command(label=\"edit\", command=edit)\n",
    "mainmenu.add_cascade(label=\"File\",menu=m1)\n",
    "win.config(menu=mainmenu)\n",
    "\n",
    "win.mainloop()\n",
    "\n"
   ]
  },
  {
   "cell_type": "code",
   "execution_count": 10,
   "id": "dfb9ce19",
   "metadata": {},
   "outputs": [
    {
     "name": "stdout",
     "output_type": "stream",
     "text": [
      "saved\n",
      "save_as\n",
      "find\n",
      "cut\n",
      "copy\n",
      "paste\n",
      "help\n",
      "rate us\n",
      "Retry karne pe bhi kuchh nhi hoga\n",
      "Retry karne pe bhi kuchh nhi hoga\n"
     ]
    }
   ],
   "source": [
    "from tkinter import *\n",
    "import tkinter.messagebox as tmsg\n",
    "win=Tk()\n",
    "win.title(\"Note Pad\")\n",
    "win.geometry(\"300x400\")\n",
    "\n",
    "def save():\n",
    "    print(\"saved\")\n",
    "def save_as():\n",
    "    print(\"save_as\")\n",
    "def find():\n",
    "    print(\"find\")\n",
    "def cut():\n",
    "    print(\"cut\")\n",
    "def copy():\n",
    "    print(\"copy\")\n",
    "    \n",
    "def paste():\n",
    "    print(\"paste\")\n",
    "def Help():\n",
    "    print(\"help\")\n",
    "    tmsg.showinfo(\"Help\",\"Arman will help you\")\n",
    "    \n",
    "def rate():\n",
    "    print(\"rate us\")\n",
    "    v=tmsg.askquestion(\"was your experience good?\",\"you used this gui\")\n",
    "    #print(v)\n",
    "    if v == \"yes\":\n",
    "        msg=\"Great...Rate us on app store please\"\n",
    "    else:\n",
    "        msg=\"tell us what went wrong. we will call you soon\"\n",
    "    tmsg.showinfo('experience', msg)\n",
    "\n",
    "def arman():\n",
    "    ans = tmsg.askretrycancel(\"arman se dosti kar lo\",\"sorry arman dost nahi banega aapki\")\n",
    "    if ans:\n",
    "        print(\"Retry karne pe bhi kuchh nhi hoga\")\n",
    "    else:\n",
    "        print(\"bahut badhiya.....nhi to pitte\")\n",
    "mainmenu=Menu(win)\n",
    "#file\n",
    "m1=Menu(mainmenu, tearoff=0)\n",
    "m1.add_command(label=\"save\", command=save)\n",
    "m1.add_command(label=\"save as\", command=save_as)\n",
    "m1.add_command(label=\"find\", command=find)\n",
    "mainmenu.add_cascade(label=\"file\",menu=m1)\n",
    "win.config(menu=mainmenu)\n",
    "\n",
    "\n",
    "m2=Menu(mainmenu, tearoff=0)\n",
    "m2.add_command(label=\"cut\", command=cut)\n",
    "m2.add_command(label=\"copy\", command=copy)\n",
    "m2.add_command(label=\"paste\", command=paste)\n",
    "mainmenu.add_cascade(label=\"edit\",menu=m2)\n",
    "win.config(menu=mainmenu)\n",
    "\n",
    "m3=Menu(mainmenu, tearoff=0)\n",
    "m3.add_command(label=\"help\", command=Help)\n",
    "m3.add_command(label=\"Rate us\", command=rate)\n",
    "m3.add_command(label=\"befreind\",command=arman)\n",
    "mainmenu.add_cascade(label=\"help\",menu=m3)\n",
    "win.config(menu=mainmenu)\n",
    "\n",
    "\n",
    "win.mainloop()\n",
    "\n"
   ]
  },
  {
   "cell_type": "markdown",
   "id": "dc4044e7",
   "metadata": {},
   "source": [
    "# slider "
   ]
  },
  {
   "cell_type": "code",
   "execution_count": 11,
   "id": "27113feb",
   "metadata": {},
   "outputs": [
    {
     "name": "stdout",
     "output_type": "stream",
     "text": [
      "we have credited 49 dollars to you\n"
     ]
    }
   ],
   "source": [
    "from tkinter import  *\n",
    "import tkinter.messagebox as tmsg\n",
    "win=Tk()\n",
    "win.geometry(\"450x500\")\n",
    "win.title(\"Slider\")\n",
    "\n",
    "# myslider= Scale(win, from_= 0, to =455, orient=HORIZONTAL)\n",
    "# myslider.pack()\n",
    "def getdollar():\n",
    "    print(f\"we have credited {myslider2.get()} dollars to you\")\n",
    "    tmsg.showinfo(\"Amount Crideted!\",f\"we have credited {myslider2.get()} dollars to you\")\n",
    "    \n",
    "Label(win, text=\"How many dollers do u want?\")\n",
    "myslider2= Scale(win, from_=0, to=100, orient=HORIZONTAL, tickinterval=50)\n",
    "myslider2.set(35)\n",
    "myslider2.pack()\n",
    "button=Button(win, text=\"get dollars!\",command=getdollar, pady=10).pack()\n",
    "\n",
    "win.mainloop()"
   ]
  },
  {
   "cell_type": "code",
   "execution_count": 73,
   "id": "d9519a37",
   "metadata": {},
   "outputs": [
    {
     "name": "stdout",
     "output_type": "stream",
     "text": [
      "you give us rating 10 star\n"
     ]
    }
   ],
   "source": [
    "from tkinter import *\n",
    "import tkinter.messagebox as tmsg\n",
    "\n",
    "win=Tk()\n",
    "win.title(\"Slider project\")\n",
    "win.geometry(\"200x300\")\n",
    "win.minsize(400,450)\n",
    "win.maxsize(600,650)\n",
    "\n",
    "def ok():\n",
    "    print(f\"you give us rating {slider1.get()} star\")\n",
    "    tmsg.showinfo(\"Taj Hotel\",f\" you gave rating {slider1.get()} star!!!\")\n",
    "slider1=Scale(win, from_=0, to = 10, orient=HORIZONTAL, tickinterval=2)\n",
    "slider1.pack()\n",
    "\n",
    "button=Button(win, text=\"click here\", pady=10, bg=\"white\", fg=\"blue\",command=ok).pack()\n",
    "\n",
    "\n",
    "win.mainloop()"
   ]
  },
  {
   "cell_type": "markdown",
   "id": "f8325714",
   "metadata": {},
   "source": [
    "# Radiobutton"
   ]
  },
  {
   "cell_type": "code",
   "execution_count": 12,
   "id": "e3e70507",
   "metadata": {},
   "outputs": [
    {
     "name": "stdout",
     "output_type": "stream",
     "text": [
      "name: arman\n",
      "you are male and your name is arman \n"
     ]
    }
   ],
   "source": [
    "from tkinter import *\n",
    "import tkinter.messagebox as tmsg\n",
    "\n",
    "win=Tk()\n",
    "win.title(\"Radiobutton project\")\n",
    "win.geometry(\"350x450\")\n",
    "\n",
    "def order():\n",
    "    print(f\"you are {var.get()} and your name is {name} \")\n",
    "    tmsg.showinfo(\"choosen gender\",f\"you are {var.get()}\")\n",
    "\n",
    "name=input(\"name: \")\n",
    "#var = IntVar()\n",
    "var = StringVar()\n",
    "var.set(\"ARman\")\n",
    "#var.set(1)\n",
    "Label(win, text= \"what would u like to have sir?\", font=\"Gill 15 bold\", justify=LEFT, padx=10).pack()\n",
    "\n",
    "radiok = Radiobutton(win, text=\"male\", pady=15, variable=var, value=\"male\").pack( anchor=\"w\")\n",
    "radio = Radiobutton(win, text=\"female\", padx=15, variable=var, value=\"female\").pack( anchor=\"w\")\n",
    "radio = Radiobutton(win, text=\"transgender\", padx=15, variable=var, value=\"transgender\").pack( anchor=\"w\")\n",
    "radio = Radiobutton(win, text=\"others\", padx=15, variable=var, value=\"other\").pack( anchor=\"w\")\n",
    "\n",
    "button= Button(win, text=\"submit now\", command=order).pack()\n",
    "win.mainloop()"
   ]
  },
  {
   "cell_type": "markdown",
   "id": "b0338ed6",
   "metadata": {},
   "source": [
    "# Listbox"
   ]
  },
  {
   "cell_type": "code",
   "execution_count": 13,
   "id": "de50984a",
   "metadata": {},
   "outputs": [],
   "source": [
    "from tkinter import *\n",
    "import tkinter.messagebox as tmsg\n",
    "win=Tk()\n",
    "win.title(\"Listbox project\")\n",
    "win.geometry(\"350x450\")\n",
    "\n",
    "def add():\n",
    "    global i\n",
    "    lbx.insert(ACTIVE, f\"{i}\")\n",
    "    i+=1\n",
    "i = 0\n",
    "lbx=Listbox(win)\n",
    "lbx.pack()\n",
    "lbx.insert(END, \"First item of our listbox\")\n",
    "\n",
    "button=Button(win, text=\"Add item\", command=add)\n",
    "button.pack()\n",
    "win.mainloop()"
   ]
  },
  {
   "cell_type": "markdown",
   "id": "a530d0bd",
   "metadata": {},
   "source": [
    "# to update gui window"
   ]
  },
  {
   "cell_type": "code",
   "execution_count": 80,
   "id": "388d3ea1",
   "metadata": {},
   "outputs": [],
   "source": [
    "from tkinter import *\n",
    "def update():\n",
    "    print(\"Updating the gui\")\n",
    "    win.geometry(f\"{width.get()}x{height.get()}\")\n",
    "    \n",
    "win = Tk()\n",
    "win.geometry(\"400x500\")\n",
    "width = StringVar()\n",
    "height = StringVar()\n",
    "Entry(win, textvariable=width).pack()\n",
    "Entry(win, textvariable=height).pack()\n",
    "\n",
    "button=Button(win,text=\"submit\", command=update)\n",
    "button.pack()\n",
    "\n",
    "win.mainloop()\n"
   ]
  },
  {
   "cell_type": "markdown",
   "id": "1542bdef",
   "metadata": {},
   "source": [
    "# status bar"
   ]
  },
  {
   "cell_type": "code",
   "execution_count": 16,
   "id": "b6479ed7",
   "metadata": {},
   "outputs": [],
   "source": [
    "from tkinter import *\n",
    "\n",
    "def upload():\n",
    "    statusvar.set(\"uploading...\")\n",
    "    sbar.update()\n",
    "    import time\n",
    "    time.sleep(2)\n",
    "    statusvar.set(\"Ready now\")\n",
    "    \n",
    "\n",
    "win=Tk()\n",
    "win.title(\"Status bar project\")\n",
    "win.geometry(\"350x450\")\n",
    "\n",
    "statusvar= StringVar()\n",
    "statusvar.set(\"Ready\")\n",
    "sbar = Label(win, textvariable= statusvar, anchor=\"w\", relief=SUNKEN)\n",
    "sbar.pack(side=BOTTOM, fill=X)\n",
    "Button(win, text=\"Upload\", command=upload).pack()\n",
    "\n",
    "win.mainloop()"
   ]
  },
  {
   "cell_type": "markdown",
   "id": "79bc700c",
   "metadata": {},
   "source": [
    "# destroy"
   ]
  },
  {
   "cell_type": "code",
   "execution_count": 14,
   "id": "73faf01f",
   "metadata": {},
   "outputs": [
    {
     "name": "stdout",
     "output_type": "stream",
     "text": [
      "1536x864\n"
     ]
    }
   ],
   "source": [
    "from tkinter import *\n",
    "# def close():\n",
    "#     import time\n",
    "#     #time.sleep(2)\n",
    "#     win.destroy\n",
    "\n",
    "\n",
    "win=Tk()\n",
    "win.title(\"window destroy project\")\n",
    "win.geometry(\"350x450\")\n",
    "win.configure(bg=\"white\")\n",
    "\n",
    "width = win.winfo_screenwidth()\n",
    "height = win.winfo_screenheight()\n",
    "\n",
    "print(f\"{width}x{height}\")\n",
    "\n",
    "button=Button(text=\"close or destroy\", command=win.destroy,bg=\"red\")\n",
    "button.pack()\n",
    "win.mainloop()"
   ]
  },
  {
   "cell_type": "markdown",
   "id": "8c669edd",
   "metadata": {},
   "source": [
    "# destroy windows winthin seconds"
   ]
  },
  {
   "cell_type": "code",
   "execution_count": 15,
   "id": "85629181",
   "metadata": {},
   "outputs": [],
   "source": [
    "from tkinter import *\n",
    "from tkinter import ttk\n",
    "\n",
    "win = Tk()\n",
    "win.geometry(\"200x300\")\n",
    "\n",
    "win.after(5000,win.destroy)\n",
    "\n",
    "win.mainloop()"
   ]
  },
  {
   "cell_type": "code",
   "execution_count": 83,
   "id": "3a638e45",
   "metadata": {},
   "outputs": [
    {
     "name": "stdout",
     "output_type": "stream",
     "text": [
      "you are a Male and yuor name is a\n"
     ]
    }
   ],
   "source": [
    "from tkinter import *\n",
    "import tkinter.messagebox as tmsg\n",
    "\n",
    "def run():\n",
    "    #name = input(\"name: \")\n",
    "    print(f\"you are a {var.get()} and yuor name is {name}\")\n",
    "    tmsg.showinfo(\"chosen gender\",f\"your are a {var.get()}\")\n",
    "win=Tk()\n",
    "win.title(\"Radiobutton\")\n",
    "\n",
    "\n",
    "var = StringVar()\n",
    "var.set(\"arman\")\n",
    "\n",
    "r1 = Radiobutton(win, text= \"Male\", variable=var, value=\"Male\").pack(anchor=N)\n",
    "r2 = Radiobutton(win, text = \"Female\", variable = var, value= \"Female\").pack(anchor = N)\n",
    "\n",
    "button = Button(win, text = \"Submit\", command = run).pack()\n",
    "\n",
    "win.mainloop()"
   ]
  },
  {
   "cell_type": "code",
   "execution_count": 84,
   "id": "61a5b30b",
   "metadata": {},
   "outputs": [
    {
     "name": "stdout",
     "output_type": "stream",
     "text": [
      "1536\n",
      "1536x864\n"
     ]
    }
   ],
   "source": [
    "from tkinter import *\n",
    "win=Tk()\n",
    "\n",
    "#width=win.winfo_screenwidth()\n",
    "height = win.winfo_screenheight()\n",
    "\n",
    "width = win.winfo_screenwidth()\n",
    "print(f\"{width}\")\n",
    "\n",
    "print(f\"{width}x{height}\") \n",
    "\n",
    "win.mainloop()"
   ]
  },
  {
   "cell_type": "code",
   "execution_count": 67,
   "id": "9adefe14",
   "metadata": {},
   "outputs": [
    {
     "name": "stdout",
     "output_type": "stream",
     "text": [
      "successful\n",
      "you click window size is width 300 and height 200\n",
      "successful\n",
      "you click window size is width 300 and height 400\n"
     ]
    }
   ],
   "source": [
    "from tkinter import *\n",
    "\n",
    "def run():\n",
    "    print(\"successful\")\n",
    "    print(f\"you click window size is width {width.get()} and height {height.get()}\")\n",
    "    win.geometry(f\"{width.get()}x{height.get()}\")\n",
    "win=Tk()\n",
    "win.geometry(\"250x300\")\n",
    "\n",
    "width = StringVar()\n",
    "height = StringVar()\n",
    "\n",
    "w_entry = Entry(win, textvariable = width).pack()\n",
    "h_entry = Entry(win, textvariable = height).pack()\n",
    "\n",
    "button = Button(win,text=\"click to change size\", command= run).pack()\n",
    "\n",
    "win.mainloop()"
   ]
  },
  {
   "cell_type": "markdown",
   "id": "3cf9dbd7",
   "metadata": {},
   "source": [
    "# slide"
   ]
  },
  {
   "cell_type": "code",
   "execution_count": 4,
   "id": "2833eaf1",
   "metadata": {},
   "outputs": [
    {
     "name": "stdout",
     "output_type": "stream",
     "text": [
      "you choose 5\n"
     ]
    }
   ],
   "source": [
    "from tkinter import *\n",
    "import tkinter.messagebox as tmsg\n",
    "\n",
    "def run():\n",
    "    print(f\"you choose {slider.get()}\")\n",
    "    tmsg.showinfo(\"normal game\",f\"you choose {slider.get()}\")\n",
    "    \n",
    "    \n",
    "\n",
    "win = Tk()\n",
    "\n",
    "slider = Scale(win, from_=0, to = 10, tickinterval=2, orient= HORIZONTAL)\n",
    "slider.pack()\n",
    "\n",
    "button = Button(win, text  = \"click\",bg=\"grey\", command = run).pack()\n",
    "\n",
    "win.mainloop()"
   ]
  },
  {
   "cell_type": "code",
   "execution_count": 100,
   "id": "b9804de7",
   "metadata": {},
   "outputs": [
    {
     "name": "stdout",
     "output_type": "stream",
     "text": [
      "you click on find\n",
      "you click on save\n"
     ]
    }
   ],
   "source": [
    "from tkinter import *\n",
    "win=Tk()\n",
    "win.title(\"file menu\")\n",
    "win.geometry(\"200x250\")\n",
    "\n",
    "def save():\n",
    "    print(\"you click on save\")\n",
    "def find():\n",
    "    print(\"you click on find\")\n",
    "\n",
    "\n",
    "mainmenu = Menu(win)\n",
    "\n",
    "m1 = Menu(mainmenu, tearoff = 0)\n",
    "m1.add_command(label=\"save\", command=save)\n",
    "m1.add_separator()\n",
    "m1.add_command(label = \"find\", command = find)\n",
    "m1.add_separator()\n",
    "\n",
    "win.config(menu=mainmenu)\n",
    "mainmenu.add_cascade(label=\"File\", menu = m1)\n",
    "\n",
    "win.mainloop()"
   ]
  },
  {
   "cell_type": "code",
   "execution_count": 103,
   "id": "6c5bdddb",
   "metadata": {},
   "outputs": [
    {
     "name": "stdout",
     "output_type": "stream",
     "text": [
      "(2, 3)\n",
      "[[1 2 3]\n",
      " [4 5 6]]\n"
     ]
    }
   ],
   "source": [
    "import numpy as np \n",
    "a = np.array([[1,2,3],[4,5,6]]) \n",
    "print (a.shape)\n",
    "print(a)\n"
   ]
  },
  {
   "cell_type": "code",
   "execution_count": 104,
   "id": "c6501987",
   "metadata": {},
   "outputs": [
    {
     "name": "stdout",
     "output_type": "stream",
     "text": [
      "[[1 2]\n",
      " [3 4]\n",
      " [5 6]]\n"
     ]
    }
   ],
   "source": [
    "import numpy as np \n",
    "a = np.array([[1,2,3],[4,5,6]]) \n",
    "a.shape = (3,2) \n",
    "print (a) \n"
   ]
  },
  {
   "cell_type": "code",
   "execution_count": 109,
   "id": "e625505d",
   "metadata": {},
   "outputs": [
    {
     "name": "stdout",
     "output_type": "stream",
     "text": [
      "[[1 2 3]\n",
      " [4 5 6]]\n"
     ]
    }
   ],
   "source": [
    "import numpy as np \n",
    "a = np.array([[1,2,3],[4,5,6]]) \n",
    "a.reshape \n",
    "print (a) "
   ]
  },
  {
   "cell_type": "code",
   "execution_count": 112,
   "id": "b2c380d6",
   "metadata": {},
   "outputs": [
    {
     "name": "stdout",
     "output_type": "stream",
     "text": [
      "[ 0  1  2  3  4  5  6  7  8  9 10 11 12 13 14 15 16 17 18 19 20]\n"
     ]
    }
   ],
   "source": [
    "import numpy as np\n",
    "a = np.arange(21)\n",
    "print(a)\n",
    "\n"
   ]
  },
  {
   "cell_type": "code",
   "execution_count": 114,
   "id": "ea2feaf1",
   "metadata": {},
   "outputs": [
    {
     "name": "stdout",
     "output_type": "stream",
     "text": [
      "[[ 0  1  2  3  4  5  6]\n",
      " [ 7  8  9 10 11 12 13]\n",
      " [14 15 16 17 18 19 20]]\n"
     ]
    }
   ],
   "source": [
    "a.resize(3,7)\n",
    "print(a)"
   ]
  },
  {
   "cell_type": "code",
   "execution_count": 117,
   "id": "edbad323",
   "metadata": {},
   "outputs": [
    {
     "name": "stdout",
     "output_type": "stream",
     "text": [
      "[[ 0  1  2  3  4  5  6]\n",
      " [ 7  8  9 10 11 12 13]\n",
      " [14 15 16 17 18 19 20]]\n"
     ]
    }
   ],
   "source": [
    "b = a.reshape(3,7)\n",
    "print(b)"
   ]
  },
  {
   "cell_type": "code",
   "execution_count": 128,
   "id": "00b69c07",
   "metadata": {},
   "outputs": [
    {
     "data": {
      "text/plain": [
       "0    1\n",
       "1    2\n",
       "2    3\n",
       "dtype: int64"
      ]
     },
     "execution_count": 128,
     "metadata": {},
     "output_type": "execute_result"
    }
   ],
   "source": [
    "import pandas as pd\n",
    "a = (1,2,3)\n",
    "b = pd.Series(a)\n",
    "b"
   ]
  },
  {
   "cell_type": "code",
   "execution_count": 125,
   "id": "0028a482",
   "metadata": {},
   "outputs": [
    {
     "name": "stdout",
     "output_type": "stream",
     "text": [
      "2\n"
     ]
    }
   ],
   "source": [
    "print(b[1])"
   ]
  },
  {
   "cell_type": "code",
   "execution_count": 130,
   "id": "512dbfe2",
   "metadata": {},
   "outputs": [
    {
     "data": {
      "text/plain": [
       "0    1\n",
       "1    2\n",
       "2    3\n",
       "3    4\n",
       "dtype: int64"
      ]
     },
     "execution_count": 130,
     "metadata": {},
     "output_type": "execute_result"
    }
   ],
   "source": [
    "import pandas as pd\n",
    "a = [1,2,3,4]\n",
    "b =pd.Series(a)\n",
    "b"
   ]
  },
  {
   "cell_type": "code",
   "execution_count": 133,
   "id": "2316634c",
   "metadata": {},
   "outputs": [
    {
     "data": {
      "text/plain": [
       "first     1\n",
       "second    2\n",
       "third     3\n",
       "fourth    4\n",
       "dtype: int64"
      ]
     },
     "execution_count": 133,
     "metadata": {},
     "output_type": "execute_result"
    }
   ],
   "source": [
    "b = pd.Series(a, index = [\"first\",\"second\",\"third\",\"fourth\"])\n",
    "b"
   ]
  },
  {
   "cell_type": "code",
   "execution_count": 134,
   "id": "c3c4b860",
   "metadata": {},
   "outputs": [
    {
     "data": {
      "text/plain": [
       "a    1\n",
       "b    2\n",
       "c    3\n",
       "d    4\n",
       "dtype: int64"
      ]
     },
     "execution_count": 134,
     "metadata": {},
     "output_type": "execute_result"
    }
   ],
   "source": [
    "n=pd.Series(a,index=[\"a\",\"b\",\"c\",\"d\"])\n",
    "n"
   ]
  },
  {
   "cell_type": "code",
   "execution_count": 136,
   "id": "df1a0046",
   "metadata": {},
   "outputs": [
    {
     "data": {
      "text/plain": [
       "day1    420\n",
       "day2    562\n",
       "dtype: int64"
      ]
     },
     "execution_count": 136,
     "metadata": {},
     "output_type": "execute_result"
    }
   ],
   "source": [
    "calories = {\"day1\":420 , \"day2\":562}\n",
    "c = pd.Series(calories)\n",
    "c"
   ]
  },
  {
   "cell_type": "code",
   "execution_count": 143,
   "id": "d687c9cd",
   "metadata": {},
   "outputs": [
    {
     "data": {
      "text/html": [
       "<div>\n",
       "<style scoped>\n",
       "    .dataframe tbody tr th:only-of-type {\n",
       "        vertical-align: middle;\n",
       "    }\n",
       "\n",
       "    .dataframe tbody tr th {\n",
       "        vertical-align: top;\n",
       "    }\n",
       "\n",
       "    .dataframe thead th {\n",
       "        text-align: right;\n",
       "    }\n",
       "</style>\n",
       "<table border=\"1\" class=\"dataframe\">\n",
       "  <thead>\n",
       "    <tr style=\"text-align: right;\">\n",
       "      <th></th>\n",
       "      <th>day</th>\n",
       "      <th>calories</th>\n",
       "    </tr>\n",
       "  </thead>\n",
       "  <tbody>\n",
       "    <tr>\n",
       "      <th>first</th>\n",
       "      <td>day1</td>\n",
       "      <td>420</td>\n",
       "    </tr>\n",
       "    <tr>\n",
       "      <th>second</th>\n",
       "      <td>day2</td>\n",
       "      <td>386</td>\n",
       "    </tr>\n",
       "  </tbody>\n",
       "</table>\n",
       "</div>"
      ],
      "text/plain": [
       "         day  calories\n",
       "first   day1       420\n",
       "second  day2       386"
      ]
     },
     "execution_count": 143,
     "metadata": {},
     "output_type": "execute_result"
    }
   ],
   "source": [
    "import pandas as pd\n",
    "cal = {\n",
    "    \"day\":[\"day1\",\"day2\"],\n",
    "    \"calories\":[420,386]\n",
    "}\n",
    "data = pd.DataFrame(cal, index = [\"first\",\"second\"])\n",
    "data"
   ]
  },
  {
   "cell_type": "code",
   "execution_count": 148,
   "id": "1748eabf",
   "metadata": {},
   "outputs": [
    {
     "name": "stdout",
     "output_type": "stream",
     "text": [
      "[[ 2  3  4]\n",
      " [ 5  6  7]\n",
      " [ 8  9 10]]\n"
     ]
    }
   ],
   "source": [
    "import numpy as np\n",
    "a = np.arange(2,11)\n",
    "a.resize(3,3)\n",
    "print(a)"
   ]
  },
  {
   "cell_type": "code",
   "execution_count": 17,
   "id": "a36ba139",
   "metadata": {},
   "outputs": [],
   "source": [
    "from tkinter import *\n",
    "win = Tk() # This is to create a basic window\n",
    "win.geometry(\"312x324\") # this is for the size of the window \n",
    "win.resizable(0, 0) # this is to prevent from resizing the window\n",
    "win.title(\"Calculator\")\n",
    "###################Starting with functions ####################\n",
    "# 'btn_click' function : \n",
    "# This Function continuously updates the \n",
    "# input field whenever you enter a number\n",
    "def btn_click(item):\n",
    "    global expression\n",
    "    expression = expression + str(item)\n",
    "    input_text.set(expression)\n",
    "# 'bt_clear' function :This is used to clear \n",
    "# the input field\n",
    "def bt_clear():\n",
    "    global expression\n",
    "    expression = \"\"\n",
    "    input_text.set(\"\")\n",
    "# 'bt_equal':This method calculates the expression \n",
    "# present in input field\n",
    "def bt_equal():\n",
    "    global expression\n",
    "    result = str(eval(expression)) # 'eval':This function is used to evaluates the string expression directly\n",
    "    input_text.set(result)\n",
    "    expression = \"\"\n",
    "expression = \"\"\n",
    "# 'StringVar()' :It is used to get the instance of input field\n",
    "input_text = StringVar()\n",
    "# Let us creating a frame for the input field\n",
    "input_frame = Frame(win, width=312, height=50, bd=0, highlightbackground=\"black\", highlightcolor=\"black\", highlightthickness=2)\n",
    "input_frame.pack(side=TOP)\n",
    "#Let us create a input field inside the 'Frame'\n",
    "input_field = Entry(input_frame, font=('arial', 18, 'bold'), textvariable=input_text, width=50, bg=\"#eee\", bd=0, justify=RIGHT)\n",
    "input_field.grid(row=0, column=0)\n",
    "input_field.pack(ipady=10) # 'ipady' is internal padding to increase the height of input field\n",
    "#Let us creating another 'Frame' for the button below the 'input_frame'\n",
    "btns_frame = Frame(win, width=312, height=272.5, bg=\"grey\")\n",
    "btns_frame.pack()\n",
    "# first row\n",
    "clear = Button(btns_frame, text = \"C\", fg = \"black\", width = 32, height = 3, bd = 0, bg = \"#eee\", cursor = \"hand2\", command = lambda: bt_clear()).grid(row = 0, column = 0, columnspan = 3, padx = 1, pady = 1)\n",
    "divide = Button(btns_frame, text = \"/\", fg = \"black\", width = 10, height = 3, bd = 0, bg = \"#eee\", cursor = \"hand2\", command = lambda: btn_click(\"/\")).grid(row = 0, column = 3, padx = 1, pady = 1)\n",
    "# second row\n",
    "seven = Button(btns_frame, text = \"7\", fg = \"black\", width = 10, height = 3, bd = 0, bg = \"#fff\", cursor = \"hand2\", command = lambda: btn_click(7)).grid(row = 1, column = 0, padx = 1, pady = 1)\n",
    "eight = Button(btns_frame, text = \"8\", fg = \"black\", width = 10, height = 3, bd = 0, bg = \"#fff\", cursor = \"hand2\", command = lambda: btn_click(8)).grid(row = 1, column = 1, padx = 1, pady = 1)\n",
    "nine = Button(btns_frame, text = \"9\", fg = \"black\", width = 10, height = 3, bd = 0, bg = \"#fff\", cursor = \"hand2\", command = lambda: btn_click(9)).grid(row = 1, column = 2, padx = 1, pady = 1)\n",
    "multiply = Button(btns_frame, text = \"*\", fg = \"black\", width = 10, height = 3, bd = 0, bg = \"#eee\", cursor = \"hand2\", command = lambda: btn_click(\"*\")).grid(row = 1, column = 3, padx = 1, pady = 1)\n",
    "# third row\n",
    "four = Button(btns_frame, text = \"4\", fg = \"black\", width = 10, height = 3, bd = 0, bg = \"#fff\", cursor = \"hand2\", command = lambda: btn_click(4)).grid(row = 2, column = 0, padx = 1, pady = 1)\n",
    "five = Button(btns_frame, text = \"5\", fg = \"black\", width = 10, height = 3, bd = 0, bg = \"#fff\", cursor = \"hand2\", command = lambda: btn_click(5)).grid(row = 2, column = 1, padx = 1, pady = 1)\n",
    "six = Button(btns_frame, text = \"6\", fg = \"black\", width = 10, height = 3, bd = 0, bg = \"#fff\", cursor = \"hand2\", command = lambda: btn_click(6)).grid(row = 2, column = 2, padx = 1, pady = 1)\n",
    "minus = Button(btns_frame, text = \"-\", fg = \"black\", width = 10, height = 3, bd = 0, bg = \"#eee\", cursor = \"hand2\", command = lambda: btn_click(\"-\")).grid(row = 2, column = 3, padx = 1, pady = 1)\n",
    "# fourth row\n",
    "one = Button(btns_frame, text = \"1\", fg = \"black\", width = 10, height = 3, bd = 0, bg = \"#fff\", cursor = \"hand2\", command = lambda: btn_click(1)).grid(row = 3, column = 0, padx = 1, pady = 1)\n",
    "two = Button(btns_frame, text = \"2\", fg = \"black\", width = 10, height = 3, bd = 0, bg = \"#fff\", cursor = \"hand2\", command = lambda: btn_click(2)).grid(row = 3, column = 1, padx = 1, pady = 1)\n",
    "three = Button(btns_frame, text = \"3\", fg = \"black\", width = 10, height = 3, bd = 0, bg = \"#fff\", cursor = \"hand2\", command = lambda: btn_click(3)).grid(row = 3, column = 2, padx = 1, pady = 1)\n",
    "plus = Button(btns_frame, text = \"+\", fg = \"black\", width = 10, height = 3, bd = 0, bg = \"#eee\", cursor = \"hand2\", command = lambda: btn_click(\"+\")).grid(row = 3, column = 3, padx = 1, pady = 1)\n",
    "# fourth row\n",
    "zero = Button(btns_frame, text = \"0\", fg = \"black\", width = 21, height = 3, bd = 0, bg = \"#fff\", cursor = \"hand2\", command = lambda: btn_click(0)).grid(row = 4, column = 0, columnspan = 2, padx = 1, pady = 1)\n",
    "point = Button(btns_frame, text = \".\", fg = \"black\", width = 10, height = 3, bd = 0, bg = \"#eee\", cursor = \"hand2\", command = lambda: btn_click(\".\")).grid(row = 4, column = 2, padx = 1, pady = 1)\n",
    "equals = Button(btns_frame, text = \"=\", fg = \"black\", width = 10, height = 3, bd = 0, bg = \"#eee\", cursor = \"hand2\", command = lambda: bt_equal()).grid(row = 4, column = 3, padx = 1, pady = 1)\n",
    "win.mainloop()"
   ]
  },
  {
   "cell_type": "code",
   "execution_count": null,
   "id": "ced0075b",
   "metadata": {},
   "outputs": [],
   "source": []
  }
 ],
 "metadata": {
  "kernelspec": {
   "display_name": "Python 3 (ipykernel)",
   "language": "python",
   "name": "python3"
  },
  "language_info": {
   "codemirror_mode": {
    "name": "ipython",
    "version": 3
   },
   "file_extension": ".py",
   "mimetype": "text/x-python",
   "name": "python",
   "nbconvert_exporter": "python",
   "pygments_lexer": "ipython3",
   "version": "3.9.7"
  }
 },
 "nbformat": 4,
 "nbformat_minor": 5
}
