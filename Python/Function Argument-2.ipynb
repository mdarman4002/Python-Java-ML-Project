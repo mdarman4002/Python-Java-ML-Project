{
 "cells": [
  {
   "cell_type": "markdown",
   "metadata": {},
   "source": [
    "# Function Arguments:"
   ]
  },
  {
   "cell_type": "code",
   "execution_count": 11,
   "metadata": {},
   "outputs": [
    {
     "name": "stdout",
     "output_type": "stream",
     "text": [
      "hello Harsh raj singh Good morning\n"
     ]
    }
   ],
   "source": [
    "def greet(name, msg):\n",
    "    \"\"\"\n",
    "    This function greets to a person with provided message \n",
    "    \"\"\"\n",
    "    print(\"hello {0} {1}\".format(name, msg))\n",
    "    \n",
    "# call function with arguments \n",
    "h =\"Harsh raj singh\"\n",
    "g = \"Good morning\"\n",
    "greet(h,g)\n"
   ]
  },
  {
   "cell_type": "code",
   "execution_count": 2,
   "metadata": {},
   "outputs": [
    {
     "ename": "TypeError",
     "evalue": "greet() missing 1 required positional argument: 'msg'",
     "output_type": "error",
     "traceback": [
      "\u001b[1;31m---------------------------------------------------------------------------\u001b[0m",
      "\u001b[1;31mTypeError\u001b[0m                                 Traceback (most recent call last)",
      "\u001b[1;32m<ipython-input-2-950026f14de7>\u001b[0m in \u001b[0;36m<module>\u001b[1;34m\u001b[0m\n\u001b[0;32m      1\u001b[0m \u001b[1;31m# suppose if we pass one agrument\u001b[0m\u001b[1;33m\u001b[0m\u001b[1;33m\u001b[0m\u001b[1;33m\u001b[0m\u001b[0m\n\u001b[1;32m----> 2\u001b[1;33m \u001b[0mgreet\u001b[0m\u001b[1;33m(\u001b[0m\u001b[1;34m\"harsh raj singh\"\u001b[0m\u001b[1;33m)\u001b[0m \u001b[1;31m# will get an error\u001b[0m\u001b[1;33m\u001b[0m\u001b[1;33m\u001b[0m\u001b[0m\n\u001b[0m",
      "\u001b[1;31mTypeError\u001b[0m: greet() missing 1 required positional argument: 'msg'"
     ]
    }
   ],
   "source": [
    "# suppose if we pass one agrument\n",
    "greet(\"harsh raj singh\") # will get an error"
   ]
  },
  {
   "cell_type": "markdown",
   "metadata": {},
   "source": [
    "# Different Forms of Arguments"
   ]
  },
  {
   "cell_type": "markdown",
   "metadata": {},
   "source": [
    "# 1. Default Argument:"
   ]
  },
  {
   "cell_type": "markdown",
   "metadata": {},
   "source": [
    "We can provide default value to an argument by using the assignment operator \"=\"."
   ]
  },
  {
   "cell_type": "code",
   "execution_count": 12,
   "metadata": {},
   "outputs": [
    {
     "name": "stdout",
     "output_type": "stream",
     "text": [
      "hello Mr.harsh Raj Good Night\n"
     ]
    }
   ],
   "source": [
    "def greet(name, msg = \"Good morning\"):\n",
    "    \"\"\"\n",
    "    This function greets to a person with provided message \n",
    "    if massage is not provided, it defaults to Good marning\n",
    "    \"\"\"\n",
    "    print(\"hello {0} {1}\".format(name, msg))\n",
    "    \n",
    "# call function with arguments \n",
    "greet(\"Mr.harsh Raj\", \"Good Night\")"
   ]
  },
  {
   "cell_type": "code",
   "execution_count": 13,
   "metadata": {},
   "outputs": [
    {
     "name": "stdout",
     "output_type": "stream",
     "text": [
      "hello Mr. harsh Raj singh Good morning\n"
     ]
    }
   ],
   "source": [
    "# with out msg argument \n",
    "greet(\"Mr. harsh Raj singh\")"
   ]
  },
  {
   "cell_type": "markdown",
   "metadata": {},
   "source": [
    "Once we have a default argument, all the arguments to its right must also have default values.\n",
    "\n",
    "def greet(msg=\"Goodmrng\", name)\n",
    "\n",
    "#we get a syntax error: non default argument follows default argument."
   ]
  },
  {
   "cell_type": "code",
   "execution_count": 16,
   "metadata": {},
   "outputs": [
    {
     "name": "stdout",
     "output_type": "stream",
     "text": [
      "hello Mr. Singh  Harsh\n"
     ]
    }
   ],
   "source": [
    "def greet(msg = \"Good morning\", name = \" Harsh\"):\n",
    "    \"\"\"\n",
    "    This function greets to a person with provided message \n",
    "    if massage is not provided, it defaults to Good marning\n",
    "    \"\"\"\n",
    "    print(\"hello {0} {1}\".format(msg, name))\n",
    "    \n",
    "# call function with arguments \n",
    "greet(\"Mr. Singh\")"
   ]
  },
  {
   "cell_type": "markdown",
   "metadata": {},
   "source": [
    "# 2. Keyword Arguments:"
   ]
  },
  {
   "cell_type": "markdown",
   "metadata": {},
   "source": [
    "kwargs allow to you to pass keyworded variable lenght of arguments to function. You should use **kwargs if you want to handle named arguments in a function."
   ]
  },
  {
   "cell_type": "markdown",
   "metadata": {},
   "source": [
    "# Example:"
   ]
  },
  {
   "cell_type": "code",
   "execution_count": 4,
   "metadata": {},
   "outputs": [
    {
     "name": "stdout",
     "output_type": "stream",
     "text": [
      "Hello Mr. sharma Good Morning\n"
     ]
    }
   ],
   "source": [
    "def greet(**kwargs):\n",
    "    \"\"\"\n",
    "    This function greets to person with provided message\n",
    "    \"\"\"\n",
    "    if kwargs:\n",
    "        print(\"Hello {0} {1}\".format(kwargs['name'],kwargs['msg1']))\n",
    "\n",
    "greet(name='Mr. sharma',msg1 = 'Good Morning', msg2 = \"Nice to meet you\" )\n"
   ]
  },
  {
   "cell_type": "markdown",
   "metadata": {},
   "source": [
    "# 3. Arbitary Arguments:"
   ]
  },
  {
   "cell_type": "markdown",
   "metadata": {},
   "source": [
    "Sometime, we do not know in advance the number of arguments that will be passed into a function. Python allow us to handle this kind of situation through function calls with arbitary number of arguments."
   ]
  },
  {
   "cell_type": "code",
   "execution_count": 5,
   "metadata": {},
   "outputs": [
    {
     "name": "stdout",
     "output_type": "stream",
     "text": [
      "('satish', 'Harsh', 'Raj', 'Shivam', 'Prasant', 'Dk', 'ashish')\n",
      "Hello, satish\n",
      "Hello, Harsh\n",
      "Hello, Raj\n",
      "Hello, Shivam\n",
      "Hello, Prasant\n",
      "Hello, Dk\n",
      "Hello, ashish\n"
     ]
    }
   ],
   "source": [
    "def greet(*names):\n",
    "    \"\"\"\n",
    "    This function greets all person in the name tuple\n",
    "    \"\"\"\n",
    "    print(names)\n",
    "    for name in names:\n",
    "        print(\"Hello, {0}\".format(name))\n",
    "\n",
    "greet('satish','Harsh','Raj','Shivam','Prasant','Dk', 'ashish')    # this is arbitary lenght of varibles and pass to function as tuple"
   ]
  },
  {
   "cell_type": "code",
   "execution_count": null,
   "metadata": {},
   "outputs": [],
   "source": []
  }
 ],
 "metadata": {
  "kernelspec": {
   "display_name": "Python 3",
   "language": "python",
   "name": "python3"
  },
  "language_info": {
   "codemirror_mode": {
    "name": "ipython",
    "version": 3
   },
   "file_extension": ".py",
   "mimetype": "text/x-python",
   "name": "python",
   "nbconvert_exporter": "python",
   "pygments_lexer": "ipython3",
   "version": "3.7.3"
  }
 },
 "nbformat": 4,
 "nbformat_minor": 2
}
