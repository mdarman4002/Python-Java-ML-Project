{
 "cells": [
  {
   "cell_type": "markdown",
   "metadata": {},
   "source": [
    "# Python Fuction:"
   ]
  },
  {
   "cell_type": "markdown",
   "metadata": {},
   "source": [
    "Function is a group of related statements that perform a specific task.\n",
    "\n",
    "Functions provide better modularity for your application and a high degree of code reusing.\n"
   ]
  },
  {
   "cell_type": "markdown",
   "metadata": {},
   "source": [
    "Functions help break our program into smallar and modular chunks. As our program grows larger and larger, function make it more organized and manageable.\n",
    "\n",
    "It avoid repetition and makes code reusable. "
   ]
  },
  {
   "cell_type": "markdown",
   "metadata": {},
   "source": [
    "# Syntax:"
   ]
  },
  {
   "cell_type": "markdown",
   "metadata": {},
   "source": [
    "def function_name(parameters):\n",
    "    \n",
    "    \"\"\"\n",
    "    doc\n",
    "    \n",
    "    \"\"\"\n",
    "    \n",
    "    statement(s)"
   ]
  },
  {
   "cell_type": "markdown",
   "metadata": {},
   "source": [
    "1. Keywords \"def\" marks the start of function header.\n",
    "2. Parameters(arguments) through which we pass values to a function. these are optional.\n",
    "3. A colon(:) to mark the end of the function header.\n",
    "4. Doc string describe what the function does. This is optional.\n",
    "5. \"return\" statement return a value form the function. This is optional."
   ]
  },
  {
   "cell_type": "markdown",
   "metadata": {},
   "source": [
    "# Example:"
   ]
  },
  {
   "cell_type": "code",
   "execution_count": null,
   "metadata": {},
   "outputs": [],
   "source": [
    "def print_name(name):\n",
    "    \"\"\"\n",
    "    The function prints the name\n",
    "    \"\"\"\n",
    "    print(\"hello\"+ str(name))\n",
    "    print(\"My friend\")\n",
    "    print(\"good morning\")"
   ]
  },
  {
   "cell_type": "markdown",
   "metadata": {},
   "source": [
    "# Function Call:"
   ]
  },
  {
   "cell_type": "markdown",
   "metadata": {},
   "source": [
    "once we have defined a function, we can call it form anywhere."
   ]
  },
  {
   "cell_type": "code",
   "execution_count": null,
   "metadata": {},
   "outputs": [],
   "source": [
    "print_name(\"Harsh\")"
   ]
  },
  {
   "cell_type": "markdown",
   "metadata": {},
   "source": [
    "# Doc String:"
   ]
  },
  {
   "cell_type": "markdown",
   "metadata": {},
   "source": [
    "The First string after the function header is called the docstring and is short the documentation string.\n",
    "\n",
    "Although optional, documentation is a good programming practice, always document your code.\n",
    "\n",
    "Doc string will be written in triple quotes so that docstring can extend up to multiple lines."
   ]
  },
  {
   "cell_type": "code",
   "execution_count": null,
   "metadata": {},
   "outputs": [],
   "source": [
    "print(print_name.__doc__) # print docstring of the function."
   ]
  },
  {
   "cell_type": "markdown",
   "metadata": {},
   "source": [
    "# Return Statement:"
   ]
  },
  {
   "cell_type": "markdown",
   "metadata": {},
   "source": [
    "The return statement is used to exit a function and go back form where it was called.\n",
    "\n",
    "syntax:\n",
    "    \n",
    "    return[expression]\n",
    "    \n",
    "The return statement can contain an expression which gets evaluated and the value is returned.\n",
    "\n",
    "if there is no expression in the statement or the return statement itselt in not present inside a function, then the function will return None Object."
   ]
  },
  {
   "cell_type": "code",
   "execution_count": null,
   "metadata": {},
   "outputs": [],
   "source": [
    "def get_sum(lst):\n",
    "    \"\"\"\n",
    "    function returns the sum of all the elements in a list\n",
    "    \"\"\"\n",
    "    #initialize sum\n",
    "    sum = 0\n",
    "    \n",
    "    #iteration over list lst=[10,20,30,40,50,60]\n",
    "    for num in lst:   # num =20\n",
    "        sum += num    # sum  = 10 + 20 = 30\n",
    "    return sum"
   ]
  },
  {
   "cell_type": "code",
   "execution_count": null,
   "metadata": {},
   "outputs": [],
   "source": [
    "s = get_sum([10,20,30,40,50,60])\n",
    "print(s)"
   ]
  },
  {
   "cell_type": "markdown",
   "metadata": {},
   "source": [
    "# How Function work in python:\n",
    "    \n",
    "    \n",
    "                                 get functionName():\n",
    "                                     ..... .....\n",
    "                                     ..... .....\n",
    "                    \n",
    "                    ..... .....\n",
    "                    ..... .....\n",
    "                    functionName();\n",
    "                    ..... .....\n",
    "                    ..... .....\n",
    "                    "
   ]
  },
  {
   "cell_type": "markdown",
   "metadata": {},
   "source": [
    "# Scope and Life Time of Variable:"
   ]
  },
  {
   "cell_type": "markdown",
   "metadata": {},
   "source": [
    " -> Scope of a variable is the portion of a program where the variable is recognized.\n",
    "    \n",
    " -> Variable defined inside a function is not variable from outside. Hence, They have a local scope.\n",
    "\n",
    " -> Lifetime of a varible is the period throughout which the variable exits in the memory.\n",
    "    \n",
    " -> The Lifetime of variable inside a function is as long as the function executes.\n",
    "\n",
    " -> variables are destroyed once we return from the function."
   ]
  },
  {
   "cell_type": "markdown",
   "metadata": {},
   "source": [
    "# Example:"
   ]
  },
  {
   "cell_type": "code",
   "execution_count": 9,
   "metadata": {},
   "outputs": [
    {
     "name": "stdout",
     "output_type": "stream",
     "text": [
      "This is local variable\n",
      "This is global variable\n",
      "This is global variable\n",
      "Harsh raj Singh\n"
     ]
    }
   ],
   "source": [
    "global_var = \"This is global variable\"\n",
    "\n",
    "def test_life_time():\n",
    "        \"\"\"\n",
    "        This function test the life time of a variable\n",
    "        \"\"\"\n",
    "        local_var = \"This is local variable\"\n",
    "        print(local_var)                 # print local variable local_var\n",
    "        \n",
    "        print(global_var)                # print global variable global_var\n",
    "        \n",
    "# calling function\n",
    "test_life_time()\n",
    "\n",
    "# print global variable global_var\n",
    "print(global_var)\n",
    "\n",
    "# print local variable local_var\n",
    "print(local_var)  \n",
    "        "
   ]
  },
  {
   "cell_type": "markdown",
   "metadata": {},
   "source": [
    "# Python Program to Print Highest Common factor(HCF) of two numbers:"
   ]
  },
  {
   "cell_type": "code",
   "execution_count": 13,
   "metadata": {},
   "outputs": [
    {
     "name": "stdout",
     "output_type": "stream",
     "text": [
      "num1: 16\n",
      "num2: 8\n",
      "HCF of 16 and 8 is: 8\n"
     ]
    }
   ],
   "source": [
    "def computeHCF(a,b):    # a = num1   b = num2\n",
    "    \"\"\"\n",
    "    Computing HCF of two numbers\n",
    "    \"\"\"\n",
    "    smaller =  b if a>b else a   # TRUE statement if text expression else False statement # a>b 24>16\n",
    "    \n",
    "    hcf = 1\n",
    "    for i in range(1, smaller+1):        # i = 1,2,3,4---,16,17\n",
    "        if(a % i == 0) and (b % i == 0):   # 24 %16 ==0 and 16%16 == 0\n",
    "            hcf = i                        # hcf = 8\n",
    "    return hcf\n",
    "\n",
    "a = int(input(\"num1: \"))\n",
    "b = int(input(\"num2: \"))\n",
    "\n",
    "print(\"HCF of {0} and {1} is: {2}\".format(a,b, computeHCF(a,b)))"
   ]
  },
  {
   "cell_type": "code",
   "execution_count": null,
   "metadata": {},
   "outputs": [],
   "source": [
    "def power(base,exp):\n",
    "    if exp == 1:\n",
    "        return 1\n",
    "    else:\n",
    "        return base * power(base,exp)\n",
    "#     return base * power((base**exp-1))\n",
    "power(4,4)"
   ]
  },
  {
   "cell_type": "code",
   "execution_count": 3,
   "metadata": {},
   "outputs": [
    {
     "name": "stdout",
     "output_type": "stream",
     "text": [
      "kf\n"
     ]
    }
   ],
   "source": [
    "print(\"kf\")"
   ]
  },
  {
   "cell_type": "code",
   "execution_count": null,
   "metadata": {},
   "outputs": [],
   "source": []
  },
  {
   "cell_type": "code",
   "execution_count": null,
   "metadata": {},
   "outputs": [],
   "source": []
  }
 ],
 "metadata": {
  "kernelspec": {
   "display_name": "Python 3 (ipykernel)",
   "language": "python",
   "name": "python3"
  },
  "language_info": {
   "codemirror_mode": {
    "name": "ipython",
    "version": 3
   },
   "file_extension": ".py",
   "mimetype": "text/x-python",
   "name": "python",
   "nbconvert_exporter": "python",
   "pygments_lexer": "ipython3",
   "version": "3.9.7"
  }
 },
 "nbformat": 4,
 "nbformat_minor": 2
}
