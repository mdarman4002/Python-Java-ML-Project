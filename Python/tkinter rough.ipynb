{
 "cells": [
  {
   "cell_type": "code",
   "execution_count": 2,
   "id": "3935c938",
   "metadata": {},
   "outputs": [
    {
     "ename": "NameError",
     "evalue": "name 'Canvas' is not defined",
     "output_type": "error",
     "traceback": [
      "\u001b[1;31m---------------------------------------------------------------------------\u001b[0m",
      "\u001b[1;31mNameError\u001b[0m                                 Traceback (most recent call last)",
      "\u001b[1;32m~\\AppData\\Local\\Temp/ipykernel_3288/2983174644.py\u001b[0m in \u001b[0;36m<module>\u001b[1;34m\u001b[0m\n\u001b[0;32m      4\u001b[0m \u001b[0mwin\u001b[0m\u001b[1;33m.\u001b[0m\u001b[0mtitle\u001b[0m\u001b[1;33m(\u001b[0m\u001b[1;34m\"Painting by Arman\"\u001b[0m\u001b[1;33m)\u001b[0m\u001b[1;33m\u001b[0m\u001b[1;33m\u001b[0m\u001b[0m\n\u001b[0;32m      5\u001b[0m \u001b[1;33m\u001b[0m\u001b[0m\n\u001b[1;32m----> 6\u001b[1;33m \u001b[0mc\u001b[0m\u001b[1;33m=\u001b[0m\u001b[0mCanvas\u001b[0m\u001b[1;33m(\u001b[0m\u001b[0mwin\u001b[0m\u001b[1;33m,\u001b[0m \u001b[0mheight\u001b[0m\u001b[1;33m=\u001b[0m\u001b[1;36m200\u001b[0m\u001b[1;33m,\u001b[0m \u001b[0mwidth\u001b[0m\u001b[1;33m=\u001b[0m\u001b[1;36m300\u001b[0m\u001b[1;33m,\u001b[0m \u001b[0mbg\u001b[0m\u001b[1;33m=\u001b[0m\u001b[1;34m\"yellow\"\u001b[0m\u001b[1;33m)\u001b[0m\u001b[1;33m\u001b[0m\u001b[1;33m\u001b[0m\u001b[0m\n\u001b[0m\u001b[0;32m      7\u001b[0m \u001b[1;33m\u001b[0m\u001b[0m\n\u001b[0;32m      8\u001b[0m \u001b[0ml\u001b[0m\u001b[1;33m=\u001b[0m\u001b[0mc\u001b[0m\u001b[1;33m.\u001b[0m\u001b[0mcreate_line\u001b[0m\u001b[1;33m(\u001b[0m\u001b[1;36m28\u001b[0m\u001b[1;33m,\u001b[0m\u001b[1;36m53\u001b[0m\u001b[1;33m,\u001b[0m\u001b[1;36m95\u001b[0m\u001b[1;33m,\u001b[0m\u001b[1;36m135\u001b[0m\u001b[1;33m,\u001b[0m \u001b[0mfill\u001b[0m\u001b[1;33m=\u001b[0m\u001b[1;34m\"red\"\u001b[0m\u001b[1;33m)\u001b[0m\u001b[1;33m\u001b[0m\u001b[1;33m\u001b[0m\u001b[0m\n",
      "\u001b[1;31mNameError\u001b[0m: name 'Canvas' is not defined"
     ]
    }
   ],
   "source": [
    "import tkinter as tk\n",
    "from tkinter import ttk\n",
    "win=tk.Tk()\n",
    "win.title(\"Painting by Arman\")\n",
    "\n",
    "c=Canvas(win, height=200, width=300, bg=\"yellow\")\n",
    "\n",
    "l=c.create_line(28,53,95,135, fill=\"red\")\n",
    "\n",
    "o=c.create_oval(0,0,25,35,28,40,0,0, fill=\"blue\")\n",
    "\n",
    "a=c.create_arc(0,0,45,45,34,56, fill=\"green\")\n",
    "\n",
    "c.grid()\n",
    "mailoop()"
   ]
  },
  {
   "cell_type": "code",
   "execution_count": null,
   "id": "090caccf",
   "metadata": {},
   "outputs": [],
   "source": [
    "from tkinter import *\n",
    "\n",
    "\n",
    "root = Tk()\n",
    "\n",
    "C = Canvas(root, bg=\"yellow\",\n",
    "\t\theight=250, width=300)\n",
    "\n",
    "line = C.create_line(108, 120,\n",
    "\t\t\t\t\t320, 40,\n",
    "\t\t\t\t\tfill=\"green\")\n",
    "\n",
    "arc = C.create_arc(180, 150, 80,\n",
    "\t\t\t\t210, start=0,\n",
    "\t\t\t\textent=220,\n",
    "\t\t\t\tfill=\"red\")\n",
    "\n",
    "oval = C.create_oval(80, 30, 140,\n",
    "\t\t\t\t\t150,\n",
    "\t\t\t\t\tfill=\"blue\")\n",
    "\n",
    "C.pack()\n",
    "mainloop()\n"
   ]
  },
  {
   "cell_type": "code",
   "execution_count": null,
   "id": "34e34b5d",
   "metadata": {},
   "outputs": [],
   "source": [
    "import tkinter as tk\n",
    "from tkinter import ttk\n",
    "win=tk.Tk()\n",
    "win.title(\"Button\")\n",
    "\n",
    "label1=tk.Label(win, text=\"Enter your name: \").grid(row=0, column=0, sticky=tk.W)\n",
    "button=tk.Button(win, text=\"click here\", bg=\"blue\",).grid(row=5, column=5)\n",
    "\n",
    "#checkbutton=CheckButton(win, text=\"male\").grid()\n",
    "entry=tk.Entry(win, text=\"Enter your name\").grid(row=0, column=0)\n",
    "canvas=tk.Canvas(win).grid()\n",
    "win.geometry(\"300x300\")\n",
    "win.mainloop()"
   ]
  },
  {
   "cell_type": "markdown",
   "id": "ece656fa",
   "metadata": {},
   "source": [
    "# registration form"
   ]
  },
  {
   "cell_type": "code",
   "execution_count": 3,
   "id": "b5419744",
   "metadata": {},
   "outputs": [
    {
     "ename": "NameError",
     "evalue": "name 'W' is not defined",
     "output_type": "error",
     "traceback": [
      "\u001b[1;31m---------------------------------------------------------------------------\u001b[0m",
      "\u001b[1;31mNameError\u001b[0m                                 Traceback (most recent call last)",
      "\u001b[1;32m~\\AppData\\Local\\Temp/ipykernel_3288/2718170503.py\u001b[0m in \u001b[0;36m<module>\u001b[1;34m\u001b[0m\n\u001b[0;32m      8\u001b[0m \u001b[1;31m#label\u001b[0m\u001b[1;33m\u001b[0m\u001b[1;33m\u001b[0m\u001b[0m\n\u001b[0;32m      9\u001b[0m \u001b[0ml_head\u001b[0m\u001b[1;33m=\u001b[0m\u001b[0mttk\u001b[0m\u001b[1;33m.\u001b[0m\u001b[0mLabel\u001b[0m\u001b[1;33m(\u001b[0m\u001b[0mwin\u001b[0m\u001b[1;33m,\u001b[0m \u001b[0mtext\u001b[0m \u001b[1;33m=\u001b[0m \u001b[1;34m\"Noida institute of Engineering & Technology\"\u001b[0m\u001b[1;33m,\u001b[0m \u001b[0mfont\u001b[0m\u001b[1;33m=\u001b[0m\u001b[1;36m50\u001b[0m \u001b[1;33m)\u001b[0m\u001b[1;33m.\u001b[0m\u001b[0mgrid\u001b[0m\u001b[1;33m(\u001b[0m\u001b[0mrow\u001b[0m\u001b[1;33m=\u001b[0m\u001b[1;36m0\u001b[0m\u001b[1;33m,\u001b[0m \u001b[0mcolumn\u001b[0m\u001b[1;33m=\u001b[0m\u001b[1;36m1\u001b[0m\u001b[1;33m)\u001b[0m\u001b[1;33m\u001b[0m\u001b[1;33m\u001b[0m\u001b[0m\n\u001b[1;32m---> 10\u001b[1;33m \u001b[0ml_name\u001b[0m\u001b[1;33m=\u001b[0m\u001b[0mttk\u001b[0m\u001b[1;33m.\u001b[0m\u001b[0mLabel\u001b[0m\u001b[1;33m(\u001b[0m\u001b[0mwin\u001b[0m\u001b[1;33m,\u001b[0m \u001b[0mtext\u001b[0m \u001b[1;33m=\u001b[0m \u001b[1;34m\"Enter your name: \"\u001b[0m\u001b[1;33m)\u001b[0m\u001b[1;33m.\u001b[0m\u001b[0mgrid\u001b[0m\u001b[1;33m(\u001b[0m\u001b[0mrow\u001b[0m\u001b[1;33m=\u001b[0m\u001b[1;36m1\u001b[0m\u001b[1;33m,\u001b[0m \u001b[0mcolumn\u001b[0m\u001b[1;33m=\u001b[0m\u001b[1;36m0\u001b[0m\u001b[1;33m,\u001b[0m \u001b[0msticky\u001b[0m\u001b[1;33m=\u001b[0m\u001b[0mW\u001b[0m\u001b[1;33m)\u001b[0m\u001b[1;33m\u001b[0m\u001b[1;33m\u001b[0m\u001b[0m\n\u001b[0m\u001b[0;32m     11\u001b[0m \u001b[0ml_colleg\u001b[0m\u001b[1;33m=\u001b[0m\u001b[0mttk\u001b[0m\u001b[1;33m.\u001b[0m\u001b[0mLabel\u001b[0m\u001b[1;33m(\u001b[0m\u001b[0mwin\u001b[0m\u001b[1;33m,\u001b[0m \u001b[0mtext\u001b[0m \u001b[1;33m=\u001b[0m \u001b[1;34m\"Enter your college name: \"\u001b[0m\u001b[1;33m)\u001b[0m\u001b[1;33m.\u001b[0m\u001b[0mgrid\u001b[0m\u001b[1;33m(\u001b[0m\u001b[0mrow\u001b[0m\u001b[1;33m=\u001b[0m\u001b[1;36m2\u001b[0m\u001b[1;33m,\u001b[0m \u001b[0mcolumn\u001b[0m\u001b[1;33m=\u001b[0m\u001b[1;36m0\u001b[0m\u001b[1;33m,\u001b[0m \u001b[0msticky\u001b[0m\u001b[1;33m=\u001b[0m\u001b[0mW\u001b[0m\u001b[1;33m)\u001b[0m\u001b[1;33m\u001b[0m\u001b[1;33m\u001b[0m\u001b[0m\n\u001b[0;32m     12\u001b[0m \u001b[0ml_button\u001b[0m\u001b[1;33m=\u001b[0m\u001b[0mttk\u001b[0m\u001b[1;33m.\u001b[0m\u001b[0mButton\u001b[0m\u001b[1;33m(\u001b[0m\u001b[0mwin\u001b[0m\u001b[1;33m,\u001b[0m \u001b[0mtext\u001b[0m \u001b[1;33m=\u001b[0m \u001b[1;34m\"Submit\"\u001b[0m\u001b[1;33m)\u001b[0m\u001b[1;33m.\u001b[0m\u001b[0mgrid\u001b[0m\u001b[1;33m(\u001b[0m\u001b[0mrow\u001b[0m\u001b[1;33m=\u001b[0m\u001b[1;36m5\u001b[0m\u001b[1;33m,\u001b[0m \u001b[0mcolumn\u001b[0m\u001b[1;33m=\u001b[0m\u001b[1;36m1\u001b[0m\u001b[1;33m,\u001b[0m\u001b[0msticky\u001b[0m\u001b[1;33m=\u001b[0m\u001b[0mW\u001b[0m\u001b[1;33m)\u001b[0m\u001b[1;33m\u001b[0m\u001b[1;33m\u001b[0m\u001b[0m\n",
      "\u001b[1;31mNameError\u001b[0m: name 'W' is not defined"
     ]
    }
   ],
   "source": [
    "import tkinter as tk\n",
    "from tkinter import ttk\n",
    "\n",
    "win=tk.Tk()\n",
    "win.title(\"Registration form\")\n",
    "win.geometry(\"300x300\")\n",
    "\n",
    "#label\n",
    "l_head=ttk.Label(win, text = \"Noida institute of Engineering & Technology\", font=50 ).grid(row=0, column=1)\n",
    "l_name=ttk.Label(win, text = \"Enter your name: \").grid(row=1, column=0, sticky=W)\n",
    "l_colleg=ttk.Label(win, text = \"Enter your college name: \").grid(row=2, column=0, sticky=W)\n",
    "l_button=ttk.Button(win, text = \"Submit\").grid(row=5, column=1,sticky=W)\n",
    "\n",
    "#entry\n",
    "name=ttk.Entry(win).grid(row=1, column=1, sticky=tk.W)\n",
    "#name.focus()\n",
    "college=ttk.Entry(win).grid(row=2, column=1, sticky=tk.W)\n",
    "#button=ttk.Entry(win)\n",
    "\n",
    "frame=Frame(win).grid(sticky=W)\n",
    "\n",
    "button_1= Button(frame, text=\"NIET\",fg=\"blue\",font=50).grid(row=0,column=0)\n",
    "\n",
    "\n",
    "win.mainloop()\n"
   ]
  },
  {
   "cell_type": "markdown",
   "id": "0815ddc8",
   "metadata": {},
   "source": [
    "# frame"
   ]
  },
  {
   "cell_type": "code",
   "execution_count": null,
   "id": "ae57b0d1",
   "metadata": {},
   "outputs": [],
   "source": [
    "import tkinter as tk\n",
    "from tkinter import ttk\n",
    "\n",
    "win=tk.Tk()\n",
    "win.resizable(height=50, width=100)\n",
    "win.title(\"Framing\")\n",
    "\n",
    "label=ttk.Label(win, text=\"Noida institute of engineering and technology\", font=50,).grid(row=0, column=1)\n",
    "\n",
    "frame=Frame(win).grid()\n",
    "b_1=Button(frame, text=\"Mohammad\",fg=\"red\", bg=\"yellow\").grid(row=1,  column=0, sticky=tk.W)\n",
    "b_2=Button(frame, text=\"Arman\",fg=\"red\", bg=\"yellow\").grid(row=1,  column=1, sticky=tk.W)\n",
    "\n",
    "win.resizable(True, True)\n",
    "\n",
    "\n",
    "win.mainloop()\n"
   ]
  },
  {
   "cell_type": "code",
   "execution_count": 4,
   "id": "c9b40bef",
   "metadata": {},
   "outputs": [
    {
     "name": "stderr",
     "output_type": "stream",
     "text": [
      "Exception in Tkinter callback\n",
      "Traceback (most recent call last):\n",
      "  File \"C:\\Users\\DELL\\anaconda3\\lib\\tkinter\\__init__.py\", line 1892, in __call__\n",
      "    return self.func(*args)\n",
      "  File \"C:\\Users\\DELL\\AppData\\Local\\Temp/ipykernel_3288/205305846.py\", line 11, in clicked\n",
      "    l1.configure(text=\"I am arman\")\n",
      "AttributeError: 'NoneType' object has no attribute 'configure'\n",
      "Exception in Tkinter callback\n",
      "Traceback (most recent call last):\n",
      "  File \"C:\\Users\\DELL\\anaconda3\\lib\\tkinter\\__init__.py\", line 1892, in __call__\n",
      "    return self.func(*args)\n",
      "  File \"C:\\Users\\DELL\\AppData\\Local\\Temp/ipykernel_3288/205305846.py\", line 11, in clicked\n",
      "    l1.configure(text=\"I am arman\")\n",
      "AttributeError: 'NoneType' object has no attribute 'configure'\n",
      "Exception in Tkinter callback\n",
      "Traceback (most recent call last):\n",
      "  File \"C:\\Users\\DELL\\anaconda3\\lib\\tkinter\\__init__.py\", line 1892, in __call__\n",
      "    return self.func(*args)\n",
      "  File \"C:\\Users\\DELL\\AppData\\Local\\Temp/ipykernel_3288/205305846.py\", line 11, in clicked\n",
      "    l1.configure(text=\"I am arman\")\n",
      "AttributeError: 'NoneType' object has no attribute 'configure'\n"
     ]
    }
   ],
   "source": [
    "import tkinter as tk\n",
    "from tkinter import ttk\n",
    "\n",
    "win = tk.Tk()\n",
    "win.title(\"niet\")\n",
    "win.geometry(\"250x350\")\n",
    "\n",
    "l1=ttk.Label(win, text=\"I am an Indian\").grid()\n",
    "\n",
    "def clicked():\n",
    "    l1.configure(text=\"I am arman\")\n",
    "    \n",
    "button=ttk.Button(win, text = \"click me\", command=clicked)\n",
    "\n",
    "button.grid(row=0, column=1)\n",
    "\n",
    "win.mainloop()\n"
   ]
  },
  {
   "cell_type": "code",
   "execution_count": null,
   "id": "9dfc1a02",
   "metadata": {},
   "outputs": [],
   "source": [
    "import numpy as np\n",
    "m = np.array([[2,4],[5,4]])\n",
    "m"
   ]
  },
  {
   "cell_type": "code",
   "execution_count": null,
   "id": "59f3bd48",
   "metadata": {},
   "outputs": [],
   "source": [
    "n = np.array([[12,45],[15,4]])\n",
    "n"
   ]
  },
  {
   "cell_type": "code",
   "execution_count": null,
   "id": "c543e2d3",
   "metadata": {},
   "outputs": [],
   "source": [
    "m + n"
   ]
  },
  {
   "cell_type": "code",
   "execution_count": null,
   "id": "0b40325b",
   "metadata": {},
   "outputs": [],
   "source": [
    "m *n"
   ]
  },
  {
   "cell_type": "code",
   "execution_count": null,
   "id": "fd669cc6",
   "metadata": {},
   "outputs": [],
   "source": [
    "a= m + n\n",
    "a.T"
   ]
  },
  {
   "cell_type": "code",
   "execution_count": null,
   "id": "9fb88922",
   "metadata": {},
   "outputs": [],
   "source": [
    "n[0,1]"
   ]
  },
  {
   "cell_type": "code",
   "execution_count": null,
   "id": "fad4e20f",
   "metadata": {},
   "outputs": [],
   "source": [
    "m"
   ]
  },
  {
   "cell_type": "code",
   "execution_count": null,
   "id": "86446583",
   "metadata": {},
   "outputs": [],
   "source": [
    "n"
   ]
  },
  {
   "cell_type": "code",
   "execution_count": null,
   "id": "5224883a",
   "metadata": {},
   "outputs": [],
   "source": [
    "k = np.array([[1,2,3,4]])\n",
    "k"
   ]
  },
  {
   "cell_type": "code",
   "execution_count": null,
   "id": "968c0b34",
   "metadata": {},
   "outputs": [],
   "source": [
    "k[0,1]"
   ]
  },
  {
   "cell_type": "code",
   "execution_count": null,
   "id": "db5ea764",
   "metadata": {},
   "outputs": [],
   "source": [
    "k[0]"
   ]
  },
  {
   "cell_type": "code",
   "execution_count": null,
   "id": "5e809299",
   "metadata": {},
   "outputs": [],
   "source": [
    "k.shape"
   ]
  },
  {
   "cell_type": "code",
   "execution_count": null,
   "id": "f3797c6d",
   "metadata": {},
   "outputs": [],
   "source": [
    "k[0,2] = 4"
   ]
  },
  {
   "cell_type": "code",
   "execution_count": null,
   "id": "3df5b35e",
   "metadata": {},
   "outputs": [],
   "source": [
    "k.size"
   ]
  },
  {
   "cell_type": "code",
   "execution_count": null,
   "id": "2d5d2489",
   "metadata": {},
   "outputs": [],
   "source": [
    "z_matrix = np.zeros((2,3))"
   ]
  },
  {
   "cell_type": "code",
   "execution_count": null,
   "id": "32c4f1ab",
   "metadata": {},
   "outputs": [],
   "source": [
    "z_matrix"
   ]
  },
  {
   "cell_type": "code",
   "execution_count": null,
   "id": "fa4437fe",
   "metadata": {},
   "outputs": [],
   "source": [
    "mat = (np.arange(5),np.arange(5))\n",
    "print(mat)"
   ]
  },
  {
   "cell_type": "code",
   "execution_count": null,
   "id": "5a9f13f1",
   "metadata": {},
   "outputs": [],
   "source": [
    "M = np.arange(5,10,2)\n",
    "print(M)\n"
   ]
  },
  {
   "cell_type": "code",
   "execution_count": null,
   "id": "edad7a94",
   "metadata": {},
   "outputs": [],
   "source": [
    "s = np.linspace(5,10,20)\n",
    "s"
   ]
  },
  {
   "cell_type": "code",
   "execution_count": null,
   "id": "ac6eeb40",
   "metadata": {},
   "outputs": [],
   "source": [
    "i = np.identity(5)\n",
    "i"
   ]
  },
  {
   "cell_type": "code",
   "execution_count": null,
   "id": "de09322c",
   "metadata": {},
   "outputs": [],
   "source": [
    "nul = np.zeros((2,10))\n",
    "nul"
   ]
  },
  {
   "cell_type": "code",
   "execution_count": null,
   "id": "843b4548",
   "metadata": {},
   "outputs": [],
   "source": [
    "print(nul.shape)\n",
    "print(nul.size)"
   ]
  },
  {
   "cell_type": "code",
   "execution_count": null,
   "id": "9361b476",
   "metadata": {},
   "outputs": [],
   "source": [
    "line = np.linspace(0,100,21)\n",
    "line"
   ]
  },
  {
   "cell_type": "code",
   "execution_count": null,
   "id": "4b036da7",
   "metadata": {},
   "outputs": [],
   "source": [
    "emp = np.empty((2,3))\n",
    "emp"
   ]
  },
  {
   "cell_type": "code",
   "execution_count": null,
   "id": "c2a84991",
   "metadata": {},
   "outputs": [],
   "source": [
    "empty = np.empty((2,3))\n",
    "empty"
   ]
  },
  {
   "cell_type": "code",
   "execution_count": null,
   "id": "382feda6",
   "metadata": {},
   "outputs": [],
   "source": [
    "ar = np.arange(64)\n",
    "ar"
   ]
  },
  {
   "cell_type": "code",
   "execution_count": null,
   "id": "5a871f87",
   "metadata": {},
   "outputs": [],
   "source": [
    "print(ar.shape)\n",
    "print(ar.reshape(8,8))\n",
    "print(\"shape\",ar.shape)"
   ]
  },
  {
   "cell_type": "code",
   "execution_count": null,
   "id": "fe509003",
   "metadata": {},
   "outputs": [],
   "source": [
    "ar.shape\n",
    "ar.nbytes"
   ]
  },
  {
   "cell_type": "code",
   "execution_count": null,
   "id": "6098af03",
   "metadata": {},
   "outputs": [],
   "source": [
    "a"
   ]
  },
  {
   "cell_type": "code",
   "execution_count": null,
   "id": "d49cbac6",
   "metadata": {},
   "outputs": [],
   "source": [
    "a.ravel()"
   ]
  },
  {
   "cell_type": "code",
   "execution_count": null,
   "id": "78bc5963",
   "metadata": {},
   "outputs": [],
   "source": [
    "ar.ravel()"
   ]
  },
  {
   "cell_type": "code",
   "execution_count": null,
   "id": "a55db7b5",
   "metadata": {},
   "outputs": [],
   "source": [
    "ar.shape"
   ]
  },
  {
   "cell_type": "code",
   "execution_count": null,
   "id": "ec65ee37",
   "metadata": {},
   "outputs": [],
   "source": [
    "print(a.reshape(1,4))\n",
    "print(a.reshape(4,1))"
   ]
  },
  {
   "cell_type": "code",
   "execution_count": null,
   "id": "e3352bd1",
   "metadata": {},
   "outputs": [],
   "source": [
    "m_1 = ([[1,22,3],[64,54,6],[78,8,94]])\n",
    "m1=np.array(m_1)\n",
    "m1"
   ]
  },
  {
   "cell_type": "code",
   "execution_count": null,
   "id": "d3a7b79a",
   "metadata": {},
   "outputs": [],
   "source": [
    "print(m1.sum(axis = 0))\n",
    "print(m1.sum(axis = 1))"
   ]
  },
  {
   "cell_type": "code",
   "execution_count": null,
   "id": "98ae0adc",
   "metadata": {},
   "outputs": [],
   "source": [
    "m1.argmin()\n",
    "m1.argmax()\n",
    "m1.nbytes\n",
    "m1.argsort()"
   ]
  },
  {
   "cell_type": "code",
   "execution_count": null,
   "id": "4a379db0",
   "metadata": {},
   "outputs": [],
   "source": [
    "print(m1)\n",
    "print(m1.argsort())\n",
    "print(m1.ravel())"
   ]
  },
  {
   "cell_type": "code",
   "execution_count": null,
   "id": "c680ff29",
   "metadata": {},
   "outputs": [],
   "source": [
    "m1.ravel()"
   ]
  },
  {
   "cell_type": "code",
   "execution_count": null,
   "id": "90f9a442",
   "metadata": {},
   "outputs": [],
   "source": [
    "m1.argmax(axis = 0)"
   ]
  },
  {
   "cell_type": "code",
   "execution_count": null,
   "id": "623b2f2e",
   "metadata": {},
   "outputs": [],
   "source": [
    "(m1.argsort())"
   ]
  },
  {
   "cell_type": "code",
   "execution_count": null,
   "id": "077bcba6",
   "metadata": {},
   "outputs": [],
   "source": [
    "m1.ravel()"
   ]
  },
  {
   "cell_type": "code",
   "execution_count": null,
   "id": "0ddde23a",
   "metadata": {},
   "outputs": [],
   "source": [
    "np.sqrt(m1)\n"
   ]
  },
  {
   "cell_type": "code",
   "execution_count": null,
   "id": "36bd4058",
   "metadata": {},
   "outputs": [],
   "source": [
    "print(m1)\n",
    "print(np.where(m1 > 50))"
   ]
  },
  {
   "cell_type": "code",
   "execution_count": 2,
   "id": "8253181f",
   "metadata": {},
   "outputs": [],
   "source": [
    "import numpy as np\n",
    "import pandas as pd\n"
   ]
  },
  {
   "cell_type": "code",
   "execution_count": 3,
   "id": "7382ed5d",
   "metadata": {},
   "outputs": [],
   "source": [
    "dict1= {\n",
    "    \n",
    "    \"Subject\":['Math',\"Physics\",\"Chemistry\"],\n",
    "    \"Marks\":[89,91,65]\n",
    "    \n",
    "}"
   ]
  },
  {
   "cell_type": "code",
   "execution_count": 4,
   "id": "95dfdf11",
   "metadata": {},
   "outputs": [],
   "source": [
    "df = pd.DataFrame(dict1)"
   ]
  },
  {
   "cell_type": "code",
   "execution_count": 5,
   "id": "9bef7e3d",
   "metadata": {},
   "outputs": [
    {
     "data": {
      "text/html": [
       "<div>\n",
       "<style scoped>\n",
       "    .dataframe tbody tr th:only-of-type {\n",
       "        vertical-align: middle;\n",
       "    }\n",
       "\n",
       "    .dataframe tbody tr th {\n",
       "        vertical-align: top;\n",
       "    }\n",
       "\n",
       "    .dataframe thead th {\n",
       "        text-align: right;\n",
       "    }\n",
       "</style>\n",
       "<table border=\"1\" class=\"dataframe\">\n",
       "  <thead>\n",
       "    <tr style=\"text-align: right;\">\n",
       "      <th></th>\n",
       "      <th>Subject</th>\n",
       "      <th>Marks</th>\n",
       "    </tr>\n",
       "  </thead>\n",
       "  <tbody>\n",
       "    <tr>\n",
       "      <th>0</th>\n",
       "      <td>Math</td>\n",
       "      <td>89</td>\n",
       "    </tr>\n",
       "    <tr>\n",
       "      <th>1</th>\n",
       "      <td>Physics</td>\n",
       "      <td>91</td>\n",
       "    </tr>\n",
       "    <tr>\n",
       "      <th>2</th>\n",
       "      <td>Chemistry</td>\n",
       "      <td>65</td>\n",
       "    </tr>\n",
       "  </tbody>\n",
       "</table>\n",
       "</div>"
      ],
      "text/plain": [
       "     Subject  Marks\n",
       "0       Math     89\n",
       "1    Physics     91\n",
       "2  Chemistry     65"
      ]
     },
     "execution_count": 5,
     "metadata": {},
     "output_type": "execute_result"
    }
   ],
   "source": [
    "df  #df = pd.DataFrame(dict1)"
   ]
  },
  {
   "cell_type": "code",
   "execution_count": 6,
   "id": "fea70237",
   "metadata": {},
   "outputs": [
    {
     "data": {
      "text/plain": [
       "Subject    Physics\n",
       "Marks           91\n",
       "dtype: object"
      ]
     },
     "execution_count": 6,
     "metadata": {},
     "output_type": "execute_result"
    }
   ],
   "source": [
    "df.max()"
   ]
  },
  {
   "cell_type": "code",
   "execution_count": 7,
   "id": "da614a60",
   "metadata": {},
   "outputs": [
    {
     "data": {
      "text/html": [
       "<div>\n",
       "<style scoped>\n",
       "    .dataframe tbody tr th:only-of-type {\n",
       "        vertical-align: middle;\n",
       "    }\n",
       "\n",
       "    .dataframe tbody tr th {\n",
       "        vertical-align: top;\n",
       "    }\n",
       "\n",
       "    .dataframe thead th {\n",
       "        text-align: right;\n",
       "    }\n",
       "</style>\n",
       "<table border=\"1\" class=\"dataframe\">\n",
       "  <thead>\n",
       "    <tr style=\"text-align: right;\">\n",
       "      <th></th>\n",
       "      <th>Subject</th>\n",
       "      <th>Marks</th>\n",
       "    </tr>\n",
       "  </thead>\n",
       "  <tbody>\n",
       "    <tr>\n",
       "      <th>0</th>\n",
       "      <td>Math</td>\n",
       "      <td>89</td>\n",
       "    </tr>\n",
       "    <tr>\n",
       "      <th>1</th>\n",
       "      <td>Physics</td>\n",
       "      <td>91</td>\n",
       "    </tr>\n",
       "  </tbody>\n",
       "</table>\n",
       "</div>"
      ],
      "text/plain": [
       "   Subject  Marks\n",
       "0     Math     89\n",
       "1  Physics     91"
      ]
     },
     "execution_count": 7,
     "metadata": {},
     "output_type": "execute_result"
    }
   ],
   "source": [
    "df.head(2)"
   ]
  },
  {
   "cell_type": "code",
   "execution_count": 8,
   "id": "f5f65e70",
   "metadata": {},
   "outputs": [],
   "source": [
    "df.to_csv(\"marks_arman.csv\",index=False)"
   ]
  },
  {
   "cell_type": "code",
   "execution_count": 10,
   "id": "5d9985f8",
   "metadata": {},
   "outputs": [
    {
     "data": {
      "text/html": [
       "<div>\n",
       "<style scoped>\n",
       "    .dataframe tbody tr th:only-of-type {\n",
       "        vertical-align: middle;\n",
       "    }\n",
       "\n",
       "    .dataframe tbody tr th {\n",
       "        vertical-align: top;\n",
       "    }\n",
       "\n",
       "    .dataframe thead th {\n",
       "        text-align: right;\n",
       "    }\n",
       "</style>\n",
       "<table border=\"1\" class=\"dataframe\">\n",
       "  <thead>\n",
       "    <tr style=\"text-align: right;\">\n",
       "      <th></th>\n",
       "      <th>Subject</th>\n",
       "      <th>Marks</th>\n",
       "    </tr>\n",
       "  </thead>\n",
       "  <tbody>\n",
       "    <tr>\n",
       "      <th>0</th>\n",
       "      <td>Math</td>\n",
       "      <td>89</td>\n",
       "    </tr>\n",
       "    <tr>\n",
       "      <th>1</th>\n",
       "      <td>Physics</td>\n",
       "      <td>91</td>\n",
       "    </tr>\n",
       "    <tr>\n",
       "      <th>2</th>\n",
       "      <td>Chemistry</td>\n",
       "      <td>65</td>\n",
       "    </tr>\n",
       "  </tbody>\n",
       "</table>\n",
       "</div>"
      ],
      "text/plain": [
       "     Subject  Marks\n",
       "0       Math     89\n",
       "1    Physics     91\n",
       "2  Chemistry     65"
      ]
     },
     "execution_count": 10,
     "metadata": {},
     "output_type": "execute_result"
    }
   ],
   "source": [
    "file = pd.read_csv(\"marks_arman.csv\")\n",
    "file"
   ]
  },
  {
   "cell_type": "code",
   "execution_count": 14,
   "id": "70498884",
   "metadata": {},
   "outputs": [
    {
     "data": {
      "text/html": [
       "<div>\n",
       "<style scoped>\n",
       "    .dataframe tbody tr th:only-of-type {\n",
       "        vertical-align: middle;\n",
       "    }\n",
       "\n",
       "    .dataframe tbody tr th {\n",
       "        vertical-align: top;\n",
       "    }\n",
       "\n",
       "    .dataframe thead th {\n",
       "        text-align: right;\n",
       "    }\n",
       "</style>\n",
       "<table border=\"1\" class=\"dataframe\">\n",
       "  <thead>\n",
       "    <tr style=\"text-align: right;\">\n",
       "      <th></th>\n",
       "      <th>Subject</th>\n",
       "      <th>Marks</th>\n",
       "    </tr>\n",
       "  </thead>\n",
       "  <tbody>\n",
       "    <tr>\n",
       "      <th>first</th>\n",
       "      <td>Math</td>\n",
       "      <td>89</td>\n",
       "    </tr>\n",
       "    <tr>\n",
       "      <th>second</th>\n",
       "      <td>Physics</td>\n",
       "      <td>91</td>\n",
       "    </tr>\n",
       "    <tr>\n",
       "      <th>third</th>\n",
       "      <td>Chemistry</td>\n",
       "      <td>65</td>\n",
       "    </tr>\n",
       "  </tbody>\n",
       "</table>\n",
       "</div>"
      ],
      "text/plain": [
       "          Subject  Marks\n",
       "first        Math     89\n",
       "second    Physics     91\n",
       "third   Chemistry     65"
      ]
     },
     "execution_count": 14,
     "metadata": {},
     "output_type": "execute_result"
    }
   ],
   "source": [
    "file.index=[\"first\",\"second\",\"third\"]\n",
    "file"
   ]
  },
  {
   "cell_type": "code",
   "execution_count": 17,
   "id": "1014fe96",
   "metadata": {},
   "outputs": [],
   "source": [
    "import numpy as np\n",
    "import pandas as pd"
   ]
  },
  {
   "cell_type": "code",
   "execution_count": 19,
   "id": "197e63d1",
   "metadata": {},
   "outputs": [],
   "source": [
    "dict2 = {\n",
    "    \"Name\":[\"Mohammad Firdosh\",\"Mohammad Arman\", \"Mohammad Wasim\", \"Reshman Khatoon,\",\"Saniya Khatoon\",\"Mohammad Faishal\",\"Fariya Khatoon\",\"Aafreen Khatoon\",\"Samreen\"],\n",
    "    \"Age\":[19,18,17,16,15,14,12,10,9],\n",
    "    \"Persue\":[\"Hafiz\",\"B.tech\",\"I.A\",\"B.A\",\"B.A\",\"Amu 9th\",\"7th class\",\"5th class\",\"4th class\"]\n",
    "    \n",
    "}"
   ]
  },
  {
   "cell_type": "code",
   "execution_count": 20,
   "id": "3c9ff2cc",
   "metadata": {},
   "outputs": [
    {
     "data": {
      "text/html": [
       "<div>\n",
       "<style scoped>\n",
       "    .dataframe tbody tr th:only-of-type {\n",
       "        vertical-align: middle;\n",
       "    }\n",
       "\n",
       "    .dataframe tbody tr th {\n",
       "        vertical-align: top;\n",
       "    }\n",
       "\n",
       "    .dataframe thead th {\n",
       "        text-align: right;\n",
       "    }\n",
       "</style>\n",
       "<table border=\"1\" class=\"dataframe\">\n",
       "  <thead>\n",
       "    <tr style=\"text-align: right;\">\n",
       "      <th></th>\n",
       "      <th>Name</th>\n",
       "      <th>Age</th>\n",
       "      <th>Persue</th>\n",
       "    </tr>\n",
       "  </thead>\n",
       "  <tbody>\n",
       "    <tr>\n",
       "      <th>0</th>\n",
       "      <td>Mohammad Firdosh</td>\n",
       "      <td>19</td>\n",
       "      <td>Hafiz</td>\n",
       "    </tr>\n",
       "    <tr>\n",
       "      <th>1</th>\n",
       "      <td>Mohammad Arman</td>\n",
       "      <td>18</td>\n",
       "      <td>B.tech</td>\n",
       "    </tr>\n",
       "    <tr>\n",
       "      <th>2</th>\n",
       "      <td>Mohammad Wasim</td>\n",
       "      <td>17</td>\n",
       "      <td>I.A</td>\n",
       "    </tr>\n",
       "    <tr>\n",
       "      <th>3</th>\n",
       "      <td>Reshman Khatoon,</td>\n",
       "      <td>16</td>\n",
       "      <td>B.A</td>\n",
       "    </tr>\n",
       "    <tr>\n",
       "      <th>4</th>\n",
       "      <td>Saniya Khatoon</td>\n",
       "      <td>15</td>\n",
       "      <td>B.A</td>\n",
       "    </tr>\n",
       "    <tr>\n",
       "      <th>5</th>\n",
       "      <td>Mohammad Faishal</td>\n",
       "      <td>14</td>\n",
       "      <td>Amu 9th</td>\n",
       "    </tr>\n",
       "    <tr>\n",
       "      <th>6</th>\n",
       "      <td>Fariya Khatoon</td>\n",
       "      <td>12</td>\n",
       "      <td>7th class</td>\n",
       "    </tr>\n",
       "    <tr>\n",
       "      <th>7</th>\n",
       "      <td>Aafreen Khatoon</td>\n",
       "      <td>10</td>\n",
       "      <td>5th class</td>\n",
       "    </tr>\n",
       "    <tr>\n",
       "      <th>8</th>\n",
       "      <td>Samreen</td>\n",
       "      <td>9</td>\n",
       "      <td>4th class</td>\n",
       "    </tr>\n",
       "  </tbody>\n",
       "</table>\n",
       "</div>"
      ],
      "text/plain": [
       "               Name  Age     Persue\n",
       "0  Mohammad Firdosh   19      Hafiz\n",
       "1    Mohammad Arman   18     B.tech\n",
       "2    Mohammad Wasim   17        I.A\n",
       "3  Reshman Khatoon,   16        B.A\n",
       "4    Saniya Khatoon   15        B.A\n",
       "5  Mohammad Faishal   14    Amu 9th\n",
       "6    Fariya Khatoon   12  7th class\n",
       "7   Aafreen Khatoon   10  5th class\n",
       "8           Samreen    9  4th class"
      ]
     },
     "execution_count": 20,
     "metadata": {},
     "output_type": "execute_result"
    }
   ],
   "source": [
    "dict2file = pd.DataFrame(dict2)\n",
    "dict2file"
   ]
  },
  {
   "cell_type": "code",
   "execution_count": 30,
   "id": "7e9c9662",
   "metadata": {},
   "outputs": [
    {
     "data": {
      "text/html": [
       "<div>\n",
       "<style scoped>\n",
       "    .dataframe tbody tr th:only-of-type {\n",
       "        vertical-align: middle;\n",
       "    }\n",
       "\n",
       "    .dataframe tbody tr th {\n",
       "        vertical-align: top;\n",
       "    }\n",
       "\n",
       "    .dataframe thead th {\n",
       "        text-align: right;\n",
       "    }\n",
       "</style>\n",
       "<table border=\"1\" class=\"dataframe\">\n",
       "  <thead>\n",
       "    <tr style=\"text-align: right;\">\n",
       "      <th></th>\n",
       "      <th>Name</th>\n",
       "      <th>Age</th>\n",
       "      <th>Persue</th>\n",
       "    </tr>\n",
       "  </thead>\n",
       "  <tbody>\n",
       "    <tr>\n",
       "      <th>1</th>\n",
       "      <td>Mohammad Firdosh</td>\n",
       "      <td>19</td>\n",
       "      <td>Hafiz</td>\n",
       "    </tr>\n",
       "    <tr>\n",
       "      <th>2</th>\n",
       "      <td>Mohammad Arman</td>\n",
       "      <td>18</td>\n",
       "      <td>B.tech</td>\n",
       "    </tr>\n",
       "    <tr>\n",
       "      <th>3</th>\n",
       "      <td>Mohammad Wasim</td>\n",
       "      <td>17</td>\n",
       "      <td>I.A</td>\n",
       "    </tr>\n",
       "    <tr>\n",
       "      <th>4</th>\n",
       "      <td>Reshman Khatoon,</td>\n",
       "      <td>16</td>\n",
       "      <td>B.A</td>\n",
       "    </tr>\n",
       "    <tr>\n",
       "      <th>5</th>\n",
       "      <td>Saniya Khatoon</td>\n",
       "      <td>15</td>\n",
       "      <td>B.A</td>\n",
       "    </tr>\n",
       "    <tr>\n",
       "      <th>6</th>\n",
       "      <td>Mohammad Faishal</td>\n",
       "      <td>14</td>\n",
       "      <td>Amu 9th</td>\n",
       "    </tr>\n",
       "    <tr>\n",
       "      <th>7</th>\n",
       "      <td>Fariya Khatoon</td>\n",
       "      <td>12</td>\n",
       "      <td>7th class</td>\n",
       "    </tr>\n",
       "    <tr>\n",
       "      <th>8</th>\n",
       "      <td>Aafreen Khatoon</td>\n",
       "      <td>10</td>\n",
       "      <td>5th class</td>\n",
       "    </tr>\n",
       "    <tr>\n",
       "      <th>9</th>\n",
       "      <td>Samreen</td>\n",
       "      <td>9</td>\n",
       "      <td>4th class</td>\n",
       "    </tr>\n",
       "  </tbody>\n",
       "</table>\n",
       "</div>"
      ],
      "text/plain": [
       "               Name  Age     Persue\n",
       "1  Mohammad Firdosh   19      Hafiz\n",
       "2    Mohammad Arman   18     B.tech\n",
       "3    Mohammad Wasim   17        I.A\n",
       "4  Reshman Khatoon,   16        B.A\n",
       "5    Saniya Khatoon   15        B.A\n",
       "6  Mohammad Faishal   14    Amu 9th\n",
       "7    Fariya Khatoon   12  7th class\n",
       "8   Aafreen Khatoon   10  5th class\n",
       "9           Samreen    9  4th class"
      ]
     },
     "execution_count": 30,
     "metadata": {},
     "output_type": "execute_result"
    }
   ],
   "source": [
    "dict2file.index=[1,2,3,4,5,6,7,8,9]\n",
    "dict2file"
   ]
  },
  {
   "cell_type": "code",
   "execution_count": 56,
   "id": "c57d4561",
   "metadata": {},
   "outputs": [],
   "source": [
    "dict2file.to_csv(\"Family.csv\",index = False)"
   ]
  },
  {
   "cell_type": "code",
   "execution_count": 46,
   "id": "718e2173",
   "metadata": {
    "scrolled": true
   },
   "outputs": [
    {
     "data": {
      "text/plain": [
       "1    Mohammad Firdosh\n",
       "2      Mohammad Arman\n",
       "3      Mohammad Wasim\n",
       "4    Reshman Khatoon,\n",
       "5      Saniya Khatoon\n",
       "6    Mohammad Faishal\n",
       "7      Fariya Khatoon\n",
       "8     Aafreen Khatoon\n",
       "9             Samreen\n",
       "Name: Name, dtype: object"
      ]
     },
     "execution_count": 46,
     "metadata": {},
     "output_type": "execute_result"
    }
   ],
   "source": [
    "dict2file[(\"Name\")]"
   ]
  },
  {
   "cell_type": "code",
   "execution_count": null,
   "id": "8855f577",
   "metadata": {},
   "outputs": [],
   "source": []
  },
  {
   "cell_type": "code",
   "execution_count": 52,
   "id": "d6585216",
   "metadata": {},
   "outputs": [
    {
     "name": "stderr",
     "output_type": "stream",
     "text": [
      "C:\\Users\\DELL\\AppData\\Local\\Temp/ipykernel_11060/1584379606.py:1: SettingWithCopyWarning: \n",
      "A value is trying to be set on a copy of a slice from a DataFrame\n",
      "\n",
      "See the caveats in the documentation: https://pandas.pydata.org/pandas-docs/stable/user_guide/indexing.html#returning-a-view-versus-a-copy\n",
      "  dict2file[\"Age\"][8] = 8\n"
     ]
    }
   ],
   "source": [
    "dict2file[\"Age\"][8] = 8\n"
   ]
  },
  {
   "cell_type": "code",
   "execution_count": 53,
   "id": "2265f5c0",
   "metadata": {},
   "outputs": [
    {
     "data": {
      "text/html": [
       "<div>\n",
       "<style scoped>\n",
       "    .dataframe tbody tr th:only-of-type {\n",
       "        vertical-align: middle;\n",
       "    }\n",
       "\n",
       "    .dataframe tbody tr th {\n",
       "        vertical-align: top;\n",
       "    }\n",
       "\n",
       "    .dataframe thead th {\n",
       "        text-align: right;\n",
       "    }\n",
       "</style>\n",
       "<table border=\"1\" class=\"dataframe\">\n",
       "  <thead>\n",
       "    <tr style=\"text-align: right;\">\n",
       "      <th></th>\n",
       "      <th>Name</th>\n",
       "      <th>Age</th>\n",
       "      <th>Persue</th>\n",
       "    </tr>\n",
       "  </thead>\n",
       "  <tbody>\n",
       "    <tr>\n",
       "      <th>1</th>\n",
       "      <td>Mohammad Firdosh</td>\n",
       "      <td>19</td>\n",
       "      <td>Hafiz</td>\n",
       "    </tr>\n",
       "    <tr>\n",
       "      <th>2</th>\n",
       "      <td>Mohammad Arman</td>\n",
       "      <td>18</td>\n",
       "      <td>B.tech</td>\n",
       "    </tr>\n",
       "    <tr>\n",
       "      <th>3</th>\n",
       "      <td>Mohammad Wasim</td>\n",
       "      <td>17</td>\n",
       "      <td>I.A</td>\n",
       "    </tr>\n",
       "    <tr>\n",
       "      <th>4</th>\n",
       "      <td>Reshman Khatoon,</td>\n",
       "      <td>16</td>\n",
       "      <td>B.A</td>\n",
       "    </tr>\n",
       "    <tr>\n",
       "      <th>5</th>\n",
       "      <td>Saniya Khatoon</td>\n",
       "      <td>15</td>\n",
       "      <td>B.A</td>\n",
       "    </tr>\n",
       "    <tr>\n",
       "      <th>6</th>\n",
       "      <td>Mohammad Faishal</td>\n",
       "      <td>14</td>\n",
       "      <td>Amu 9th</td>\n",
       "    </tr>\n",
       "    <tr>\n",
       "      <th>7</th>\n",
       "      <td>Fariya Khatoon</td>\n",
       "      <td>12</td>\n",
       "      <td>7th class</td>\n",
       "    </tr>\n",
       "    <tr>\n",
       "      <th>8</th>\n",
       "      <td>Aafreen Khatoon</td>\n",
       "      <td>8</td>\n",
       "      <td>5th class</td>\n",
       "    </tr>\n",
       "    <tr>\n",
       "      <th>9</th>\n",
       "      <td>Samreen</td>\n",
       "      <td>8</td>\n",
       "      <td>4th class</td>\n",
       "    </tr>\n",
       "  </tbody>\n",
       "</table>\n",
       "</div>"
      ],
      "text/plain": [
       "               Name  Age     Persue\n",
       "1  Mohammad Firdosh   19      Hafiz\n",
       "2    Mohammad Arman   18     B.tech\n",
       "3    Mohammad Wasim   17        I.A\n",
       "4  Reshman Khatoon,   16        B.A\n",
       "5    Saniya Khatoon   15        B.A\n",
       "6  Mohammad Faishal   14    Amu 9th\n",
       "7    Fariya Khatoon   12  7th class\n",
       "8   Aafreen Khatoon    8  5th class\n",
       "9           Samreen    8  4th class"
      ]
     },
     "execution_count": 53,
     "metadata": {},
     "output_type": "execute_result"
    }
   ],
   "source": [
    "dict2file"
   ]
  },
  {
   "cell_type": "code",
   "execution_count": 55,
   "id": "599ff468",
   "metadata": {},
   "outputs": [
    {
     "data": {
      "text/html": [
       "<div>\n",
       "<style scoped>\n",
       "    .dataframe tbody tr th:only-of-type {\n",
       "        vertical-align: middle;\n",
       "    }\n",
       "\n",
       "    .dataframe tbody tr th {\n",
       "        vertical-align: top;\n",
       "    }\n",
       "\n",
       "    .dataframe thead th {\n",
       "        text-align: right;\n",
       "    }\n",
       "</style>\n",
       "<table border=\"1\" class=\"dataframe\">\n",
       "  <thead>\n",
       "    <tr style=\"text-align: right;\">\n",
       "      <th></th>\n",
       "      <th>Age</th>\n",
       "    </tr>\n",
       "  </thead>\n",
       "  <tbody>\n",
       "    <tr>\n",
       "      <th>count</th>\n",
       "      <td>9.000000</td>\n",
       "    </tr>\n",
       "    <tr>\n",
       "      <th>mean</th>\n",
       "      <td>14.111111</td>\n",
       "    </tr>\n",
       "    <tr>\n",
       "      <th>std</th>\n",
       "      <td>4.044887</td>\n",
       "    </tr>\n",
       "    <tr>\n",
       "      <th>min</th>\n",
       "      <td>8.000000</td>\n",
       "    </tr>\n",
       "    <tr>\n",
       "      <th>25%</th>\n",
       "      <td>12.000000</td>\n",
       "    </tr>\n",
       "    <tr>\n",
       "      <th>50%</th>\n",
       "      <td>15.000000</td>\n",
       "    </tr>\n",
       "    <tr>\n",
       "      <th>75%</th>\n",
       "      <td>17.000000</td>\n",
       "    </tr>\n",
       "    <tr>\n",
       "      <th>max</th>\n",
       "      <td>19.000000</td>\n",
       "    </tr>\n",
       "  </tbody>\n",
       "</table>\n",
       "</div>"
      ],
      "text/plain": [
       "             Age\n",
       "count   9.000000\n",
       "mean   14.111111\n",
       "std     4.044887\n",
       "min     8.000000\n",
       "25%    12.000000\n",
       "50%    15.000000\n",
       "75%    17.000000\n",
       "max    19.000000"
      ]
     },
     "execution_count": 55,
     "metadata": {},
     "output_type": "execute_result"
    }
   ],
   "source": [
    "dict2file.describe()"
   ]
  },
  {
   "cell_type": "code",
   "execution_count": 58,
   "id": "87a25e07",
   "metadata": {},
   "outputs": [
    {
     "data": {
      "text/html": [
       "<div>\n",
       "<style scoped>\n",
       "    .dataframe tbody tr th:only-of-type {\n",
       "        vertical-align: middle;\n",
       "    }\n",
       "\n",
       "    .dataframe tbody tr th {\n",
       "        vertical-align: top;\n",
       "    }\n",
       "\n",
       "    .dataframe thead th {\n",
       "        text-align: right;\n",
       "    }\n",
       "</style>\n",
       "<table border=\"1\" class=\"dataframe\">\n",
       "  <thead>\n",
       "    <tr style=\"text-align: right;\">\n",
       "      <th></th>\n",
       "      <th>Name</th>\n",
       "      <th>Age</th>\n",
       "      <th>Persue</th>\n",
       "    </tr>\n",
       "  </thead>\n",
       "  <tbody>\n",
       "    <tr>\n",
       "      <th>0</th>\n",
       "      <td>Mohammad Firdosh</td>\n",
       "      <td>19</td>\n",
       "      <td>Hafiz</td>\n",
       "    </tr>\n",
       "    <tr>\n",
       "      <th>1</th>\n",
       "      <td>Mohammad Arman</td>\n",
       "      <td>18</td>\n",
       "      <td>B.tech</td>\n",
       "    </tr>\n",
       "    <tr>\n",
       "      <th>2</th>\n",
       "      <td>Mohammad Wasim</td>\n",
       "      <td>17</td>\n",
       "      <td>I.A</td>\n",
       "    </tr>\n",
       "    <tr>\n",
       "      <th>3</th>\n",
       "      <td>Reshman Khatoon,</td>\n",
       "      <td>16</td>\n",
       "      <td>B.A</td>\n",
       "    </tr>\n",
       "    <tr>\n",
       "      <th>4</th>\n",
       "      <td>Saniya Khatoon</td>\n",
       "      <td>15</td>\n",
       "      <td>B.A</td>\n",
       "    </tr>\n",
       "    <tr>\n",
       "      <th>5</th>\n",
       "      <td>Mohammad Faishal</td>\n",
       "      <td>14</td>\n",
       "      <td>Amu 9th</td>\n",
       "    </tr>\n",
       "    <tr>\n",
       "      <th>6</th>\n",
       "      <td>Fariya Khatoon</td>\n",
       "      <td>12</td>\n",
       "      <td>7th class</td>\n",
       "    </tr>\n",
       "    <tr>\n",
       "      <th>7</th>\n",
       "      <td>Aafreen Khatoon</td>\n",
       "      <td>8</td>\n",
       "      <td>5th class</td>\n",
       "    </tr>\n",
       "    <tr>\n",
       "      <th>8</th>\n",
       "      <td>Samreen</td>\n",
       "      <td>8</td>\n",
       "      <td>4th class</td>\n",
       "    </tr>\n",
       "  </tbody>\n",
       "</table>\n",
       "</div>"
      ],
      "text/plain": [
       "               Name  Age     Persue\n",
       "0  Mohammad Firdosh   19      Hafiz\n",
       "1    Mohammad Arman   18     B.tech\n",
       "2    Mohammad Wasim   17        I.A\n",
       "3  Reshman Khatoon,   16        B.A\n",
       "4    Saniya Khatoon   15        B.A\n",
       "5  Mohammad Faishal   14    Amu 9th\n",
       "6    Fariya Khatoon   12  7th class\n",
       "7   Aafreen Khatoon    8  5th class\n",
       "8           Samreen    8  4th class"
      ]
     },
     "execution_count": 58,
     "metadata": {},
     "output_type": "execute_result"
    }
   ],
   "source": [
    "file5 = pd.read_csv(\"Family.csv\")\n",
    "file5"
   ]
  },
  {
   "cell_type": "code",
   "execution_count": 60,
   "id": "131a3099",
   "metadata": {},
   "outputs": [
    {
     "data": {
      "text/html": [
       "<div>\n",
       "<style scoped>\n",
       "    .dataframe tbody tr th:only-of-type {\n",
       "        vertical-align: middle;\n",
       "    }\n",
       "\n",
       "    .dataframe tbody tr th {\n",
       "        vertical-align: top;\n",
       "    }\n",
       "\n",
       "    .dataframe thead th {\n",
       "        text-align: right;\n",
       "    }\n",
       "</style>\n",
       "<table border=\"1\" class=\"dataframe\">\n",
       "  <thead>\n",
       "    <tr style=\"text-align: right;\">\n",
       "      <th></th>\n",
       "      <th>Name</th>\n",
       "      <th>Age</th>\n",
       "      <th>Persue</th>\n",
       "    </tr>\n",
       "  </thead>\n",
       "  <tbody>\n",
       "    <tr>\n",
       "      <th>1</th>\n",
       "      <td>Mohammad Firdosh</td>\n",
       "      <td>19</td>\n",
       "      <td>Hafiz</td>\n",
       "    </tr>\n",
       "    <tr>\n",
       "      <th>2</th>\n",
       "      <td>Mohammad Arman</td>\n",
       "      <td>18</td>\n",
       "      <td>B.tech</td>\n",
       "    </tr>\n",
       "    <tr>\n",
       "      <th>3</th>\n",
       "      <td>Mohammad Wasim</td>\n",
       "      <td>17</td>\n",
       "      <td>I.A</td>\n",
       "    </tr>\n",
       "    <tr>\n",
       "      <th>4</th>\n",
       "      <td>Reshman Khatoon,</td>\n",
       "      <td>16</td>\n",
       "      <td>B.A</td>\n",
       "    </tr>\n",
       "    <tr>\n",
       "      <th>5</th>\n",
       "      <td>Saniya Khatoon</td>\n",
       "      <td>15</td>\n",
       "      <td>B.A</td>\n",
       "    </tr>\n",
       "    <tr>\n",
       "      <th>6</th>\n",
       "      <td>Mohammad Faishal</td>\n",
       "      <td>14</td>\n",
       "      <td>Amu 9th</td>\n",
       "    </tr>\n",
       "    <tr>\n",
       "      <th>7</th>\n",
       "      <td>Fariya Khatoon</td>\n",
       "      <td>12</td>\n",
       "      <td>7th class</td>\n",
       "    </tr>\n",
       "    <tr>\n",
       "      <th>8</th>\n",
       "      <td>Aafreen Khatoon</td>\n",
       "      <td>8</td>\n",
       "      <td>5th class</td>\n",
       "    </tr>\n",
       "    <tr>\n",
       "      <th>9</th>\n",
       "      <td>Samreen</td>\n",
       "      <td>8</td>\n",
       "      <td>4th class</td>\n",
       "    </tr>\n",
       "  </tbody>\n",
       "</table>\n",
       "</div>"
      ],
      "text/plain": [
       "               Name  Age     Persue\n",
       "1  Mohammad Firdosh   19      Hafiz\n",
       "2    Mohammad Arman   18     B.tech\n",
       "3    Mohammad Wasim   17        I.A\n",
       "4  Reshman Khatoon,   16        B.A\n",
       "5    Saniya Khatoon   15        B.A\n",
       "6  Mohammad Faishal   14    Amu 9th\n",
       "7    Fariya Khatoon   12  7th class\n",
       "8   Aafreen Khatoon    8  5th class\n",
       "9           Samreen    8  4th class"
      ]
     },
     "execution_count": 60,
     "metadata": {},
     "output_type": "execute_result"
    }
   ],
   "source": [
    "file5.index = [1,2,3,4,5,6,7,8,9]\n",
    "file5"
   ]
  },
  {
   "cell_type": "code",
   "execution_count": null,
   "id": "71c46cde",
   "metadata": {},
   "outputs": [],
   "source": []
  }
 ],
 "metadata": {
  "kernelspec": {
   "display_name": "Python 3 (ipykernel)",
   "language": "python",
   "name": "python3"
  },
  "language_info": {
   "codemirror_mode": {
    "name": "ipython",
    "version": 3
   },
   "file_extension": ".py",
   "mimetype": "text/x-python",
   "name": "python",
   "nbconvert_exporter": "python",
   "pygments_lexer": "ipython3",
   "version": "3.9.7"
  }
 },
 "nbformat": 4,
 "nbformat_minor": 5
}
