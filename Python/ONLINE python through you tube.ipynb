{
 "cells": [
  {
   "cell_type": "markdown",
   "id": "1d224020",
   "metadata": {},
   "source": [
    "# lecture 12 13 escape sequence"
   ]
  },
  {
   "cell_type": "code",
   "execution_count": null,
   "id": "af5dafff",
   "metadata": {},
   "outputs": [],
   "source": []
  },
  {
   "cell_type": "code",
   "execution_count": 23,
   "id": "7e89c360",
   "metadata": {},
   "outputs": [
    {
     "name": "stdout",
     "output_type": "stream",
     "text": [
      " \\\" \\'\n",
      "this is \\\\ double backslash\n",
      "this is '\\\\' double backslash\n",
      "these are /\\/\\/\\/\\ mountains\n",
      "he is \t awesome (use escape sequence instead of manual)\n",
      "\\\" \\n \\t \\'\n",
      "\\\" \\n \\t \\'\n"
     ]
    }
   ],
   "source": [
    "print(\" \\\\\\\" \\\\\\'\")\n",
    "print(\"this is \\\\\\\\ double backslash\")\n",
    "print(\"this is '\\\\\\\\' double backslash\")\n",
    "print(\"these are /\\/\\/\\/\\ mountains\")\n",
    "print(\"he is \\t awesome (use escape sequence instead of manual)\")\n",
    "print(\"\\\\\"+\"\\\"\",\"\\\\n\",\"\\\\t \\\\'\")\n",
    "print(\"\\\\\\\" \\\\n \\\\t \\\\\\'\")"
   ]
  },
  {
   "cell_type": "markdown",
   "id": "548545e4",
   "metadata": {},
   "source": [
    "# Lecture 15 16 (to print emoji using unicode)"
   ]
  },
  {
   "cell_type": "code",
   "execution_count": 19,
   "id": "c3c58a51",
   "metadata": {},
   "outputs": [
    {
     "name": "stdout",
     "output_type": "stream",
     "text": [
      "line A \\n line B\n",
      "line A \\\\n line B\n",
      "line A \\\" line B\n",
      "😀\n",
      "🜉Ishu\n",
      "🞆\n",
      "🞇\n",
      "🦙\n",
      "😨\n",
      "\n",
      "0.5\n",
      "arman arman arman arman arman \n",
      "arman/2\n"
     ]
    }
   ],
   "source": [
    "print(\"line A \\\\n line B\")\n",
    "print(r\"line A \\\\n line B\")\n",
    "print(r\"line A \\\" line B\")\n",
    "print(\"\\U0001F600\")\n",
    "print(\"\\U0001F709\"+\"Ishu\")\n",
    "print(\"\\U0001F786\")\n",
    "print(\"\\U0001F787\")\n",
    "print(\"\\U0001F999\")\n",
    "print(\"\\U0001F628\")\n",
    "print()\n",
    "print((2+3)*5/2%6)\n",
    "print(\"arman \" * (5))\n",
    "print(\"arman\" + \"/2\")"
   ]
  },
  {
   "cell_type": "code",
   "execution_count": null,
   "id": "6feb737d",
   "metadata": {},
   "outputs": [],
   "source": []
  },
  {
   "cell_type": "code",
   "execution_count": 5,
   "id": "f3f1be20",
   "metadata": {},
   "outputs": [
    {
     "ename": "SyntaxError",
     "evalue": "unexpected EOF while parsing (Temp/ipykernel_11260/4016729717.py, line 5)",
     "output_type": "error",
     "traceback": [
      "\u001b[1;36m  File \u001b[1;32m\"C:\\Users\\DELL\\AppData\\Local\\Temp/ipykernel_11260/4016729717.py\"\u001b[1;36m, line \u001b[1;32m5\u001b[0m\n\u001b[1;33m    #print(\"hello\",name,\"your age is\",age)\u001b[0m\n\u001b[1;37m                                          ^\u001b[0m\n\u001b[1;31mSyntaxError\u001b[0m\u001b[1;31m:\u001b[0m unexpected EOF while parsing\n"
     ]
    }
   ],
   "source": [
    "name,age=\"arman\",\"18\"\n",
    "print(\"hello \"+ name + \" your age is \"+ str(age)\n",
    "#print(\"hello {0} your age is {1}\".format(name,age + 1))\n",
    "#print(f\"hello {name} your age is {age }\") # clean\n",
    "#print(\"hello\",name,\"your age is\",age)"
   ]
  },
  {
   "cell_type": "code",
   "execution_count": 6,
   "id": "fef5ab63",
   "metadata": {},
   "outputs": [
    {
     "name": "stdout",
     "output_type": "stream",
     "text": [
      "6\n"
     ]
    }
   ],
   "source": [
    "a=b=c=2\n",
    "print(a+b+c)"
   ]
  },
  {
   "cell_type": "code",
   "execution_count": 69,
   "id": "643acc6d",
   "metadata": {},
   "outputs": [
    {
     "name": "stdout",
     "output_type": "stream",
     "text": [
      "enter first num: 2\n",
      "enter second num: 2\n",
      "enter third num: 2\n",
      "<class 'float'>\n",
      "avg of these three numbers are 2\n"
     ]
    }
   ],
   "source": [
    "a=int(input(\"enter first num: \"))\n",
    "b=int(input(\"enter second num: \"))\n",
    "c=int(input(\"enter third num: \"))\n",
    "avg=(a+b+c)/3\n",
    "avg1=int(avg)\n",
    "print(type(avg))\n",
    "print(f\"avg of these three numbers are {avg1}\")"
   ]
  },
  {
   "cell_type": "code",
   "execution_count": 46,
   "id": "4b4f1e69",
   "metadata": {},
   "outputs": [
    {
     "name": "stdout",
     "output_type": "stream",
     "text": [
      "enter your name and age: Mohammand Arman , 18\n",
      "your name Mohammand Arman \n",
      "your age  18\n"
     ]
    }
   ],
   "source": [
    "name,age=input(\"enter your name and age: \").split(',')\n",
    "print(\"your name \",name)\n",
    "print(\"your age\",age)"
   ]
  },
  {
   "cell_type": "code",
   "execution_count": 76,
   "id": "b39db70a",
   "metadata": {},
   "outputs": [
    {
     "name": "stdout",
     "output_type": "stream",
     "text": [
      "n \n",
      "\n",
      "n \n",
      "\n",
      "n \n",
      "\n",
      "n \n",
      "\n",
      "n \n",
      "\n",
      "n \n",
      "\n"
     ]
    }
   ],
   "source": [
    "a=\"python\"\n",
    "#print(a[2])\n",
    "for i in a:\n",
    "    print(a[-1],\"\\n\")"
   ]
  },
  {
   "cell_type": "code",
   "execution_count": 4,
   "id": "d597ff97",
   "metadata": {},
   "outputs": [
    {
     "name": "stdout",
     "output_type": "stream",
     "text": [
      "[2, 4, 6, 8]\n"
     ]
    }
   ],
   "source": [
    "\n",
    "a=[1,2,3,4,5,6,7,8,9]\n",
    "b=list(filter(lambda x:(x%2==0),a))\n",
    "print(b)"
   ]
  },
  {
   "cell_type": "code",
   "execution_count": 39,
   "id": "b377b17f",
   "metadata": {},
   "outputs": [
    {
     "name": "stdout",
     "output_type": "stream",
     "text": [
      "[1, 4, 9, 16, 25, 36, 49, 64, 81]\n"
     ]
    }
   ],
   "source": [
    "a=[1,2,3,4,5,6,7,8,9]\n",
    "b=list(map(lambda x:(x**2),a))\n",
    "print(b)"
   ]
  },
  {
   "cell_type": "code",
   "execution_count": 8,
   "id": "f299e659",
   "metadata": {},
   "outputs": [
    {
     "name": "stdout",
     "output_type": "stream",
     "text": [
      "120\n"
     ]
    }
   ],
   "source": [
    "from functools import reduce\n",
    "a=[1,2,3,5,4]\n",
    "b=reduce(lambda x,y:x*y,a)\n",
    "print(b)"
   ]
  },
  {
   "cell_type": "markdown",
   "id": "f578866e",
   "metadata": {},
   "source": [
    "# lecture 26 to 33"
   ]
  },
  {
   "cell_type": "code",
   "execution_count": 37,
   "id": "3c135062",
   "metadata": {},
   "outputs": [
    {
     "name": "stdout",
     "output_type": "stream",
     "text": [
      "I Am Mohammad Arman, Persuing B.Tech From Noida ,Niet College. My College Is Autonomous And Also A Grade And All Over Rank In  India In Phrmacy Is 43Rd\n",
      "I AM MOHAMMAD ARMAN, PERSUING B.TECH FROM NOIDA ,NIET COLLEGE. MY COLLEGE IS AUTONOMOUS AND ALSO A GRADE AND ALL OVER RANK IN  INDIA IN PHRMACY IS 43RD\n",
      "16\n",
      "151\n"
     ]
    }
   ],
   "source": [
    "#a=\"arman csds niet\"\n",
    "#print(a[-3:10])\n",
    "# print(a[:])\n",
    "# print(a[-8:5])\n",
    "# print(a[-4:7])\n",
    "# print(a[::2])\n",
    "# print(a[::-2])\n",
    "#print(\"armannietcsds\"[5: :-3])\n",
    "# print(\"armna\"[2::-1])\n",
    "# print(\"armancsds\"[-1:-5:-1])\n",
    "# print(\"armanfrombihar\"[:])\n",
    "#  a=\"armanfrombihar\"\n",
    "# # b=\"india\"\n",
    "# c=\"bihar\"\n",
    "# print(len(b+c))\n",
    "# print(b.upper())\n",
    "# print(a.lower())\n",
    "# a=input(\"Enter your name:  \")\n",
    "# reverse=a[::-1]\n",
    "# print(reverse)\n",
    "# print(f\"name before slicing {a} and after slicing {reverse}\")\n",
    "# a=len(input(\"Enter your name: \"))\n",
    "# print(f\"lenght of your name is {a}\")\n",
    "a=\"i am mohammad arman, persuing b.tech from noida ,niet college. my college is autonomous and also a grade and all over rank in  india in phrmacy is 43rd\"\n",
    "#a=\"arman\"\n",
    "#print(a.title())\n",
    "#print(\"hi i am arman\",title())\n",
    "# print(a.count(\"a\"))\n",
    "# print(a.count(a))\n",
    "# a=\"hi i am mohammad Arman\"\n",
    "# print(len(a))\n",
    "print(a.title())\n",
    "\n",
    "print(a.upper())\n",
    "print(a.count(\"a\"))\n",
    "print(len(a))"
   ]
  },
  {
   "cell_type": "markdown",
   "id": "c8ab261a",
   "metadata": {},
   "source": [
    "# importan notes"
   ]
  },
  {
   "cell_type": "code",
   "execution_count": 22,
   "id": "9cef38b7",
   "metadata": {},
   "outputs": [
    {
     "name": "stdout",
     "output_type": "stream",
     "text": [
      "['hi i am mohammad Arman', 'i am a nietian']\n",
      "['hi i am mohammad Arman']\n",
      "None\n"
     ]
    }
   ],
   "source": [
    "a=\"hi i am mohammad Arman\".split(\",\")\n",
    "b=\"i am a nietian\".split(\",\")\n",
    "print(a+b)\n",
    "# print(len(a))\n",
    "# print(a.title())\n",
    "# print(a.lower())\n",
    "# print(a.upper())\n",
    "# print(\"m\",a.count(\"m\"))\n",
    "# #print(\"n or i\",a.count(\"n\" or \"i\"))#here count only last one\n",
    "# print(\"n and i\",a.count(\"n\" and 'i'))\n",
    "print(a)\n",
    "print(a.reverse())"
   ]
  },
  {
   "cell_type": "code",
   "execution_count": 48,
   "id": "02e3ead1",
   "metadata": {},
   "outputs": [
    {
     "name": "stdout",
     "output_type": "stream",
     "text": [
      "enter your name: Mohammad Arman\n",
      "choose any character to count:      a\n",
      "14\n",
      "0\n"
     ]
    }
   ],
   "source": [
    "a=input(\"enter your name: \")\n",
    "b=input(\"choose any character to count: \")\n",
    "\n",
    "print(len(a))\n",
    "print(a.count(b))#here to care.don't take string,it's take by default str"
   ]
  },
  {
   "cell_type": "code",
   "execution_count": 2,
   "id": "e565e2f7",
   "metadata": {},
   "outputs": [
    {
     "name": "stdout",
     "output_type": "stream",
     "text": [
      "Enter comma separated name and character:     Arman ,a\n",
      "length of your name is 10\n",
      "character count: 1\n"
     ]
    }
   ],
   "source": [
    "name,char=input(\"Enter comma separated name and character: \").split(\",\")\n",
    "print(f\"length of your name is {len(name)}\")\n",
    "print(f\"character count: {name.count(char)}\")"
   ]
  },
  {
   "cell_type": "code",
   "execution_count": 135,
   "id": "8c7294bc",
   "metadata": {},
   "outputs": [
    {
     "name": "stdout",
     "output_type": "stream",
     "text": [
      "Enter your name with comma sepatated and chr: Arman , a\n",
      "length of your name: 6\n",
      "number of character in your name: 2\n"
     ]
    }
   ],
   "source": [
    "#name,char=input(\"Enter your with comma separated and character: \").replace(\" \", \"\").split(\",\")   \n",
    "name,char=input(\"Enter your name with comma sepatated and chr: \").split(\",\")\n",
    "print(f\"length of your name: {len(name)}\")\n",
    "#print(f\"number of character in your name: {name.lower().count(char.lower())}\")\n",
    "print(f\"number of character in your name: {name.strip().lower().count(char.strip().lower())}\")"
   ]
  },
  {
   "cell_type": "code",
   "execution_count": 25,
   "id": "3118819c",
   "metadata": {},
   "outputs": [
    {
     "name": "stdout",
     "output_type": "stream",
     "text": [
      "24\n",
      "             Arman           ...........  \n",
      "Arman           ...........  \n",
      "             Arman     ...........              Mohammad    Arman   csds   niet   \n",
      "Arman...........Mohammad    Arman   csds   niet\n",
      "MohammadArmancsdsniet\n"
     ]
    }
   ],
   "source": [
    "a=\"             Arman      \"\n",
    "b=\"     ...........  \"\n",
    "c=\"            Mohammad    Arman   csds   niet   \"\n",
    "print(len(a))\n",
    "print(a+b)\n",
    "print(a.lstrip() + b)\n",
    "print(a.rstrip() + b + c)\n",
    "print(a.strip()+b.strip() +c.strip())\n",
    "print(c.replace(\" \",\"\"))\n"
   ]
  },
  {
   "cell_type": "code",
   "execution_count": 18,
   "id": "102fdeb4",
   "metadata": {},
   "outputs": [
    {
     "name": "stdout",
     "output_type": "stream",
     "text": [
      "Enter your teammates name with comma separated and particular player name to search: arman.a,a\n",
      "length of team : 7\n",
      "Team name arman.a\n",
      "number of character is : 3\n"
     ]
    }
   ],
   "source": [
    "team,player=input(\"Enter your teammates name with comma separated and particular player name to search: \").replace(\" \",\"\").split(\",\")\n",
    "print(f\"length of team : {len(team)}\")\n",
    "print(\"Team name\",team)\n",
    "print(f\"number of character is : {team.lower().count(player.lower())}\")"
   ]
  },
  {
   "cell_type": "code",
   "execution_count": 19,
   "id": "db1f03eb",
   "metadata": {},
   "outputs": [
    {
     "name": "stdout",
     "output_type": "stream",
     "text": [
      "    . Arman .+                     ........ hi ..\n",
      "49\n",
      ". Arman .+\n",
      "........ hi ..\n",
      ". Arman .+               ........ hi ..\n"
     ]
    }
   ],
   "source": [
    "a=\"    . Arman .+      \"\n",
    "b=\"               ........ hi ..\"\n",
    "print(a+b)\n",
    "print(len(a+b))\n",
    "print(a.strip())\n",
    "print(b.strip())\n",
    "print(a.strip()+b)"
   ]
  },
  {
   "cell_type": "markdown",
   "id": "17923c5d",
   "metadata": {},
   "source": [
    "# Replace and find"
   ]
  },
  {
   "cell_type": "code",
   "execution_count": 1,
   "id": "e7c4fd14",
   "metadata": {},
   "outputs": [
    {
     "name": "stdout",
     "output_type": "stream",
     "text": [
      "arman_niet_csds_noida\n"
     ]
    }
   ],
   "source": [
    "a=\"arman niet csds noida\"\n",
    "print(a.replace(\" \", \"_\"))"
   ]
  },
  {
   "cell_type": "code",
   "execution_count": 41,
   "id": "8cc3904f",
   "metadata": {},
   "outputs": [
    {
     "name": "stdout",
     "output_type": "stream",
     "text": [
      "7\n",
      "28\n",
      "is she is beautiful and she is good dancer\n",
      "28\n",
      "7\n",
      "42\n"
     ]
    }
   ],
   "source": [
    "# a=\"arman niet noida csds noida\"\n",
    "# # print(a.replace(\"noida\",\"greater noida\",1))\n",
    "# print(a.replace(\" \",\"_\"))\n",
    "# print(a.replace(\"\",\"_\"))\n",
    "# print(a.replace(\"noida\",\"India\",2))\n",
    "# print(a.find(\"niet\"))\n",
    "# b=\"arman niet noida niet\"\n",
    "# print(b.find(\"niet\",4))\n",
    "st=\"is she is beautiful and she is good dancer\"\n",
    "print(st.find(\"is\",2))\n",
    "isf=st.find(\"is\")\n",
    "iss=st.find(\"is\",isf+1)\n",
    "c=st.find(\"is\",2)\n",
    "is3=c+1\n",
    "print(st.find(\"is\",is3))\n",
    "print(st)\n",
    "print(st.find(\"is\",iss+1))\n",
    "print(iss)\n",
    "print(len(st))\n",
    "# find=input(\"Enter a string: \")\n",
    "# print(find.find(\"a\",6))\n",
    "# print(a.replace(\"niet\",\"kalasingham\"))"
   ]
  },
  {
   "cell_type": "code",
   "execution_count": 46,
   "id": "9813c34d",
   "metadata": {},
   "outputs": [
    {
     "name": "stdout",
     "output_type": "stream",
     "text": [
      "enter a string with comma separated to find: arman noida from bihar,b\n",
      "-1\n",
      "20\n"
     ]
    }
   ],
   "source": [
    "st,fid=input(\"enter a string with comma separated to find: \").replace(\" \",\"\").split(\",\")\n",
    "print(st.find(\"fid\"))\n",
    "print(len(st+fid))"
   ]
  },
  {
   "cell_type": "code",
   "execution_count": 56,
   "id": "19d3c16f",
   "metadata": {},
   "outputs": [
    {
     "name": "stdout",
     "output_type": "stream",
     "text": [
      "14\n",
      "**Mohammad Arman**\n",
      "Your name: arman\n",
      "**arman**\n"
     ]
    }
   ],
   "source": [
    "name=\"Mohammad Arman\"\n",
    "print(len(name))\n",
    "print(name.center(18,\"*\"))\n",
    "nam=input(\"Your name: \")\n",
    "b=len(nam)+4\n",
    "print(nam.center(b,\"*\"))"
   ]
  },
  {
   "cell_type": "code",
   "execution_count": 24,
   "id": "bbf734d8",
   "metadata": {},
   "outputs": [
    {
     "name": "stdout",
     "output_type": "stream",
     "text": [
      "Enter your name: arman\n",
      "****arman****\n",
      "**arman**\n"
     ]
    }
   ],
   "source": [
    "name=input(\"Enter your name: \")\n",
    "print(name.center(len(name)+8,\"*\"))\n",
    "print(name.center(len(name)+4,\"*\"))\n"
   ]
  },
  {
   "cell_type": "markdown",
   "id": "862f36d8",
   "metadata": {},
   "source": [
    "# string immutable in pyton"
   ]
  },
  {
   "cell_type": "code",
   "execution_count": 82,
   "id": "314bdf63",
   "metadata": {},
   "outputs": [
    {
     "name": "stdout",
     "output_type": "stream",
     "text": [
      "string\n",
      "string is immutable in python\n"
     ]
    },
    {
     "ename": "TypeError",
     "evalue": "'str' object does not support item assignment",
     "output_type": "error",
     "traceback": [
      "\u001b[1;31m---------------------------------------------------------------------------\u001b[0m",
      "\u001b[1;31mTypeError\u001b[0m                                 Traceback (most recent call last)",
      "\u001b[1;32m~\\AppData\\Local\\Temp/ipykernel_11260/2785864695.py\u001b[0m in \u001b[0;36m<module>\u001b[1;34m\u001b[0m\n\u001b[0;32m      5\u001b[0m \u001b[0mstring\u001b[0m\u001b[1;33m+=\u001b[0m\u001b[1;34m\" is immutable in python\"\u001b[0m\u001b[1;33m\u001b[0m\u001b[1;33m\u001b[0m\u001b[0m\n\u001b[0;32m      6\u001b[0m \u001b[0mprint\u001b[0m\u001b[1;33m(\u001b[0m\u001b[0mstring\u001b[0m\u001b[1;33m)\u001b[0m\u001b[1;33m\u001b[0m\u001b[1;33m\u001b[0m\u001b[0m\n\u001b[1;32m----> 7\u001b[1;33m \u001b[0mstring\u001b[0m\u001b[1;33m[\u001b[0m\u001b[1;36m2\u001b[0m\u001b[1;33m]\u001b[0m\u001b[1;33m=\u001b[0m\u001b[1;34m\"T\"\u001b[0m\u001b[1;33m\u001b[0m\u001b[1;33m\u001b[0m\u001b[0m\n\u001b[0m\u001b[0;32m      8\u001b[0m \u001b[0mprint\u001b[0m\u001b[1;33m(\u001b[0m\u001b[0mstring\u001b[0m\u001b[1;33m)\u001b[0m\u001b[1;33m\u001b[0m\u001b[1;33m\u001b[0m\u001b[0m\n",
      "\u001b[1;31mTypeError\u001b[0m: 'str' object does not support item assignment"
     ]
    }
   ],
   "source": [
    "string=\"string\"\n",
    "#print(string.replace(\"t\",\"T\")) # we can replace\n",
    "string.replace(\"r\",\"R\") # after print no changing\n",
    "print(string) \n",
    "string+=\" is immutable in python\"\n",
    "print(string)\n",
    "# string[2]=\"T\"\n",
    "# print(string)"
   ]
  },
  {
   "cell_type": "code",
   "execution_count": 18,
   "id": "051cf500",
   "metadata": {},
   "outputs": [
    {
     "name": "stdout",
     "output_type": "stream",
     "text": [
      "5\n",
      "arman\n",
      "-1\n",
      "11\n"
     ]
    }
   ],
   "source": [
    "a=\"armaweraDHn\"\n",
    "z=\"arman\"\n",
    "e=\"amran\"\n",
    "print(len(e))\n",
    "print(z)\n",
    "#print(a.title())\n",
    "#print(a.find(\"a\",3))\n",
    "b=a.find(\"a\",2)\n",
    "c=b+1\n",
    "print(a.find(a,c))\n",
    "print(len(a))"
   ]
  },
  {
   "cell_type": "code",
   "execution_count": 25,
   "id": "7396ef6e",
   "metadata": {},
   "outputs": [
    {
     "name": "stdout",
     "output_type": "stream",
     "text": [
      "your name; arman\n",
      "Arman\n",
      "5\n",
      "ARMAN\n",
      "_a_r_m_a_n_\n",
      "1\n",
      "ar\n",
      "**arman**\n"
     ]
    }
   ],
   "source": [
    "a=input(\"your name; \")\n",
    "print(a.title())\n",
    "print(len(a))\n",
    "print(a.upper())\n",
    "print(a.replace(\"\",\"_\"))\n",
    "print(a.find(\"r\"))\n",
    "print(a[0:-3:])\n",
    "print(a.center(len(a)+4,\"*\"))"
   ]
  },
  {
   "cell_type": "markdown",
   "id": "fe91c1ca",
   "metadata": {},
   "source": [
    "# if else elif and pass statement"
   ]
  },
  {
   "cell_type": "code",
   "execution_count": 33,
   "id": "623a00b4",
   "metadata": {},
   "outputs": [
    {
     "name": "stdout",
     "output_type": "stream",
     "text": [
      "enter your age: 17\n",
      " you will eligible next year\n"
     ]
    }
   ],
   "source": [
    "a=int(input(\"enter your age: \"))\n",
    "b=18-a\n",
    "\n",
    "if a>=18:\n",
    "#    pass\n",
    "    print(\"you are eligible to vote\")\n",
    "else:\n",
    "    if b==1:\n",
    "        print(f\" you will eligible next year\")\n",
    "    else:\n",
    "        print(f\"you will eligibe after {b} years \")"
   ]
  },
  {
   "cell_type": "code",
   "execution_count": 38,
   "id": "248b2910",
   "metadata": {},
   "outputs": [
    {
     "name": "stdout",
     "output_type": "stream",
     "text": [
      "Enter a number: 10\n",
      "you win\n"
     ]
    }
   ],
   "source": [
    "num=int(input(\"Enter a number: \"))\n",
    "if num==10 :\n",
    "    print(\"you win\")\n",
    "elif 20>=num >10 :\n",
    "    print(\"little high\")\n",
    "elif 20<=num:\n",
    "    print(\"too high\")\n",
    "elif 10>num>=1:    \n",
    "    print(\"little low\")\n",
    "elif num<-1:\n",
    "    print(\"too low\")\n",
    "else:\n",
    "    print(\"try again\")\n"
   ]
  },
  {
   "cell_type": "code",
   "execution_count": 8,
   "id": "a8496da1",
   "metadata": {},
   "outputs": [
    {
     "name": "stdout",
     "output_type": "stream",
     "text": [
      "Enter your name with comma separate and age: arman    , 11\n",
      "You can watch this movie\n"
     ]
    }
   ],
   "source": [
    "name,age=input(\"Enter your name with comma separate and age: \").replace(\" \",\"\").split(\",\")\n",
    "ageint=int(age)\n",
    "\n",
    "if ageint>=10 and name[0]==\"a\" or name[0]==\"A\":\n",
    "    print(\"You can watch this movie\")\n",
    "else:\n",
    "    print(\"You can't watch this movie\")\n"
   ]
  },
  {
   "cell_type": "code",
   "execution_count": 16,
   "id": "9b336b96",
   "metadata": {},
   "outputs": [
    {
     "name": "stdout",
     "output_type": "stream",
     "text": [
      "Enter your name with comma separate and age: Arman02  ,24\n",
      "you can watch\n"
     ]
    }
   ],
   "source": [
    "name,age=input(\"Enter your name with comma separate and age: \").replace(\" \",\"\").split(\",\")\n",
    "ageint=int(age)\n",
    "if ageint>=10 and name.lower()[0]==\"a\":\n",
    "    print(\"you can watch\")\n",
    "else:\n",
    "    print(\"you can't watch\")"
   ]
  },
  {
   "cell_type": "code",
   "execution_count": 22,
   "id": "7775f16e",
   "metadata": {},
   "outputs": [
    {
     "name": "stdout",
     "output_type": "stream",
     "text": [
      "Enter your age: -10\n",
      "Enter only +ve digit\n"
     ]
    }
   ],
   "source": [
    "age=int(input(\"Enter your age: \"))\n",
    "if age==0:\n",
    "    print(\"you can't watch\")\n",
    "elif 1<= age <=3:\n",
    "    print(\"hurray,fee........\")\n",
    "elif 4<= age <=10:\n",
    "    print(\"150 rupees for your ticket\")\n",
    "elif 11<= age <=60:\n",
    "    print(\"250 rupees for your ticket\")\n",
    "elif age >60:\n",
    "    print(\"200 rupees for your ticket\")\n",
    "else:\n",
    "    print(\"Enter only +ve digit\")"
   ]
  },
  {
   "cell_type": "code",
   "execution_count": 36,
   "id": "dbec4827",
   "metadata": {},
   "outputs": [
    {
     "ename": "SyntaxError",
     "evalue": "invalid syntax (Temp/ipykernel_5128/113444587.py, line 2)",
     "output_type": "error",
     "traceback": [
      "\u001b[1;36m  File \u001b[1;32m\"C:\\Users\\DELL\\AppData\\Local\\Temp/ipykernel_5128/113444587.py\"\u001b[1;36m, line \u001b[1;32m2\u001b[0m\n\u001b[1;33m    nam=name''''''.\u001b[0m\n\u001b[1;37m            ^\u001b[0m\n\u001b[1;31mSyntaxError\u001b[0m\u001b[1;31m:\u001b[0m invalid syntax\n"
     ]
    }
   ],
   "source": [
    "name=input(\"enter your name: \")\n",
    "nam=name''''''.\n",
    "if 'a'or 'A' in name:\n",
    "    print(\"a is present in name\")\n",
    "else:\n",
    "    print(\"a isn't present\")"
   ]
  },
  {
   "cell_type": "code",
   "execution_count": 27,
   "id": "1ad4b306",
   "metadata": {},
   "outputs": [
    {
     "name": "stdout",
     "output_type": "stream",
     "text": [
      "Enter your name: arman\n",
      "your name is arman\n"
     ]
    }
   ],
   "source": [
    "a=input(\"Enter your name: \")\n",
    "if a:\n",
    "    print(f\"your name is {a}\")\n",
    "else:\n",
    "    print(\"please enter your name\")"
   ]
  },
  {
   "cell_type": "markdown",
   "id": "c6d7e3a8",
   "metadata": {},
   "source": [
    "# loop"
   ]
  },
  {
   "cell_type": "code",
   "execution_count": 50,
   "id": "7134ea99",
   "metadata": {},
   "outputs": [
    {
     "name": "stdout",
     "output_type": "stream",
     "text": [
      "enter string: arman\n",
      "arman : 1\n",
      "arman : 2\n"
     ]
    }
   ],
   "source": [
    "a=input(\"enter string: \")\n",
    "for i in range(1,3):\n",
    "    #print(a,\",\",a,\",\",a)\n",
    "    print(f\"{a} : {i}\")\n",
    "   #print(a,end=\",\")\n",
    "\n",
    "    #print(len(a))"
   ]
  },
  {
   "cell_type": "code",
   "execution_count": 51,
   "id": "2bc14ffb",
   "metadata": {},
   "outputs": [
    {
     "name": "stdout",
     "output_type": "stream",
     "text": [
      "your name: arman\n",
      "arman : 1\n",
      "arman : 2\n",
      "arman : 3\n"
     ]
    }
   ],
   "source": [
    "a=input(\"your name: \")\n",
    "i=1\n",
    "while i<=3:\n",
    "    #print(a,\",\",a)\n",
    "    print(f\"{a} : {i}\")\n",
    "    i+=1"
   ]
  },
  {
   "cell_type": "code",
   "execution_count": 54,
   "id": "804e655e",
   "metadata": {},
   "outputs": [
    {
     "name": "stdout",
     "output_type": "stream",
     "text": [
      "Enter any number or digit: 10\n",
      "55\n"
     ]
    }
   ],
   "source": [
    "num=int(input('Enter any number or digit: '))\n",
    "i=1\n",
    "s=0\n",
    "while i<=num:\n",
    "    s+=i\n",
    "    i+=1\n",
    "print(s)\n",
    "    \n",
    "    \n",
    "    "
   ]
  },
  {
   "cell_type": "code",
   "execution_count": 75,
   "id": "f7a0d875",
   "metadata": {},
   "outputs": [
    {
     "name": "stdout",
     "output_type": "stream",
     "text": [
      "enter any num: 5\n",
      "sum of first 5 numbers are 15\n"
     ]
    }
   ],
   "source": [
    "s=0\n",
    "num=int(input('enter any num: '))\n",
    "for i in range(1,num+1):\n",
    "    s+=i\n",
    "print(f\"sum of first {num} numbers are {s}\")"
   ]
  },
  {
   "cell_type": "code",
   "execution_count": 5,
   "id": "62676031",
   "metadata": {},
   "outputs": [
    {
     "name": "stdout",
     "output_type": "stream",
     "text": [
      "enter a number: 67\n",
      "13\n"
     ]
    }
   ],
   "source": [
    "n=input(\"enter a number: \")\n",
    "s=0\n",
    "\n",
    "\n",
    "for i in range(0,len(n)):\n",
    "    s=s+int(n[i])\n",
    "print(s)\n",
    "    "
   ]
  },
  {
   "cell_type": "code",
   "execution_count": 67,
   "id": "84fe080c",
   "metadata": {},
   "outputs": [
    {
     "name": "stdout",
     "output_type": "stream",
     "text": [
      "enter a number: 154\n",
      "10\n"
     ]
    }
   ],
   "source": [
    "n=input(\"enter a number: \")\n",
    "s=0\n",
    "i=0\n",
    "while i < len(n):\n",
    "    s=s+int(n[i])\n",
    "    i+=1\n",
    "print(s)"
   ]
  },
  {
   "cell_type": "code",
   "execution_count": 6,
   "id": "506fea17",
   "metadata": {},
   "outputs": [
    {
     "name": "stdout",
     "output_type": "stream",
     "text": [
      "Enter a number:  1548\n",
      "loop 0 1\n",
      "loop 1 6\n",
      "loop 2 10\n",
      "loop 3 18\n",
      "sum of these number: 18\n"
     ]
    }
   ],
   "source": [
    "a=(input(\"Enter a number:  \"))\n",
    "s=0\n",
    "for i in range(0,len(a)):\n",
    "    s+=int(a[i])\n",
    "    print(\"loop\",i,s)\n",
    "print(f\"sum of these number: {s}\")"
   ]
  },
  {
   "cell_type": "code",
   "execution_count": 59,
   "id": "4e756c18",
   "metadata": {
    "scrolled": true
   },
   "outputs": [
    {
     "name": "stdout",
     "output_type": "stream",
     "text": [
      "Enter your name: arman\n",
      "a : 2\n",
      "r : 1\n",
      "m : 1\n",
      "n : 1\n"
     ]
    }
   ],
   "source": [
    "name=input(\"Enter your name: \")\n",
    "temp=\"\"\n",
    "for i in range(0,len(name)):\n",
    "    if name[i] not in temp:\n",
    "        temp=temp+name[i]\n",
    "        print(f\"{name[i]} : {name.count(name[i])}\")\n",
    "                     \n",
    "                     \n",
    "                     "
   ]
  },
  {
   "cell_type": "code",
   "execution_count": 60,
   "id": "116c6e3b",
   "metadata": {},
   "outputs": [
    {
     "name": "stdout",
     "output_type": "stream",
     "text": [
      "Enter your name : arman\n",
      "a : 2\n",
      "r : 1\n",
      "m : 1\n",
      "n : 1\n"
     ]
    }
   ],
   "source": [
    "name=input(\"Enter your name : \")\n",
    "temp=\"\"\n",
    "i=0\n",
    "while i < len(name):\n",
    "    if name[i] not in temp:\n",
    "        temp+=name[i]\n",
    "        print(f\"{name[i]} : {name.count(name[i])}\")\n",
    "    i+=1"
   ]
  },
  {
   "cell_type": "code",
   "execution_count": 65,
   "id": "9982cb5b",
   "metadata": {},
   "outputs": [
    {
     "name": "stdout",
     "output_type": "stream",
     "text": [
      "0 arman\n",
      "hi            \n",
      " \n",
      "1 arman\n",
      "hi            \n",
      " \n",
      "2 arman\n",
      "hi            \n",
      " \n",
      "3 arman\n",
      "hi            \n",
      " \n",
      "4 arman\n",
      "hi            \n",
      " \n"
     ]
    }
   ],
   "source": [
    "for i in range(5):\n",
    "    print(i,\"arman\")\n",
    "    print(\"hi            \\n \")"
   ]
  },
  {
   "cell_type": "code",
   "execution_count": 76,
   "id": "0a8c1097",
   "metadata": {},
   "outputs": [
    {
     "name": "stdout",
     "output_type": "stream",
     "text": [
      "sum of first 10 digit 2\n",
      "sum of first 10 digit 6\n",
      "sum of first 10 digit 12\n",
      "sum of first 10 digit 20\n",
      "sum of first 10 digit 30\n",
      "sum of odd number;  30\n"
     ]
    }
   ],
   "source": [
    "sum=0\n",
    "for i in range(1,11):\n",
    "    if i%2==0:\n",
    "        sum+=i\n",
    "        print(\"sum of first 10 digit\",sum)\n",
    "print(\"sum of odd number; \",sum)"
   ]
  },
  {
   "cell_type": "code",
   "execution_count": 98,
   "id": "496e0089",
   "metadata": {},
   "outputs": [
    {
     "name": "stdout",
     "output_type": "stream",
     "text": [
      "enter a num: 56464\n",
      "sum 25\n"
     ]
    }
   ],
   "source": [
    "num=input(\"enter a num: \")\n",
    "i=0\n",
    "sum=0\n",
    "while i < len(num):\n",
    "    sum=sum+int(num[i])\n",
    "    i+=1\n",
    "print(\"sum\",sum)\n",
    "    \n",
    "    \n",
    "    "
   ]
  },
  {
   "cell_type": "code",
   "execution_count": 95,
   "id": "7f3ceed3",
   "metadata": {},
   "outputs": [
    {
     "name": "stdout",
     "output_type": "stream",
     "text": [
      "enter a num: 564545\n",
      "29\n"
     ]
    }
   ],
   "source": [
    "s=0\n",
    "\n",
    "num=(input(\"enter a num: \"))\n",
    "for i in range(0,len(num)):\n",
    "    s=s+int(num[i])\n",
    "print(s)\n",
    "               "
   ]
  },
  {
   "cell_type": "code",
   "execution_count": 104,
   "id": "d28178f5",
   "metadata": {},
   "outputs": [
    {
     "name": "stdout",
     "output_type": "stream",
     "text": [
      "Enter your name to check : Arman Mohammad\n",
      "A : 1\n",
      "r : 1\n",
      "m : 3\n",
      "a : 3\n",
      "n : 1\n",
      "  : 1\n",
      "M : 1\n",
      "o : 1\n",
      "h : 1\n",
      "d : 1\n"
     ]
    }
   ],
   "source": [
    "name=input(\"Enter your name to check : \")\n",
    "temp=\"\"\n",
    "for i in range(0,len(name)):\n",
    "    if name[i] not in temp:\n",
    "        temp+=name[i]\n",
    "        print(f\"{name[i]} : {name.count(name[i])}\")"
   ]
  },
  {
   "cell_type": "markdown",
   "id": "596e5237",
   "metadata": {},
   "source": [
    "# break and continue"
   ]
  },
  {
   "cell_type": "code",
   "execution_count": 6,
   "id": "76a91783",
   "metadata": {},
   "outputs": [
    {
     "name": "stdout",
     "output_type": "stream",
     "text": [
      "1\n",
      "2\n",
      "3\n",
      "4\n",
      "6\n",
      "7\n",
      "9\n",
      "10\n"
     ]
    }
   ],
   "source": [
    "for i in range(1,11):\n",
    "    if i ==5 or i==8:\n",
    "        continue\n",
    "    print(i)"
   ]
  },
  {
   "cell_type": "code",
   "execution_count": 11,
   "id": "b656aa6b",
   "metadata": {},
   "outputs": [
    {
     "name": "stdout",
     "output_type": "stream",
     "text": [
      "1\n",
      "2\n",
      "3\n",
      "4\n",
      "5\n"
     ]
    }
   ],
   "source": [
    "for i in range(1,11):\n",
    "    if i ==5:\n",
    "        break\n",
    "    print(i)#print before breaking\n",
    "print(i)#print break statement"
   ]
  },
  {
   "cell_type": "code",
   "execution_count": 22,
   "id": "9c102ea3",
   "metadata": {},
   "outputs": [
    {
     "name": "stdout",
     "output_type": "stream",
     "text": [
      "1\n",
      "2\n",
      "3\n",
      "4\n"
     ]
    }
   ],
   "source": [
    "i=0\n",
    "while i<10:\n",
    "    if i==4:\n",
    "        \n",
    "        break\n",
    "    i+=1\n",
    "    \n",
    "    print(i)\n",
    "    "
   ]
  },
  {
   "cell_type": "markdown",
   "id": "255ea7f6",
   "metadata": {},
   "source": [
    "# import random to find guess number from user"
   ]
  },
  {
   "cell_type": "code",
   "execution_count": 3,
   "id": "afcdcd8f",
   "metadata": {},
   "outputs": [
    {
     "name": "stdout",
     "output_type": "stream",
     "text": [
      "Enter a number 1 to 100: 45\n",
      "too high\n",
      "guess again: 7\n",
      "you win,in 2 attempt\n"
     ]
    }
   ],
   "source": [
    "import random\n",
    "winning_number=random.randint(1,100)\n",
    "number=int(input(\"Enter a number 1 to 100: \"))\n",
    "winning_number=7\n",
    "guess=1\n",
    "game_over=False\n",
    "\n",
    "while not game_over:\n",
    "    if number==winning_number:\n",
    "        print(f\"you win,in {guess} attempt\")\n",
    "        game_over=True\n",
    "    else:\n",
    "        if number < winning_number:\n",
    "            print(\"too low\")\n",
    "            #guess+=1\n",
    "            #number=int(input(\"guess again: \"))\n",
    "        else:\n",
    "            print(\"too high\")\n",
    "        guess+=1\n",
    "        number=int(input(\"guess again: \"))\n",
    "            "
   ]
  },
  {
   "cell_type": "code",
   "execution_count": null,
   "id": "27c606e7",
   "metadata": {},
   "outputs": [],
   "source": []
  },
  {
   "cell_type": "code",
   "execution_count": null,
   "id": "d08e0af4",
   "metadata": {},
   "outputs": [],
   "source": [
    "# for i in range(2,11,2):\n",
    "#     print(i)\n",
    "num=input(\"enter a num: \")\n",
    "for i in range(1,int(num)+1,2):\n",
    "      print(f\"odd number {i}: \",i)\n",
    "    "
   ]
  },
  {
   "cell_type": "code",
   "execution_count": 46,
   "id": "6294a893",
   "metadata": {},
   "outputs": [
    {
     "name": "stdout",
     "output_type": "stream",
     "text": [
      "11\n",
      "10\n",
      "9\n",
      "8\n",
      "7\n",
      "6\n",
      "5\n",
      "4\n",
      "3\n",
      "2\n",
      "1\n"
     ]
    }
   ],
   "source": [
    "for i in range(10,0,-1):\n",
    "    print(i)"
   ]
  },
  {
   "cell_type": "markdown",
   "id": "d68d138a",
   "metadata": {},
   "source": [
    "# to add digit a number"
   ]
  },
  {
   "cell_type": "code",
   "execution_count": 53,
   "id": "c995d29a",
   "metadata": {},
   "outputs": [
    {
     "name": "stdout",
     "output_type": "stream",
     "text": [
      "entr a num: 254\n",
      "11\n"
     ]
    }
   ],
   "source": [
    "num=input(\"entr a num: \")\n",
    "s=0\n",
    "for i in num:\n",
    "    s+=int(i)\n",
    "print(s)"
   ]
  },
  {
   "cell_type": "code",
   "execution_count": 55,
   "id": "803b2f1e",
   "metadata": {},
   "outputs": [
    {
     "name": "stdout",
     "output_type": "stream",
     "text": [
      "enter a num: 254\n",
      "2\n",
      "7\n",
      "11\n"
     ]
    }
   ],
   "source": [
    "num=input(\"enter a num: \")\n",
    "s=0\n",
    "for i in range(len(num)):\n",
    "    s+=int(num[i])\n",
    "    print(s)"
   ]
  },
  {
   "cell_type": "code",
   "execution_count": 66,
   "id": "32a45d35",
   "metadata": {},
   "outputs": [
    {
     "name": "stdout",
     "output_type": "stream",
     "text": [
      "enter a number : 15\n",
      "too low\n",
      "guess again: 45\n",
      "too low\n",
      "guess again: 78\n",
      "too high\n",
      "guess again: 46\n",
      "too low\n",
      "guess again: 96\n",
      "too high\n",
      "guess again: 50\n",
      "you win, in 6 attempt\n"
     ]
    }
   ],
   "source": [
    "import random\n",
    "winnig_number=random.randint(1,101)\n",
    "winning_number=50 \n",
    "number=int(input(\"enter a number : \"))\n",
    "game_over=False\n",
    "guess=1\n",
    "while not game_over:\n",
    "    if number == winning_number:\n",
    "        print(f\"you win, in {guess} attempt\")\n",
    "        game_over=True\n",
    "    else:\n",
    "        if number < winnig_number:\n",
    "            print(\"too low\")\n",
    "            guess+=1\n",
    "            number=int(input(\"guess again: \"))\n",
    "        else:\n",
    "            print(\"too high\")\n",
    "            guess+=1\n",
    "            number=int(input(\"guess again: \"))\n",
    "            \n",
    "            \n"
   ]
  },
  {
   "cell_type": "code",
   "execution_count": 68,
   "id": "5eb36d5f",
   "metadata": {},
   "outputs": [
    {
     "name": "stdout",
     "output_type": "stream",
     "text": [
      "1\n",
      "2\n",
      "3\n",
      "4\n",
      "6\n",
      "7\n",
      "9\n",
      "10\n"
     ]
    }
   ],
   "source": [
    "for i in range(1,11):\n",
    "    if i == 5 or i ==8:\n",
    "        continue\n",
    "    print(i)"
   ]
  },
  {
   "cell_type": "markdown",
   "id": "c58f7de8",
   "metadata": {},
   "source": [
    "# function"
   ]
  },
  {
   "cell_type": "code",
   "execution_count": 77,
   "id": "0a218e98",
   "metadata": {},
   "outputs": [
    {
     "name": "stdout",
     "output_type": "stream",
     "text": [
      "12\n"
     ]
    }
   ],
   "source": [
    "def add_(a,b):\n",
    "    return a+b\n",
    "c=4\n",
    "d=8\n",
    "print(add_(c,d))\n",
    "# t=add_(10,58)\n",
    "# print(add_(58,48))\n",
    "# print(t)"
   ]
  },
  {
   "cell_type": "code",
   "execution_count": 84,
   "id": "aba9ba39",
   "metadata": {},
   "outputs": [
    {
     "name": "stdout",
     "output_type": "stream",
     "text": [
      "name1 : aran \n",
      "name2: moh\n",
      "mohammad arman\n"
     ]
    }
   ],
   "source": [
    "def joint(name1,name2):\n",
    "    t=name1+ name2\n",
    "    return t\n",
    "first=input(\"name1 : \")\n",
    "last=input(\"name2: \")\n",
    "print(joint(name1,name2))"
   ]
  },
  {
   "cell_type": "markdown",
   "id": "66f9002d",
   "metadata": {},
   "source": [
    "# simple calculator"
   ]
  },
  {
   "cell_type": "code",
   "execution_count": 90,
   "id": "6f3860b6",
   "metadata": {},
   "outputs": [
    {
     "name": "stdout",
     "output_type": "stream",
     "text": [
      "choose any in one \n",
      " 1:add \n",
      " 2:sub \n",
      " 3:mul\n",
      "first number: 45\n",
      "second number: 7\n",
      "Enter(1,2,3) any one to find : 3\n",
      "315\n"
     ]
    }
   ],
   "source": [
    "def add(a,b):\n",
    "    print(a+b) # we can also use return\n",
    "def sub(a,b):\n",
    "    print(a-b)\n",
    "def mul(a,b):\n",
    "    print(a*b)\n",
    "print(\"choose any in one \\n 1:add \\n 2:sub \\n 3:mul\")\n",
    "\n",
    "a=int(input(\"first number: \"))\n",
    "b=int(input(\"second number: \"))\n",
    "choose=int(input(\"Enter(1,2,3) any one to find : \"))\n",
    "if choose == 1:\n",
    "    add(a,b)\n",
    "elif choose == 2:\n",
    "    sub(a,b)\n",
    "elif choose == 3:\n",
    "    mul(a,b)\n",
    "else:\n",
    "    print(\"please enter right digit\")"
   ]
  },
  {
   "cell_type": "code",
   "execution_count": 116,
   "id": "ef427520",
   "metadata": {},
   "outputs": [
    {
     "name": "stdout",
     "output_type": "stream",
     "text": [
      "m\n"
     ]
    }
   ],
   "source": [
    "def name(a):\n",
    "    return a[6]\n",
    "c=\"hi i am arman\"\n",
    "print(name(a))  "
   ]
  },
  {
   "cell_type": "code",
   "execution_count": 123,
   "id": "068f67d1",
   "metadata": {},
   "outputs": [
    {
     "name": "stdout",
     "output_type": "stream",
     "text": [
      "enter to find even or odd5\n",
      "odd\n"
     ]
    }
   ],
   "source": [
    "def num(a):\n",
    "    if a%2==0:\n",
    "        return\"even\"\n",
    "    else:\n",
    "        return(\"odd\")\n",
    "        \n",
    "a=int(input(\"enter to find even or odd\"))\n",
    "print(num(a))"
   ]
  },
  {
   "cell_type": "code",
   "execution_count": 114,
   "id": "67a4620b",
   "metadata": {},
   "outputs": [
    {
     "name": "stdout",
     "output_type": "stream",
     "text": [
      "m\n"
     ]
    }
   ],
   "source": [
    "def name(a):\n",
    "    return a[6]\n",
    "a=\"hi i am arman\"\n",
    "print(name(a))  "
   ]
  },
  {
   "cell_type": "code",
   "execution_count": 129,
   "id": "fcf72b13",
   "metadata": {},
   "outputs": [
    {
     "name": "stdout",
     "output_type": "stream",
     "text": [
      "enter a num: 5\n",
      "False\n"
     ]
    }
   ],
   "source": [
    "def is_even(num):\n",
    "    if num % 2 == 0:\n",
    "        return True\n",
    "    \n",
    "    return False\n",
    "num=int(input(\"enter a num: \"))\n",
    "print(is_even(num))"
   ]
  },
  {
   "cell_type": "code",
   "execution_count": 134,
   "id": "8d3087b5",
   "metadata": {},
   "outputs": [
    {
     "name": "stdout",
     "output_type": "stream",
     "text": [
      "enter a num : 5\n",
      "False\n",
      "jana gana man\n",
      "jana gana man\n",
      "None\n"
     ]
    }
   ],
   "source": [
    "def even(num):\n",
    "    return num%2 == 0\n",
    "n=int(input(\"enter a num : \"))\n",
    "\n",
    "print(even(num))\n",
    "\n",
    "\n",
    "def song():\n",
    "    print(\"jana gana man\")\n",
    "song()\n",
    "print(song())\n",
    "    "
   ]
  },
  {
   "cell_type": "code",
   "execution_count": 143,
   "id": "5be02eed",
   "metadata": {},
   "outputs": [
    {
     "name": "stdout",
     "output_type": "stream",
     "text": [
      "Enter fist num: 465\n",
      "Enter second num: 6\n",
      "465 is greater than 6\n"
     ]
    }
   ],
   "source": [
    "def greater(num1,num2):\n",
    "    g=(max(num1,num2))\n",
    "    s=min(num1,num2)\n",
    "    print(f\"{g} is greater than {s}\")\n",
    "first=int(input(\"Enter fist num: \"))\n",
    "sec=int(input(\"Enter second num: \"))\n",
    "greater(first,sec)\n"
   ]
  },
  {
   "cell_type": "code",
   "execution_count": 4,
   "id": "9ec55b57",
   "metadata": {},
   "outputs": [
    {
     "name": "stdout",
     "output_type": "stream",
     "text": [
      "Enter a number: 58\n",
      "too high\n",
      "guess again: 55\n",
      "you win , in 2 attempt\n",
      "guess again: 55\n"
     ]
    }
   ],
   "source": [
    "import random\n",
    "winning_number=random.randint(1,100)\n",
    "winning_number=55\n",
    "guess=1\n",
    "number=int(input(\"Enter a number: \"))\n",
    "game_over=False\n",
    "while not game_over:\n",
    "    if number == winning_number:\n",
    "        print(f\"you win , in {guess} attempt\")\n",
    "        game_over=True\n",
    "    else:\n",
    "        if number < winning_number:\n",
    "            print(\"Too low\")\n",
    "                \n",
    "        else:\n",
    "            print(\"too high\")\n",
    "    guess+=1\n",
    "    number=int(input(\"guess again: \"))\n",
    "        \n"
   ]
  },
  {
   "cell_type": "code",
   "execution_count": null,
   "id": "5603491b",
   "metadata": {},
   "outputs": [],
   "source": [
    "import random\n",
    "winnig_number=random.randint(1,100)\n",
    "winnig_number=58\n",
    "number=int(input(\"Enter a number: \"))\n",
    "guess=1\n",
    "game_over=False\n",
    "\n",
    "while not game_over:\n",
    "    if number==winnig_number:\n",
    "        print(f\"you win in only {guess} attempt\")\n",
    "        game_over=True\n",
    "    else:\n",
    "        if number < winning_number:\n",
    "            print(\"too low\")\n",
    "            #guess+=1\n",
    "            #number=int(input(\"again guess: \"))\n",
    "        else:\n",
    "            print(\"too high\")\n",
    "        guess+=1\n",
    "        number=int(input(\"again guess: \"))"
   ]
  },
  {
   "cell_type": "code",
   "execution_count": 2,
   "id": "1d2da41d",
   "metadata": {},
   "outputs": [
    {
     "name": "stdout",
     "output_type": "stream",
     "text": [
      "Enter a number: 65\n",
      "too high\n",
      "again guess: 58\n",
      "you win in only 2 attempt\n"
     ]
    }
   ],
   "source": [
    "\n",
    "import random\n",
    "winnig_number=random.randint(1,100)\n",
    "winnig_number=58\n",
    "number=int(input(\"Enter a number: \"))\n",
    "guess=1\n",
    "game_over=False\n",
    "\n",
    "while not game_over:\n",
    "    if number==winnig_number:\n",
    "        print(f\"you win in only {guess} attempt\")\n",
    "        game_over=True\n",
    "    else:\n",
    "        if number < winning_number:\n",
    "            print(\"too low\")\n",
    "            #guess+=1\n",
    "            #number=int(input(\"again guess: \"))\n",
    "        else:\n",
    "            print(\"too high\")\n",
    "        guess+=1\n",
    "        number=int(input(\"again guess: \"))\n"
   ]
  },
  {
   "cell_type": "markdown",
   "id": "7aab1fdd",
   "metadata": {},
   "source": [
    "# find greatest number among three. using function"
   ]
  },
  {
   "cell_type": "code",
   "execution_count": 6,
   "id": "7940b900",
   "metadata": {},
   "outputs": [
    {
     "name": "stdout",
     "output_type": "stream",
     "text": [
      "Enter first num: 45\n",
      "Enter second num: 84\n",
      "Enter third num: 57\n",
      "84 is greater than 45 and 57\n"
     ]
    }
   ],
   "source": [
    "def greater(num1,num2,num3):\n",
    "    if num1 > num2 and num3:\n",
    "        print(f\"{num1} is greater than {num2} and {num3}\")\n",
    "    elif num2 > num1 and num3:\n",
    "        print(f\"{num2} is greater than {num1} and {num3}\")\n",
    "    else:\n",
    "        print(f\"{num3} is greater than {num1} and {num2}\")\n",
    "a=int(input(\"Enter first num: \"))\n",
    "b=int(input(\"Enter second num: \"))\n",
    "c=int(input(\"Enter third num: \"))\n",
    "greater(a,b,c)"
   ]
  },
  {
   "cell_type": "markdown",
   "id": "00248e56",
   "metadata": {},
   "source": [
    "# palindrome"
   ]
  },
  {
   "cell_type": "code",
   "execution_count": 16,
   "id": "d01f03b0",
   "metadata": {},
   "outputs": [
    {
     "name": "stdout",
     "output_type": "stream",
     "text": [
      "enter a number: 125\n",
      "number is not a palindrome\n",
      "number is not a palindrome\n"
     ]
    }
   ],
   "source": [
    "def pal(num):\n",
    "    a=num[::-1]\n",
    "    \n",
    "    if num==a:\n",
    "        print(\"yes, number is Palindrome\")\n",
    "    else:\n",
    "        print(\"number is not a palindrome\")\n",
    "num=input(\"enter a number: \")\n",
    "pal(num)\n",
    "pal(\"arman\")"
   ]
  },
  {
   "cell_type": "code",
   "execution_count": 23,
   "id": "ef5ad7b7",
   "metadata": {},
   "outputs": [
    {
     "name": "stdout",
     "output_type": "stream",
     "text": [
      "True\n",
      "False\n"
     ]
    }
   ],
   "source": [
    "def pal_num(num):\n",
    "    \n",
    "    \n",
    "    return num == num[::-1] # to check string or number is\n",
    "                        #palindrome or note\n",
    "\n",
    "\n",
    "#num=input(\"Enter a number: \")\n",
    "print(pal_num(\"121\"))\n",
    "print(pal_num(\"arman\"))\n"
   ]
  },
  {
   "cell_type": "markdown",
   "id": "6c10da32",
   "metadata": {},
   "source": [
    "# fibonacci series"
   ]
  },
  {
   "cell_type": "code",
   "execution_count": 26,
   "id": "01c82eeb",
   "metadata": {},
   "outputs": [
    {
     "name": "stdout",
     "output_type": "stream",
     "text": [
      "enter a num: 5\n"
     ]
    },
    {
     "ename": "TypeError",
     "evalue": "unsupported operand type(s) for -: 'str' and 'int'",
     "output_type": "error",
     "traceback": [
      "\u001b[1;31m---------------------------------------------------------------------------\u001b[0m",
      "\u001b[1;31mTypeError\u001b[0m                                 Traceback (most recent call last)",
      "\u001b[1;32m~\\AppData\\Local\\Temp/ipykernel_3704/1059346975.py\u001b[0m in \u001b[0;36m<module>\u001b[1;34m\u001b[0m\n\u001b[0;32m      6\u001b[0m \u001b[0mnterm\u001b[0m\u001b[1;33m=\u001b[0m\u001b[0mint\u001b[0m\u001b[1;33m(\u001b[0m\u001b[0minput\u001b[0m\u001b[1;33m(\u001b[0m\u001b[1;34m'enter a num: '\u001b[0m\u001b[1;33m)\u001b[0m\u001b[1;33m)\u001b[0m\u001b[1;33m\u001b[0m\u001b[1;33m\u001b[0m\u001b[0m\n\u001b[0;32m      7\u001b[0m \u001b[1;32mfor\u001b[0m \u001b[0mi\u001b[0m \u001b[1;32min\u001b[0m \u001b[0mrange\u001b[0m\u001b[1;33m(\u001b[0m\u001b[0mnterm\u001b[0m\u001b[1;33m)\u001b[0m\u001b[1;33m:\u001b[0m\u001b[1;33m\u001b[0m\u001b[1;33m\u001b[0m\u001b[0m\n\u001b[1;32m----> 8\u001b[1;33m     \u001b[0mprint\u001b[0m\u001b[1;33m(\u001b[0m\u001b[0mfibonacci\u001b[0m\u001b[1;33m(\u001b[0m\u001b[0mnum\u001b[0m\u001b[1;33m)\u001b[0m\u001b[1;33m)\u001b[0m\u001b[1;33m\u001b[0m\u001b[1;33m\u001b[0m\u001b[0m\n\u001b[0m",
      "\u001b[1;32m~\\AppData\\Local\\Temp/ipykernel_3704/1059346975.py\u001b[0m in \u001b[0;36mfibonacci\u001b[1;34m(num)\u001b[0m\n\u001b[0;32m      3\u001b[0m         \u001b[1;32mreturn\u001b[0m \u001b[0mnum\u001b[0m\u001b[1;33m\u001b[0m\u001b[1;33m\u001b[0m\u001b[0m\n\u001b[0;32m      4\u001b[0m     \u001b[1;32melse\u001b[0m\u001b[1;33m:\u001b[0m\u001b[1;33m\u001b[0m\u001b[1;33m\u001b[0m\u001b[0m\n\u001b[1;32m----> 5\u001b[1;33m         \u001b[1;32mreturn\u001b[0m \u001b[1;33m(\u001b[0m\u001b[0mfibonacci\u001b[0m\u001b[1;33m(\u001b[0m\u001b[0mnum\u001b[0m\u001b[1;33m-\u001b[0m\u001b[1;36m1\u001b[0m\u001b[1;33m)\u001b[0m \u001b[1;33m+\u001b[0m \u001b[0mfibonacci\u001b[0m\u001b[1;33m(\u001b[0m\u001b[0mnum\u001b[0m\u001b[1;33m-\u001b[0m\u001b[1;36m2\u001b[0m\u001b[1;33m)\u001b[0m\u001b[1;33m)\u001b[0m\u001b[1;33m\u001b[0m\u001b[1;33m\u001b[0m\u001b[0m\n\u001b[0m\u001b[0;32m      6\u001b[0m \u001b[0mnterm\u001b[0m\u001b[1;33m=\u001b[0m\u001b[0mint\u001b[0m\u001b[1;33m(\u001b[0m\u001b[0minput\u001b[0m\u001b[1;33m(\u001b[0m\u001b[1;34m'enter a num: '\u001b[0m\u001b[1;33m)\u001b[0m\u001b[1;33m)\u001b[0m\u001b[1;33m\u001b[0m\u001b[1;33m\u001b[0m\u001b[0m\n\u001b[0;32m      7\u001b[0m \u001b[1;32mfor\u001b[0m \u001b[0mi\u001b[0m \u001b[1;32min\u001b[0m \u001b[0mrange\u001b[0m\u001b[1;33m(\u001b[0m\u001b[0mnterm\u001b[0m\u001b[1;33m)\u001b[0m\u001b[1;33m:\u001b[0m\u001b[1;33m\u001b[0m\u001b[1;33m\u001b[0m\u001b[0m\n",
      "\u001b[1;31mTypeError\u001b[0m: unsupported operand type(s) for -: 'str' and 'int'"
     ]
    }
   ],
   "source": [
    "def fibonacci(num):\n",
    "    if num == 0 or num == 1:\n",
    "        return num\n",
    "    else:\n",
    "        return (fibonacci(num-1) + fibonacci(num-2))\n",
    "nterm=int(input('enter a num: '))\n",
    "for i in range(nterm):\n",
    "    print(fibonacci(num))"
   ]
  },
  {
   "cell_type": "code",
   "execution_count": 33,
   "id": "f830d4c2",
   "metadata": {},
   "outputs": [
    {
     "name": "stdout",
     "output_type": "stream",
     "text": [
      "Enter a num:10\n",
      "1 2 3 5 8 13 21 34 "
     ]
    }
   ],
   "source": [
    "def fibonacci(num):\n",
    "    a=0\n",
    "    b=1\n",
    "    if num == 0:\n",
    "        print(a)\n",
    "    elif num == 1:\n",
    "        print(b)\n",
    "    else:\n",
    "        for i in range(num-2):\n",
    "            c=a+b\n",
    "            a=b\n",
    "            b=c\n",
    "            print(b,end=\" \")\n",
    "num=int(input(\"Enter a num:\"))\n",
    "fibonacci(num)\n",
    "    "
   ]
  },
  {
   "cell_type": "markdown",
   "id": "18158fd3",
   "metadata": {},
   "source": [
    "# default parameter"
   ]
  },
  {
   "cell_type": "code",
   "execution_count": 26,
   "id": "6ecf9268",
   "metadata": {},
   "outputs": [
    {
     "name": "stdout",
     "output_type": "stream",
     "text": [
      "Enter your college name: NIET,Noida\n",
      "Enter your name: Mohammad Arman\n",
      "Enter your cource duration: 4\n",
      "your cource duration is 4 yrs\n",
      "your college name is NIET,Noida\n",
      "your name is Mohammad Arman and you are pursuing B.tech\n"
     ]
    }
   ],
   "source": [
    "# def detail(name,cource=\"b.Tech\"):\n",
    "#     print(f\"your name is {name} and you are pursuing {cource}\")\n",
    "    \n",
    "# name=input(\"enter your name: \")\n",
    "# detail(name)    \n",
    "\n",
    "\n",
    "def detail_college(c_name,s_name,duration,cource=\"B.tech\"):\n",
    "    \n",
    "    print(f\"your cource duration is {duration} yrs\")\n",
    "    print(f\"your college name is {c_name}\")\n",
    "    print(f\"your name is {s_name} and you are pursuing {cource}\")\n",
    "c=input(\"Enter your college name: \")\n",
    "n=input(\"Enter your name: \")\n",
    "d=int(input(\"Enter your cource duration: \"))\n",
    "detail_college(c,n,d)"
   ]
  },
  {
   "cell_type": "markdown",
   "id": "c90d546c",
   "metadata": {},
   "source": [
    "# scope"
   ]
  },
  {
   "cell_type": "code",
   "execution_count": 41,
   "id": "62c67aa4",
   "metadata": {},
   "outputs": [
    {
     "name": "stdout",
     "output_type": "stream",
     "text": [
      "450\n",
      "50\n",
      "50\n",
      "50\n"
     ]
    }
   ],
   "source": [
    "c=450\n",
    "def func():\n",
    "    global x\n",
    "    x=50\n",
    "    print(x)\n",
    "def func1():\n",
    "    print(c)\n",
    "func1()\n",
    "    \n",
    "func()\n",
    "print(x)\n",
    "\n",
    "print(x)"
   ]
  },
  {
   "cell_type": "markdown",
   "id": "8babc66c",
   "metadata": {},
   "source": [
    "# list"
   ]
  },
  {
   "cell_type": "code",
   "execution_count": 75,
   "id": "3c780fb9",
   "metadata": {},
   "outputs": [
    {
     "name": "stdout",
     "output_type": "stream",
     "text": [
      "['apple', 'm', 'a', 'n', 'g', 'o']\n"
     ]
    }
   ],
   "source": [
    "# a=['a',2,\"word\"]\n",
    "# b=[4,5,8,1,2]\n",
    "# mix=['a',2,\"word\",4,5,8.5,1,2]\n",
    "# # print(b)\n",
    "# # print(a)\n",
    "\n",
    "# # print(len(mix))\n",
    "# # print(mix[2:6:2])\n",
    "# #l=lambda()\n",
    "# #mix[1]=\"arman\"\n",
    "# mix[1]=[\"arman\",\"firdosh\",\"wasim\"]\n",
    "# print(mix)\n",
    "# print(mix[:3])\n",
    "# print(len(mix))\n",
    "\n",
    "# # n=None\n",
    "# # print(type(n))\n",
    "# fruits=[\"grapes\",\"apple\",\"mango\"]\n",
    "\n",
    "# fruits.append(\"banana\")\n",
    "# print(fruits)\n",
    "# f=[]\n",
    "# f.append(\"apple\")\n",
    "# f.append(\"banana\")\n",
    "# print(f)\n",
    "f=[\"apple\"]\n",
    "f.extend(\"mango\")\n",
    "print(f)\n"
   ]
  },
  {
   "cell_type": "markdown",
   "id": "ec8203ca",
   "metadata": {},
   "source": [
    "# insert , append , insert"
   ]
  },
  {
   "cell_type": "code",
   "execution_count": 82,
   "id": "f55c7f07",
   "metadata": {},
   "outputs": [
    {
     "name": "stdout",
     "output_type": "stream",
     "text": [
      "['arman', 'niet', 'csds', 'arman', 'niet', 'csds']\n"
     ]
    }
   ],
   "source": [
    "n=[\"arman\",\"niet\",\"csds\"]\n",
    "# n.append(\"engineer\")\n",
    "# n.insert(0,\"mohammad\")  # if we give out of range index \n",
    "# print(n)              #then by default go in last\n",
    "m=[\"arman\",\"niet\",\"csds\"]\n",
    "#n.append(m) #append is similar to extend but in append,\n",
    "n.extend(m) # append join with list under list or not\n",
    "print(n) # while extend join without any list\n"
   ]
  },
  {
   "cell_type": "markdown",
   "id": "7e1a5709",
   "metadata": {},
   "source": [
    "# delete, pop, remove"
   ]
  },
  {
   "cell_type": "code",
   "execution_count": 94,
   "id": "7665c438",
   "metadata": {},
   "outputs": [
    {
     "name": "stdout",
     "output_type": "stream",
     "text": [
      "['arman', 'csds']\n"
     ]
    }
   ],
   "source": [
    "n=[\"arman\",\"niet\",\"csds\"]\n",
    "#pop\n",
    "#n.pop()# by default remove from last if no any index given\n",
    "# n.pop(1)# remove first index value\n",
    "# print(n)\n",
    "\n",
    "#del\n",
    "# del n[1] # takes index then remove\n",
    "# print(n)\n",
    "\n",
    "#remove\n",
    "n.remove(\"niet\") # to use for remove particular value\n",
    "print(n) # if value give out of box then error occur "
   ]
  },
  {
   "cell_type": "markdown",
   "id": "7e330a38",
   "metadata": {},
   "source": [
    "# to check data ,count , sort ,clear,copy,method"
   ]
  },
  {
   "cell_type": "code",
   "execution_count": 115,
   "id": "d195904c",
   "metadata": {},
   "outputs": [
    {
     "name": "stdout",
     "output_type": "stream",
     "text": [
      "['23', 'arman', 'niet', '86', 'csds', 'arman', 'Noida']\n"
     ]
    }
   ],
   "source": [
    "a=[\"23\",\"arman\",\"niet\",\"86\",\"csds\",\"arman\",\"Noida\"]\n",
    "# if \"arman\" in a:\n",
    "#     print(\"present\")\n",
    "# else:\n",
    "#     print(\"not present\")\n",
    "# #print(a.count(\"arman\"))\n",
    "# b=[\"23\",\"arman\",\"niet\",\"86\",\"csds\",\"arman\",\"Noida\"]\n",
    "\n",
    "# a.sort()\n",
    "# print(a)\n",
    "# print(sorted(b)) #print 1 digit then 2 block then last small letter\n",
    "# a.clear() # give empty list\n",
    "a.copy()\n",
    "print(a)\n"
   ]
  },
  {
   "cell_type": "markdown",
   "id": "f8c963cc",
   "metadata": {},
   "source": [
    "# comparare \"==\", \"is\""
   ]
  },
  {
   "cell_type": "code",
   "execution_count": 25,
   "id": "ea476efc",
   "metadata": {},
   "outputs": [],
   "source": [
    "# a=[\"apple\",\"orange\",\"grapes\"]\n",
    "# c=[\"apple\",\"orange\",\"grapes\"]\n",
    "# b=[\"banana\",\"peer\",\"apple\",\"kiwi\"]\n",
    "# #b != c and a == b # \"==\" is checked only value same or not\n",
    "# # a is c # \"is\" checked memory location\n",
    "# d=\"arman\".split(\",\")\n",
    "# #b=a.split(\",\")\n",
    "# print(d)\n"
   ]
  },
  {
   "cell_type": "markdown",
   "id": "728aa6ee",
   "metadata": {},
   "source": [
    "# split , join"
   ]
  },
  {
   "cell_type": "code",
   "execution_count": 32,
   "id": "49691513",
   "metadata": {},
   "outputs": [
    {
     "name": "stdout",
     "output_type": "stream",
     "text": [
      "arman,faishal,wasim\n",
      "ar,ma,n\n"
     ]
    }
   ],
   "source": [
    "# f=\"apple,orange,grapes\".split(\",\")\n",
    "# print(f)\n",
    "# name,age=\"arman,18\".split(\",\")\n",
    "# print(name)\n",
    "# print(age)\n",
    "\n",
    "# join\n",
    "name=[\"arman\",\"faishal\",\"wasim\"]\n",
    "print(','.join(name))\n",
    "a=[\"ar\",\"ma\",\"n\"]\n",
    "print(','.join(a))\n",
    "\n"
   ]
  },
  {
   "cell_type": "markdown",
   "id": "1f195ca3",
   "metadata": {},
   "source": [
    "# diff b/w list and aray"
   ]
  },
  {
   "cell_type": "code",
   "execution_count": 37,
   "id": "976c1c17",
   "metadata": {},
   "outputs": [
    {
     "data": {
      "text/plain": [
       "' array use in c , c++ and java\\n,list \\n= oreder collection of items '"
      ]
     },
     "execution_count": 37,
     "metadata": {},
     "output_type": "execute_result"
    }
   ],
   "source": [
    "\"\"\" array use in c , c++ and java(only store in ,single data)\n",
    "list use in python:store any data\n",
    "array module(python)= fix data type(good performance)\n",
    "javascript array = python list ( almost similar)\n",
    "array, list = oreder collection of items \"\"\""
   ]
  },
  {
   "cell_type": "markdown",
   "id": "04dceb22",
   "metadata": {},
   "source": [
    "# list  vs strings"
   ]
  },
  {
   "cell_type": "code",
   "execution_count": 44,
   "id": "4bd2a60c",
   "metadata": {},
   "outputs": [
    {
     "name": "stdout",
     "output_type": "stream",
     "text": [
      "['word1', 'word2', 'arman', 'ishu', 'arnav']\n"
     ]
    }
   ],
   "source": [
    "# string are immutable in python (in ruby mutable)\n",
    "# list are mutable\n",
    "a=\"arman\"\n",
    "# print(a.title())\n",
    "# b=(a.title())\n",
    "# print(a)\n",
    "# print(b)\n",
    "w=[\"word1\",\"word2\",\"word3\"]\n",
    "w1=[\"arman\",\"ishu\",\"arnav\"]\n",
    "w.pop()\n",
    "w.append(\"word4\")\n",
    "w.pop()\n",
    "w.extend(w1)\n",
    "print(w)\n"
   ]
  },
  {
   "cell_type": "markdown",
   "id": "bb6cc3f3",
   "metadata": {},
   "source": [
    "# for and while (in list)"
   ]
  },
  {
   "cell_type": "code",
   "execution_count": 72,
   "id": "51412f07",
   "metadata": {},
   "outputs": [
    {
     "name": "stdout",
     "output_type": "stream",
     "text": [
      "0 word1\n",
      "1 word2\n",
      "2 word3\n",
      "3 ['arman', 'ishu', 'arnav']\n"
     ]
    }
   ],
   "source": [
    "w=[\"word1\",\"word2\",\"word3\",[\"arman\",\"ishu\",\"arnav\"]]\n",
    "w1=[\"arman\",\"ishu\",\"arnav\"]\n",
    "# for i in w:\n",
    "\n",
    "#     print(i*2,end = \" \")\n",
    "i=0\n",
    "while i < len(w):\n",
    "    print(i,w[i])\n",
    "    i+=1\n",
    "    \n",
    "    \n"
   ]
  },
  {
   "cell_type": "code",
   "execution_count": 101,
   "id": "a1ba1059",
   "metadata": {},
   "outputs": [],
   "source": [
    "char=[\"a\",\"b\",\"c\",\"d\",\"e\",\"f\",\"g\"]\n",
    "# i=0\n",
    "# while i < len(char):\n",
    "#     print(\"index\",i,\"=\",char[i])\n",
    "#     i+=1\n",
    "name=\"arman\",\n",
    "# i=0\n",
    "# while i < len(name):\n",
    "#     print(\"index\",i,\"=\",name[i])\n",
    "#     i+=1\n",
    "#     print(type(name))\n"
   ]
  },
  {
   "cell_type": "code",
   "execution_count": 114,
   "id": "bb0ca052",
   "metadata": {},
   "outputs": [
    {
     "name": "stdout",
     "output_type": "stream",
     "text": [
      "3 6\n",
      "<class 'list'>\n"
     ]
    }
   ],
   "source": [
    "#w=[[\"word1\",\"word2\",\"word3\"],[\"arman\",\"ishu\",\"arnav\"],[\"niet\",\"galgotia\"]]\n",
    "\n",
    "w=[[1,2,3],[4,5,6],[7,8,9]] # 2d list\n",
    "# for i in w:\n",
    "#     for j in i:\n",
    "#         print(i)\n",
    "# for sublist in w:\n",
    "#     for i in sublist:\n",
    "#         print(i)\n",
    "print(w[0][2],w[1][2])\n",
    "print(type(w))"
   ]
  },
  {
   "cell_type": "code",
   "execution_count": 100,
   "id": "844aded8",
   "metadata": {},
   "outputs": [
    {
     "name": "stdout",
     "output_type": "stream",
     "text": [
      "1 2 3 4 5 6 7 8 9 1 2 3 4 5 6 7 8 9 a b c d e f g "
     ]
    }
   ],
   "source": [
    "w=[[1,2,3],[4,5,6],[7,8,9],[1,2,3],[4,5,6],[7,8,9],[\"a\",\"b\",\"c\",\"d\",\"e\",\"f\",\"g\"]]\n",
    "for i in w:\n",
    "    for j in i:\n",
    "        print(j,end =\" \")"
   ]
  },
  {
   "cell_type": "markdown",
   "id": "10d0ad85",
   "metadata": {},
   "source": [
    "# range in list "
   ]
  },
  {
   "cell_type": "code",
   "execution_count": 11,
   "id": "79843ed5",
   "metadata": {},
   "outputs": [
    {
     "name": "stdout",
     "output_type": "stream",
     "text": [
      "[1, 2, 3, 4, 5, 6, 7, 8, 9]\n"
     ]
    }
   ],
   "source": [
    "num=list(range(1,11))\n",
    "num2=list(range(11,21))\n",
    "#print((num + num2))\n",
    "(num.pop())\n",
    "print(num)"
   ]
  },
  {
   "cell_type": "code",
   "execution_count": null,
   "id": "1498460a",
   "metadata": {},
   "outputs": [],
   "source": []
  },
  {
   "cell_type": "code",
   "execution_count": null,
   "id": "dd320a6a",
   "metadata": {},
   "outputs": [],
   "source": []
  }
 ],
 "metadata": {
  "kernelspec": {
   "display_name": "Python 3 (ipykernel)",
   "language": "python",
   "name": "python3"
  },
  "language_info": {
   "codemirror_mode": {
    "name": "ipython",
    "version": 3
   },
   "file_extension": ".py",
   "mimetype": "text/x-python",
   "name": "python",
   "nbconvert_exporter": "python",
   "pygments_lexer": "ipython3",
   "version": "3.9.7"
  }
 },
 "nbformat": 4,
 "nbformat_minor": 5
}
