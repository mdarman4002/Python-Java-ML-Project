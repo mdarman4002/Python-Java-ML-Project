{
 "cells": [
  {
   "cell_type": "code",
   "execution_count": 2,
   "id": "5cc6fbfc",
   "metadata": {},
   "outputs": [
    {
     "name": "stdout",
     "output_type": "stream",
     "text": [
      "2057156717136 2057156717136\n"
     ]
    }
   ],
   "source": [
    "a = 10\n",
    "b = 10\n",
    "print(id(a), id(b))"
   ]
  },
  {
   "cell_type": "markdown",
   "id": "a3c39306",
   "metadata": {},
   "source": [
    "# memory location"
   ]
  },
  {
   "cell_type": "code",
   "execution_count": 7,
   "id": "095f06f7",
   "metadata": {},
   "outputs": [
    {
     "name": "stdout",
     "output_type": "stream",
     "text": [
      "2057237348848 2057237348848 2057236702000\n"
     ]
    }
   ],
   "source": [
    "c = \"arman\"                         # in python memory allocation by data not by variable\n",
    "d = 'arman'                          # in other languages memory allocated by variables\n",
    "e = 'Arman'  \n",
    "print(id(c), id(d), id(e))"
   ]
  },
  {
   "cell_type": "markdown",
   "id": "af6843dd",
   "metadata": {},
   "source": [
    "# concatination"
   ]
  },
  {
   "cell_type": "code",
   "execution_count": 27,
   "id": "5581d40f",
   "metadata": {},
   "outputs": [
    {
     "name": "stdout",
     "output_type": "stream",
     "text": [
      "5 arman\n",
      "arman and 5 \n"
     ]
    }
   ],
   "source": [
    "a = \"arman\"\n",
    "b = 5\n",
    "print(str(b) +\" \"+ a)\n",
    "print(f\"{a} and {b} \")"
   ]
  },
  {
   "cell_type": "markdown",
   "id": "2b32c55f",
   "metadata": {},
   "source": [
    "# operator"
   ]
  },
  {
   "cell_type": "code",
   "execution_count": 10,
   "id": "7acc4b74",
   "metadata": {},
   "outputs": [
    {
     "data": {
      "text/plain": [
       "'\\n/ division\\n% (modulo) remainder\\n// use for get only integer quotient \\n\\n'"
      ]
     },
     "execution_count": 10,
     "metadata": {},
     "output_type": "execute_result"
    }
   ],
   "source": [
    "\"\"\"\n",
    "/ division\n",
    "% (modulo) remainder\n",
    "// use for get only integer quotient \n",
    "\n",
    "\"\"\""
   ]
  },
  {
   "cell_type": "code",
   "execution_count": 31,
   "id": "46b65d0c",
   "metadata": {},
   "outputs": [
    {
     "data": {
      "text/plain": [
       "6"
      ]
     },
     "execution_count": 31,
     "metadata": {},
     "output_type": "execute_result"
    }
   ],
   "source": []
  },
  {
   "cell_type": "code",
   "execution_count": 13,
   "id": "c98de57e",
   "metadata": {},
   "outputs": [
    {
     "name": "stdout",
     "output_type": "stream",
     "text": [
      "True\n",
      "54\n"
     ]
    }
   ],
   "source": [
    "lst = [45,54,868,'arman']\n",
    "print(\"arman\" in lst)\n",
    "print(lst[1])"
   ]
  },
  {
   "cell_type": "code",
   "execution_count": null,
   "id": "42dd7c7f",
   "metadata": {},
   "outputs": [],
   "source": []
  },
  {
   "cell_type": "code",
   "execution_count": null,
   "id": "fc511e14",
   "metadata": {},
   "outputs": [],
   "source": []
  },
  {
   "cell_type": "markdown",
   "id": "54a57baa",
   "metadata": {},
   "source": [
    "# identity"
   ]
  },
  {
   "cell_type": "code",
   "execution_count": 16,
   "id": "87a00228",
   "metadata": {},
   "outputs": [
    {
     "name": "stdout",
     "output_type": "stream",
     "text": [
      "True True\n"
     ]
    }
   ],
   "source": [
    "x = 10\n",
    "y = 10\n",
    "print(x is y, x ==y)"
   ]
  },
  {
   "cell_type": "markdown",
   "id": "9725f6ad",
   "metadata": {},
   "source": [
    "# bitwise"
   ]
  },
  {
   "cell_type": "code",
   "execution_count": null,
   "id": "0fa73280",
   "metadata": {},
   "outputs": [],
   "source": [
    "'''\n",
    "0 means False\n",
    "1 means True\n",
    "'''"
   ]
  },
  {
   "cell_type": "code",
   "execution_count": 47,
   "id": "4e09dec3",
   "metadata": {},
   "outputs": [
    {
     "name": "stdout",
     "output_type": "stream",
     "text": [
      "0b1010   0b1000\n",
      "\n",
      "\n",
      "0b1000 8\n",
      "0b1010   0b1010\n",
      "\n",
      "\n",
      "0b10\n"
     ]
    }
   ],
   "source": [
    "x = 10\n",
    "y = 8\n",
    "print(bin(x) ,\" \", bin(y))\n",
    "print(\"\\n\")\n",
    "print(bin(x&y),x&y)\n",
    "print(bin(x or y),\" \", bin(x|y)) # | means or \n",
    "print(\"\\n\")\n",
    "print(bin(x ^ y))  # in XOR same value convert in zero 0 0 = 0 and 1 1 = 0"
   ]
  },
  {
   "cell_type": "markdown",
   "id": "19fd3a60",
   "metadata": {},
   "source": [
    "# data type"
   ]
  },
  {
   "cell_type": "code",
   "execution_count": null,
   "id": "611d9be0",
   "metadata": {},
   "outputs": [],
   "source": [
    "\"\"\" \n",
    "1. Mutable(can be update) :-----  list, dictionary, byte array\n",
    "\n",
    "2. Immutable(can't be update):------ int, float, complex, tuple, string, set\n",
    "\"\"\""
   ]
  },
  {
   "cell_type": "code",
   "execution_count": 39,
   "id": "3f077ed2",
   "metadata": {},
   "outputs": [
    {
     "name": "stdout",
     "output_type": "stream",
     "text": [
      "<class 'str'>\n",
      "4\n",
      "\" \" h i\n"
     ]
    }
   ],
   "source": [
    "c = \"\"\"\"\"hi\"\"\"\"\"\n",
    "print(type(c))\n",
    "print(len(c))\n",
    "print(c[0],c[1],c[2],c[3])"
   ]
  },
  {
   "cell_type": "markdown",
   "id": "c8861ae6",
   "metadata": {},
   "source": [
    "# list"
   ]
  },
  {
   "cell_type": "code",
   "execution_count": 41,
   "id": "b483ae5e",
   "metadata": {},
   "outputs": [
    {
     "name": "stdout",
     "output_type": "stream",
     "text": [
      "None\n",
      "<class 'list'>\n"
     ]
    },
    {
     "data": {
      "text/plain": [
       "['A', 'R', 'm', 'n', 18, 2.5]"
      ]
     },
     "execution_count": 41,
     "metadata": {},
     "output_type": "execute_result"
    }
   ],
   "source": [
    "lst = ['a','r','m','a','n',18]\n",
    "len(lst)\n",
    "print(lst.append(2.5))\n",
    "lst[1] = 'R'                    #updation\n",
    "lst[0] = \"A\"\n",
    "del lst[3]  \n",
    "print(type(lst))\n",
    "lst"
   ]
  },
  {
   "cell_type": "markdown",
   "id": "95e67579",
   "metadata": {},
   "source": [
    "# tuple"
   ]
  },
  {
   "cell_type": "code",
   "execution_count": 42,
   "id": "08fbae3e",
   "metadata": {},
   "outputs": [
    {
     "name": "stdout",
     "output_type": "stream",
     "text": [
      "<class 'str'>\n",
      "<class 'tuple'>\n"
     ]
    }
   ],
   "source": [
    "# tuple is immutable\n",
    "# it's faster than list\n",
    "# it's similar to list\n",
    "a = 'j'  # it's not a tuple      # it's contain more than one value otherwise not tuple\n",
    "print(type(a))\n",
    "b = 'j',\n",
    "print(type(b))  # it's a tuple"
   ]
  },
  {
   "cell_type": "markdown",
   "id": "03423da7",
   "metadata": {},
   "source": [
    "# dictionary"
   ]
  },
  {
   "cell_type": "code",
   "execution_count": null,
   "id": "711bf3ed",
   "metadata": {},
   "outputs": [],
   "source": [
    "# mostly use in database\n",
    "# key values pair and mutanle\n",
    "# value may be same but key must be different"
   ]
  },
  {
   "cell_type": "code",
   "execution_count": 75,
   "id": "e09d0358",
   "metadata": {},
   "outputs": [
    {
     "name": "stdout",
     "output_type": "stream",
     "text": [
      "{'name': 'Mohammad Arman', 'Course': 'B.tech'}\n",
      "Mohammad Arman\n"
     ]
    }
   ],
   "source": [
    "s = {\n",
    "    # \"key\" : \"value\",\n",
    "    \"name\" : \"Mohammad Arman\",\n",
    "    \"Course\" : \"B.tech\"\n",
    "}\n",
    "print(s)\n",
    "print(s[\"name\"])"
   ]
  },
  {
   "cell_type": "markdown",
   "id": "d679873c",
   "metadata": {},
   "source": [
    "# set"
   ]
  },
  {
   "cell_type": "code",
   "execution_count": null,
   "id": "45b7a62f",
   "metadata": {},
   "outputs": [],
   "source": [
    "# unordered collection of elements and immutable(can't be changed)\n",
    "# only contain unique element(no duplicates)\n",
    "# similar to dictionary"
   ]
  },
  {
   "cell_type": "code",
   "execution_count": 82,
   "id": "dd3919c0",
   "metadata": {},
   "outputs": [
    {
     "name": "stdout",
     "output_type": "stream",
     "text": [
      "({26, 1, 10, 35}, ' ', <class 'set'>)\n"
     ]
    }
   ],
   "source": [
    "s= {10,26,35,1,10}\n",
    "print((s,\" \", type(s)))\n"
   ]
  },
  {
   "cell_type": "markdown",
   "id": "2b063f04",
   "metadata": {},
   "source": [
    "# input"
   ]
  },
  {
   "cell_type": "code",
   "execution_count": 88,
   "id": "c0ece7cf",
   "metadata": {},
   "outputs": [
    {
     "name": "stdout",
     "output_type": "stream",
     "text": [
      "first value: 5\n",
      "second value: 4\n",
      "9.0\n"
     ]
    }
   ],
   "source": [
    "a = float(input(\"first value: \"))\n",
    "b = float(input(\"second value: \"))\n",
    "c=a+b\n",
    "print(c)"
   ]
  },
  {
   "cell_type": "code",
   "execution_count": 91,
   "id": "0b174c4a",
   "metadata": {},
   "outputs": [
    {
     "name": "stdout",
     "output_type": "stream",
     "text": [
      "first value: 0b1010\n",
      "second value: 10\n",
      "20.0\n"
     ]
    }
   ],
   "source": [
    "a = eval(input(\"first value: \"))  # handle int or float or binary and convert\n",
    "b = float(input(\"second value: \"))\n",
    "c=a+b\n",
    "print(c)"
   ]
  },
  {
   "cell_type": "markdown",
   "id": "914f0ca5",
   "metadata": {},
   "source": [
    "# conditional statement"
   ]
  },
  {
   "cell_type": "code",
   "execution_count": null,
   "id": "b6871d27",
   "metadata": {},
   "outputs": [],
   "source": [
    "# keep mind indentation"
   ]
  },
  {
   "cell_type": "code",
   "execution_count": 45,
   "id": "9df21950",
   "metadata": {},
   "outputs": [
    {
     "name": "stdout",
     "output_type": "stream",
     "text": [
      "2\n",
      "12    5\n",
      "7\n",
      "45 84\n",
      "-39\n"
     ]
    }
   ],
   "source": [
    "Range = int(input())\n",
    "for i in range(Range):\n",
    "    target,c_score = map(int,input().split())\n",
    "    output = (target - c_score)\n",
    "    print(output)"
   ]
  },
  {
   "cell_type": "markdown",
   "id": "89bdbfcf",
   "metadata": {},
   "source": [
    "# normal calculator"
   ]
  },
  {
   "cell_type": "code",
   "execution_count": 9,
   "id": "61f8ce16",
   "metadata": {},
   "outputs": [
    {
     "name": "stdout",
     "output_type": "stream",
     "text": [
      "Enter num1: 5\n",
      "Enter num2: 2\n",
      "\n",
      "choose operation \n",
      "press 1: for add\n",
      "press 2: for multiply\n",
      "press 3: for divide\n",
      "1\n",
      "**********you entered***********  1\n",
      "sum of input is 7\n"
     ]
    }
   ],
   "source": [
    "num1= eval(input(\"Enter num1: \"))\n",
    "num2= eval(input(\"Enter num2: \"))\n",
    "choose = int(input(\"\\nchoose operation \\npress 1: for add\\npress 2: for multiply\\npress 3: for divide\\n\"))\n",
    "print(\"**********you entered*********** \",choose)\n",
    "if choose == 1:\n",
    "    print(f\"sum of input is {num1+num2}\")\n",
    "elif choose == 2:\n",
    "    print(f\"mul of input is {num1*num2}\")\n",
    "elif choose == 3:\n",
    "    print(f\"divide of input is {num1/num2}\")\n",
    "else:\n",
    "    print(\"wrong choose\\nTry againg\")"
   ]
  },
  {
   "cell_type": "code",
   "execution_count": 47,
   "id": "e862a6ae",
   "metadata": {},
   "outputs": [
    {
     "name": "stdout",
     "output_type": "stream",
     "text": [
      "Enter num1: 25\n",
      "Enter num2: 45\n",
      "\n",
      "choose operation \n",
      "press +: for add\n",
      "press *: for multiply\n",
      "press /: for divide\n",
      "+\n",
      "**********you entered***********  +\n",
      "sum of input is 70\n",
      "\n",
      "choose operation \n",
      "press +: for add\n",
      "press *: for multiply\n",
      "press /: for divide\n",
      "*\n",
      "**********you entered***********  *\n",
      "mul of input is 1125\n",
      "\n",
      "choose operation \n",
      "press +: for add\n",
      "press *: for multiply\n",
      "press /: for divide\n",
      "-\n",
      "**********you entered***********  -\n",
      "wrong choose\n",
      "Try againg\n"
     ]
    }
   ],
   "source": [
    "num1= eval(input(\"Enter num1: \"))\n",
    "num2= eval(input(\"Enter num2: \"))\n",
    "while True:\n",
    "    choose = (input(\"\\nchoose operation \\npress +: for add\\npress *: for multiply\\npress /: for divide\\n\"))\n",
    "    print(\"**********you entered*********** \",choose)\n",
    "    if choose == \"+\":\n",
    "        print(f\"sum of input is {num1+num2}\")\n",
    "    elif choose == \"*\":\n",
    "        print(f\"mul of input is {num1*num2}\")\n",
    "    elif choose == \"/\":\n",
    "        print(f\"divide of input is {num1/num2}\")\n",
    "    else:\n",
    "        print(\"wrong choose\\nTry againg\")\n",
    "        break;"
   ]
  },
  {
   "cell_type": "markdown",
   "id": "041225fd",
   "metadata": {},
   "source": [
    "# loop"
   ]
  },
  {
   "cell_type": "code",
   "execution_count": 50,
   "id": "17b3488e",
   "metadata": {},
   "outputs": [
    {
     "name": "stdout",
     "output_type": "stream",
     "text": [
      "iteration: 10  2 *  10 =  20\n",
      "iteration: 9  2 *  9 =  18\n",
      "iteration: 8  2 *  8 =  16\n",
      "iteration: 7  2 *  7 =  14\n",
      "iteration: 6  2 *  6 =  12\n",
      "iteration: 5  2 *  5 =  10\n",
      "iteration: 4  2 *  4 =  8\n",
      "iteration: 3  2 *  3 =  6\n",
      "iteration: 2  2 *  2 =  4\n",
      "iteration: 1  2 *  1 =  2\n",
      "iteration: 0  2 *  0 =  0\n",
      "last iteration within the loop -1\n"
     ]
    }
   ],
   "source": [
    "i = 10\n",
    "while i>=0: # infine loop if use True\n",
    "    print(\"iteration:\",i,\" 2 * \",i,\"= \",2*i)\n",
    "    i=i-1\n",
    "print(\"last iteration within the loop\",i)\n",
    "    "
   ]
  },
  {
   "cell_type": "code",
   "execution_count": 28,
   "id": "a1cbeaa0",
   "metadata": {},
   "outputs": [
    {
     "name": "stdout",
     "output_type": "stream",
     "text": [
      "2 *  10 = 20\n",
      "2 *  9 = 18\n",
      "2 *  8 = 16\n",
      "2 *  7 = 14\n",
      "2 *  6 = 12\n",
      "2 *  5 = 10\n",
      "2 *  4 = 8\n",
      "2 *  3 = 6\n",
      "2 *  2 = 4\n",
      "2 *  1 = 2\n",
      "1\n"
     ]
    }
   ],
   "source": [
    "for i in range(10,0,-1):\n",
    "    print(\"2 * \",i,\"=\",2*i)\n",
    "    \n",
    "print(i)"
   ]
  },
  {
   "cell_type": "code",
   "execution_count": 34,
   "id": "a29fc87b",
   "metadata": {},
   "outputs": [
    {
     "name": "stdout",
     "output_type": "stream",
     "text": [
      "1 : within loop\n",
      "2 : within loop\n",
      "3 : within loop\n",
      "4 : within loop\n",
      "5 : within loop\n",
      "6 : within loop\n",
      "7 : within loop\n",
      "8 : within loop\n",
      "9 : within loop\n",
      "10 : within loop\n",
      "outside loop 11\n"
     ]
    }
   ],
   "source": [
    "i = 1\n",
    "while i <=10:\n",
    "    print(i,\": within loop\")\n",
    "    i+=1\n",
    "print(\"outside loop\",i)"
   ]
  },
  {
   "cell_type": "code",
   "execution_count": 33,
   "id": "176cf9eb",
   "metadata": {},
   "outputs": [
    {
     "name": "stdout",
     "output_type": "stream",
     "text": [
      "within loop  0\n",
      "within loop  1\n",
      "within loop  2\n",
      "within loop  3\n",
      "within loop  4\n",
      "within loop  5\n",
      "within loop  6\n",
      "within loop  7\n",
      "within loop  8\n",
      "within loop  9\n",
      "last value outside looop 9\n"
     ]
    }
   ],
   "source": [
    "for i in range(10):\n",
    "    print(\"within loop \",i)\n",
    "print(\"last value outside looop\",i)"
   ]
  },
  {
   "cell_type": "markdown",
   "id": "abab1221",
   "metadata": {},
   "source": [
    "# String slicing"
   ]
  },
  {
   "cell_type": "code",
   "execution_count": 60,
   "id": "fdb5f3e0",
   "metadata": {},
   "outputs": [
    {
     "name": "stdout",
     "output_type": "stream",
     "text": [
      "rman\n",
      "aidni morf namra\n",
      "arman from india\n",
      "ia\n"
     ]
    }
   ],
   "source": [
    "#slicing :--- left to right --- start from 0 to len-1\n",
    "# slicing:--- right to left---- start from -1 to -len\n",
    "a = \"arman from india\"\n",
    "print(a[1:4+1])\n",
    "print(a[-1::-1]) # reverse the string\n",
    "print(a[-16::])\n",
    "print(a[-2:])\n"
   ]
  },
  {
   "cell_type": "code",
   "execution_count": 58,
   "id": "fcb1e880",
   "metadata": {},
   "outputs": [
    {
     "name": "stdout",
     "output_type": "stream",
     "text": [
      "[2, 4, 7, 40]\n"
     ]
    }
   ],
   "source": [
    "lst = [1,2,36,4,8,7,9,40]\n",
    "print(lst[1::2])"
   ]
  },
  {
   "cell_type": "code",
   "execution_count": 77,
   "id": "190f2901",
   "metadata": {},
   "outputs": [
    {
     "name": "stdout",
     "output_type": "stream",
     "text": [
      "7\n",
      "0 e\n",
      "1 m\n",
      "2 a\n",
      "3 n\n",
      "4  \n",
      "5 y\n",
      "6 M\n"
     ]
    }
   ],
   "source": [
    "# how to reverse\n",
    "s=\"My name\"\n",
    "s=s[-1::-1]\n",
    "t=len(s)\n",
    "print(len(s))\n",
    "for i in range(t):\n",
    "    print(i,s[i])"
   ]
  },
  {
   "cell_type": "code",
   "execution_count": 79,
   "id": "fd8bfa5f",
   "metadata": {},
   "outputs": [
    {
     "name": "stdout",
     "output_type": "stream",
     "text": [
      "6 e\n",
      "5 m\n",
      "4 a\n",
      "3 n\n",
      "2  \n",
      "1 y\n",
      "0 M\n"
     ]
    }
   ],
   "source": [
    "# how to reverse\n",
    "s=\"My name\"\n",
    "for i in range(len(s)-1,-1,-1):\n",
    "    print(i,s[i])\n"
   ]
  },
  {
   "cell_type": "code",
   "execution_count": 85,
   "id": "d288150d",
   "metadata": {},
   "outputs": [
    {
     "name": "stdout",
     "output_type": "stream",
     "text": [
      "eman yM\n",
      "e\n",
      "m\n",
      "a\n",
      "n\n",
      " \n",
      "y\n",
      "M\n"
     ]
    }
   ],
   "source": [
    "# first reverse the string then looping\n",
    "s=\"My name\"\n",
    "s=s[-1::-1]\n",
    "print(s)\n",
    "for i in s:\n",
    "    print(i)"
   ]
  },
  {
   "cell_type": "code",
   "execution_count": null,
   "id": "ee792954",
   "metadata": {},
   "outputs": [],
   "source": [
    "Range = int(input())\n",
    "for i in range(Range):\n",
    "    b,p,t=map(int,input().split())\n",
    "    if (b*p) <= t:\n",
    "        print(\"YES\")\n",
    "    else:\n",
    "        print(\"NO\")"
   ]
  },
  {
   "cell_type": "code",
   "execution_count": null,
   "id": "bf695ac9",
   "metadata": {},
   "outputs": [],
   "source": [
    "Range = int(input())\n",
    "for i in range(Range):\n",
    "    inp = int(input())\n",
    "    # output = inp//25\n",
    "    # f_output = output + 1\n",
    "    # print(f_output)\n",
    "    print(int(inp / 25) + (inp % 25 > 0))"
   ]
  },
  {
   "cell_type": "markdown",
   "id": "d3750ef2",
   "metadata": {},
   "source": [
    "# lower(),upper(),title(),capitalize()"
   ]
  },
  {
   "cell_type": "code",
   "execution_count": 91,
   "id": "d51a2d68",
   "metadata": {},
   "outputs": [
    {
     "name": "stdout",
     "output_type": "stream",
     "text": [
      "my name is mohammad arman\n",
      "MY NAME IS MOHAMMAD ARMAN\n",
      "My name is mohammad arman\n",
      "My Name Is Mohammad Arman\n"
     ]
    }
   ],
   "source": [
    "name = \"mY name is mohammad arman\"\n",
    "print(name.lower())      # all string in small letter\n",
    "print(name.upper())      # all string capitalize\n",
    "print(name.capitalize()) # only first string capitalize\n",
    "print(name.title())      # every string after space capitalize"
   ]
  },
  {
   "cell_type": "markdown",
   "id": "49427c1e",
   "metadata": {},
   "source": [
    "# find(),index(),isalpha(),isdigit(),isalnum()"
   ]
  },
  {
   "cell_type": "code",
   "execution_count": 100,
   "id": "803c076a",
   "metadata": {},
   "outputs": [
    {
     "name": "stdout",
     "output_type": "stream",
     "text": [
      "1\n",
      "el on index 1\n",
      "e on index 6\n",
      "z on index -1\n"
     ]
    }
   ],
   "source": [
    "# diff between find() and index() that find() never throws error if value not\n",
    "#exit instead that show -1 but\n",
    "#index() throws error (not found)\n",
    "\n",
    "s = \"welcome\"\n",
    "print(\"el on index\",s.find('el'))  # can also check multiple str but show 1st\n",
    "print(\"e on index\",s.find('e',2))   # here indexing start from 2\n",
    "print(\"z on index\",s.find('z'))  # by default index -1 if not exit"
   ]
  },
  {
   "cell_type": "code",
   "execution_count": 101,
   "id": "90d938ab",
   "metadata": {},
   "outputs": [
    {
     "name": "stdout",
     "output_type": "stream",
     "text": [
      "1\n"
     ]
    },
    {
     "ename": "ValueError",
     "evalue": "7 is not in list",
     "output_type": "error",
     "traceback": [
      "\u001b[1;31m---------------------------------------------------------------------------\u001b[0m",
      "\u001b[1;31mValueError\u001b[0m                                Traceback (most recent call last)",
      "\u001b[1;32m~\\AppData\\Local\\Temp/ipykernel_4152/2411548357.py\u001b[0m in \u001b[0;36m<module>\u001b[1;34m\u001b[0m\n\u001b[0;32m      1\u001b[0m \u001b[0ml\u001b[0m\u001b[1;33m=\u001b[0m \u001b[1;33m[\u001b[0m\u001b[1;36m2\u001b[0m\u001b[1;33m,\u001b[0m\u001b[1;36m5\u001b[0m\u001b[1;33m,\u001b[0m\u001b[1;36m6\u001b[0m\u001b[1;33m]\u001b[0m\u001b[1;33m\u001b[0m\u001b[1;33m\u001b[0m\u001b[0m\n\u001b[0;32m      2\u001b[0m \u001b[0mprint\u001b[0m\u001b[1;33m(\u001b[0m\u001b[0ml\u001b[0m\u001b[1;33m.\u001b[0m\u001b[0mindex\u001b[0m\u001b[1;33m(\u001b[0m\u001b[1;36m5\u001b[0m\u001b[1;33m)\u001b[0m\u001b[1;33m)\u001b[0m\u001b[1;33m\u001b[0m\u001b[1;33m\u001b[0m\u001b[0m\n\u001b[1;32m----> 3\u001b[1;33m \u001b[0mprint\u001b[0m\u001b[1;33m(\u001b[0m\u001b[0ml\u001b[0m\u001b[1;33m.\u001b[0m\u001b[0mindex\u001b[0m\u001b[1;33m(\u001b[0m\u001b[1;36m7\u001b[0m\u001b[1;33m)\u001b[0m\u001b[1;33m)\u001b[0m\u001b[1;33m\u001b[0m\u001b[1;33m\u001b[0m\u001b[0m\n\u001b[0m",
      "\u001b[1;31mValueError\u001b[0m: 7 is not in list"
     ]
    }
   ],
   "source": [
    "l= [2,5,6]\n",
    "print(l.index(5))\n",
    "print(l.index(7))  # throws error"
   ]
  },
  {
   "cell_type": "code",
   "execution_count": null,
   "id": "28bbd526",
   "metadata": {},
   "outputs": [],
   "source": [
    "# isalpha() --- only string then o\\p True otherwise False\n",
    "# isdigit() --- only digit then o\\p True otherwise False\n",
    "# isalnum() --- only digit or character then o\\p True otherwise False\n",
    "# all are should be string digit and string but don't use special charcter"
   ]
  },
  {
   "cell_type": "code",
   "execution_count": 111,
   "id": "48487478",
   "metadata": {},
   "outputs": [
    {
     "name": "stdout",
     "output_type": "stream",
     "text": [
      "True\n",
      "False\n",
      "True\n"
     ]
    }
   ],
   "source": [
    "s = \"welcome\"\n",
    "x = \"welcome2021\"\n",
    "print(s.isalpha())\n",
    "print(x.isalpha())\n",
    "print(s.isalpha())  # isalpha() can isalnum()"
   ]
  },
  {
   "cell_type": "code",
   "execution_count": 110,
   "id": "99c5a890",
   "metadata": {},
   "outputs": [
    {
     "name": "stdout",
     "output_type": "stream",
     "text": [
      "True\n",
      "True\n"
     ]
    }
   ],
   "source": [
    "s = \"welcome2021\"\n",
    "x = \"welcome\"\n",
    "print(s.isalnum())\n",
    "print(x.isalnum())"
   ]
  },
  {
   "cell_type": "code",
   "execution_count": 114,
   "id": "d34a19e3",
   "metadata": {},
   "outputs": [
    {
     "name": "stdout",
     "output_type": "stream",
     "text": [
      "True\n"
     ]
    }
   ],
   "source": [
    "d = \"123\"\n",
    "print(d.isdigit())"
   ]
  },
  {
   "cell_type": "markdown",
   "id": "9ddbbe55",
   "metadata": {},
   "source": [
    "# chr() and ord()"
   ]
  },
  {
   "cell_type": "code",
   "execution_count": null,
   "id": "28fe33d1",
   "metadata": {},
   "outputs": [],
   "source": [
    "# both work on ASCII \n",
    "# chr() take only integer value ,it's  take only arguement\n",
    "# ord() take only string , it's take only one arguement"
   ]
  },
  {
   "cell_type": "code",
   "execution_count": 128,
   "id": "7a885d84",
   "metadata": {},
   "outputs": [
    {
     "name": "stdout",
     "output_type": "stream",
     "text": [
      "]\n",
      "65\n"
     ]
    }
   ],
   "source": [
    "print(chr(93,))\n",
    "print(ord(\"A\",))"
   ]
  },
  {
   "cell_type": "code",
   "execution_count": 132,
   "id": "a2f0d3e6",
   "metadata": {},
   "outputs": [
    {
     "name": "stdout",
     "output_type": "stream",
     "text": [
      "'Arman hi how are you'\n"
     ]
    }
   ],
   "source": [
    "name = \"\"\"Arman hi how are you\"\"\"\n",
    "print(ascii(name))"
   ]
  },
  {
   "cell_type": "markdown",
   "id": "c2afa114",
   "metadata": {},
   "source": [
    "# format specifier"
   ]
  },
  {
   "cell_type": "code",
   "execution_count": 139,
   "id": "c606214f",
   "metadata": {},
   "outputs": [
    {
     "name": "stdout",
     "output_type": "stream",
     "text": [
      "Welcome to India, Indian\n",
      "welcome to india, lankan\n",
      "Welcome to india, hi\n",
      "Welcome to India\n"
     ]
    }
   ],
   "source": [
    "_1st = \"Welcome to {fname}, {lname}\".format(fname=\"India\",lname=\"Indian\")\n",
    "print(_1st)\n",
    "_2nd = \"welcome to {0}, {1}\".format(\"india\",\"lankan\")\n",
    "print(_2nd)\n",
    "_3rd = \"Welcome to {}, {}\".format(\"india\",\"hi\")\n",
    "print(_3rd)\n",
    "name = \"India\"\n",
    "_4th = f\"Welcome to {name}\"\n",
    "print(_4th)"
   ]
  },
  {
   "cell_type": "code",
   "execution_count": 5,
   "id": "652ba742",
   "metadata": {},
   "outputs": [
    {
     "name": "stdout",
     "output_type": "stream",
     "text": [
      "Welcome 20 to 30 \n",
      "Welcome         20 to 30 \n",
      "Welcome     20     to 30 \n",
      "Welcome         20 to 30 \n",
      "Welcome 20         to 30 \n"
     ]
    }
   ],
   "source": [
    "e =  \"Welcome {b} to {a} \".format(a=30, b=20)  \n",
    "w = \"Welcome {b:10} to {a} \".format(a=30, b=20)  \n",
    "a =  \"Welcome {b:^10} to {a} \".format(a=30, b=20) \n",
    "c =  \"Welcome {b:>10} to {a} \".format(a=30, b=20)  \n",
    "d = \"Welcome {b:<10} to {a} \".format(a=30, b=20) \n",
    "print(e)  # noraml print\n",
    "print(w) # 8 space leave\n",
    "print(a)  # 4 space leave both side\n",
    "print(c)   #8 space leave in left side\n",
    "print(d)   #8 space leave in right side"
   ]
  },
  {
   "cell_type": "code",
   "execution_count": 24,
   "id": "5de75d59",
   "metadata": {},
   "outputs": [
    {
     "name": "stdout",
     "output_type": "stream",
     "text": [
      " name Arman\n",
      "a     5 b    12\n",
      "college niet in Gr noida , delhi\n",
      "college Gr noida in niet , delhi\n"
     ]
    }
   ],
   "source": [
    "a = \"a {a:-5} b {b:5}\".format(a=5,b=12)\n",
    "name = \"Arman\"\n",
    "b = f\" name {name}\"\n",
    "c = \"college {} in {} , delhi\".format(\"niet\",\"Gr noida\")\n",
    "d = \"college {1} in {0} , delhi\".format(\"niet\",\"Gr noida\")\n",
    "print(b)\n",
    "print(a)\n",
    "print(c)\n",
    "print(d)"
   ]
  },
  {
   "cell_type": "markdown",
   "id": "7981b326",
   "metadata": {},
   "source": [
    "# list and nested list"
   ]
  },
  {
   "cell_type": "code",
   "execution_count": 17,
   "id": "46ed6579",
   "metadata": {},
   "outputs": [
    {
     "name": "stdout",
     "output_type": "stream",
     "text": [
      "4\n",
      "6\n"
     ]
    },
    {
     "data": {
      "text/plain": [
       "list"
      ]
     },
     "execution_count": 17,
     "metadata": {},
     "output_type": "execute_result"
    }
   ],
   "source": [
    "l=[1,23,4,[5,6]]\n",
    "print(len(l))\n",
    "print(l[3][1])\n",
    "type(l)"
   ]
  },
  {
   "cell_type": "code",
   "execution_count": 36,
   "id": "8693fef2",
   "metadata": {},
   "outputs": [
    {
     "name": "stdout",
     "output_type": "stream",
     "text": [
      "[2, 4, 6]\n",
      "[7, 8, 9]\n",
      "[2, 4, 6, 7, 8, 9]\n"
     ]
    }
   ],
   "source": [
    "lst = [1,2,3,4,5,6,[7,8,9]]\n",
    "l1 = (lst[1::2])\n",
    "l2 = lst[6]\n",
    "print(l1)\n",
    "print(l2)\n",
    "print(l1 + l2)"
   ]
  },
  {
   "cell_type": "markdown",
   "id": "2b9a56c7",
   "metadata": {},
   "source": [
    "# iteration on list"
   ]
  },
  {
   "cell_type": "code",
   "execution_count": 55,
   "id": "4b3ed5f5",
   "metadata": {},
   "outputs": [
    {
     "name": "stdout",
     "output_type": "stream",
     "text": [
      "10\n",
      "20\n",
      "30\n",
      "40\n",
      "50\n",
      "60\n",
      "70\n",
      " \n",
      "70\n",
      "60\n",
      "50\n",
      "40\n",
      "30\n",
      "20\n",
      "10\n"
     ]
    }
   ],
   "source": [
    "l = [10,20,30,40,50,60,70]\n",
    "for i in range(len(l)):\n",
    "    print(l[i])\n",
    "print(\" \")\n",
    "for i in range(len(l)-1, -1,-1):  # to print in reverse\n",
    "    print(l[i])"
   ]
  },
  {
   "cell_type": "markdown",
   "id": "d9afad23",
   "metadata": {},
   "source": [
    "# list comprehention"
   ]
  },
  {
   "cell_type": "code",
   "execution_count": 57,
   "id": "f6193c52",
   "metadata": {},
   "outputs": [
    {
     "name": "stdout",
     "output_type": "stream",
     "text": [
      "[2, 4, 6, 8, 10, 12, 14, 16, 18, 20, 22, 24, 26, 28, 30, 32, 34, 36, 38, 40, 42, 44, 46, 48, 50, 52, 54, 56, 58, 60, 62, 64, 66, 68, 70, 72, 74, 76, 78, 80, 82, 84, 86, 88, 90, 92, 94, 96, 98, 100]\n"
     ]
    }
   ],
   "source": [
    "l=[]\n",
    "for i in range(1,101):\n",
    "    if i%2==0:\n",
    "        l.append(i)\n",
    "print(l)"
   ]
  },
  {
   "cell_type": "code",
   "execution_count": 59,
   "id": "ff0de5ba",
   "metadata": {},
   "outputs": [
    {
     "name": "stdout",
     "output_type": "stream",
     "text": [
      "[2, 4, 6, 8, 10, 12, 14, 16, 18, 20, 22, 24, 26, 28, 30, 32, 34, 36, 38, 40, 42, 44, 46, 48, 50, 52, 54, 56, 58, 60, 62, 64, 66, 68, 70, 72, 74, 76, 78, 80, 82, 84, 86, 88, 90, 92, 94, 96, 98, 100]\n",
      "['M', 'o', 'h', 'a', 'm', 'm', 'a', 'd', ' ', 'A', 'r', 'm', 'a', 'n']\n"
     ]
    }
   ],
   "source": [
    "lst = [i for i in range(1,101) if i%2==0]\n",
    "print(lst)\n",
    "st = \"Mohammad Arman\"  # iteration on string\n",
    "lt = [i for i in st]\n",
    "print(lt)"
   ]
  },
  {
   "cell_type": "code",
   "execution_count": 61,
   "id": "003dec77",
   "metadata": {},
   "outputs": [
    {
     "name": "stdout",
     "output_type": "stream",
     "text": [
      "[10, 20, 30, 40, 50, 60, 70, 80, 90, 100]\n"
     ]
    }
   ],
   "source": [
    "lst = [i for i in range(1,101) if i % 2==0 and i%5==0]\n",
    "print(lst)"
   ]
  },
  {
   "cell_type": "markdown",
   "id": "e977a35a",
   "metadata": {},
   "source": [
    "# del, pop(), remove(), clear()"
   ]
  },
  {
   "cell_type": "markdown",
   "id": "0ff04a28",
   "metadata": {},
   "source": [
    "# del -- del list_name[index]"
   ]
  },
  {
   "cell_type": "code",
   "execution_count": 65,
   "id": "a98e40cc",
   "metadata": {},
   "outputs": [
    {
     "name": "stdout",
     "output_type": "stream",
     "text": [
      "[10, 20, 30, 40, 50, 60, 70, 's']\n",
      "[20, 30, 40, 50, 60, 70, 's']\n"
     ]
    }
   ],
   "source": [
    "l = [10,20,30,40,50,60,70,\"s\"]\n",
    "print(l)\n",
    "del l[0]  # del<-- pass index then del but not return\n",
    "print(l)"
   ]
  },
  {
   "cell_type": "markdown",
   "id": "a314cb3b",
   "metadata": {},
   "source": [
    "# pop() ---> list_name.pop(index)"
   ]
  },
  {
   "cell_type": "code",
   "execution_count": 68,
   "id": "44b37a1d",
   "metadata": {},
   "outputs": [
    {
     "name": "stdout",
     "output_type": "stream",
     "text": [
      "[10, 20, 30, 40, 50, 60, 70, 's']\n",
      "[20, 30, 40, 50, 60, 70, 's']\n",
      "20\n"
     ]
    }
   ],
   "source": [
    "l = [10,20,30,40,50,60,70,\"s\"]\n",
    "print(l)\n",
    "l.pop(0) # it's similar to del\n",
    "print(l)\n",
    "print(l.pop(0))  # it's also which data delete"
   ]
  },
  {
   "cell_type": "markdown",
   "id": "64f7a2ac",
   "metadata": {},
   "source": [
    "# remove ---> list_name.remove(element)"
   ]
  },
  {
   "cell_type": "code",
   "execution_count": 69,
   "id": "f714790f",
   "metadata": {},
   "outputs": [
    {
     "name": "stdout",
     "output_type": "stream",
     "text": [
      "[10, 20, 30, 40, 50, 60, 70, 's']\n",
      "[20, 30, 40, 50, 60, 70, 's']\n"
     ]
    }
   ],
   "source": [
    "l = [10,20,30,40,50,60,70,\"s\"]\n",
    "print(l)\n",
    "l.remove(10)  # it's take element doesn't index\n",
    "print(l)"
   ]
  },
  {
   "cell_type": "markdown",
   "id": "3bb79e2d",
   "metadata": {},
   "source": [
    "# clear() --->  list_name.clear()"
   ]
  },
  {
   "cell_type": "code",
   "execution_count": 70,
   "id": "3bbf3656",
   "metadata": {},
   "outputs": [
    {
     "name": "stdout",
     "output_type": "stream",
     "text": [
      "[10, 20, 30, 40, 50, 60, 70, 's']\n",
      "[]\n"
     ]
    }
   ],
   "source": [
    "l = [10,20,30,40,50,60,70,\"s\"]\n",
    "print(l)\n",
    "l.clear()\n",
    "print(l)"
   ]
  },
  {
   "cell_type": "markdown",
   "id": "d137cbc9",
   "metadata": {},
   "source": [
    "# update ---> list_name[index] = element"
   ]
  },
  {
   "cell_type": "code",
   "execution_count": 71,
   "id": "97ddb949",
   "metadata": {},
   "outputs": [
    {
     "name": "stdout",
     "output_type": "stream",
     "text": [
      "[10, 20, 30, 40, 50, 60, 70, 's']\n",
      "[100, 20, 30, 40, 50, 60, 70, 's']\n"
     ]
    }
   ],
   "source": [
    "l = [10,20,30,40,50,60,70,\"s\"]\n",
    "print(l)\n",
    "l[0] = 100\n",
    "print(l)"
   ]
  },
  {
   "cell_type": "markdown",
   "id": "4d8b6451",
   "metadata": {},
   "source": [
    "# insert() ---> list_name.insert(index,element)\n"
   ]
  },
  {
   "cell_type": "code",
   "execution_count": 75,
   "id": "e2daa0a3",
   "metadata": {},
   "outputs": [
    {
     "name": "stdout",
     "output_type": "stream",
     "text": [
      "[10, 20, 30, 40, 50, 60, 70, 's']\n",
      "[150, 10, 20, 30, 40, 50, 60, 70, 's']\n",
      "[150, 10, 20, 30, 40, 50, 60, 70, 's', 300]\n"
     ]
    }
   ],
   "source": [
    "l = [10,20,30,40,50,60,70,\"s\"]\n",
    "print(l)\n",
    "l.insert(0,150)  # not any deletion here but only change index and element\n",
    "print(l)  \n",
    "l.insert(10,300)# if pass over index then value will put on last index\n",
    "print(l)"
   ]
  },
  {
   "cell_type": "markdown",
   "id": "0516d9e7",
   "metadata": {},
   "source": [
    "# append() ---> list_name.append(element)"
   ]
  },
  {
   "cell_type": "code",
   "execution_count": 77,
   "id": "31a50404",
   "metadata": {},
   "outputs": [
    {
     "name": "stdout",
     "output_type": "stream",
     "text": [
      "[10, 20, 30, 40, 50, 60, 70, 's']\n",
      "[10, 20, 30, 40, 50, 60, 70, 's', 100]\n",
      "[10, 20, 30, 40, 50, 60, 70, 's', 100, ['arman', 18, 628]]\n"
     ]
    }
   ],
   "source": [
    "l = [10,20,30,40,50,60,70,\"s\"]\n",
    "print(l)\n",
    "l.append(100)  # by default element add in last\n",
    "print(l)\n",
    "n = [\"arman\",18,628]\n",
    "l.append(n)\n",
    "print(l)"
   ]
  },
  {
   "cell_type": "markdown",
   "id": "89a522ae",
   "metadata": {},
   "source": [
    "# extends()"
   ]
  },
  {
   "cell_type": "code",
   "execution_count": 78,
   "id": "2840a51c",
   "metadata": {},
   "outputs": [
    {
     "name": "stdout",
     "output_type": "stream",
     "text": [
      "[10, 20, 30, 40, 50, 60, 70, 's']\n",
      "[10, 20, 30, 40, 50, 60, 70, 's', 10, 60]\n"
     ]
    }
   ],
   "source": [
    "l = [10,20,30,40,50,60,70,\"s\"]\n",
    "print(l)\n",
    "l.extend([10,60])\n",
    "print(l) # in append() data add with list but here only element add"
   ]
  },
  {
   "cell_type": "markdown",
   "id": "069f5c19",
   "metadata": {},
   "source": [
    "# count() , max(), min()"
   ]
  },
  {
   "cell_type": "code",
   "execution_count": 113,
   "id": "050a7f5f",
   "metadata": {},
   "outputs": [
    {
     "name": "stdout",
     "output_type": "stream",
     "text": [
      "how much time 10 occure:  2\n",
      "max:  70.5\n",
      "min:  10\n",
      "sorted list:  ['5', '5.0', 'ARMAN', 'ARman', 'ArmaaN', 'Arman', 'arman']\n",
      "arman\n"
     ]
    }
   ],
   "source": [
    "l = [10,20,30,40,10,50,60,70.5] # doesnot combine string otherwise error\n",
    "print(\"how much time 10 occure: \",l.count(10))  # count() basically count that how much time occur\n",
    "print(\"max: \",max(l))\n",
    "print(\"min: \",min(l))\n",
    "\n",
    "print(max(lst))\n"
   ]
  },
  {
   "cell_type": "markdown",
   "id": "869e887a",
   "metadata": {},
   "source": [
    "# sort(), reverse(),index()"
   ]
  },
  {
   "cell_type": "code",
   "execution_count": 119,
   "id": "722926f2",
   "metadata": {},
   "outputs": [
    {
     "name": "stdout",
     "output_type": "stream",
     "text": [
      "sorted list:  [1, 1.2, 2, 5, 6, 8, 9]\n",
      "sorted list:  ['5', '5.0', 'ARMAN', 'ARman', 'ArmaaN', 'Arman', 'arman']\n",
      "[9931064461, 70.5, 60, 50, 10, 40, 30, 20, 10]\n",
      "0\n"
     ]
    }
   ],
   "source": [
    "# sort()----------------------------\n",
    "lt = [1,5,2,1.2,8,6,9]\n",
    "lt.sort()\n",
    "print(\"sorted list: \",lt)\n",
    "\n",
    "lst = [\"arman\",\"Arman\",\"ARMAN\",\"ARman\",\"ArmaaN\",\"5\",\"5.0\"]\n",
    "lst.sort() \n",
    "print(\"sorted list: \",lst)\n",
    "\n",
    "# reverse()  -----------------------------\n",
    "\n",
    "l = [10,20,30,40,10,50,60,70.5,9931064461]  \n",
    "(l.reverse())  # reverse all element\n",
    "print(l)\n",
    "\n",
    "# index() give info about element on which index ---------------------\n",
    "lst = [\"arman\",\"Arman\",\"ARMAN\",\"ARman\",\"ArmaaN\",\"5\",\"5.0\"]\n",
    "a = lst.index(\"arman\")\n",
    "print(a)"
   ]
  },
  {
   "cell_type": "markdown",
   "id": "f0e75c0d",
   "metadata": {},
   "source": [
    "# zip()"
   ]
  },
  {
   "cell_type": "code",
   "execution_count": null,
   "id": "bb98c2b7",
   "metadata": {},
   "outputs": [],
   "source": [
    "# zip with use list and tuple.\n",
    "# using zip() we can iterate two or more list\\tuple at the same time."
   ]
  },
  {
   "cell_type": "code",
   "execution_count": 2,
   "id": "f3354482",
   "metadata": {},
   "outputs": [
    {
     "name": "stdout",
     "output_type": "stream",
     "text": [
      "10 1\n",
      "20 2\n",
      "30 3\n",
      "40 4\n"
     ]
    }
   ],
   "source": [
    "l1 = [10,20,30,40,50]\n",
    "l2 = [1,2,3,4]\n",
    "\n",
    "for i,j in zip(l1,l2): # element of l1 in i and l2 element in j\n",
    "    print(i,j)        # print with corresponding element"
   ]
  },
  {
   "cell_type": "code",
   "execution_count": 5,
   "id": "e1c178b0",
   "metadata": {},
   "outputs": [
    {
     "name": "stdout",
     "output_type": "stream",
     "text": [
      "10 1\n",
      "20 2\n",
      "30 3\n",
      "40 4\n"
     ]
    }
   ],
   "source": [
    "# without zip ()\n",
    "l1 = [10,20,30,40]\n",
    "l2 = [1,2,3,4,5]\n",
    "for i in range(len(l1)): # if len() of l1 is greater than l2 then error show.\n",
    "    print(l1[i],l2[i])"
   ]
  },
  {
   "cell_type": "code",
   "execution_count": 23,
   "id": "073cbdb6",
   "metadata": {},
   "outputs": [
    {
     "name": "stdout",
     "output_type": "stream",
     "text": [
      "10 1\n",
      "20 2\n",
      "30 3\n",
      "40 4\n",
      "<class 'tuple'>\n"
     ]
    }
   ],
   "source": [
    "# zip with tuple\n",
    "l1 = 10,20,30,40,\n",
    "l2 = (1,2,3,4)\n",
    "for i,j in zip(l1,l2):\n",
    "    print(i,j)\n",
    "print(type(l1))\n"
   ]
  },
  {
   "cell_type": "markdown",
   "id": "88bec8ef",
   "metadata": {},
   "source": [
    "# string to list"
   ]
  },
  {
   "cell_type": "code",
   "execution_count": 16,
   "id": "583013fa",
   "metadata": {},
   "outputs": [
    {
     "name": "stdout",
     "output_type": "stream",
     "text": [
      "Enter string: kj j \n",
      "['kj', 'j']\n"
     ]
    }
   ],
   "source": [
    "u_input = input(\"Enter string: \")\n",
    "l=u_input.split()  # single string convert in list\n",
    "print(l)"
   ]
  },
  {
   "cell_type": "code",
   "execution_count": 21,
   "id": "c7111a43",
   "metadata": {},
   "outputs": [
    {
     "name": "stdout",
     "output_type": "stream",
     "text": [
      "Enter the value1 : ar\n",
      "Enter the value2 : ma\n",
      "Enter the value3 : n\n",
      "['ar', 'ma', 'n']\n"
     ]
    }
   ],
   "source": [
    "l = []\n",
    "for i in range(1,4):\n",
    "    inp = input(\"Enter the value: \"+str(i)+\" : \")\n",
    "    l.append(inp)\n",
    "print(l)\n"
   ]
  },
  {
   "cell_type": "markdown",
   "id": "6b6dc02a",
   "metadata": {},
   "source": [
    "# implement a stack and queue using a list data type"
   ]
  },
  {
   "cell_type": "code",
   "execution_count": 28,
   "id": "21cdbee1",
   "metadata": {},
   "outputs": [
    {
     "name": "stdout",
     "output_type": "stream",
     "text": [
      " \n",
      "    1: push elements\n",
      "    2: pop elements\n",
      "    3: peek elements\n",
      "    4: Display stack\n",
      "    5: exit\n",
      "1\n",
      "Enter the value: 10\n",
      "['10']\n",
      " \n",
      "    1: push elements\n",
      "    2: pop elements\n",
      "    3: peek elements\n",
      "    4: Display stack\n",
      "    5: exit\n",
      "1\n",
      "Enter the value: 20\n",
      "['10', '20']\n",
      " \n",
      "    1: push elements\n",
      "    2: pop elements\n",
      "    3: peek elements\n",
      "    4: Display stack\n",
      "    5: exit\n",
      "50\n",
      " \n",
      "    1: push elements\n",
      "    2: pop elements\n",
      "    3: peek elements\n",
      "    4: Display stack\n",
      "    5: exit\n",
      "3\n",
      "last stack value:  20\n",
      " \n",
      "    1: push elements\n",
      "    2: pop elements\n",
      "    3: peek elements\n",
      "    4: Display stack\n",
      "    5: exit\n",
      "2\n",
      "20\n",
      "['10']\n",
      " \n",
      "    1: push elements\n",
      "    2: pop elements\n",
      "    3: peek elements\n",
      "    4: Display stack\n",
      "    5: exit\n",
      "4\n",
      "Display stack:  ['10']\n",
      " \n",
      "    1: push elements\n",
      "    2: pop elements\n",
      "    3: peek elements\n",
      "    4: Display stack\n",
      "    5: exit\n",
      "5\n"
     ]
    }
   ],
   "source": [
    "l = []\n",
    "\n",
    "while True:\n",
    "    c = int(input(\"\"\" \n",
    "    1: push elements\n",
    "    2: pop elements\n",
    "    3: peek elements\n",
    "    4: Display stack\n",
    "    5: exit\\n\"\"\"))\n",
    "    if c==1:\n",
    "        n = input(\"Enter the value: \")\n",
    "        l.append(n)\n",
    "        print(l)\n",
    "    elif c==2:\n",
    "        if len(l)==0:\n",
    "            print(\"Empty stack\")\n",
    "        else:\n",
    "            p=l.pop()\n",
    "            print(p)\n",
    "            print(l)\n",
    "    elif c==3:\n",
    "        if len(l) == 0:\n",
    "            print(\"Empty stack\")\n",
    "        else:\n",
    "            print(\"last stack value: \",l[-1])\n",
    "    elif c==4:\n",
    "        print(\"Display stack: \",l)\n",
    "    elif c==5:\n",
    "        break;\n",
    "    else:\n",
    "        print(\"invalid choice....\")\n",
    "            "
   ]
  },
  {
   "cell_type": "code",
   "execution_count": 29,
   "id": "b16c5912",
   "metadata": {},
   "outputs": [
    {
     "name": "stdout",
     "output_type": "stream",
     "text": [
      " \n",
      "    1: push elements\n",
      "    2: pop elements\n",
      "    3: front elements\n",
      "    4: last elements\n",
      "    5: Display Queue\n",
      "    6: exit\n",
      "1\n",
      "Enter the value: 10\n",
      "['10']\n",
      " \n",
      "    1: push elements\n",
      "    2: pop elements\n",
      "    3: front elements\n",
      "    4: last elements\n",
      "    5: Display Queue\n",
      "    6: exit\n",
      "1\n",
      "Enter the value: 20\n",
      "['10', '20']\n",
      " \n",
      "    1: push elements\n",
      "    2: pop elements\n",
      "    3: front elements\n",
      "    4: last elements\n",
      "    5: Display Queue\n",
      "    6: exit\n",
      "1\n",
      "Enter the value: 30\n",
      "['10', '20', '30']\n",
      " \n",
      "    1: push elements\n",
      "    2: pop elements\n",
      "    3: front elements\n",
      "    4: last elements\n",
      "    5: Display Queue\n",
      "    6: exit\n",
      "2\n",
      "20\n",
      "['20', '30']\n",
      " \n",
      "    1: push elements\n",
      "    2: pop elements\n",
      "    3: front elements\n",
      "    4: last elements\n",
      "    5: Display Queue\n",
      "    6: exit\n",
      "3\n",
      "last queue value:  20\n",
      " \n",
      "    1: push elements\n",
      "    2: pop elements\n",
      "    3: front elements\n",
      "    4: last elements\n",
      "    5: Display Queue\n",
      "    6: exit\n",
      "4\n",
      "last element of queue:  30\n",
      " \n",
      "    1: push elements\n",
      "    2: pop elements\n",
      "    3: front elements\n",
      "    4: last elements\n",
      "    5: Display Queue\n",
      "    6: exit\n",
      "5\n",
      "Display queue:  ['20', '30']\n",
      " \n",
      "    1: push elements\n",
      "    2: pop elements\n",
      "    3: front elements\n",
      "    4: last elements\n",
      "    5: Display Queue\n",
      "    6: exit\n",
      "6\n",
      "*********exit ********* exit**********\n"
     ]
    }
   ],
   "source": [
    "l = []\n",
    "\n",
    "while True:\n",
    "    c = int(input(\"\"\" \n",
    "    1: push elements\n",
    "    2: pop elements\n",
    "    3: front elements\n",
    "    4: last elements\n",
    "    5: Display Queue\n",
    "    6: exit\\n\"\"\"))\n",
    "    if c==1:\n",
    "        n = input(\"Enter the value: \")\n",
    "        l.append(n)\n",
    "        print(l)\n",
    "    elif c==2:\n",
    "        if len(l)==0:\n",
    "            print(\"Empty queue\")\n",
    "        else:\n",
    "            del l[0]\n",
    "            print(p)\n",
    "            print(l)\n",
    "    elif c==3:\n",
    "        if len(l) == 0:\n",
    "            print(\"Empty queue\")\n",
    "        else:\n",
    "            print(\"last queue value: \",l[0])\n",
    "    elif c==4:\n",
    "        print(\"last element of queue: \",l[-1])\n",
    "    elif c == 5:\n",
    "        print(\"Display queue: \",l)\n",
    "    elif c==6:\n",
    "        print(\"*********exit ********* exit**********\")\n",
    "        break;\n",
    "    else:\n",
    "        print(\"invalid choice....\")\n",
    "            "
   ]
  },
  {
   "cell_type": "markdown",
   "id": "83ef8bb0",
   "metadata": {},
   "source": [
    "# Dictionary"
   ]
  },
  {
   "cell_type": "code",
   "execution_count": null,
   "id": "e4a70896",
   "metadata": {},
   "outputs": [],
   "source": [
    "# unordered collection of data \n",
    "#uniquw key : value pair and  difine in {} and it's muttalble"
   ]
  },
  {
   "cell_type": "code",
   "execution_count": 35,
   "id": "1148f0a1",
   "metadata": {},
   "outputs": [
    {
     "name": "stdout",
     "output_type": "stream",
     "text": [
      "{'name': 'python', 'fees': 8000, 'duration': '2 months'}\n",
      "8000\n"
     ]
    }
   ],
   "source": [
    "d = {\n",
    "    'name':\"python\",\n",
    "    'fees':8000,\n",
    "    \"duration\": '2 months',\n",
    "}\n",
    "print(d)\n",
    "print(d['fees'])"
   ]
  },
  {
   "cell_type": "code",
   "execution_count": 41,
   "id": "90a5b84a",
   "metadata": {},
   "outputs": [
    {
     "name": "stdout",
     "output_type": "stream",
     "text": [
      "name python\n",
      "name\n",
      "python\n",
      "fees 8000\n",
      "fees\n",
      "8000\n",
      "duration 2 months\n",
      "duration\n",
      "2 months\n"
     ]
    }
   ],
   "source": [
    "for i in d:\n",
    "    print(i,d[i]) # i gives key and d[i] gives value\n",
    "    print(i)  # return key\n",
    "    print(d[i])  # return value\n",
    "  "
   ]
  },
  {
   "cell_type": "markdown",
   "id": "8f716458",
   "metadata": {},
   "source": [
    "# function with Dictionary"
   ]
  },
  {
   "cell_type": "code",
   "execution_count": null,
   "id": "fdadb24a",
   "metadata": {},
   "outputs": [],
   "source": [
    "# 1: get() <--- pass key and get value\n",
    "# 2: key()\n",
    "# 3: values()\n",
    "# 4: items()"
   ]
  },
  {
   "cell_type": "markdown",
   "id": "0b96ce63",
   "metadata": {},
   "source": [
    "# get(), key(), values(), items()"
   ]
  },
  {
   "cell_type": "code",
   "execution_count": 56,
   "id": "14a4e47e",
   "metadata": {},
   "outputs": [
    {
     "name": "stdout",
     "output_type": "stream",
     "text": [
      "python\n",
      "python\n"
     ]
    }
   ],
   "source": [
    "d = {\n",
    "    'name':\"python\",\n",
    "    'fees':8000,\n",
    "    \"duration\": '2 months',\n",
    "}\n",
    "n=d.get('name')  # using get()\n",
    "m = d['name']  # logical\n",
    "print(n)\n",
    "print(m)\n"
   ]
  },
  {
   "cell_type": "code",
   "execution_count": 47,
   "id": "5b7e30cf",
   "metadata": {},
   "outputs": [
    {
     "name": "stdout",
     "output_type": "stream",
     "text": [
      "name\n",
      "fees\n",
      "duration\n",
      "\n",
      "\n",
      "python\n",
      "8000\n",
      "2 months\n"
     ]
    }
   ],
   "source": [
    "d = {\n",
    "    'name':\"python\",\n",
    "    'fees':8000,\n",
    "    \"duration\": '2 months',\n",
    "}\n",
    "for i in d.keys():  # getting keys\n",
    "    print(i)\n",
    "print(\"\\n\")\n",
    "\n",
    "for i in d.values(): # getting values\n",
    "    print(i)"
   ]
  },
  {
   "cell_type": "code",
   "execution_count": 48,
   "id": "962ecfbd",
   "metadata": {},
   "outputs": [
    {
     "name": "stdout",
     "output_type": "stream",
     "text": [
      "name python\n",
      "fees 8000\n",
      "duration 2 months\n"
     ]
    }
   ],
   "source": [
    "d = {\n",
    "    'name':\"python\",\n",
    "    'fees':8000,\n",
    "    \"duration\": '2 months',\n",
    "}\n",
    "for i,j in d.items():\n",
    "    print(i,j)"
   ]
  },
  {
   "cell_type": "markdown",
   "id": "a3cf8d7b",
   "metadata": {},
   "source": [
    "# del, pop() using keys"
   ]
  },
  {
   "cell_type": "code",
   "execution_count": 51,
   "id": "aae6bc39",
   "metadata": {},
   "outputs": [
    {
     "name": "stdout",
     "output_type": "stream",
     "text": [
      "{'name': 'python', 'duration': '2 months'}\n"
     ]
    }
   ],
   "source": [
    "d = {\n",
    "    'name':\"python\",\n",
    "    'fees':8000,\n",
    "    \"duration\": '2 months',\n",
    "}\n",
    "del d['fees']\n",
    "print(d)"
   ]
  },
  {
   "cell_type": "code",
   "execution_count": 58,
   "id": "ec27cd45",
   "metadata": {},
   "outputs": [
    {
     "name": "stdout",
     "output_type": "stream",
     "text": [
      "8000\n",
      "{'name': 'python', 'duration': '2 months'}\n"
     ]
    }
   ],
   "source": [
    "# pop() do delete with return output\n",
    "d = {\n",
    "    'name':\"python\",\n",
    "    'fees':8000,\n",
    "    \"duration\": '2 months',\n",
    "}\n",
    "print(d.pop('fees'))\n",
    "print(d)"
   ]
  },
  {
   "cell_type": "markdown",
   "id": "2f09dd09",
   "metadata": {},
   "source": [
    "# dict(),update(), clear(),insert()"
   ]
  },
  {
   "cell_type": "code",
   "execution_count": 61,
   "id": "3f9c9ae2",
   "metadata": {},
   "outputs": [
    {
     "name": "stdout",
     "output_type": "stream",
     "text": [
      "{'name': 'python', 'fees': 8000, 'duration': '2 months'}\n",
      "{'name': 'python', 'fees': 10000, 'duration': '2 months'}\n"
     ]
    }
   ],
   "source": [
    "a = dict(name='python',fees=8000,duration='2 months')\n",
    "print(a)\n",
    "a.update({'fees':10000})\n",
    "print(a)"
   ]
  },
  {
   "cell_type": "code",
   "execution_count": 62,
   "id": "a379356c",
   "metadata": {},
   "outputs": [
    {
     "name": "stdout",
     "output_type": "stream",
     "text": [
      "{}\n"
     ]
    }
   ],
   "source": [
    "d = {\n",
    "    'name':\"python\",\n",
    "    'fees':8000,\n",
    "    \"duration\": '2 months',\n",
    "}\n",
    "d.clear()\n",
    "print(d)"
   ]
  },
  {
   "cell_type": "code",
   "execution_count": 64,
   "id": "53387dcd",
   "metadata": {},
   "outputs": [
    {
     "name": "stdout",
     "output_type": "stream",
     "text": [
      "{'name': 'python', 'fees': 10000, 'duration': '2 months', 'desc': 'This is Python'}\n"
     ]
    }
   ],
   "source": [
    "d = {\n",
    "    'name':\"python\",\n",
    "    'fees':8000,\n",
    "    \"duration\": '2 months',\n",
    "}\n",
    "d['fees'] = 10000  # values can update without using udate func\n",
    "d['desc']=\"This is Python\"\n",
    "print(d)"
   ]
  },
  {
   "cell_type": "markdown",
   "id": "163eac3e",
   "metadata": {},
   "source": [
    "# nested dictionay"
   ]
  },
  {
   "cell_type": "code",
   "execution_count": 8,
   "id": "20d6206f",
   "metadata": {},
   "outputs": [
    {
     "name": "stdout",
     "output_type": "stream",
     "text": [
      "{'java': {'fees': '10000', 'duration': '2 months'}, 'python': {'fees': '10000', 'duration': '3 months'}, 'english': {'fees': '8000', 'duration': '1.5 months'}}\n",
      "{'fees': '10000', 'duration': '3 months'}\n",
      "{'fees': '10000', 'duration': '2 months'}\n",
      "{'fees': '10000', 'duration': '3 months'}\n",
      "{'fees': '8000', 'duration': '1.5 months'}\n",
      "java {'fees': '10000', 'duration': '2 months'}\n",
      "python {'fees': '10000', 'duration': '3 months'}\n",
      "english {'fees': '8000', 'duration': '1.5 months'}\n"
     ]
    }
   ],
   "source": [
    "course = {\n",
    "    'java' : {'fees':\"10000\",'duration':\"2 months\" },\n",
    "    \"python\" : {'fees':\"10000\",'duration':\"3 months\"},\n",
    "    'english': {'fees': \"8000\",\"duration\": '1.5 months'}\n",
    "}\n",
    "print(course)\n",
    "print(course['python'])\n",
    "for i in course:\n",
    "    print(course[i])\n",
    "for i,j in course.items():\n",
    "    print(i,j)"
   ]
  },
  {
   "cell_type": "code",
   "execution_count": 14,
   "id": "bc55f7f1",
   "metadata": {},
   "outputs": [
    {
     "name": "stdout",
     "output_type": "stream",
     "text": [
      "java 2 months 2000\n",
      "python 3 months 10000\n"
     ]
    }
   ],
   "source": [
    "for i,j in course.items():\n",
    "    print(i,j['duration'],j['fees'])"
   ]
  },
  {
   "cell_type": "code",
   "execution_count": 16,
   "id": "aa48e4d3",
   "metadata": {},
   "outputs": [
    {
     "name": "stdout",
     "output_type": "stream",
     "text": [
      "{'java': {'fees': 2000, 'duration': '2 months'}, 'python': {'fees': '10000', 'duration': '3 months'}}\n",
      "{'java': {'fees': 2000, 'duration': '2 months'}}\n"
     ]
    }
   ],
   "source": [
    "course['java']['fees'] = 2000\n",
    "print(course)\n",
    "del course['python']\n",
    "print(course)"
   ]
  },
  {
   "cell_type": "markdown",
   "id": "d8f0d830",
   "metadata": {},
   "source": [
    "# tuple"
   ]
  },
  {
   "cell_type": "code",
   "execution_count": null,
   "id": "5e8aef34",
   "metadata": {},
   "outputs": [],
   "source": [
    "# sequence(ordered) data type, immutable\n",
    "# use to make something constant"
   ]
  },
  {
   "cell_type": "code",
   "execution_count": 54,
   "id": "44b42687",
   "metadata": {},
   "outputs": [
    {
     "name": "stdout",
     "output_type": "stream",
     "text": [
      "4,2,5,6,7,"
     ]
    }
   ],
   "source": [
    "t = (4,2,5,6,7)\n",
    "for i in t:\n",
    "    print(i,end=\",\")"
   ]
  },
  {
   "cell_type": "markdown",
   "id": "d08e4442",
   "metadata": {},
   "source": [
    "# tuple <----- min(), max(), sum(), index(), sum()"
   ]
  },
  {
   "cell_type": "code",
   "execution_count": 64,
   "id": "9702da64",
   "metadata": {},
   "outputs": [
    {
     "name": "stdout",
     "output_type": "stream",
     "text": [
      "2\n",
      "7\n",
      "29\n",
      "2\n",
      "2\n"
     ]
    }
   ],
   "source": [
    "t = (4,2,5,6,5,7)\n",
    "print(min(t))\n",
    "print(max(t))\n",
    "print(sum(t))\n",
    "print(t.count(5))\n",
    "print(t.index(5))\n"
   ]
  },
  {
   "cell_type": "markdown",
   "id": "f964ea6c",
   "metadata": {},
   "source": [
    "# set() <--- pop(), add(), pop(),remove(),clear(),discard(),update()"
   ]
  },
  {
   "cell_type": "code",
   "execution_count": null,
   "id": "aeae3420",
   "metadata": {},
   "outputs": [],
   "source": [
    "# unique element, {} \n",
    "# remove()<--- if the item to remove doesn't exit, remove will raise an error.\n",
    "#discard()<---if the item to remove doesn't exit,discard willn't raise an error\n",
    "# note:-- set the element according to ascii values"
   ]
  },
  {
   "cell_type": "code",
   "execution_count": 85,
   "id": "bb53796c",
   "metadata": {},
   "outputs": [
    {
     "name": "stdout",
     "output_type": "stream",
     "text": [
      "{4, 5, 6, 8, 9, 10, 20, 30}\n",
      "4\n",
      "5\n",
      "{6, 8, 9, 20, 30}\n",
      "None\n"
     ]
    }
   ],
   "source": [
    "s={10,20,30,4,5,6,8,9}\n",
    "print(s)\n",
    "s.discard(50) # not raise any error\n",
    "s.remove(10) #\n",
    "print(s.pop()) # \n",
    "print(s.pop())\n",
    "print(s)\n",
    "print(s.clear()) # clear use in set and dictionay and list"
   ]
  },
  {
   "cell_type": "code",
   "execution_count": 97,
   "id": "ec4a30e8",
   "metadata": {},
   "outputs": [
    {
     "name": "stdout",
     "output_type": "stream",
     "text": [
      "4 5 6 8 9 10 20 30 <class 'set'>\n"
     ]
    }
   ],
   "source": [
    "l=[10,20,30,4,5,6,8,9]\n",
    "s=set(l)\n",
    "for i in s:\n",
    "    print(i,end=' ')\n",
    "print(type(s))"
   ]
  },
  {
   "cell_type": "code",
   "execution_count": 98,
   "id": "deefc8b3",
   "metadata": {},
   "outputs": [
    {
     "name": "stdout",
     "output_type": "stream",
     "text": [
      "{32, 4, 5, 6, 8, 9, 10, 12, 45, 20, 30}\n"
     ]
    }
   ],
   "source": [
    "l={10,20,30,4,5,6,8,9}\n",
    "l2= [12,45,32,10,8,9]\n",
    "(l).update((l2))\n",
    "print(l)"
   ]
  },
  {
   "cell_type": "markdown",
   "id": "7656887e",
   "metadata": {},
   "source": [
    "# Function"
   ]
  },
  {
   "cell_type": "code",
   "execution_count": 3,
   "id": "bf3abcc3",
   "metadata": {},
   "outputs": [
    {
     "name": "stdout",
     "output_type": "stream",
     "text": [
      "arman\n"
     ]
    }
   ],
   "source": [
    "def p():\n",
    "    print(\"arman\")\n",
    "p()"
   ]
  },
  {
   "cell_type": "code",
   "execution_count": 13,
   "id": "440f90db",
   "metadata": {},
   "outputs": [
    {
     "name": "stdout",
     "output_type": "stream",
     "text": [
      "Enter value a: 4\n",
      "Enter value b: 45\n",
      "Sum of a:100 and b:500:  600\n"
     ]
    }
   ],
   "source": [
    "def sum(a,b):\n",
    "    print(f\"Sum of a:{a} and b:{b}: \",a+b)\n",
    "a = eval(input(\"Enter value a: \"))\n",
    "b = eval(input(\"Enter value b: \"))\n",
    "sum(100,500)  # depends on which values are passing"
   ]
  },
  {
   "cell_type": "code",
   "execution_count": 20,
   "id": "6c33b06e",
   "metadata": {},
   "outputs": [
    {
     "name": "stdout",
     "output_type": "stream",
     "text": [
      "sum of a5 and b5 :  10\n"
     ]
    }
   ],
   "source": [
    "def default(a,b=5):\n",
    "    print(f\"sum of a{a} and b{b} : \",a+b)\n",
    "a=10\n",
    "default(5)"
   ]
  },
  {
   "cell_type": "code",
   "execution_count": 25,
   "id": "b46500d7",
   "metadata": {},
   "outputs": [
    {
     "name": "stdout",
     "output_type": "stream",
     "text": [
      "no\n"
     ]
    }
   ],
   "source": [
    "def sum(a,b=10):\n",
    "    c = a+b\n",
    "    if c > 50:\n",
    "        print(\"greater\")\n",
    "    else:\n",
    "        print(\"no\")\n",
    "    #return c\n",
    "# output = sum(15)\n",
    "# print(\"sum\",output)\n",
    "sum(15)"
   ]
  },
  {
   "cell_type": "code",
   "execution_count": 28,
   "id": "61ab591f",
   "metadata": {},
   "outputs": [
    {
     "data": {
      "text/plain": [
       "729"
      ]
     },
     "execution_count": 28,
     "metadata": {},
     "output_type": "execute_result"
    }
   ],
   "source": [
    "# return statemnt\n",
    "def sum(a,b = 15):\n",
    "    c = a+b\n",
    "    return c * c\n",
    "# output = sum(15)\n",
    "# print(\"output\",output)\n",
    "sum(12)"
   ]
  },
  {
   "cell_type": "code",
   "execution_count": 16,
   "id": "07ee60cf",
   "metadata": {},
   "outputs": [
    {
     "name": "stdout",
     "output_type": "stream",
     "text": [
      "Enter num1 : 5\n",
      "Enter num2 : 4\n",
      "9\n"
     ]
    }
   ],
   "source": [
    "def add(num_1, num_2=5):\n",
    "    \n",
    "    num_1 = eval(input(\"Enter num1 : \"))\n",
    "    num_2 = eval(input(\"Enter num2 : \"))\n",
    "    s= num_1 + num_2\n",
    "    #print(\"sum: \",s)\n",
    "    return s\n",
    "    \n",
    "sum=add(num1,num2)\n",
    "print(sum)"
   ]
  },
  {
   "cell_type": "markdown",
   "id": "5733db2f",
   "metadata": {},
   "source": [
    "# Module"
   ]
  },
  {
   "cell_type": "code",
   "execution_count": 32,
   "id": "b0db4d20",
   "metadata": {},
   "outputs": [
    {
     "name": "stdout",
     "output_type": "stream",
     "text": [
      "3.0\n"
     ]
    }
   ],
   "source": [
    "#import math\n",
    "from math import * # call all function\n",
    "print(sqrt(9))"
   ]
  },
  {
   "cell_type": "code",
   "execution_count": 33,
   "id": "ef6964c4",
   "metadata": {},
   "outputs": [
    {
     "name": "stdout",
     "output_type": "stream",
     "text": [
      "2.6457513110645907\n"
     ]
    }
   ],
   "source": [
    "import math as m\n",
    "print(m.sqrt(7))"
   ]
  },
  {
   "cell_type": "code",
   "execution_count": 42,
   "id": "df7e8139",
   "metadata": {},
   "outputs": [],
   "source": [
    "import pandas as pd\n",
    "import numpy as np\n",
    "\n",
    "def my_func(inpt):\n",
    "    size = len(inpt)\n",
    "    return np.sum(inpt)/size"
   ]
  },
  {
   "cell_type": "code",
   "execution_count": 66,
   "id": "eda5e3f2",
   "metadata": {},
   "outputs": [
    {
     "data": {
      "text/plain": [
       "10"
      ]
     },
     "execution_count": 66,
     "metadata": {},
     "output_type": "execute_result"
    }
   ],
   "source": [
    "import math\n",
    "math.ceil(10.00000000000000009)"
   ]
  },
  {
   "cell_type": "markdown",
   "id": "ba4a1437",
   "metadata": {},
   "source": [
    "# math <----- ceil() . (next integer), "
   ]
  },
  {
   "cell_type": "code",
   "execution_count": 67,
   "id": "8bedf630",
   "metadata": {},
   "outputs": [
    {
     "data": {
      "text/plain": [
       "10"
      ]
     },
     "execution_count": 67,
     "metadata": {},
     "output_type": "execute_result"
    }
   ],
   "source": [
    "import math\n",
    "math.ceil(10.00000000000000009)"
   ]
  },
  {
   "cell_type": "markdown",
   "id": "0e379f85",
   "metadata": {},
   "source": [
    "# fabs()  , only +ve value float"
   ]
  },
  {
   "cell_type": "code",
   "execution_count": 70,
   "id": "bb75b2fa",
   "metadata": {},
   "outputs": [
    {
     "name": "stdout",
     "output_type": "stream",
     "text": [
      "10.0\n"
     ]
    }
   ],
   "source": [
    "print(math.fabs(-10))"
   ]
  },
  {
   "cell_type": "markdown",
   "id": "afedbb1a",
   "metadata": {},
   "source": [
    "# factorial"
   ]
  },
  {
   "cell_type": "code",
   "execution_count": 71,
   "id": "066512aa",
   "metadata": {},
   "outputs": [
    {
     "data": {
      "text/plain": [
       "120"
      ]
     },
     "execution_count": 71,
     "metadata": {},
     "output_type": "execute_result"
    }
   ],
   "source": [
    "math.factorial(5)"
   ]
  },
  {
   "cell_type": "code",
   "execution_count": 8,
   "id": "f1a9993e",
   "metadata": {},
   "outputs": [
    {
     "name": "stdout",
     "output_type": "stream",
     "text": [
      "120\n"
     ]
    }
   ],
   "source": [
    "\n",
    "def factorial (num):\n",
    "    return 1 if (num == 0 or num == 1)else num * factorial(num-1);\n",
    "num = 5\n",
    "print(factorial(num))"
   ]
  },
  {
   "cell_type": "markdown",
   "id": "43c999a0",
   "metadata": {},
   "source": [
    "# floor <--- gives privious integer"
   ]
  },
  {
   "cell_type": "code",
   "execution_count": 4,
   "id": "a4e2c975",
   "metadata": {},
   "outputs": [
    {
     "data": {
      "text/plain": [
       "10"
      ]
     },
     "execution_count": 4,
     "metadata": {},
     "output_type": "execute_result"
    }
   ],
   "source": [
    "import math\n",
    "math.floor(10.5)"
   ]
  },
  {
   "cell_type": "markdown",
   "id": "c82efbc4",
   "metadata": {},
   "source": [
    "# fsum() <--- return sum of list/list in float"
   ]
  },
  {
   "cell_type": "code",
   "execution_count": 26,
   "id": "75078b37",
   "metadata": {},
   "outputs": [
    {
     "name": "stdout",
     "output_type": "stream",
     "text": [
      "False\n",
      "149.0\n"
     ]
    }
   ],
   "source": [
    "import math\n",
    "lst = (10,36,25,78)\n",
    "lst_ = 5\n",
    "print(math.isnan(lst_))\n",
    "print(math.fsum(lst))"
   ]
  },
  {
   "cell_type": "markdown",
   "id": "3ed8fe4f",
   "metadata": {},
   "source": [
    "# sqrt"
   ]
  },
  {
   "cell_type": "code",
   "execution_count": 39,
   "id": "5cf23c66",
   "metadata": {},
   "outputs": [
    {
     "name": "stdout",
     "output_type": "stream",
     "text": [
      "5\n",
      "50\n",
      "1.0\n",
      "9765625.0\n"
     ]
    }
   ],
   "source": [
    "print(math.isqrt(26))\n",
    "print(math.trunc(50.240))\n",
    "print(math.tanh(145))\n",
    "print(math.pow(5,10))"
   ]
  },
  {
   "cell_type": "code",
   "execution_count": 19,
   "id": "07b925c2",
   "metadata": {},
   "outputs": [
    {
     "name": "stdout",
     "output_type": "stream",
     "text": [
      "4\n"
     ]
    }
   ],
   "source": [
    "print(math.gcd(16,4,8))"
   ]
  },
  {
   "cell_type": "code",
   "execution_count": 20,
   "id": "88641376",
   "metadata": {},
   "outputs": [
    {
     "name": "stdout",
     "output_type": "stream",
     "text": [
      "0.6989700043360189\n"
     ]
    }
   ],
   "source": [
    "print(math.log10(5))"
   ]
  },
  {
   "cell_type": "markdown",
   "id": "fa94c640",
   "metadata": {},
   "source": [
    "# random randint()"
   ]
  },
  {
   "cell_type": "code",
   "execution_count": null,
   "id": "7c54ca24",
   "metadata": {},
   "outputs": [],
   "source": [
    "# random.randint()\n",
    "# random.randrange(5,10)\n",
    "\n",
    "# random.choice(l) # take a list and throw random output \n",
    "\n",
    "#random.random() # only 0 to 1 float value\n",
    "# random.uniform(1,100) take a range and give random value in float\n",
    "\n",
    "# random.shuffle() # take a list and shuffle them"
   ]
  },
  {
   "cell_type": "code",
   "execution_count": 46,
   "id": "bf37f1c6",
   "metadata": {},
   "outputs": [
    {
     "name": "stdout",
     "output_type": "stream",
     "text": [
      "9\n",
      "6\n"
     ]
    }
   ],
   "source": [
    "import random\n",
    "print(random.randint(5,10))  # 5 to 10\n",
    "print(random.randrange(5,10)) # 5 to 9\n"
   ]
  },
  {
   "cell_type": "code",
   "execution_count": 51,
   "id": "db922f68",
   "metadata": {},
   "outputs": [
    {
     "name": "stdout",
     "output_type": "stream",
     "text": [
      "apple\n"
     ]
    }
   ],
   "source": [
    "l = [\"apple\",\"mango\",\"others\"]\n",
    "print(random.choice(l))"
   ]
  },
  {
   "cell_type": "code",
   "execution_count": 56,
   "id": "88334df5",
   "metadata": {},
   "outputs": [
    {
     "name": "stdout",
     "output_type": "stream",
     "text": [
      "23\n"
     ]
    }
   ],
   "source": [
    "import random\n",
    "def rand():\n",
    "    print(random.randint(1,100))\n",
    "(rand())\n",
    "    "
   ]
  },
  {
   "cell_type": "code",
   "execution_count": 58,
   "id": "fe30fd68",
   "metadata": {},
   "outputs": [
    {
     "name": "stdout",
     "output_type": "stream",
     "text": [
      "0.6059821556177519\n"
     ]
    }
   ],
   "source": [
    "r = random.random() # only 0 to 1 float value\n",
    "print(r)"
   ]
  },
  {
   "cell_type": "code",
   "execution_count": 64,
   "id": "8807dbc7",
   "metadata": {},
   "outputs": [
    {
     "name": "stdout",
     "output_type": "stream",
     "text": [
      "[10, 45, 78, 50]\n"
     ]
    }
   ],
   "source": [
    "L = [10,50,78,45]\n",
    "random.shuffle(L)\n",
    "print(L)"
   ]
  },
  {
   "cell_type": "code",
   "execution_count": 73,
   "id": "355060a5",
   "metadata": {},
   "outputs": [
    {
     "name": "stdout",
     "output_type": "stream",
     "text": [
      "807448503832158.8\n"
     ]
    }
   ],
   "source": [
    "u = random.uniform(1,1000000000000000) # gives float value\n",
    "print(u)"
   ]
  },
  {
   "cell_type": "markdown",
   "id": "523069f8",
   "metadata": {},
   "source": [
    "# Datetime"
   ]
  },
  {
   "cell_type": "code",
   "execution_count": 79,
   "id": "da3f944a",
   "metadata": {},
   "outputs": [
    {
     "name": "stdout",
     "output_type": "stream",
     "text": [
      "2022-10-13 20:10:17.492805\n",
      "2022-10-13 00:00:00\n"
     ]
    }
   ],
   "source": [
    "import datetime\n",
    "x = datetime.datetime.now()\n",
    "print(x)\n",
    "print(datetime.datetime(2022,10,13))"
   ]
  },
  {
   "cell_type": "code",
   "execution_count": 91,
   "id": "781e41ff",
   "metadata": {},
   "outputs": [
    {
     "name": "stdout",
     "output_type": "stream",
     "text": [
      "2022\n"
     ]
    }
   ],
   "source": [
    "# strftime()\n",
    "import datetime\n",
    "now = datetime.datetime.now()\n",
    "year = now.strftime( \"%Y\") # take only one arguement\n",
    "print(year)"
   ]
  },
  {
   "cell_type": "markdown",
   "id": "634ebfd3",
   "metadata": {},
   "source": [
    "# Number guessing game"
   ]
  },
  {
   "cell_type": "code",
   "execution_count": 105,
   "id": "d8fc0c14",
   "metadata": {},
   "outputs": [
    {
     "name": "stdout",
     "output_type": "stream",
     "text": [
      "Enter your number should be 1 to 100: 2\n",
      "2 is greater than  1\n",
      "Enter your number should be 1 to 100: 1\n",
      "congrats, you win\n",
      "your input is  1  and random input is  1\n"
     ]
    }
   ],
   "source": [
    "import random\n",
    "r_value = random.randint(1,5)\n",
    "#u_input = eval(input(\"Enter your number should be 1 to 100: \"))\n",
    "while True:\n",
    "    u_input = eval(input(\"Enter your number should be 1 to 100: \"))\n",
    "    if u_input > r_value:\n",
    "        print(u_input ,\"is greater than \", r_value)\n",
    "    elif u_input < r_value:\n",
    "        print(u_input ,\"is less than \", r_value)\n",
    "    else:\n",
    "        print(\"congrats, you win\")\n",
    "        print(\"your input is \",u_input, \" and random input is also \", r_value)\n",
    "        break\n",
    "        "
   ]
  },
  {
   "cell_type": "code",
   "execution_count": 111,
   "id": "e1280b75",
   "metadata": {},
   "outputs": [
    {
     "name": "stdout",
     "output_type": "stream",
     "text": [
      "paper\n"
     ]
    }
   ],
   "source": [
    "import random\n",
    "l = [\"Rock\",\"paper\",\"scissor\"]\n",
    "comp_random = random.choice(l)\n",
    "#print(comp_random)\n",
    "\n",
    "while True:\n",
    "    \n",
    "    print(\"you have to choice any one as like as mention below\")\n",
    "    print(\"1. Rock\\n2. paper\\n3. scissor\")\n",
    "    \n",
    "    user_choice =  str(input(\"Enter your choice: \"))\n",
    "    \n",
    "    if comp_random == \"\",user_choise:\n",
    "        "
   ]
  },
  {
   "cell_type": "markdown",
   "id": "7ca4ee26",
   "metadata": {},
   "source": [
    "# pickle"
   ]
  },
  {
   "cell_type": "code",
   "execution_count": null,
   "id": "6a74a76f",
   "metadata": {},
   "outputs": [],
   "source": [
    "\"\"\"\n",
    "Booleans\n",
    "integers\n",
    "floats\n",
    "complex numbers\n",
    "(normal and unicode) Strings\n",
    "Tuples\n",
    "Lists\n",
    "Sets, and\n",
    "Dictionaries.  \"\"\"\n",
    "#two function\n",
    "\n",
    "#dump() <--- serialize the data... syntax: dump(obj,file)\n",
    " "
   ]
  },
  {
   "cell_type": "code",
   "execution_count": 7,
   "id": "17017d52",
   "metadata": {},
   "outputs": [],
   "source": [
    "import pickle\n",
    "l = [10,20,30,40]\n",
    "file = open(\"program_ws.txt\",\"wb\")  # wb >--- write binary\n",
    "pickle.dump(l,file)\n",
    "file.close()"
   ]
  },
  {
   "cell_type": "code",
   "execution_count": 6,
   "id": "ace4a086",
   "metadata": {},
   "outputs": [
    {
     "name": "stdout",
     "output_type": "stream",
     "text": [
      "[10, 20, 30, 40]\n"
     ]
    }
   ],
   "source": [
    "import pickle\n",
    "\n",
    "file = open(\"program_ws.txt\",\"rb\")\n",
    "# the load() takes a file object,reconstruct the objects from the pickled\n",
    "l = pickle.load(file)\n",
    "print(l)"
   ]
  },
  {
   "cell_type": "code",
   "execution_count": 11,
   "id": "727403b9",
   "metadata": {},
   "outputs": [
    {
     "ename": "TypeError",
     "evalue": "write() argument must be str, not bytes",
     "output_type": "error",
     "traceback": [
      "\u001b[1;31m---------------------------------------------------------------------------\u001b[0m",
      "\u001b[1;31mTypeError\u001b[0m                                 Traceback (most recent call last)",
      "\u001b[1;32m~\\AppData\\Local\\Temp/ipykernel_10280/3568105711.py\u001b[0m in \u001b[0;36m<module>\u001b[1;34m\u001b[0m\n\u001b[0;32m      2\u001b[0m \u001b[0mf\u001b[0m \u001b[1;33m=\u001b[0m \u001b[1;33m[\u001b[0m\u001b[1;34m\"arman\"\u001b[0m\u001b[1;33m,\u001b[0m\u001b[1;34m\"firdosh\"\u001b[0m\u001b[1;33m,\u001b[0m\u001b[1;34m\"wasim\"\u001b[0m\u001b[1;33m,\u001b[0m\u001b[1;34m\"faishal\"\u001b[0m\u001b[1;33m]\u001b[0m\u001b[1;33m\u001b[0m\u001b[1;33m\u001b[0m\u001b[0m\n\u001b[0;32m      3\u001b[0m \u001b[0mfile_\u001b[0m \u001b[1;33m=\u001b[0m \u001b[0mopen\u001b[0m\u001b[1;33m(\u001b[0m\u001b[1;34m\"program_ws.txt\"\u001b[0m\u001b[1;33m,\u001b[0m\u001b[1;34m\"a\"\u001b[0m\u001b[1;33m)\u001b[0m\u001b[1;33m\u001b[0m\u001b[1;33m\u001b[0m\u001b[0m\n\u001b[1;32m----> 4\u001b[1;33m \u001b[0mpickle\u001b[0m\u001b[1;33m.\u001b[0m\u001b[0mdump\u001b[0m\u001b[1;33m(\u001b[0m\u001b[0mf\u001b[0m\u001b[1;33m,\u001b[0m\u001b[0mfile_\u001b[0m\u001b[1;33m)\u001b[0m\u001b[1;33m\u001b[0m\u001b[1;33m\u001b[0m\u001b[0m\n\u001b[0m\u001b[0;32m      5\u001b[0m \u001b[0mfile_\u001b[0m\u001b[1;33m.\u001b[0m\u001b[0mclose\u001b[0m\u001b[1;33m(\u001b[0m\u001b[1;33m)\u001b[0m\u001b[1;33m\u001b[0m\u001b[1;33m\u001b[0m\u001b[0m\n",
      "\u001b[1;31mTypeError\u001b[0m: write() argument must be str, not bytes"
     ]
    }
   ],
   "source": [
    "import pickle\n",
    "f = [\"arman\",\"firdosh\",\"wasim\",\"faishal\"]\n",
    "file_ = open(\"program_ws.txt\",\"a\")\n",
    "pickle.load(f,file_)\n",
    "file_.close()\n"
   ]
  },
  {
   "cell_type": "markdown",
   "id": "14e1855a",
   "metadata": {},
   "source": [
    "# JSON(java Script Object Notation)<-- use in back end"
   ]
  },
  {
   "cell_type": "code",
   "execution_count": null,
   "id": "c5b745c3",
   "metadata": {},
   "outputs": [],
   "source": [
    "#it is mainly used for storing and transferring data b\\w the browser and the\n",
    "#server.\n",
    "#JSON is text, written with Java script object notation.\n",
    "#Python too supports json with a built-in package called json.\n",
    "# import json "
   ]
  },
  {
   "cell_type": "code",
   "execution_count": null,
   "id": "e17d9d4a",
   "metadata": {},
   "outputs": [],
   "source": [
    "# json supports.\n",
    "#string , number, boolean, null, object, array"
   ]
  },
  {
   "cell_type": "code",
   "execution_count": 14,
   "id": "a32462c4",
   "metadata": {},
   "outputs": [
    {
     "name": "stdout",
     "output_type": "stream",
     "text": [
      "{\"couse\": \"python\", \"fees\": 15000}\n",
      "<class 'str'>\n"
     ]
    }
   ],
   "source": [
    "import json\n",
    "d = {\n",
    "    'couse': 'python',\n",
    "    'fees': 15000\n",
    "}\n",
    "f = json.dumps(d)\n",
    "print(f)\n",
    "print(type(f))"
   ]
  },
  {
   "cell_type": "code",
   "execution_count": 25,
   "id": "6c2c8e5f",
   "metadata": {},
   "outputs": [
    {
     "name": "stdout",
     "output_type": "stream",
     "text": [
      "{\"course\":\"python\",\"fees\":1000,\"duration\":\"6 months\"}\n",
      "<class 'dict'>\n",
      "{'course': 'python', 'fees': 1000, 'duration': '6 months'}\n",
      "course python\n",
      "fees 1000\n",
      "duration 6 months\n"
     ]
    }
   ],
   "source": [
    "import json\n",
    "dic= '{\"course\":\"python\",\"fees\":1000,\"duration\":\"6 months\"}' # it's str\n",
    "x = json.loads(dic) # it's dic\n",
    "print(dic)\n",
    "print(type(x))\n",
    "print(x)\n",
    "for i in x:\n",
    "    print(i,x[i])"
   ]
  },
  {
   "cell_type": "code",
   "execution_count": null,
   "id": "2e7a1e7a",
   "metadata": {},
   "outputs": [],
   "source": []
  },
  {
   "cell_type": "code",
   "execution_count": null,
   "id": "c2f2fa26",
   "metadata": {},
   "outputs": [],
   "source": []
  },
  {
   "cell_type": "code",
   "execution_count": null,
   "id": "3c4cb02d",
   "metadata": {},
   "outputs": [],
   "source": []
  },
  {
   "cell_type": "code",
   "execution_count": null,
   "id": "fe45b3b0",
   "metadata": {},
   "outputs": [],
   "source": []
  },
  {
   "cell_type": "code",
   "execution_count": null,
   "id": "1aeed7d6",
   "metadata": {},
   "outputs": [],
   "source": []
  },
  {
   "cell_type": "code",
   "execution_count": null,
   "id": "690b0bf9",
   "metadata": {},
   "outputs": [],
   "source": []
  },
  {
   "cell_type": "code",
   "execution_count": null,
   "id": "c5a8f059",
   "metadata": {},
   "outputs": [],
   "source": []
  },
  {
   "cell_type": "code",
   "execution_count": null,
   "id": "3748cbc6",
   "metadata": {},
   "outputs": [],
   "source": []
  },
  {
   "cell_type": "code",
   "execution_count": null,
   "id": "9c73ce4b",
   "metadata": {},
   "outputs": [],
   "source": []
  },
  {
   "cell_type": "code",
   "execution_count": null,
   "id": "2b2f52f5",
   "metadata": {},
   "outputs": [],
   "source": []
  },
  {
   "cell_type": "code",
   "execution_count": null,
   "id": "18e2a2ef",
   "metadata": {},
   "outputs": [],
   "source": []
  },
  {
   "cell_type": "code",
   "execution_count": null,
   "id": "ee5f8923",
   "metadata": {},
   "outputs": [],
   "source": []
  },
  {
   "cell_type": "code",
   "execution_count": null,
   "id": "e538fd95",
   "metadata": {},
   "outputs": [],
   "source": []
  },
  {
   "cell_type": "code",
   "execution_count": null,
   "id": "c3e91269",
   "metadata": {},
   "outputs": [],
   "source": []
  },
  {
   "cell_type": "code",
   "execution_count": null,
   "id": "801e8e25",
   "metadata": {},
   "outputs": [],
   "source": []
  },
  {
   "cell_type": "code",
   "execution_count": null,
   "id": "1ed1b706",
   "metadata": {},
   "outputs": [],
   "source": []
  },
  {
   "cell_type": "code",
   "execution_count": null,
   "id": "3fca0118",
   "metadata": {},
   "outputs": [],
   "source": []
  },
  {
   "cell_type": "code",
   "execution_count": null,
   "id": "1098be04",
   "metadata": {},
   "outputs": [],
   "source": []
  },
  {
   "cell_type": "code",
   "execution_count": null,
   "id": "b40070ed",
   "metadata": {},
   "outputs": [],
   "source": []
  },
  {
   "cell_type": "code",
   "execution_count": null,
   "id": "b727ff60",
   "metadata": {},
   "outputs": [],
   "source": []
  },
  {
   "cell_type": "code",
   "execution_count": null,
   "id": "04a06162",
   "metadata": {},
   "outputs": [],
   "source": []
  },
  {
   "cell_type": "code",
   "execution_count": null,
   "id": "d7a67520",
   "metadata": {},
   "outputs": [],
   "source": []
  },
  {
   "cell_type": "code",
   "execution_count": null,
   "id": "5b6a7504",
   "metadata": {},
   "outputs": [],
   "source": []
  },
  {
   "cell_type": "code",
   "execution_count": null,
   "id": "a16fa1c1",
   "metadata": {},
   "outputs": [],
   "source": []
  }
 ],
 "metadata": {
  "kernelspec": {
   "display_name": "Python 3 (ipykernel)",
   "language": "python",
   "name": "python3"
  },
  "language_info": {
   "codemirror_mode": {
    "name": "ipython",
    "version": 3
   },
   "file_extension": ".py",
   "mimetype": "text/x-python",
   "name": "python",
   "nbconvert_exporter": "python",
   "pygments_lexer": "ipython3",
   "version": "3.9.7"
  }
 },
 "nbformat": 4,
 "nbformat_minor": 5
}
