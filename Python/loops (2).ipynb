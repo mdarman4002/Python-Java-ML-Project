{
 "cells": [
  {
   "cell_type": "markdown",
   "metadata": {},
   "source": [
    "# Python while loop"
   ]
  },
  {
   "cell_type": "markdown",
   "metadata": {},
   "source": [
    "the while loop in python is used to iterate over a block of the code as long as the test expression(condition)is true."
   ]
  },
  {
   "cell_type": "markdown",
   "metadata": {},
   "source": [
    "# Syntax:"
   ]
  },
  {
   "cell_type": "markdown",
   "metadata": {},
   "source": [
    "        while text_expression:\n",
    "            \n",
    "            Body of while\n",
    "        \n",
    "        "
   ]
  },
  {
   "cell_type": "markdown",
   "metadata": {},
   "source": [
    "the body of the loop is entered only if the test_expression evaluates to true.\n",
    "\n",
    "After one iteration, the test expression is checked again.\n",
    "\n",
    "This process continues until the test_expression to false."
   ]
  },
  {
   "cell_type": "code",
   "execution_count": 2,
   "metadata": {},
   "outputs": [
    {
     "name": "stdout",
     "output_type": "stream",
     "text": [
      "4\n",
      "product is 240000\n"
     ]
    }
   ],
   "source": [
    "# Find product of all numbers present in list.\n",
    "lst = [10, 20, 30, 40]\n",
    "product = 1\n",
    "index = 0\n",
    "print(len(lst))\n",
    "while index < len(lst): # \n",
    "    product *= lst[index]  # product = product * lst[index] product = 200 * 30 = 6000 \n",
    "    index = index + 1\n",
    "\n",
    "print(\"product is {}\".format(product))\n",
    "#print(\" product is\",product)\n"
   ]
  },
  {
   "cell_type": "markdown",
   "metadata": {},
   "source": [
    "# While loop with else"
   ]
  },
  {
   "cell_type": "markdown",
   "metadata": {},
   "source": [
    "same as that of for loop, we can have an optional else block with while loop as well.\n",
    "\n",
    "The else part execute if the condition in the while loop evaluates to false. The while loop can terminated with a break statment.\n",
    "\n",
    "In such case, the else part is igonred. Hence, a while loop's else part runs if no break occurs and the condition is false."
   ]
  },
  {
   "cell_type": "markdown",
   "metadata": {},
   "source": [
    "## Syntax:"
   ]
  },
  {
   "cell_type": "markdown",
   "metadata": {},
   "source": [
    "    while text expression:\n",
    "        body of while\n",
    "    else:\n",
    "        body of else statement"
   ]
  },
  {
   "cell_type": "code",
   "execution_count": 7,
   "metadata": {},
   "outputs": [
    {
     "name": "stdout",
     "output_type": "stream",
     "text": [
      "1\n",
      "2\n",
      "3\n",
      "4\n",
      "5\n",
      "No item left in list\n"
     ]
    }
   ],
   "source": [
    "numbers = [1, 2, 3, 4, 5]\n",
    "    \n",
    "# iteration over the list\n",
    "index = 0\n",
    "while index < len(numbers): # 5 < 5\n",
    "    print(numbers[index])\n",
    "    index +=1\n",
    "else:\n",
    "    print(\"No item left in list\")\n",
    "    \n",
    "\n",
    "        "
   ]
  },
  {
   "cell_type": "markdown",
   "metadata": {},
   "source": [
    "# Python program to check give number is prime number or not"
   ]
  },
  {
   "cell_type": "code",
   "execution_count": 13,
   "metadata": {},
   "outputs": [
    {
     "name": "stdout",
     "output_type": "stream",
     "text": [
      "Enter the number:  144\n",
      " 144 is divisible by 2\n",
      "144 is not a prime number\n"
     ]
    }
   ],
   "source": [
    "num = int(input(\"Enter the number:  \"))\n",
    "a= 0\n",
    "i = 2   \n",
    "while i < num:  #2<144                                         # num = 6  i = 2,3,4,5,---,143 \n",
    "    if num % i == 0: # 6 % 2 == 0\n",
    "        a = 1\n",
    "        #print(\" {} is divisible by {}\".format(num,i))\n",
    "        break        \n",
    "    i +=1 # i = 5\n",
    "if a==0:\n",
    "    print(\"{} is a prime number\".format(num))\n",
    "else:\n",
    "    print(\"{} is not a prime number\".format(num))\n"
   ]
  },
  {
   "cell_type": "markdown",
   "metadata": {},
   "source": [
    "# Python for loop"
   ]
  },
  {
   "cell_type": "markdown",
   "metadata": {},
   "source": [
    "The for loop in python used to iterate over a sequence(list, tuple, string) or other objects.\n",
    "\n",
    "iteration over a sequence is called traversal. "
   ]
  },
  {
   "cell_type": "markdown",
   "metadata": {},
   "source": [
    "# Syntax:"
   ]
  },
  {
   "cell_type": "markdown",
   "metadata": {},
   "source": [
    "     for element in sequence:\n",
    "        \n",
    "        Body of for\n",
    "        \n",
    "    Here, element is the varible that takes the value of the item inside the sequence on each iteration.\n",
    "    \n",
    "    loop continues until we reach the last item in the sequence."
   ]
  },
  {
   "cell_type": "code",
   "execution_count": 4,
   "metadata": {},
   "outputs": [
    {
     "name": "stdout",
     "output_type": "stream",
     "text": [
      " product is: 240000\n",
      "2284117387976\n"
     ]
    }
   ],
   "source": [
    "# find product of all numbers present in a list\n",
    " \n",
    "lst = [10, 20, 30, 40]      \n",
    "product = 1\n",
    "\n",
    "#iteration over list\n",
    "for ali in lst:  # ele = null in lst    \n",
    "    product *= ali      # product  = product * harsh = 200 * 30 = 6000    \n",
    "\n",
    "print(\" product is: {}\".format(product))\n",
    "print(id(lst))"
   ]
  },
  {
   "cell_type": "markdown",
   "metadata": {},
   "source": [
    "# range() fuction"
   ]
  },
  {
   "cell_type": "markdown",
   "metadata": {},
   "source": [
    "we can generate a sequence of number using range() function. range(10) will generate numbers form 0 to 9 (10 numbers)\n",
    "\n",
    "we can also define that start, stop and step size as range(start, stop, step size). step size defaults to 1 if not provided.\n",
    "\n",
    "This function does not store all the values in memory, it would be inefficient. So it remembers the start, stop, step size and generates nextnumber on the go. "
   ]
  },
  {
   "cell_type": "code",
   "execution_count": 5,
   "metadata": {},
   "outputs": [
    {
     "name": "stdout",
     "output_type": "stream",
     "text": [
      "0\n",
      "1\n",
      "2\n",
      "3\n",
      "4\n",
      "5\n",
      "6\n",
      "7\n",
      "8\n",
      "9\n",
      "10\n",
      "11\n",
      "12\n",
      "13\n",
      "14\n",
      "15\n",
      "16\n",
      "17\n",
      "18\n",
      "19\n",
      "20\n",
      "21\n",
      "22\n",
      "23\n",
      "24\n"
     ]
    }
   ],
   "source": [
    "#print range of 10\n",
    "for a in range(25): #[0,1,2,3,4,5...,24] a =1 in range\n",
    "    print(a)\n",
    "    "
   ]
  },
  {
   "cell_type": "code",
   "execution_count": 25,
   "metadata": {
    "scrolled": true
   },
   "outputs": [
    {
     "ename": "SyntaxError",
     "evalue": "invalid syntax (<ipython-input-25-389c7796c4bf>, line 2)",
     "output_type": "error",
     "traceback": [
      "\u001b[1;36m  File \u001b[1;32m\"<ipython-input-25-389c7796c4bf>\"\u001b[1;36m, line \u001b[1;32m2\u001b[0m\n\u001b[1;33m    for i in range(,1,):  # step mean 2 .... every second element  [1,2,3,4,5...,24] step -1\u001b[0m\n\u001b[1;37m                   ^\u001b[0m\n\u001b[1;31mSyntaxError\u001b[0m\u001b[1;31m:\u001b[0m invalid syntax\n"
     ]
    }
   ],
   "source": [
    "#print range of numbers from 1 to 15 with step size of 2\n",
    "for i in range(0,1,):  # step mean 2 .... every second element  [1,2,3,4,5...,24] step -1\n",
    "    print(i)"
   ]
  },
  {
   "cell_type": "code",
   "execution_count": 35,
   "metadata": {},
   "outputs": [
    {
     "name": "stdout",
     "output_type": "stream",
     "text": [
      "harsh\n",
      "sumit\n",
      "manav\n",
      "raj\n",
      "rv\n",
      "['rv', 'raj', 'manav', 'sumit']\n"
     ]
    }
   ],
   "source": [
    "lst = [\"harsh\", \"sumit\", \"manav\", \"raj\", \"rv\"]\n",
    "for i in range(len(lst)): # range [0,1,2,3,4,5] index 1\n",
    "        print(lst[i])\n",
    "        \n",
    "print(lst[-1:-len(lst):-1])"
   ]
  },
  {
   "cell_type": "code",
   "execution_count": 31,
   "metadata": {},
   "outputs": [],
   "source": [
    "lst = [\"harsh\", \"sumit\", \"manav\", \"raj\", \"rv\"]\n",
    "for ele in lst:\n",
    "    if ele == \"himanshu\":\n",
    "        print(ele)"
   ]
  },
  {
   "cell_type": "markdown",
   "metadata": {},
   "source": [
    "# for loop with else"
   ]
  },
  {
   "cell_type": "code",
   "execution_count": 36,
   "metadata": {},
   "outputs": [
    {
     "name": "stdout",
     "output_type": "stream",
     "text": [
      "1\n",
      "2\n",
      "3\n",
      "4\n",
      "5\n",
      "6\n",
      "7\n",
      "no item left in the list\n"
     ]
    }
   ],
   "source": [
    "number = [1, 2, 3, 4, 5, 6, 7]\n",
    "for item in number:\n",
    "    print(item)\n",
    "else:\n",
    "    print(\"no item left in the list\")"
   ]
  },
  {
   "cell_type": "markdown",
   "metadata": {},
   "source": [
    "# Python program to display all prime numbers within an interval"
   ]
  },
  {
   "cell_type": "code",
   "execution_count": 38,
   "metadata": {},
   "outputs": [
    {
     "name": "stdout",
     "output_type": "stream",
     "text": [
      " prime number between 500 and 1000 are :\n",
      "503\n",
      "509\n",
      "521\n",
      "523\n",
      "541\n",
      "547\n",
      "557\n",
      "563\n",
      "569\n",
      "571\n",
      "577\n",
      "587\n",
      "593\n",
      "599\n",
      "601\n",
      "607\n",
      "613\n",
      "617\n",
      "619\n",
      "631\n",
      "641\n",
      "643\n",
      "647\n",
      "653\n",
      "659\n",
      "661\n",
      "673\n",
      "677\n",
      "683\n",
      "691\n",
      "701\n",
      "709\n",
      "719\n",
      "727\n",
      "733\n",
      "739\n",
      "743\n",
      "751\n",
      "757\n",
      "761\n",
      "769\n",
      "773\n",
      "787\n",
      "797\n",
      "809\n",
      "811\n",
      "821\n",
      "823\n",
      "827\n",
      "829\n",
      "839\n",
      "853\n",
      "857\n",
      "859\n",
      "863\n",
      "877\n",
      "881\n",
      "883\n",
      "887\n",
      "907\n",
      "911\n",
      "919\n",
      "929\n",
      "937\n",
      "941\n",
      "947\n",
      "953\n",
      "967\n",
      "971\n",
      "977\n",
      "983\n",
      "991\n",
      "997\n"
     ]
    }
   ],
   "source": [
    "in1 = 500\n",
    "in2 = 1000\n",
    "print(\" prime number between {0} and {1} are :\".format(in1,in2))\n",
    "\n",
    "for num in range (in1,in2+1): #defaulf step size is 1 range[10,11,12,13,...,1001] num = 10\n",
    "    if num > 1:             # 11>1\n",
    "        a = False           # a = False\n",
    "        for index in range (2, num):  # index in  range[2,3,4,5,6,7,8,9,10]\n",
    "            if num % index == 0:      # 11 % 2\n",
    "                a = True            \n",
    "        if not a:    # not a = not False  = True\n",
    "                print(num)"
   ]
  },
  {
   "cell_type": "code",
   "execution_count": null,
   "metadata": {},
   "outputs": [],
   "source": [
    "LOC(j)\n",
    "a = [1][2][3]----[j]----[n]\n",
    "LOC(j)= baseaddress + (j - 0)*type of array\n",
    "\n",
    "l=0 , k= 1 , j= 0;\n",
    "m = l++ && k++ && j++;\n"
   ]
  },
  {
   "cell_type": "code",
   "execution_count": null,
   "metadata": {},
   "outputs": [],
   "source": [
    "num = int(input(\"Enter an integer\"))\n",
    "n = 50\n",
    "i = 1\n",
    "while(i<=n):\n",
    "    print(\"{} * {} = {}\".format(num,i,num*i))\n",
    "    i+=1"
   ]
  },
  {
   "cell_type": "code",
   "execution_count": 3,
   "metadata": {},
   "outputs": [
    {
     "name": "stdout",
     "output_type": "stream",
     "text": [
      "(1, 2, 3, [4, 5, 6]) <class 'tuple'>\n",
      "(1, 2, 3, [4, 7, 6])\n"
     ]
    }
   ],
   "source": [
    "t = (1,2,3,[4,5,6])\n",
    "print(t,type(t))\n",
    "t[3][1]= 7\n",
    "print(t)"
   ]
  }
 ],
 "metadata": {
  "kernelspec": {
   "display_name": "Python 3",
   "language": "python",
   "name": "python3"
  },
  "language_info": {
   "codemirror_mode": {
    "name": "ipython",
    "version": 3
   },
   "file_extension": ".py",
   "mimetype": "text/x-python",
   "name": "python",
   "nbconvert_exporter": "python",
   "pygments_lexer": "ipython3",
   "version": "3.7.3"
  }
 },
 "nbformat": 4,
 "nbformat_minor": 2
}
