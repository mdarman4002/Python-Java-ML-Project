{
 "cells": [
  {
   "cell_type": "markdown",
   "id": "c80c772c",
   "metadata": {},
   "source": [
    "# Mult-level inheritance (normal prgm)"
   ]
  },
  {
   "cell_type": "code",
   "execution_count": null,
   "id": "8d7b726d",
   "metadata": {},
   "outputs": [],
   "source": [
    "class person:\n",
    "    def __init__(self,name,age):\n",
    "        self.name=name\n",
    "        self.age=age\n",
    "    def show(self):\n",
    "        print(f\"name: {self.name}\")\n",
    "        print(f\"age: {self.age}\")\n",
    "class teacher(person):\n",
    "    def __init__(self,name,age,exp,des):\n",
    "        person.__init__(self,name,age)\n",
    "        self.exp=exp\n",
    "        self.des=des\n",
    "    def show(self):\n",
    "        print(\"********* Teachers details **********\")\n",
    "        person.show(self)\n",
    "        print(f\"experience: {self.exp} yrs\")\n",
    "        print(f\"designation: {self.des}\")\n",
    "class student(teacher):\n",
    "    def __init__(self,name,age,branch,marks):\n",
    "        person.__init__(self,name,age)\n",
    "        self.branch=branch\n",
    "        self.marks=marks\n",
    "    def show(self):\n",
    "        print(\"******** Student details ***********\")\n",
    "        person.show(self)\n",
    "        print(f\"Branch: {self.branch}\")\n",
    "        print(f\"marks: {self.marks}\")\n",
    "obj_1=student(\"Mohammad Arman\", 18,\"CSE-DS\", 85 )\n",
    "obj_1.show()\n",
    "obj_2=teacher(\"Gaurav\",25,1,\"CSE faculty\")\n",
    "obj_2.show()\n",
    "    "
   ]
  },
  {
   "cell_type": "markdown",
   "id": "b6d489e6",
   "metadata": {},
   "source": [
    "# Mult-level inheritance (taking inputs & using loop)"
   ]
  },
  {
   "cell_type": "code",
   "execution_count": 60,
   "id": "9c50e20c",
   "metadata": {},
   "outputs": [
    {
     "name": "stdout",
     "output_type": "stream",
     "text": [
      "True\n",
      "True\n",
      "True\n",
      "Enter your name: Arman\n",
      "Enter your age: 18\n",
      "Enter your sex: male\n",
      "Enter your branch name: csds\n",
      "Enter your marks: 95\n",
      "*********************STUDENT'S DETAILS *********************\n",
      "\n",
      " *********** Hello Mr*************\n",
      "This is your details.\n",
      "Your name is Arman\n",
      "Your age is 18\n",
      "Your are in csds \n",
      "You obtained total marks 95\n",
      "******************** TEACHER'S DETAILS **********************\n",
      "Enter your name: Gaurav\n",
      "Enter your age: 25\n",
      "Enter your sex: male\n",
      "Enter your designation: Professor(Python)\n",
      "Enter your previous college name(it's optional): Galgotia\n",
      "Enter your experience: 1\n",
      "\n",
      " *********** Hello Mr*************\n",
      "This is your details.\n",
      "Your name is Gaurav\n",
      "Your age is 25\n",
      "Your designation is Professor(Python)\n",
      "Your previous college name is Galgotia \n",
      "Your total experience in your designation: 1\n"
     ]
    }
   ],
   "source": [
    "class person:\n",
    "    def __init__(self):\n",
    "        self.name=input(\"Enter your name: \")\n",
    "        self.age=int(input(\"Enter your age: \"))\n",
    "        self.sex=input(\"Enter your sex: \")\n",
    "        \n",
    "    def show(self):\n",
    "        if self.sex == \"Male\" or \"MALE\" or \"M\" or \"m\" or \"male\":\n",
    "            print(\"\\n *********** Hello Mr*************\\nThis is your details.\")\n",
    "        else:\n",
    "            print(\"\\n ********** Hello Mrs*************\\nThis is your details.\")\n",
    "        print(f\"Your name is {self.name}\")\n",
    "        print(f\"Your age is {self.age}\")\n",
    "class student(person):\n",
    "    def __init__(self):\n",
    "        person.__init__(self)\n",
    "        self.branch=input(\"Enter your branch name: \")\n",
    "        self.marks=int(input(\"Enter your marks: \"))\n",
    "    def show(self):\n",
    "        print(\"*********************STUDENT'S DETAILS *********************\")\n",
    "        person.show(self)\n",
    "        print(f\"Your are in {self.branch} \\nYou obtained total marks {self.marks}\")\n",
    "class teacher(student):\n",
    "    def __init__(self):\n",
    "        print(\"******************** TEACHER'S DETAILS **********************\")\n",
    "        person.__init__(self)\n",
    "        self.des=input(\"Enter your designation: \")\n",
    "        self.clg=input(\"Enter your previous college name(it's optional): \")\n",
    "        self.exp=int(input(\"Enter your experience: \"))\n",
    "    def show(self):\n",
    "        person.show(self)\n",
    "        print(f\"Your designation is {self.des}\\nYour previous college name is {self.clg} \\nYour total experience in your designation: {self.exp}\")\n",
    "#print(isinstance(t,teacher))\n",
    "\n",
    "print(issubclass(teacher,person))\n",
    "print(issubclass(teacher,student))\n",
    "print(issubclass(bool,int))\n",
    "        \n",
    "        \n",
    "obj_1=student()\n",
    "obj_1.show()\n",
    "obj_2=teacher()\n",
    "obj_2.show()"
   ]
  },
  {
   "cell_type": "code",
   "execution_count": 36,
   "id": "df61b270",
   "metadata": {},
   "outputs": [
    {
     "name": "stdout",
     "output_type": "stream",
     "text": [
      "4\n",
      "<class 'str'>\n",
      "<class 'int'>\n"
     ]
    }
   ],
   "source": [
    "print(len(\"aman\"))\n",
    "print(type(\"5\" or 5))\n",
    "print(type(\"5\" and 5))"
   ]
  },
  {
   "cell_type": "markdown",
   "id": "9b283d1b",
   "metadata": {},
   "source": [
    "# Multiple inheritance (taking input & using loop)"
   ]
  },
  {
   "cell_type": "code",
   "execution_count": 7,
   "id": "3568e715",
   "metadata": {},
   "outputs": [
    {
     "name": "stdout",
     "output_type": "stream",
     "text": [
      "Father's name: a\n",
      "child name; c\n",
      "******************** this is your personal details ***************************\n",
      "Father's name is c\n",
      "Mother's name: c\n",
      "Child name: c\n",
      "Father's name: a\n",
      "Father's name is a\n",
      "Mother's name; b\n",
      "Mother's name: b\n"
     ]
    }
   ],
   "source": [
    "class father:\n",
    "    def __init__(self):\n",
    "       # super(father,self).__init__()  # here have to care\n",
    "        self.name=input(\"Father's name: \")\n",
    "    def _show(self):\n",
    "        print(f\"Father's name is {self.name}\")\n",
    "class mother:\n",
    "    def __init__(self):\n",
    "       # super(mother,self).__init__()\n",
    "        self.name=input(\"Mother's name; \")\n",
    "    def display(self):\n",
    "        print(f\"Mother's name: {self.name}\")\n",
    "class child(father,mother):\n",
    "    \n",
    "    def __init__(self):\n",
    "        super(child,self).__init__()\n",
    "        \n",
    "        self.name=input(\"child name; \")\n",
    "    def show(self):\n",
    "        print(\"******************** this is your personal details ***************************\")\n",
    "        father._show(self)\n",
    "        mother.display(self)\n",
    "        \n",
    "        print(f\"Child name: {self.name}\")\n",
    "# obj=father()\n",
    "# obj._show()\n",
    "for i in range(1):\n",
    "    obj_1=child()\n",
    "    obj_1.show()\n",
    "    o=father()\n",
    "    o._show()\n",
    "    b=mother()\n",
    "    b.display()"
   ]
  },
  {
   "cell_type": "markdown",
   "id": "2393e80e",
   "metadata": {},
   "source": [
    "# Multi-path inheritance"
   ]
  },
  {
   "cell_type": "code",
   "execution_count": 66,
   "id": "f92393aa",
   "metadata": {},
   "outputs": [
    {
     "name": "stdout",
     "output_type": "stream",
     "text": [
      "Enter your college name: NIET\n",
      "Enter marks for admisson: 80\n",
      "Enter your college name: NIET\n",
      "Enter marks for admisson: 80\n",
      "Enter your name: ARMAN\n",
      "Enter your branch name: CSDS\n",
      "Enter your college name: CSDS\n",
      "Enter marks for admisson: 80\n",
      "Your teachr's name: GAURAV\n",
      "Your teacher's takes lecture: PYTHON\n",
      "Enter marks in Physics: 95\n",
      "Enter marks in Math: 92\n",
      "Enter marks in Design Thinking: 85\n",
      "Enter marks in Python: 93\n",
      "********** student's result *************\n",
      "********** student's details ************\n",
      "College name: GAURAV \n",
      "Marks for admission(criteria): 80.0\n",
      "Student's name : GAURAV \n",
      " Student's branch: CSDS\n",
      "************ Faculty's details **************\n",
      "College name: GAURAV \n",
      "Marks for admission(criteria): 80.0\n",
      "Your faculty name is GAURAV and he takes your PYTHON lecture\n",
      "Physic marks: 95 \n",
      "Math marks : 92 \n",
      "DT marks: 85 \n",
      " Python marks: 93\n",
      "aggregated marks:  9125.0\n"
     ]
    }
   ],
   "source": [
    "class college:\n",
    "    def __init__(self):\n",
    "        self.name=input(\"Enter your college name: \")\n",
    "        self.admission=float(input(\"Enter marks for admisson: \"))\n",
    "    def show(self):\n",
    "        print(f\"College name: {self.name} \\nMarks for admission(criteria): {self.admission}\")\n",
    "class student(college):\n",
    "    def __init__(self):\n",
    "        college.__init__(self)\n",
    "        self.name=input(\"Enter your name: \")\n",
    "        self.branch=input(\"Enter your branch name: \")\n",
    "    def show(self):\n",
    "        print(\"********** student's details ************\")\n",
    "        college.show(self)\n",
    "        print(f\"Student's name : {self.name} \\n Student's branch: {self.branch}\")\n",
    "class faculty(college):\n",
    "    def __init__(self):\n",
    "        college.__init__(self)\n",
    "        self.name=input(\"Your teachr's name: \")\n",
    "        self.lec=input(\"Your teacher's takes lecture: \")\n",
    "    def show(self):\n",
    "        print(\"************ Faculty's details **************\")\n",
    "        college.show(self)\n",
    "        print(f\"Your faculty name is {self.name} and he takes your {self.lec} lecture\")\n",
    "class result(student,faculty):\n",
    "    def __init__(self):\n",
    "        college.__init__(self)\n",
    "        student.__init__(self)\n",
    "        faculty.__init__(self)\n",
    "        self.phy=int(input(\"Enter marks in Physics: \"))\n",
    "        self.math=int(input(\"Enter marks in Math: \"))\n",
    "        self.dt=int(input(\"Enter marks in Design Thinking: \"))\n",
    "        self.Py=int(input(\"Enter marks in Python: \"))\n",
    "        \n",
    "    def show(self):\n",
    "        t= ((self.phy + self.math + self.dt + self.Py)/400)*100\n",
    "        print(\"********** student's result *************\")\n",
    "        student.show(self)\n",
    "        faculty.show(self)\n",
    "        print(f\"Physic marks: {self.phy} \\nMath marks : {self.math} \\nDT marks: {self.dt} \\n Python marks: {self.Py}\")\n",
    "        print(\"aggregated marks: \",t)\n",
    "\n",
    "        \n",
    "        \n",
    "obj=result()\n",
    "obj.show()\n",
    "        \n",
    "    "
   ]
  },
  {
   "cell_type": "code",
   "execution_count": 11,
   "id": "aad05541",
   "metadata": {},
   "outputs": [
    {
     "ename": "NameError",
     "evalue": "name 'Faishal' is not defined",
     "output_type": "error",
     "traceback": [
      "\u001b[1;31m---------------------------------------------------------------------------\u001b[0m",
      "\u001b[1;31mNameError\u001b[0m                                 Traceback (most recent call last)",
      "\u001b[1;32m~\\AppData\\Local\\Temp/ipykernel_5068/1285427715.py\u001b[0m in \u001b[0;36m<module>\u001b[1;34m\u001b[0m\n\u001b[0;32m     14\u001b[0m     \u001b[1;32mdef\u001b[0m \u001b[0mshow\u001b[0m\u001b[1;33m(\u001b[0m\u001b[0mself\u001b[0m\u001b[1;33m)\u001b[0m\u001b[1;33m:\u001b[0m\u001b[1;33m\u001b[0m\u001b[1;33m\u001b[0m\u001b[0m\n\u001b[0;32m     15\u001b[0m         \u001b[0mprint\u001b[0m\u001b[1;33m(\u001b[0m\u001b[1;34mf\"name: {self.name}\"\u001b[0m\u001b[1;33m)\u001b[0m\u001b[1;33m\u001b[0m\u001b[1;33m\u001b[0m\u001b[0m\n\u001b[1;32m---> 16\u001b[1;33m \u001b[1;32mclass\u001b[0m \u001b[0mproject\u001b[0m\u001b[1;33m(\u001b[0m\u001b[0mArman\u001b[0m\u001b[1;33m,\u001b[0m\u001b[0mFaishal\u001b[0m\u001b[1;33m)\u001b[0m\u001b[1;33m:\u001b[0m\u001b[1;33m\u001b[0m\u001b[1;33m\u001b[0m\u001b[0m\n\u001b[0m\u001b[0;32m     17\u001b[0m     \u001b[1;32mdef\u001b[0m \u001b[0m__init__\u001b[0m\u001b[1;33m(\u001b[0m\u001b[0mself\u001b[0m\u001b[1;33m)\u001b[0m\u001b[1;33m:\u001b[0m\u001b[1;33m\u001b[0m\u001b[1;33m\u001b[0m\u001b[0m\n\u001b[0;32m     18\u001b[0m         \u001b[0mself\u001b[0m\u001b[1;33m.\u001b[0m\u001b[0mn\u001b[0m\u001b[1;33m=\u001b[0m\u001b[0minput\u001b[0m\u001b[1;33m(\u001b[0m\u001b[1;34m\"Project name: \"\u001b[0m\u001b[1;33m)\u001b[0m\u001b[1;33m\u001b[0m\u001b[1;33m\u001b[0m\u001b[0m\n",
      "\u001b[1;31mNameError\u001b[0m: name 'Faishal' is not defined"
     ]
    }
   ],
   "source": [
    "class Arman():\n",
    "    def __init__(self):\n",
    "       \n",
    "        self.n=input(\"Name: \")\n",
    "        self.age=int(input(\"Age: \"))\n",
    "        super(Arman,self).__init__()\n",
    "    def show(self):\n",
    "        print(f\"name: {self.n} \\nage: {self.age}\")\n",
    "        #super(Arman,self).__init__()\n",
    "class Fasiahl():\n",
    "    def __init__(self):\n",
    "        self.name=input(\"name; \")\n",
    "        \n",
    "    def show(self):\n",
    "        print(f\"name: {self.name}\")\n",
    "class project(Arman,Faishal):\n",
    "    def __init__(self):\n",
    "        self.n=input(\"Project name: \")\n",
    "    def show(self):\n",
    "        print(\"******* all details *********\")\n",
    "        super(project,self).__init__()\n",
    "\n",
    "        \n",
    "        print(f\"project name: \")\n",
    "    \n",
    "obj=project()\n",
    "obj.show()"
   ]
  },
  {
   "cell_type": "code",
   "execution_count": null,
   "id": "6ab2e9ec",
   "metadata": {},
   "outputs": [],
   "source": []
  }
 ],
 "metadata": {
  "kernelspec": {
   "display_name": "Python 3 (ipykernel)",
   "language": "python",
   "name": "python3"
  },
  "language_info": {
   "codemirror_mode": {
    "name": "ipython",
    "version": 3
   },
   "file_extension": ".py",
   "mimetype": "text/x-python",
   "name": "python",
   "nbconvert_exporter": "python",
   "pygments_lexer": "ipython3",
   "version": "3.9.7"
  }
 },
 "nbformat": 4,
 "nbformat_minor": 5
}
