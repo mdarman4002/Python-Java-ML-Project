{
 "cells": [
  {
   "cell_type": "markdown",
   "id": "75c729bf",
   "metadata": {},
   "source": [
    "# To check Perfect number or not"
   ]
  },
  {
   "cell_type": "code",
   "execution_count": 3,
   "id": "8b8c755f",
   "metadata": {},
   "outputs": [
    {
     "name": "stdout",
     "output_type": "stream",
     "text": [
      "enter any number to check perfect number or not : 28\n",
      "1\n",
      "2\n",
      "4\n",
      "7\n",
      "14\n",
      "28 is a perfect number\n"
     ]
    }
   ],
   "source": [
    "n=int(input(\"enter any number to check perfect number or not : \"))\n",
    "sum=0\n",
    "for i in range(1,n):\n",
    "    if n%i==0:\n",
    "        sum=sum+i\n",
    "        print(i)\n",
    "if sum==n:\n",
    "    print(\"{} is a perfect number\".format(n))\n",
    "else:\n",
    "    print(\"{} is not a perfect number\".format(n))"
   ]
  },
  {
   "cell_type": "markdown",
   "id": "f957985c",
   "metadata": {},
   "source": []
  },
  {
   "cell_type": "markdown",
   "id": "5b0bd44c",
   "metadata": {},
   "source": [
    "# To check number is Armstrong or Not"
   ]
  },
  {
   "cell_type": "code",
   "execution_count": 6,
   "id": "da989e65",
   "metadata": {},
   "outputs": [
    {
     "name": "stdout",
     "output_type": "stream",
     "text": [
      "ente any number to check number is Armstrong or not: 153\n",
      "27\n",
      "152\n",
      "153\n",
      "153 is an Armstrong number \n"
     ]
    }
   ],
   "source": [
    "num=int(input(\"ente any number to check number is Armstrong or not: \"))\n",
    "sum=0\n",
    "a=num\n",
    "while a>0:\n",
    "    rem=a%10\n",
    "    sum=sum+rem**3\n",
    "    a=a//10\n",
    "    print(sum)\n",
    "if sum==num:\n",
    "    print(\"{} is an Armstrong number \".format(num))\n",
    "else:\n",
    "    print(\"{} is not an Armstrong number\".format(num))\n"
   ]
  },
  {
   "cell_type": "markdown",
   "id": "0b68df71",
   "metadata": {},
   "source": [
    "# To check no is strong number"
   ]
  },
  {
   "cell_type": "code",
   "execution_count": null,
   "id": "36ffb4b9",
   "metadata": {},
   "outputs": [],
   "source": [
    "num=int(input(\"enter any number to check strong number : \"))\n",
    "sum=0\n",
    "fact=1\n",
    "a=num\n",
    "while a>0:\n",
    "    rem=a%10\n",
    "    \n",
    "    for rem in range(1,rem+1):\n",
    "        fact=fact*rem\n",
    "        sum=sum+fact\n",
    "        rem=rem+1\n",
    "    num=num//10\n",
    "    #sum=sum+fact    \n",
    "if sum==num:\n",
    "    print(\"{} is a strong number \".format(num))\n",
    "else:\n",
    "    print(\"{} is not a strong number\".format(num))\n",
    "    "
   ]
  },
  {
   "cell_type": "markdown",
   "id": "71ad72c3",
   "metadata": {},
   "source": [
    "# Didplay letter \n",
    "\"\"\"\n",
    "P\n",
    "PY\n",
    "PYT\n",
    "PYTH\n",
    "PYTHO\n",
    "PYTHON\n",
    "\"\"\""
   ]
  },
  {
   "cell_type": "code",
   "execution_count": 35,
   "id": "f18360df",
   "metadata": {},
   "outputs": [
    {
     "ename": "TypeError",
     "evalue": "can only concatenate str (not \"int\") to str",
     "output_type": "error",
     "traceback": [
      "\u001b[1;31m---------------------------------------------------------------------------\u001b[0m",
      "\u001b[1;31mTypeError\u001b[0m                                 Traceback (most recent call last)",
      "\u001b[1;32m~\\AppData\\Local\\Temp/ipykernel_1264/4191309409.py\u001b[0m in \u001b[0;36m<module>\u001b[1;34m\u001b[0m\n\u001b[0;32m      2\u001b[0m \u001b[0mx\u001b[0m\u001b[1;33m=\u001b[0m\u001b[1;34m\"\"\u001b[0m\u001b[1;33m\u001b[0m\u001b[1;33m\u001b[0m\u001b[0m\n\u001b[0;32m      3\u001b[0m \u001b[1;32mfor\u001b[0m \u001b[0mi\u001b[0m \u001b[1;32min\u001b[0m \u001b[0marman\u001b[0m\u001b[1;33m:\u001b[0m\u001b[1;33m\u001b[0m\u001b[1;33m\u001b[0m\u001b[0m\n\u001b[1;32m----> 4\u001b[1;33m     \u001b[0mx\u001b[0m\u001b[1;33m+=\u001b[0m\u001b[1;36m1\u001b[0m\u001b[1;33m\u001b[0m\u001b[1;33m\u001b[0m\u001b[0m\n\u001b[0m\u001b[0;32m      5\u001b[0m     \u001b[0mprint\u001b[0m\u001b[1;33m(\u001b[0m\u001b[0mx\u001b[0m\u001b[1;33m)\u001b[0m\u001b[1;33m\u001b[0m\u001b[1;33m\u001b[0m\u001b[0m\n",
      "\u001b[1;31mTypeError\u001b[0m: can only concatenate str (not \"int\") to str"
     ]
    }
   ],
   "source": [
    "arman= \"PYTHON\"\n",
    "x=\"\"\n",
    "for i in arman:\n",
    "    x+=1\n",
    "    print(x)"
   ]
  },
  {
   "cell_type": "code",
   "execution_count": null,
   "id": "735d9947",
   "metadata": {},
   "outputs": [],
   "source": []
  },
  {
   "cell_type": "code",
   "execution_count": null,
   "id": "8b359533",
   "metadata": {},
   "outputs": [],
   "source": []
  }
 ],
 "metadata": {
  "kernelspec": {
   "display_name": "Python 3 (ipykernel)",
   "language": "python",
   "name": "python3"
  },
  "language_info": {
   "codemirror_mode": {
    "name": "ipython",
    "version": 3
   },
   "file_extension": ".py",
   "mimetype": "text/x-python",
   "name": "python",
   "nbconvert_exporter": "python",
   "pygments_lexer": "ipython3",
   "version": "3.9.7"
  }
 },
 "nbformat": 4,
 "nbformat_minor": 5
}
