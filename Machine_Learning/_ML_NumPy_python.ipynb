{
 "cells": [
  {
   "cell_type": "markdown",
   "id": "602fe090",
   "metadata": {},
   "source": [
    "# Introduction of Machine Learning"
   ]
  },
  {
   "cell_type": "code",
   "execution_count": 1,
   "id": "a2262f7c",
   "metadata": {},
   "outputs": [
    {
     "ename": "SyntaxError",
     "evalue": "invalid syntax (Temp/ipykernel_11804/2800608936.py, line 1)",
     "output_type": "error",
     "traceback": [
      "\u001b[1;36m  File \u001b[1;32m\"C:\\Users\\DELL\\AppData\\Local\\Temp/ipykernel_11804/2800608936.py\"\u001b[1;36m, line \u001b[1;32m1\u001b[0m\n\u001b[1;33m    --> • What is machine learning\u001b[0m\n\u001b[1;37m     ^\u001b[0m\n\u001b[1;31mSyntaxError\u001b[0m\u001b[1;31m:\u001b[0m invalid syntax\n"
     ]
    }
   ],
   "source": [
    "\n",
    "--> • What is machine learning\n",
    "\n",
    "--> • Difference between machine learning, deep learning & data science\n",
    "\n",
    "--> • Application of machine learning\n",
    "\n",
    "--> • Types of machine learning\n",
    "\n",
    "--> • Difference between Supervised, Unsupervised & Reinforcement learning\n",
    "\n",
    "--> • Life cycle of machine learning\n",
    "\n",
    "--> • Bias-varience trade-off\n",
    "\n",
    "--> • Overfitting & underfitting\n"
   ]
  },
  {
   "cell_type": "markdown",
   "id": "3f6e0589",
   "metadata": {},
   "source": [
    "# Supervised Learning"
   ]
  },
  {
   "cell_type": "code",
   "execution_count": null,
   "id": "28d24de4",
   "metadata": {},
   "outputs": [],
   "source": [
    "-----> Regression vs Classification <------\n",
    "\n",
    "Regression\n",
    "............\n",
    "\n",
    "• Linear Regression\n",
    "• Model representation (Linear Equation)\n",
    "• Cost function\n",
    "• Optimization\n",
    "• Gradient Descent\n",
    "• Batch & Mini Batch\n",
    "• Stochastic\n",
    "\n",
    "● Confusion Matrix\n",
    "● Bias-Variance Trade-off\n",
    "● Multiple Linear Regression\n",
    "● Polynomial Regression\n",
    "● Overfitting & Underfitting\n",
    "● Support Vector Regression (SVR)\n",
    "● Decision Tree Regression\n",
    "● Random Forest Regression\n",
    "\n",
    "------>  ● Classification ● <--------\n",
    "● Logistic Regression\n",
    "● K-Nearest Neighbors\n",
    "● Support Vector Machine(SVM)\n",
    "• Kernel SVM\n",
    "● Naïve Bayes\n",
    "● Decision Tree Classification\n",
    "● Random Forest Classification"
   ]
  },
  {
   "cell_type": "markdown",
   "id": "c82bc631",
   "metadata": {},
   "source": [
    "# Unsupervised Learning"
   ]
  },
  {
   "cell_type": "code",
   "execution_count": null,
   "id": "4446213d",
   "metadata": {},
   "outputs": [],
   "source": [
    "• Clustering\n",
    "    ● K-Means Clustering\n",
    "    ● Hierarchical Clustering\n",
    "• Association Rule Mining\n",
    "    ● Apriori\n",
    "    ● Eclat\n",
    "    \n",
    "• Dimensionality Reduction # it's uses when we have large data set but have to build a model using less data\n",
    "    ●  Principal Component Analysis\n",
    "    ●  Linear Discriminant Analysis (LDA)\n",
    "    ●  Kernal PCA\n",
    "\n",
    "Regularization # it's used to reduced error and increase the accuracy\n",
    "    ● Ridge\n",
    "    ● Lasso\n",
    "Model Selection\n",
    "    ● k-Fold Cross Validation\n",
    "    • Grid Search\n",
    "Ensemble Learning\n",
    "    • Bagging & Boosting\n",
    "        • XGBoost\n",
    "---> Reinforcement confidence Bound (UCB)\n",
    "---> Thomson Sampling\n",
    "\n",
    " ● Natural language processing\n",
    " ● deep learning\n",
    " ● Real time machine learning projects\n",
    " ● Model Deployment"
   ]
  },
  {
   "cell_type": "markdown",
   "id": "7cd8a722",
   "metadata": {},
   "source": []
  },
  {
   "cell_type": "markdown",
   "id": "ff512727",
   "metadata": {},
   "source": [
    "# Formal Definition of Machine Learning"
   ]
  },
  {
   "cell_type": "code",
   "execution_count": null,
   "id": "5b7f55b4",
   "metadata": {},
   "outputs": [],
   "source": [
    "\n",
    "\"A computer program is said to learn from experience E with respect\n",
    "to some class of tasks T and performance measure P if its performance\n",
    "at tasks in T, as measured by P, improves with experience E.\"\n",
    "-Tom M. Mitchell"
   ]
  },
  {
   "cell_type": "markdown",
   "id": "aa1d9521",
   "metadata": {},
   "source": [
    "# How Does Machine Learning Works?"
   ]
  },
  {
   "cell_type": "code",
   "execution_count": null,
   "id": "68ab11fb",
   "metadata": {},
   "outputs": [],
   "source": [
    "\n",
    "Machine Learning algorithm is trained using a training data set to\n",
    "create a model. When new input data(test data) is introduced to the\n",
    "ML algorithm, it makes a prediction on the basis of the model.\n",
    "\n",
    "\n",
    "The prediction is evaluated for accuracy and if the accuracy is\n",
    "acceptable, the Machine Learning algorithm is deployed. If the\n",
    "accuracy is not acceptable, the Machine Learning algorithm is trained\n",
    "again and again with an augmented training data set."
   ]
  },
  {
   "cell_type": "markdown",
   "id": "5425165e",
   "metadata": {},
   "source": [
    "# What is Data Mining?"
   ]
  },
  {
   "cell_type": "code",
   "execution_count": null,
   "id": "9693491d",
   "metadata": {},
   "outputs": [],
   "source": [
    "\n",
    "Data mining is the process of discovering patterns in large data\n",
    "sets involving methods at the intersection of machine\n",
    "learning, statistics, and database systems.\n",
    "\n",
    "Data mining is the analysis step of the \"knowledge discovery in\n",
    "databases\" process, or \"KDD\""
   ]
  },
  {
   "cell_type": "markdown",
   "id": "df1c6a19",
   "metadata": {},
   "source": [
    "# What is Predictive Modeling?"
   ]
  },
  {
   "cell_type": "code",
   "execution_count": null,
   "id": "30a5cc18",
   "metadata": {},
   "outputs": [],
   "source": [
    "Predictive modelingis a process that uses data mining and probablity\n",
    "to foredast outcomes"
   ]
  },
  {
   "cell_type": "markdown",
   "id": "a50cd380",
   "metadata": {},
   "source": [
    "# Difference b/w AI, Machine learning, Deep learning & Data Science"
   ]
  },
  {
   "cell_type": "code",
   "execution_count": null,
   "id": "2b74d795",
   "metadata": {},
   "outputs": [],
   "source": [
    "machine learning and deep learnig is the tool\n",
    "of Artificial Intelligence\n",
    "\n",
    "● AI is a subfield of computer science.\n",
    "● AI term was coined by John McCarthy in year 1956s.\n",
    "\n",
    "● AI, term was meant to describe the goal that machines will be able\n",
    "to have humans like intelligence in future.\n",
    "\n",
    "●  Intelligence:- \"the ability to learn or understand or deal with new\n",
    "    or trying situations\"\n",
    "\n",
    "AI can be split b/w two branches:-\n",
    "    ●  Applied AI(weak AI):- perform some specific tasks like Alexa \n",
    "        and Google Assistant\n",
    "    ●  Generalized AI (Strong AI) :- acts like humans.\n",
    "        \n",
    "●  Machine learning is a set of algorithms that train on a data set to \n",
    "make predictions or take actions in order to optimize some system like google recomendation.\n",
    " \n",
    "    "
   ]
  },
  {
   "cell_type": "markdown",
   "id": "630d1caf",
   "metadata": {},
   "source": [
    "# Deep learning"
   ]
  },
  {
   "cell_type": "code",
   "execution_count": null,
   "id": "0032abc5",
   "metadata": {},
   "outputs": [],
   "source": [
    "●  Deep Learning is a next evolution of machine learning.\n",
    "\n",
    "●  The term Deep Learning was introduced to the machine learning\n",
    "community in 1986.\n",
    "\n",
    "●  Deep Learning is a subset of Machine Learning Where learning\n",
    "method is based on data representation or feature learning.\n",
    "\n",
    "● \"Deep\" refers to 1 or more hidden layers in this case."
   ]
  },
  {
   "cell_type": "markdown",
   "id": "0bd67869",
   "metadata": {},
   "source": [
    "# Types of Machine learning"
   ]
  },
  {
   "cell_type": "code",
   "execution_count": null,
   "id": "55b9629c",
   "metadata": {},
   "outputs": [],
   "source": [
    "1. Supervised :- supervised learning is when the model is getting trained on a labelled dataset.\n",
    "    ● labelled dataset means superviser have both data input and output.\n",
    "    1. Regression\n",
    "        - Continuous value(ex- weather forcasting and stock prdiction)\n",
    "        \n",
    "        ● used for solve Regression Problem:-\n",
    "            \n",
    "            --------Regression----------\n",
    "            \n",
    "            -Linear Regression\n",
    "            -Multiple Linear Regression \n",
    "            -Polynomial Regressoin\n",
    "            -Support Vector Regression\n",
    "            -Decision Tree Regression \n",
    "            -Random Forest Regression\n",
    "            \n",
    "    2. Classification\n",
    "        - Categorical Value(Spam, Not spam, Social, Image identify)\n",
    "        \n",
    "         ● used for solve Classification Problem:-\n",
    "                \n",
    "            ---------Classification----------\n",
    "            \n",
    "            -Logistic Regression\n",
    "            -K-Nearest Neighbors (KNN)\n",
    "            -Support Vector Machine (SVM)\n",
    "            -Naïve Bayes\n",
    "            -Decision Tree Classification\n",
    "            -Random Forest Classification\n",
    "    \n",
    "2. Unsupervised :- There will be unlabelled data(only have input and output)\n",
    "    ● it's mostly used for clustring like customer segmentation(it's the process of grouping customers according to how and why they buy,mean recommendation)\n",
    "        TYPES OF UNSUPERVISED\n",
    "        1. Clustering\n",
    "            - K-Means Clustering\n",
    "            - Hierarchical Clustering\n",
    "        2. Association\n",
    "            - Apriori\n",
    "            - Eclat\n",
    "3. Reinforcement:- the process of encouraging or establishing a belief or pattern of behaviour.\n",
    "     ● Reinforcement learning is a type of machine learning where an agent learns to\n",
    "        behave in a environment by performing actions and seeing the results\n"
   ]
  },
  {
   "cell_type": "markdown",
   "id": "40a2d51b",
   "metadata": {},
   "source": [
    "# NumPy (lec 8)"
   ]
  },
  {
   "cell_type": "code",
   "execution_count": null,
   "id": "54fed7a2",
   "metadata": {},
   "outputs": [],
   "source": [
    "● NumPy is scientific computing library for Python.\n",
    "\n",
    "● Support large number of data in the form of multi-dimensional array and matrix\n",
    "\n",
    "● Use for mathematic calculation like linear algebra, Fourier transform,and random capabilities, etc\n",
    "\n",
    "● Written in Python and C\n",
    "● Fast process\n",
    "● Use less memory to store data\n",
    "● convient"
   ]
  },
  {
   "cell_type": "markdown",
   "id": "b9050767",
   "metadata": {},
   "source": [
    "# Numpy for Machine Learning"
   ]
  },
  {
   "cell_type": "code",
   "execution_count": 2,
   "id": "f62fa178",
   "metadata": {},
   "outputs": [
    {
     "name": "stdout",
     "output_type": "stream",
     "text": [
      "[[1 2 3]]\n"
     ]
    }
   ],
   "source": [
    "import numpy as np\n",
    "arr_1D = np.array([\n",
    "    [1,2,3]])\n",
    "print(arr_1D)"
   ]
  },
  {
   "cell_type": "markdown",
   "id": "25fe11ca",
   "metadata": {},
   "source": [
    "# size, ndim, type, shape,dtype, np.zeros(),np.ones(),np.empty()"
   ]
  },
  {
   "cell_type": "code",
   "execution_count": 3,
   "id": "2e279da7",
   "metadata": {},
   "outputs": [
    {
     "data": {
      "text/plain": [
       "numpy.ndarray"
      ]
     },
     "execution_count": 3,
     "metadata": {},
     "output_type": "execute_result"
    }
   ],
   "source": [
    "type(arr_1D)"
   ]
  },
  {
   "cell_type": "code",
   "execution_count": 4,
   "id": "8e8ce7aa",
   "metadata": {},
   "outputs": [
    {
     "data": {
      "text/plain": [
       "2"
      ]
     },
     "execution_count": 4,
     "metadata": {},
     "output_type": "execute_result"
    }
   ],
   "source": [
    "arr_1D.ndim"
   ]
  },
  {
   "cell_type": "code",
   "execution_count": 5,
   "id": "f5335a81",
   "metadata": {},
   "outputs": [
    {
     "name": "stdout",
     "output_type": "stream",
     "text": [
      "[[1 2 3]\n",
      " [4 5 9]]\n"
     ]
    }
   ],
   "source": [
    "arr_2D = np.array([[1,2,3],[4,5,9]])\n",
    "print(arr_2D)"
   ]
  },
  {
   "cell_type": "code",
   "execution_count": 6,
   "id": "337c79f0",
   "metadata": {},
   "outputs": [
    {
     "data": {
      "text/plain": [
       "6"
      ]
     },
     "execution_count": 6,
     "metadata": {},
     "output_type": "execute_result"
    }
   ],
   "source": [
    "arr_2D.ndim\n",
    "(arr_2D.size)"
   ]
  },
  {
   "cell_type": "code",
   "execution_count": 7,
   "id": "41fc834a",
   "metadata": {},
   "outputs": [
    {
     "name": "stdout",
     "output_type": "stream",
     "text": [
      "[[ True  True  True  True  True  True]\n",
      " [ True  True  True  True  True  True]\n",
      " [ True  True  True  True  True  True]\n",
      " [ True  True  True  True  True  True]\n",
      " [ True  True  True  True  True  True]]\n",
      "<class 'numpy.ndarray'>\n",
      "bool\n",
      "30\n"
     ]
    }
   ],
   "source": [
    "m_1s = np.ones((5,6), dtype = bool)\n",
    "print(m_1s)\n",
    "print(type(m_1s))\n",
    "print(m_1s.dtype)\n",
    "print(m_1s.size)"
   ]
  },
  {
   "cell_type": "code",
   "execution_count": 8,
   "id": "f2b8c981",
   "metadata": {},
   "outputs": [
    {
     "name": "stdout",
     "output_type": "stream",
     "text": [
      "[[False False False False False False]\n",
      " [False False False False False False]\n",
      " [False False False False False False]\n",
      " [False False False False False False]\n",
      " [False False False False False False]]\n"
     ]
    }
   ],
   "source": [
    "m_0s = np.zeros((5,6),dtype = bool)\n",
    "print(m_0s)\n"
   ]
  },
  {
   "cell_type": "code",
   "execution_count": 9,
   "id": "a87d302f",
   "metadata": {},
   "outputs": [
    {
     "name": "stdout",
     "output_type": "stream",
     "text": [
      "[['' '' '' '' '' '']\n",
      " ['' '' '' '' '' '']\n",
      " ['' '' '' '' '' '']\n",
      " ['' '' '' '' '' '']\n",
      " ['' '' '' '' '' '']]\n"
     ]
    }
   ],
   "source": [
    "m_s = np.zeros((5,6),dtype = str)\n",
    "print(m_s)\n"
   ]
  },
  {
   "cell_type": "code",
   "execution_count": 10,
   "id": "b5fbfabc",
   "metadata": {},
   "outputs": [
    {
     "name": "stdout",
     "output_type": "stream",
     "text": [
      "[array([[ True,  True,  True],\n",
      "       [ True,  True,  True],\n",
      "       [ True,  True,  True],\n",
      "       [ True,  True,  True]])]\n"
     ]
    }
   ],
   "source": [
    "\n",
    "test = [ np.zeros((4,3), dtype =bool) + np.ones((4,3), dtype = bool) ]\n",
    "print(test)"
   ]
  },
  {
   "cell_type": "code",
   "execution_count": 11,
   "id": "cde79602",
   "metadata": {},
   "outputs": [
    {
     "name": "stdout",
     "output_type": "stream",
     "text": [
      "a:  True\n",
      "b:  False\n"
     ]
    }
   ],
   "source": [
    "a = \"arman\"\n",
    "b= \"\"\n",
    "print(\"a: \",bool(a))\n",
    "print(\"b: \",bool())\n"
   ]
  },
  {
   "cell_type": "code",
   "execution_count": 12,
   "id": "d860adee",
   "metadata": {},
   "outputs": [
    {
     "name": "stdout",
     "output_type": "stream",
     "text": [
      "[[0.00000000e+000 0.00000000e+000 0.00000000e+000 0.00000000e+000]\n",
      " [0.00000000e+000 6.69953016e-321 6.23037996e-307 1.69115935e-306]]\n",
      "size  8\n",
      "dtype  float64\n",
      "dimention  2\n"
     ]
    }
   ],
   "source": [
    "m_emp = np.empty((2,4))\n",
    "print(m_emp)\n",
    "print(\"size \",m_emp.size)\n",
    "print(\"dtype \",m_emp.dtype)\n",
    "print(\"dimention \",m_emp.ndim)"
   ]
  },
  {
   "cell_type": "markdown",
   "id": "5dbb9838",
   "metadata": {},
   "source": [
    "# NumPy Functions:"
   ]
  },
  {
   "cell_type": "code",
   "execution_count": 13,
   "id": "620e52d7",
   "metadata": {},
   "outputs": [],
   "source": [
    "import numpy as np"
   ]
  },
  {
   "cell_type": "markdown",
   "id": "6f5cecfc",
   "metadata": {},
   "source": [
    "# arange()"
   ]
  },
  {
   "cell_type": "code",
   "execution_count": 14,
   "id": "dd3e967f",
   "metadata": {},
   "outputs": [
    {
     "name": "stdout",
     "output_type": "stream",
     "text": [
      "[ 1  3  5  7  9 11 13 15]\n",
      "(8,)\n",
      "8\n"
     ]
    }
   ],
   "source": [
    "# np.arange(start, End, steps) # ends(n) = n-1\n",
    "ar_1d = np.arange(1,16,2)\n",
    "print(ar_1d)\n",
    "print(ar_1d.shape)\n",
    "print(ar_1d.size)"
   ]
  },
  {
   "cell_type": "markdown",
   "id": "3ba5aa1c",
   "metadata": {},
   "source": [
    "# linspace"
   ]
  },
  {
   "cell_type": "code",
   "execution_count": 15,
   "id": "5ee00845",
   "metadata": {},
   "outputs": [
    {
     "data": {
      "text/plain": [
       "array([1.        , 2.33333333, 3.66666667, 5.        ])"
      ]
     },
     "execution_count": 15,
     "metadata": {},
     "output_type": "execute_result"
    }
   ],
   "source": [
    "np.linspace(1,5,4)"
   ]
  },
  {
   "cell_type": "markdown",
   "id": "0c85fbd3",
   "metadata": {},
   "source": [
    "# reshape"
   ]
  },
  {
   "cell_type": "code",
   "execution_count": 16,
   "id": "cb9b2522",
   "metadata": {},
   "outputs": [
    {
     "name": "stdout",
     "output_type": "stream",
     "text": [
      "[ 1  3  5  7  9 11 13 15 17 19 21 23 25 27 29 31 33 35 37 39 41 43 45 47\n",
      " 49 51 53 55 57 59 61 63]\n",
      "32\n",
      "[[ 1  3  5  7]\n",
      " [ 9 11 13 15]\n",
      " [17 19 21 23]\n",
      " [25 27 29 31]\n",
      " [33 35 37 39]\n",
      " [41 43 45 47]\n",
      " [49 51 53 55]\n",
      " [57 59 61 63]]\n",
      "[[[ 1  3]\n",
      "  [ 5  7]\n",
      "  [ 9 11]\n",
      "  [13 15]]\n",
      "\n",
      " [[17 19]\n",
      "  [21 23]\n",
      "  [25 27]\n",
      "  [29 31]]\n",
      "\n",
      " [[33 35]\n",
      "  [37 39]\n",
      "  [41 43]\n",
      "  [45 47]]\n",
      "\n",
      " [[49 51]\n",
      "  [53 55]\n",
      "  [57 59]\n",
      "  [61 63]]]\n"
     ]
    }
   ],
   "source": [
    "ar_1d = np.arange(1,64,2)\n",
    "print(ar_1d)\n",
    "print(ar_1d.size)\n",
    "print(ar_1d.reshape(8,4))\n",
    "print(ar_1d.reshape(4,4,2))"
   ]
  },
  {
   "cell_type": "markdown",
   "id": "6975d0ef",
   "metadata": {},
   "source": [
    "# ravel()"
   ]
  },
  {
   "cell_type": "code",
   "execution_count": 20,
   "id": "712bc877",
   "metadata": {},
   "outputs": [
    {
     "name": "stdout",
     "output_type": "stream",
     "text": [
      "[[1 2 3]\n",
      " [4 5 6]]\n",
      "[1 2 3 4 5 6]\n"
     ]
    }
   ],
   "source": [
    "ar_2d = np.array([[1,2,3],[4,5,6]])\n",
    "print(ar_2d)\n",
    "print(ar_2d.ravel())  # multidimention convert into 1D."
   ]
  },
  {
   "cell_type": "markdown",
   "id": "ced53515",
   "metadata": {},
   "source": [
    "# flatten()"
   ]
  },
  {
   "cell_type": "code",
   "execution_count": 26,
   "id": "71d2ee92",
   "metadata": {},
   "outputs": [
    {
     "name": "stdout",
     "output_type": "stream",
     "text": [
      "[[1 2 3]\n",
      " [4 5 6]]\n",
      "[1 2 3 4 5 6]\n"
     ]
    }
   ],
   "source": [
    "print(ar_2d)\n",
    "print(ar_2d.flatten()) # similar to ravel\n",
    "print(ar_2d.flatten(order = \"A\"))# shift + tab"
   ]
  },
  {
   "cell_type": "markdown",
   "id": "1243b008",
   "metadata": {},
   "source": [
    "# transpose() or .T"
   ]
  },
  {
   "cell_type": "code",
   "execution_count": 29,
   "id": "bbe148a7",
   "metadata": {},
   "outputs": [
    {
     "name": "stdout",
     "output_type": "stream",
     "text": [
      "[[1 4]\n",
      " [2 5]\n",
      " [3 6]]\n",
      "[[1 4]\n",
      " [2 5]\n",
      " [3 6]]\n"
     ]
    }
   ],
   "source": [
    "print(ar_2d.transpose())\n",
    "print(ar_2d.T)"
   ]
  },
  {
   "cell_type": "markdown",
   "id": "31f5da3e",
   "metadata": {},
   "source": [
    "# Mathematic Operation Using NumPy"
   ]
  },
  {
   "cell_type": "code",
   "execution_count": 30,
   "id": "81818ae5",
   "metadata": {},
   "outputs": [],
   "source": [
    "import numpy as np"
   ]
  },
  {
   "cell_type": "code",
   "execution_count": 39,
   "id": "43860da1",
   "metadata": {},
   "outputs": [
    {
     "name": "stdout",
     "output_type": "stream",
     "text": [
      "[[1 2 3]\n",
      " [4 5 6]\n",
      " [7 8 9]]\n",
      "[[1 2 3]\n",
      " [4 5 6]\n",
      " [7 8 9]]\n",
      "[[ 2  4  6]\n",
      " [ 8 10 12]\n",
      " [14 16 18]]\n",
      "[[ 2  4  6]\n",
      " [ 8 10 12]\n",
      " [14 16 18]]\n"
     ]
    }
   ],
   "source": [
    "arr1 = np.arange(1,10).reshape(3,3)  \n",
    "arr2 = np.arange(1,10).reshape(3,3)\n",
    "print(arr1)\n",
    "print(arr2)\n",
    "print(arr1 + arr2)\n",
    "print(np.add(arr1, arr2)) # using np.add()"
   ]
  },
  {
   "cell_type": "code",
   "execution_count": 40,
   "id": "465ec495",
   "metadata": {},
   "outputs": [
    {
     "name": "stdout",
     "output_type": "stream",
     "text": [
      "[[0 0 0]\n",
      " [0 0 0]\n",
      " [0 0 0]]\n",
      "[[0 0 0]\n",
      " [0 0 0]\n",
      " [0 0 0]]\n"
     ]
    }
   ],
   "source": [
    "print(arr1 - arr2)\n",
    "print(np.subtract(arr1, arr2))"
   ]
  },
  {
   "cell_type": "code",
   "execution_count": 41,
   "id": "b97df031",
   "metadata": {},
   "outputs": [
    {
     "name": "stdout",
     "output_type": "stream",
     "text": [
      "[[1. 1. 1.]\n",
      " [1. 1. 1.]\n",
      " [1. 1. 1.]]\n",
      "[[1. 1. 1.]\n",
      " [1. 1. 1.]\n",
      " [1. 1. 1.]]\n"
     ]
    }
   ],
   "source": [
    "print(arr1 / arr2)\n",
    "print(np.divide(arr1, arr2))"
   ]
  },
  {
   "cell_type": "code",
   "execution_count": 43,
   "id": "9b3b87ca",
   "metadata": {},
   "outputs": [
    {
     "name": "stdout",
     "output_type": "stream",
     "text": [
      "[[1 2 3]\n",
      " [4 5 6]\n",
      " [7 8 9]]\n",
      "[[1 2 3]\n",
      " [4 5 6]\n",
      " [7 8 9]]\n",
      "[[ 1  4  9]\n",
      " [16 25 36]\n",
      " [49 64 81]]\n",
      "[[ 1  4  9]\n",
      " [16 25 36]\n",
      " [49 64 81]]\n"
     ]
    }
   ],
   "source": [
    "print(arr1)\n",
    "print(arr2)\n",
    "print(arr1 * arr2)\n",
    "print(np.multiply(arr1, arr2)) # elementry wise but not matrics product"
   ]
  },
  {
   "cell_type": "code",
   "execution_count": 45,
   "id": "e4728428",
   "metadata": {},
   "outputs": [
    {
     "name": "stdout",
     "output_type": "stream",
     "text": [
      "[[ 30  36  42]\n",
      " [ 66  81  96]\n",
      " [102 126 150]]\n",
      "[[ 30  36  42]\n",
      " [ 66  81  96]\n",
      " [102 126 150]]\n"
     ]
    }
   ],
   "source": [
    "print(arr1 @ arr2) # Matrix product \n",
    "print(arr1.dot(arr2)) # using dot() Matrix product"
   ]
  },
  {
   "cell_type": "markdown",
   "id": "852c234c",
   "metadata": {},
   "source": [
    "# min(),max(), argmin(),argmax() axix = 0 or 1"
   ]
  },
  {
   "cell_type": "code",
   "execution_count": 48,
   "id": "a65ca605",
   "metadata": {},
   "outputs": [
    {
     "name": "stdout",
     "output_type": "stream",
     "text": [
      "9\n",
      "8\n",
      "index of {} is {} 9 8\n"
     ]
    }
   ],
   "source": [
    "print(arr1.max()) # max number in array\n",
    "print(arr1.argmax()) #index of max number\n",
    "print(\"index of {} is {}\",arr1.max(), arr1.argmax())"
   ]
  },
  {
   "cell_type": "code",
   "execution_count": 51,
   "id": "c0cb230f",
   "metadata": {},
   "outputs": [
    {
     "name": "stdout",
     "output_type": "stream",
     "text": [
      "[[1 2 3]\n",
      " [4 5 6]\n",
      " [7 8 9]]\n",
      "column max:  [7 8 9]\n",
      "row max:  [3 6 9]\n"
     ]
    }
   ],
   "source": [
    "# 0 represent column and 1 column\n",
    "print(arr1)\n",
    "print(\"column max: \",arr1.max(axis = 0)) # find column wise max value\n",
    "print(\"row max: \",arr1.max(axis = 1))# find row wise max vulue"
   ]
  },
  {
   "cell_type": "code",
   "execution_count": 52,
   "id": "331caec7",
   "metadata": {},
   "outputs": [
    {
     "name": "stdout",
     "output_type": "stream",
     "text": [
      "[[1 2 3]\n",
      " [4 5 6]\n",
      " [7 8 9]]\n",
      "column max:  [1 2 3]\n",
      "row max:  [1 4 7]\n"
     ]
    }
   ],
   "source": [
    "print(arr1)\n",
    "print(\"column max: \",arr1.min(axis = 0)) # find column wise min value\n",
    "print(\"row max: \",arr1.min(axis = 1))# find row wise min vulue"
   ]
  },
  {
   "cell_type": "code",
   "execution_count": 55,
   "id": "73024891",
   "metadata": {},
   "outputs": [
    {
     "name": "stdout",
     "output_type": "stream",
     "text": [
      "1\n",
      "0\n"
     ]
    }
   ],
   "source": [
    "print(arr1.min())\n",
    "print(arr1.argmin())"
   ]
  },
  {
   "cell_type": "markdown",
   "id": "ef420366",
   "metadata": {},
   "source": [
    "# np.sum(),np.mean(),np.sqrt(),np.std(),np.exp(),np.log(),nplog10()"
   ]
  },
  {
   "cell_type": "code",
   "execution_count": 57,
   "id": "d01d79d2",
   "metadata": {},
   "outputs": [
    {
     "name": "stdout",
     "output_type": "stream",
     "text": [
      "45\n",
      "[12 15 18]\n"
     ]
    }
   ],
   "source": [
    "print(np.sum(arr1)) # add every element within the matrix\n",
    "print(np.sum(arr1, axis = 0)) # add column wise"
   ]
  },
  {
   "cell_type": "code",
   "execution_count": 58,
   "id": "44bc605f",
   "metadata": {},
   "outputs": [
    {
     "name": "stdout",
     "output_type": "stream",
     "text": [
      "[[1 2 3]\n",
      " [4 5 6]\n",
      " [7 8 9]]\n",
      "5.0\n"
     ]
    }
   ],
   "source": [
    "print(arr1)\n",
    "print(np.mean(arr1)) # average"
   ]
  },
  {
   "cell_type": "code",
   "execution_count": 62,
   "id": "94396948",
   "metadata": {},
   "outputs": [
    {
     "name": "stdout",
     "output_type": "stream",
     "text": [
      "sqrt;  [[1.         1.41421356 1.73205081]\n",
      " [2.         2.23606798 2.44948974]\n",
      " [2.64575131 2.82842712 3.        ]]\n",
      "std  2.581988897471611\n",
      "log  [[0.         0.69314718 1.09861229]\n",
      " [1.38629436 1.60943791 1.79175947]\n",
      " [1.94591015 2.07944154 2.19722458]]\n",
      "log10  [[0.         0.30103    0.47712125]\n",
      " [0.60205999 0.69897    0.77815125]\n",
      " [0.84509804 0.90308999 0.95424251]]\n"
     ]
    }
   ],
   "source": [
    "print(\"sqrt; \",np.sqrt(arr1))\n",
    "print(\"std \",np.std(arr1))\n",
    "print(\"log \",np.log(arr1)) # natural log\n",
    "print(\"log10 \",np.log10(arr1))"
   ]
  },
  {
   "cell_type": "markdown",
   "id": "2dfe96b5",
   "metadata": {},
   "source": [
    "# NumPy Array slicing"
   ]
  },
  {
   "cell_type": "code",
   "execution_count": 63,
   "id": "6a73ad2b",
   "metadata": {},
   "outputs": [],
   "source": [
    "import numpy as np"
   ]
  },
  {
   "cell_type": "code",
   "execution_count": 64,
   "id": "8eb84674",
   "metadata": {},
   "outputs": [
    {
     "name": "stdout",
     "output_type": "stream",
     "text": [
      "[[  1   2   3   4   5   6   7   8   9  10]\n",
      " [ 11  12  13  14  15  16  17  18  19  20]\n",
      " [ 21  22  23  24  25  26  27  28  29  30]\n",
      " [ 31  32  33  34  35  36  37  38  39  40]\n",
      " [ 41  42  43  44  45  46  47  48  49  50]\n",
      " [ 51  52  53  54  55  56  57  58  59  60]\n",
      " [ 61  62  63  64  65  66  67  68  69  70]\n",
      " [ 71  72  73  74  75  76  77  78  79  80]\n",
      " [ 81  82  83  84  85  86  87  88  89  90]\n",
      " [ 91  92  93  94  95  96  97  98  99 100]]\n"
     ]
    }
   ],
   "source": [
    "arr= np.arange(1,101).reshape(10,10)\n",
    "print(arr)"
   ]
  },
  {
   "cell_type": "code",
   "execution_count": 66,
   "id": "b86dcc55",
   "metadata": {},
   "outputs": [
    {
     "name": "stdout",
     "output_type": "stream",
     "text": [
      "1\n"
     ]
    }
   ],
   "source": [
    "print(arr[0,0])"
   ]
  },
  {
   "cell_type": "code",
   "execution_count": 67,
   "id": "1b40325f",
   "metadata": {},
   "outputs": [
    {
     "name": "stdout",
     "output_type": "stream",
     "text": [
      "0\n"
     ]
    }
   ],
   "source": [
    "print(arr[0,0].ndim) # scaler value ( no dimention)"
   ]
  },
  {
   "cell_type": "code",
   "execution_count": 68,
   "id": "f3134aca",
   "metadata": {},
   "outputs": [
    {
     "name": "stdout",
     "output_type": "stream",
     "text": [
      "[ 1  2  3  4  5  6  7  8  9 10]\n",
      "1\n"
     ]
    }
   ],
   "source": [
    "print(arr[0]) # first row\n",
    "print(arr[0].ndim) # 1D"
   ]
  },
  {
   "cell_type": "code",
   "execution_count": 81,
   "id": "ae2cba41",
   "metadata": {},
   "outputs": [
    {
     "name": "stdout",
     "output_type": "stream",
     "text": [
      "[ 10  20  30  40  50  60  70  80  90 100]\n"
     ]
    }
   ],
   "source": [
    "print(arr[:,9]) # 9th column got"
   ]
  },
  {
   "cell_type": "code",
   "execution_count": 91,
   "id": "689f38a9",
   "metadata": {},
   "outputs": [
    {
     "name": "stdout",
     "output_type": "stream",
     "text": [
      "[[ 1  2  3]\n",
      " [11 12 13]\n",
      " [21 22 23]\n",
      " [31 32 33]\n",
      " [41 42 43]\n",
      " [51 52 53]\n",
      " [61 62 63]\n",
      " [71 72 73]\n",
      " [81 82 83]\n",
      " [91 92 93]]\n",
      "2\n"
     ]
    }
   ],
   "source": [
    "\n",
    "print(arr[:,0:3])\n",
    "print(arr[:,9:1].ndim)"
   ]
  },
  {
   "cell_type": "code",
   "execution_count": 94,
   "id": "e2de4c2d",
   "metadata": {},
   "outputs": [
    {
     "name": "stdout",
     "output_type": "stream",
     "text": [
      "[[ 10]\n",
      " [ 20]\n",
      " [ 30]\n",
      " [ 40]\n",
      " [ 50]\n",
      " [ 60]\n",
      " [ 70]\n",
      " [ 80]\n",
      " [ 90]\n",
      " [100]]\n"
     ]
    }
   ],
   "source": [
    "print(arr[:,9:10])"
   ]
  },
  {
   "cell_type": "code",
   "execution_count": 95,
   "id": "79ff602b",
   "metadata": {},
   "outputs": [
    {
     "data": {
      "text/plain": [
       "array([[  1,   2,   3,   4,   5,   6,   7,   8,   9,  10],\n",
       "       [ 11,  12,  13,  14,  15,  16,  17,  18,  19,  20],\n",
       "       [ 21,  22,  23,  24,  25,  26,  27,  28,  29,  30],\n",
       "       [ 31,  32,  33,  34,  35,  36,  37,  38,  39,  40],\n",
       "       [ 41,  42,  43,  44,  45,  46,  47,  48,  49,  50],\n",
       "       [ 51,  52,  53,  54,  55,  56,  57,  58,  59,  60],\n",
       "       [ 61,  62,  63,  64,  65,  66,  67,  68,  69,  70],\n",
       "       [ 71,  72,  73,  74,  75,  76,  77,  78,  79,  80],\n",
       "       [ 81,  82,  83,  84,  85,  86,  87,  88,  89,  90],\n",
       "       [ 91,  92,  93,  94,  95,  96,  97,  98,  99, 100]])"
      ]
     },
     "execution_count": 95,
     "metadata": {},
     "output_type": "execute_result"
    }
   ],
   "source": [
    "arr"
   ]
  },
  {
   "cell_type": "code",
   "execution_count": 96,
   "id": "f00bb26f",
   "metadata": {},
   "outputs": [
    {
     "data": {
      "text/plain": [
       "15"
      ]
     },
     "execution_count": 96,
     "metadata": {},
     "output_type": "execute_result"
    }
   ],
   "source": [
    "arr[1,4] # find a paticular data"
   ]
  },
  {
   "cell_type": "code",
   "execution_count": 101,
   "id": "2419142b",
   "metadata": {},
   "outputs": [
    {
     "data": {
      "text/plain": [
       "array([63, 66, 69, 72, 75, 78, 81, 84, 87, 90])"
      ]
     },
     "execution_count": 101,
     "metadata": {},
     "output_type": "execute_result"
    }
   ],
   "source": [
    "np.sum(arr[1:4], axis=0)"
   ]
  },
  {
   "cell_type": "code",
   "execution_count": 102,
   "id": "e26c2b10",
   "metadata": {},
   "outputs": [
    {
     "data": {
      "text/plain": [
       "array([63, 66, 69, 72, 75, 78, 81, 84, 87, 90])"
      ]
     },
     "execution_count": 102,
     "metadata": {},
     "output_type": "execute_result"
    }
   ],
   "source": [
    "sum(arr[1:4])"
   ]
  },
  {
   "cell_type": "code",
   "execution_count": 103,
   "id": "dfe95ec6",
   "metadata": {},
   "outputs": [
    {
     "name": "stdout",
     "output_type": "stream",
     "text": [
      "[[  1   2   3   4   5   6   7   8   9  10]\n",
      " [ 11  12  13  14  15  16  17  18  19  20]\n",
      " [ 21  22  23  24  25  26  27  28  29  30]\n",
      " [ 31  32  33  34  35  36  37  38  39  40]\n",
      " [ 41  42  43  44  45  46  47  48  49  50]\n",
      " [ 51  52  53  54  55  56  57  58  59  60]\n",
      " [ 61  62  63  64  65  66  67  68  69  70]\n",
      " [ 71  72  73  74  75  76  77  78  79  80]\n",
      " [ 81  82  83  84  85  86  87  88  89  90]\n",
      " [ 91  92  93  94  95  96  97  98  99 100]]\n",
      "[[  1   2   3   4   5   6   7   8   9  10]\n",
      " [ 11  12  13  14  15  16  17  18  19  20]\n",
      " [ 21  22  23  24  25  26  27  28  29  30]\n",
      " [ 31  32  33  34  35  36  37  38  39  40]\n",
      " [ 41  42  43  44  45  46  47  48  49  50]\n",
      " [ 51  52  53  54  55  56  57  58  59  60]\n",
      " [ 61  62  63  64  65  66  67  68  69  70]\n",
      " [ 71  72  73  74  75  76  77  78  79  80]\n",
      " [ 81  82  83  84  85  86  87  88  89  90]\n",
      " [ 91  92  93  94  95  96  97  98  99 100]]\n",
      "[[  1   2   3   4   5   6   7   8   9  10]\n",
      " [ 11  12  13  14  15  16  17  18  19  20]\n",
      " [ 21  22  23  24  25  26  27  28  29  30]\n",
      " [ 31  32  33  34  35  36  37  38  39  40]\n",
      " [ 41  42  43  44  45  46  47  48  49  50]\n",
      " [ 51  52  53  54  55  56  57  58  59  60]\n",
      " [ 61  62  63  64  65  66  67  68  69  70]\n",
      " [ 71  72  73  74  75  76  77  78  79  80]\n",
      " [ 81  82  83  84  85  86  87  88  89  90]\n",
      " [ 91  92  93  94  95  96  97  98  99 100]]\n"
     ]
    }
   ],
   "source": [
    "print(arr[:])\n",
    "print(arr[::])\n",
    "print(arr[:,:]) # these all give same output"
   ]
  },
  {
   "cell_type": "code",
   "execution_count": 109,
   "id": "b35024ce",
   "metadata": {},
   "outputs": [
    {
     "name": "stdout",
     "output_type": "stream",
     "text": [
      "[[ 1  2  3  4  5  6  7  8  9 10]\n",
      " [11 12 13 14 15 16 17 18 19 20]\n",
      " [21 22 23 24 25 26 27 28 29 30]\n",
      " [31 32 33 34 35 36 37 38 39 40]]\n",
      "[[ 3  4  5  6]\n",
      " [13 14 15 16]\n",
      " [23 24 25 26]\n",
      " [33 34 35 36]]\n",
      "2\n",
      "(4, 4)\n",
      "[[ 3  4  5  6 13 14 15 16]\n",
      " [23 24 25 26 33 34 35 36]]\n"
     ]
    }
   ],
   "source": [
    "# matrix_name[starting_row:ending_row:starting_column:ending_column]\n",
    "print(arr[0:4])\n",
    "print(arr[0:4,2:6])\n",
    "print(arr[0:4,2:6].ndim)\n",
    "print(arr[0:4,2:6].shape)\n",
    "print(arr[0:4,2:6].reshape(2,8))"
   ]
  },
  {
   "cell_type": "markdown",
   "id": "598fd234",
   "metadata": {},
   "source": [
    "# .itemsize, .dtype"
   ]
  },
  {
   "cell_type": "code",
   "execution_count": 115,
   "id": "1d8b894c",
   "metadata": {},
   "outputs": [
    {
     "name": "stdout",
     "output_type": "stream",
     "text": [
      "int32\n",
      "4\n"
     ]
    }
   ],
   "source": [
    "print(arr.dtype) # 1 bit = 8 bytes, 32/8=4\n",
    "print(arr.itemsize)  # in bit\n"
   ]
  },
  {
   "cell_type": "markdown",
   "id": "0a1fd00a",
   "metadata": {},
   "source": [
    "# NumPy Array Concatination and Split\n"
   ]
  },
  {
   "cell_type": "code",
   "execution_count": 116,
   "id": "67481242",
   "metadata": {},
   "outputs": [],
   "source": [
    "import numpy as np"
   ]
  },
  {
   "cell_type": "code",
   "execution_count": 122,
   "id": "0825bfdd",
   "metadata": {},
   "outputs": [
    {
     "name": "stdout",
     "output_type": "stream",
     "text": [
      "[[ 1  2  3  4]\n",
      " [ 5  6  7  8]\n",
      " [ 9 10 11 12]\n",
      " [13 14 15 16]]\n"
     ]
    }
   ],
   "source": [
    "arr1 = np.arange(1,17).reshape(4,4)\n",
    "print(arr1)"
   ]
  },
  {
   "cell_type": "code",
   "execution_count": 128,
   "id": "b4f58ca7",
   "metadata": {},
   "outputs": [
    {
     "name": "stdout",
     "output_type": "stream",
     "text": [
      "[[17 18 19 20]\n",
      " [21 22 23 24]\n",
      " [25 26 27 28]\n",
      " [29 30 31 32]]\n",
      "------------------\n",
      "[[18 20 22 24]\n",
      " [26 28 30 32]\n",
      " [34 36 38 40]\n",
      " [42 44 46 48]]\n"
     ]
    }
   ],
   "source": [
    "arr2 = np.arange(17,33).reshape(4,4)\n",
    "print(arr2)\n",
    "print(\"------------------\")\n",
    "print(arr1 + arr2)"
   ]
  },
  {
   "cell_type": "code",
   "execution_count": 133,
   "id": "bcb34b24",
   "metadata": {},
   "outputs": [
    {
     "name": "stdout",
     "output_type": "stream",
     "text": [
      "[50, 1, 2, 3, 10, 4, 5, 6]\n"
     ]
    }
   ],
   "source": [
    "l1 = [1,2,3]\n",
    "l1.append(10)\n",
    "l1.insert(0,50)\n",
    "l2 = [4,5,6]\n",
    "print(l1 + l2)\n"
   ]
  },
  {
   "cell_type": "code",
   "execution_count": 136,
   "id": "e21fc04a",
   "metadata": {},
   "outputs": [
    {
     "name": "stdout",
     "output_type": "stream",
     "text": [
      "[[ 1  2  3  4]\n",
      " [ 5  6  7  8]\n",
      " [ 9 10 11 12]\n",
      " [13 14 15 16]]\n",
      "[[17 18 19 20]\n",
      " [21 22 23 24]\n",
      " [25 26 27 28]\n",
      " [29 30 31 32]]\n",
      "after concatenation\n",
      "[[ 1  2  3  4]\n",
      " [ 5  6  7  8]\n",
      " [ 9 10 11 12]\n",
      " [13 14 15 16]\n",
      " [17 18 19 20]\n",
      " [21 22 23 24]\n",
      " [25 26 27 28]\n",
      " [29 30 31 32]]\n"
     ]
    }
   ],
   "source": [
    "print(arr1)\n",
    "print(arr2)\n",
    "print(\"after concatenation\")\n",
    "print(np.concatenate((arr1,arr2))) # by defualt np.vstack()"
   ]
  },
  {
   "cell_type": "code",
   "execution_count": 142,
   "id": "45aa90f4",
   "metadata": {},
   "outputs": [
    {
     "name": "stdout",
     "output_type": "stream",
     "text": [
      "[[ 1  2  3  4 17 18 19 20]\n",
      " [ 5  6  7  8 21 22 23 24]\n",
      " [ 9 10 11 12 25 26 27 28]\n",
      " [13 14 15 16 29 30 31 32]]\n"
     ]
    }
   ],
   "source": [
    "# concatenate row wise\n",
    "print(np.concatenate((arr1,arr2),axis = 1))\n"
   ]
  },
  {
   "cell_type": "markdown",
   "id": "07af238b",
   "metadata": {},
   "source": [
    "# np.vstack(), np.hstack()"
   ]
  },
  {
   "cell_type": "code",
   "execution_count": 146,
   "id": "c915826a",
   "metadata": {},
   "outputs": [
    {
     "data": {
      "text/plain": [
       "array([[ 1,  2,  3,  4],\n",
       "       [ 5,  6,  7,  8],\n",
       "       [ 9, 10, 11, 12],\n",
       "       [13, 14, 15, 16],\n",
       "       [17, 18, 19, 20],\n",
       "       [21, 22, 23, 24],\n",
       "       [25, 26, 27, 28],\n",
       "       [29, 30, 31, 32]])"
      ]
     },
     "execution_count": 146,
     "metadata": {},
     "output_type": "execute_result"
    }
   ],
   "source": [
    "np.vstack((arr1,arr2)) # vertical axis = 0"
   ]
  },
  {
   "cell_type": "code",
   "execution_count": 147,
   "id": "a57a5c77",
   "metadata": {},
   "outputs": [
    {
     "data": {
      "text/plain": [
       "array([[ 1,  2,  3,  4, 17, 18, 19, 20],\n",
       "       [ 5,  6,  7,  8, 21, 22, 23, 24],\n",
       "       [ 9, 10, 11, 12, 25, 26, 27, 28],\n",
       "       [13, 14, 15, 16, 29, 30, 31, 32]])"
      ]
     },
     "execution_count": 147,
     "metadata": {},
     "output_type": "execute_result"
    }
   ],
   "source": [
    "np.hstack((arr1,arr2)) # axis=1 is similar"
   ]
  },
  {
   "cell_type": "code",
   "execution_count": 149,
   "id": "5731a401",
   "metadata": {},
   "outputs": [
    {
     "data": {
      "text/plain": [
       "array([[ 1,  2,  3,  4, 17, 18, 19, 20,  1,  2,  3,  4],\n",
       "       [ 5,  6,  7,  8, 21, 22, 23, 24,  5,  6,  7,  8],\n",
       "       [ 9, 10, 11, 12, 25, 26, 27, 28,  9, 10, 11, 12],\n",
       "       [13, 14, 15, 16, 29, 30, 31, 32, 13, 14, 15, 16]])"
      ]
     },
     "execution_count": 149,
     "metadata": {},
     "output_type": "execute_result"
    }
   ],
   "source": [
    "np.hstack((arr1,arr2,arr1)) # can be add multiple array"
   ]
  },
  {
   "cell_type": "code",
   "execution_count": 152,
   "id": "4a95226c",
   "metadata": {},
   "outputs": [
    {
     "name": "stdout",
     "output_type": "stream",
     "text": [
      "[[ 1  2  3  4]\n",
      " [ 5  6  7  8]\n",
      " [ 9 10 11 12]\n",
      " [13 14 15 16]]\n"
     ]
    },
    {
     "data": {
      "text/plain": [
       "[array([[1, 2, 3, 4]]),\n",
       " array([[5, 6, 7, 8]]),\n",
       " array([[ 9, 10, 11, 12]]),\n",
       " array([[13, 14, 15, 16]])]"
      ]
     },
     "execution_count": 152,
     "metadata": {},
     "output_type": "execute_result"
    }
   ],
   "source": [
    "print(arr1)\n",
    "np.split(arr1,4) # split in the form of --> list."
   ]
  },
  {
   "cell_type": "code",
   "execution_count": 153,
   "id": "a997c789",
   "metadata": {},
   "outputs": [
    {
     "data": {
      "text/plain": [
       "list"
      ]
     },
     "execution_count": 153,
     "metadata": {},
     "output_type": "execute_result"
    }
   ],
   "source": [
    "type(np.split(arr1,4))"
   ]
  },
  {
   "cell_type": "code",
   "execution_count": 154,
   "id": "6053423c",
   "metadata": {},
   "outputs": [
    {
     "data": {
      "text/plain": [
       "[array([[ 1,  2],\n",
       "        [ 5,  6],\n",
       "        [ 9, 10],\n",
       "        [13, 14]]),\n",
       " array([[ 3,  4],\n",
       "        [ 7,  8],\n",
       "        [11, 12],\n",
       "        [15, 16]])]"
      ]
     },
     "execution_count": 154,
     "metadata": {},
     "output_type": "execute_result"
    }
   ],
   "source": [
    "np.split(arr1,2,axis= 1)"
   ]
  },
  {
   "cell_type": "code",
   "execution_count": 155,
   "id": "e426c659",
   "metadata": {},
   "outputs": [
    {
     "data": {
      "text/plain": [
       "[array([4]), array([7, 1]), array([3, 9])]"
      ]
     },
     "execution_count": 155,
     "metadata": {},
     "output_type": "execute_result"
    }
   ],
   "source": [
    "d1 = np.array([4,7,1,3,9])\n",
    "np.split(d1,[1,3])"
   ]
  },
  {
   "cell_type": "markdown",
   "id": "48075417",
   "metadata": {},
   "source": [
    "# Tignomentry sign"
   ]
  },
  {
   "cell_type": "code",
   "execution_count": 157,
   "id": "275af3e5",
   "metadata": {},
   "outputs": [],
   "source": [
    "import numpy as np\n",
    "import matplotlib.pyplot as plt"
   ]
  },
  {
   "cell_type": "code",
   "execution_count": 162,
   "id": "af765128",
   "metadata": {},
   "outputs": [
    {
     "data": {
      "text/plain": [
       "-0.8011526357338304"
      ]
     },
     "execution_count": 162,
     "metadata": {},
     "output_type": "execute_result"
    }
   ],
   "source": [
    "np.sin(180)"
   ]
  },
  {
   "cell_type": "code",
   "execution_count": 193,
   "id": "c8c705b2",
   "metadata": {},
   "outputs": [
    {
     "name": "stdout",
     "output_type": "stream",
     "text": [
      "0.8939966636005579\n",
      "1.0\n"
     ]
    }
   ],
   "source": [
    "print(np.sin(90)) # in degrees\n",
    "print(np.sin(90*np.pi/180)) # in radia"
   ]
  },
  {
   "cell_type": "code",
   "execution_count": 163,
   "id": "b08a41f6",
   "metadata": {},
   "outputs": [
    {
     "data": {
      "text/plain": [
       "-0.5984600690578581"
      ]
     },
     "execution_count": 163,
     "metadata": {},
     "output_type": "execute_result"
    }
   ],
   "source": [
    "np.cos(180)"
   ]
  },
  {
   "cell_type": "code",
   "execution_count": 165,
   "id": "ff9355af",
   "metadata": {},
   "outputs": [
    {
     "data": {
      "text/plain": [
       "1.3386902103511544"
      ]
     },
     "execution_count": 165,
     "metadata": {},
     "output_type": "execute_result"
    }
   ],
   "source": [
    "np.tan(180)"
   ]
  },
  {
   "cell_type": "code",
   "execution_count": 171,
   "id": "bb85cd51",
   "metadata": {},
   "outputs": [
    {
     "name": "stdout",
     "output_type": "stream",
     "text": [
      "[0.  0.1 0.2 0.3 0.4 0.5 0.6 0.7 0.8 0.9 1.  1.1 1.2 1.3 1.4 1.5 1.6 1.7\n",
      " 1.8 1.9 2.  2.1 2.2 2.3 2.4 2.5 2.6 2.7 2.8 2.9 3.  3.1]\n"
     ]
    }
   ],
   "source": [
    "# \n",
    "x_sin = np.arange(0,np.pi,0.1)\n",
    "print(x_sin)"
   ]
  },
  {
   "cell_type": "code",
   "execution_count": 172,
   "id": "cda8acdd",
   "metadata": {},
   "outputs": [
    {
     "name": "stdout",
     "output_type": "stream",
     "text": [
      "[0.         0.09983342 0.19866933 0.29552021 0.38941834 0.47942554\n",
      " 0.56464247 0.64421769 0.71735609 0.78332691 0.84147098 0.89120736\n",
      " 0.93203909 0.96355819 0.98544973 0.99749499 0.9995736  0.99166481\n",
      " 0.97384763 0.94630009 0.90929743 0.86320937 0.8084964  0.74570521\n",
      " 0.67546318 0.59847214 0.51550137 0.42737988 0.33498815 0.23924933\n",
      " 0.14112001 0.04158066]\n"
     ]
    }
   ],
   "source": [
    "y_sin = np.sin(x_sin)\n",
    "print(y_sin)"
   ]
  },
  {
   "cell_type": "code",
   "execution_count": 173,
   "id": "9f684d7e",
   "metadata": {},
   "outputs": [
    {
     "data": {
      "image/png": "[encoded data removed]",
      "text/plain": [
       "<Figure size 432x288 with 1 Axes>"
      ]
     },
     "metadata": {
      "needs_background": "light"
     },
     "output_type": "display_data"
    }
   ],
   "source": [
    "plt.plot(x_sin,y_sin)\n",
    "plt.show()"
   ]
  },
  {
   "cell_type": "code",
   "execution_count": 177,
   "id": "2918afe1",
   "metadata": {},
   "outputs": [
    {
     "data": {
      "image/png": "[encoded data removed]",
      "text/plain": [
       "<Figure size 432x288 with 1 Axes>"
      ]
     },
     "metadata": {
      "needs_background": "light"
     },
     "output_type": "display_data"
    }
   ],
   "source": [
    "x_cos = np.arange(0,3*np.pi,0.1)\n",
    "y_cos = np.sin(x_cos)\n",
    "plt.plot(x_cos,y_cos)\n",
    "plt.show()"
   ]
  },
  {
   "cell_type": "code",
   "execution_count": 178,
   "id": "013bc420",
   "metadata": {},
   "outputs": [
    {
     "data": {
      "image/png": "[encoded data removed]",
      "text/plain": [
       "<Figure size 432x288 with 1 Axes>"
      ]
     },
     "metadata": {
      "needs_background": "light"
     },
     "output_type": "display_data"
    }
   ],
   "source": [
    "x_tan = np.arange(0,3*np.pi,0.1)\n",
    "y_tan = np.tan(x_tan)\n",
    "plt.plot(x_tan,y_tan)\n",
    "plt.show()"
   ]
  },
  {
   "cell_type": "code",
   "execution_count": null,
   "id": "9a17adb8",
   "metadata": {},
   "outputs": [],
   "source": [
    "x_sin = np.arange(0,np.pi.1)\n"
   ]
  },
  {
   "cell_type": "code",
   "execution_count": 190,
   "id": "f12d3b76",
   "metadata": {},
   "outputs": [],
   "source": [
    "y_sin=(np.sin(x_sin*np.pi/180))"
   ]
  },
  {
   "cell_type": "code",
   "execution_count": 191,
   "id": "00a8a5fb",
   "metadata": {},
   "outputs": [
    {
     "data": {
      "text/plain": [
       "[<matplotlib.lines.Line2D at 0x1fe1fe255b0>]"
      ]
     },
     "execution_count": 191,
     "metadata": {},
     "output_type": "execute_result"
    },
    {
     "data": {
      "image/png": "[encoded data removed]",
      "text/plain": [
       "<Figure size 432x288 with 1 Axes>"
      ]
     },
     "metadata": {
      "needs_background": "light"
     },
     "output_type": "display_data"
    }
   ],
   "source": [
    "plt.plot(x_sin,y_sin)"
   ]
  },
  {
   "cell_type": "markdown",
   "id": "23a30a60",
   "metadata": {},
   "source": [
    "# Random Sampling with NumPY"
   ]
  },
  {
   "cell_type": "code",
   "execution_count": 195,
   "id": "455919d2",
   "metadata": {},
   "outputs": [],
   "source": [
    "import numpy as np\n",
    "import random"
   ]
  },
  {
   "cell_type": "code",
   "execution_count": 197,
   "id": "7f581690",
   "metadata": {},
   "outputs": [
    {
     "data": {
      "text/plain": [
       "array([0.46440056, 0.90702464, 0.23804023, 0.79873574, 0.95456384,\n",
       "       0.87537721, 0.34822078, 0.5098544 , 0.67593333, 0.68551666])"
      ]
     },
     "execution_count": 197,
     "metadata": {},
     "output_type": "execute_result"
    }
   ],
   "source": [
    "#1D array.\n",
    "np.random.random(10)  # it will give values 0 to 1."
   ]
  },
  {
   "cell_type": "code",
   "execution_count": 198,
   "id": "b409f647",
   "metadata": {},
   "outputs": [
    {
     "data": {
      "text/plain": [
       "array([[0.21303647, 0.35134781, 0.27412005],\n",
       "       [0.16772962, 0.86481317, 0.71305198],\n",
       "       [0.59471971, 0.79061412, 0.3035463 ]])"
      ]
     },
     "execution_count": 198,
     "metadata": {},
     "output_type": "execute_result"
    }
   ],
   "source": [
    "#2D array.\n",
    "np.random.random((3,3)) # randomly create array values lie b/t 0 to 1."
   ]
  },
  {
   "cell_type": "code",
   "execution_count": 202,
   "id": "77360fa5",
   "metadata": {},
   "outputs": [
    {
     "data": {
      "text/plain": [
       "9"
      ]
     },
     "execution_count": 202,
     "metadata": {},
     "output_type": "execute_result"
    }
   ],
   "source": [
    "# random int value\n",
    "np.random.randint(1,10) # random value generate every time 1 to 10."
   ]
  },
  {
   "cell_type": "code",
   "execution_count": 201,
   "id": "af6d0a1f",
   "metadata": {},
   "outputs": [
    {
     "data": {
      "text/plain": [
       "array([[7, 2, 9, 4],\n",
       "       [9, 4, 4, 3],\n",
       "       [9, 8, 4, 2],\n",
       "       [1, 7, 2, 5]])"
      ]
     },
     "execution_count": 201,
     "metadata": {},
     "output_type": "execute_result"
    }
   ],
   "source": [
    "np.random.randint(1,10,(4,4)) # 2D array"
   ]
  },
  {
   "cell_type": "code",
   "execution_count": 203,
   "id": "a5541d33",
   "metadata": {},
   "outputs": [
    {
     "data": {
      "text/plain": [
       "array([[[5, 3, 4, 6],\n",
       "        [3, 7, 5, 5],\n",
       "        [6, 5, 9, 8],\n",
       "        [8, 2, 8, 7]],\n",
       "\n",
       "       [[5, 1, 9, 6],\n",
       "        [3, 2, 6, 8],\n",
       "        [7, 7, 1, 2],\n",
       "        [1, 5, 3, 6]]])"
      ]
     },
     "execution_count": 203,
     "metadata": {},
     "output_type": "execute_result"
    }
   ],
   "source": [
    "# 3D array\n",
    "np.random.randint(1,10,(2,4,4)) # 2D array represents 2 times"
   ]
  },
  {
   "cell_type": "markdown",
   "id": "e68d082e",
   "metadata": {},
   "source": [
    "# .seed() , .choice()"
   ]
  },
  {
   "cell_type": "code",
   "execution_count": 204,
   "id": "41a8d392",
   "metadata": {},
   "outputs": [
    {
     "data": {
      "text/plain": [
       "array([[[5, 1, 2, 1],\n",
       "        [2, 9, 1, 9],\n",
       "        [7, 5, 4, 1],\n",
       "        [5, 7, 9, 2]],\n",
       "\n",
       "       [[9, 5, 2, 4],\n",
       "        [7, 6, 4, 7],\n",
       "        [2, 5, 3, 7],\n",
       "        [8, 9, 9, 3]]])"
      ]
     },
     "execution_count": 204,
     "metadata": {},
     "output_type": "execute_result"
    }
   ],
   "source": [
    "# same random value which you already generated in previous\n",
    "np.random.seed(10)  # 2**32-1\n",
    "np.random.randint(1,10,(2,4,4))"
   ]
  },
  {
   "cell_type": "code",
   "execution_count": 205,
   "id": "c6f830c1",
   "metadata": {},
   "outputs": [
    {
     "data": {
      "text/plain": [
       "array([[[5, 1, 2, 1],\n",
       "        [2, 9, 1, 9],\n",
       "        [7, 5, 4, 1],\n",
       "        [5, 7, 9, 2]],\n",
       "\n",
       "       [[9, 5, 2, 4],\n",
       "        [7, 6, 4, 7],\n",
       "        [2, 5, 3, 7],\n",
       "        [8, 9, 9, 3]]])"
      ]
     },
     "execution_count": 205,
     "metadata": {},
     "output_type": "execute_result"
    }
   ],
   "source": [
    "np.random.seed(10)# it keep the information of previous random value \n",
    "np.random.randint(1,10,(2,4,4))# and generate similiar random values again and again"
   ]
  },
  {
   "cell_type": "code",
   "execution_count": 214,
   "id": "1a0cdd85",
   "metadata": {},
   "outputs": [
    {
     "name": "stdout",
     "output_type": "stream",
     "text": [
      "[0.76324059 0.87809664 0.41750914]\n",
      "[[0.60557756 0.51346663 0.59783665]\n",
      " [0.26221566 0.30087131 0.02539978]\n",
      " [0.30306256 0.24207588 0.55757819]]\n",
      "[0.56550702 0.47513225 0.29279798]\n"
     ]
    }
   ],
   "source": [
    "print(np.random.rand(3))\n",
    "print(np.random.rand(3,3))\n",
    "print(np.random.random(3))\n",
    "#print(np.random.random(3,3)) #it will throw error"
   ]
  },
  {
   "cell_type": "code",
   "execution_count": 218,
   "id": "db969826",
   "metadata": {},
   "outputs": [
    {
     "data": {
      "text/plain": [
       "array([-0.75389296,  0.71195902,  0.91826915])"
      ]
     },
     "execution_count": 218,
     "metadata": {},
     "output_type": "execute_result"
    }
   ],
   "source": [
    "#np.random.randint(1,10)\n",
    "np.random.randn(3) # it generate -ve and  +ve random value"
   ]
  },
  {
   "cell_type": "code",
   "execution_count": 219,
   "id": "595878dc",
   "metadata": {},
   "outputs": [
    {
     "data": {
      "text/plain": [
       "array([[-0.48209314,  0.08958761,  0.82699862],\n",
       "       [-1.95451212,  0.11747566, -1.90745689],\n",
       "       [-0.92290926,  0.46975143, -0.14436676]])"
      ]
     },
     "execution_count": 219,
     "metadata": {},
     "output_type": "execute_result"
    }
   ],
   "source": [
    "np.random.randn(3,3)"
   ]
  },
  {
   "cell_type": "code",
   "execution_count": 225,
   "id": "e0699320",
   "metadata": {},
   "outputs": [
    {
     "name": "stdout",
     "output_type": "stream",
     "text": [
      "l:  1\n",
      "1\n",
      "3\n",
      "3\n",
      "2\n",
      "3\n"
     ]
    }
   ],
   "source": [
    "l = [1,2,3,4]\n",
    "print(\"l: \",np.random.choice(l))\n",
    "for i in range(5):\n",
    "    print(np.random.choice(l))"
   ]
  },
  {
   "cell_type": "code",
   "execution_count": 226,
   "id": "1c22ee61",
   "metadata": {},
   "outputs": [
    {
     "data": {
      "text/plain": [
       "array([1, 4, 3, 2])"
      ]
     },
     "execution_count": 226,
     "metadata": {},
     "output_type": "execute_result"
    }
   ],
   "source": [
    "l = [1,2,3,4]\n",
    "np.random.permutation(l)"
   ]
  },
  {
   "cell_type": "markdown",
   "id": "e53bae92",
   "metadata": {},
   "source": [
    "# String Operations, Comparision and information"
   ]
  },
  {
   "cell_type": "code",
   "execution_count": 227,
   "id": "47dd7e9e",
   "metadata": {},
   "outputs": [],
   "source": [
    "import numpy as np"
   ]
  },
  {
   "cell_type": "code",
   "execution_count": null,
   "id": "744d1542",
   "metadata": {},
   "outputs": [],
   "source": [
    "lower()"
   ]
  },
  {
   "cell_type": "code",
   "execution_count": 229,
   "id": "6c92dfd5",
   "metadata": {},
   "outputs": [
    {
     "data": {
      "text/plain": [
       "array('I am Indian I am learning machine learning', dtype='<U42')"
      ]
     },
     "execution_count": 229,
     "metadata": {},
     "output_type": "execute_result"
    }
   ],
   "source": [
    "# add string\n",
    "a = \"I am Indian \"\n",
    "b = \"I am learning machine learning\"\n",
    "np.char.add(a,b)"
   ]
  },
  {
   "cell_type": "code",
   "execution_count": 233,
   "id": "d281f3a7",
   "metadata": {},
   "outputs": [
    {
     "name": "stdout",
     "output_type": "stream",
     "text": [
      "i am indian \n",
      "I AM INDIAN \n"
     ]
    }
   ],
   "source": [
    "# string convert in upper and lower\n",
    "print(np.char.lower(a))\n",
    "print(np.char.upper(a))\n"
   ]
  },
  {
   "cell_type": "code",
   "execution_count": 235,
   "id": "ad44375b",
   "metadata": {},
   "outputs": [
    {
     "name": "stdout",
     "output_type": "stream",
     "text": [
      "    I am Indian     \n",
      "****I am Indian ****\n"
     ]
    }
   ],
   "source": [
    "# center measure used\n",
    "print(np.char.center(a,20))\n",
    "print(np.char.center(a,20, fillchar = \"*\"))"
   ]
  },
  {
   "cell_type": "markdown",
   "id": "a92cc534",
   "metadata": {},
   "source": [
    "# .split(),.splitlines(),.join(),.replace(),.equal(),.count()"
   ]
  },
  {
   "cell_type": "code",
   "execution_count": 236,
   "id": "07d3297d",
   "metadata": {},
   "outputs": [
    {
     "data": {
      "text/plain": [
       "array(list(['I', 'am', 'Indian']), dtype=object)"
      ]
     },
     "execution_count": 236,
     "metadata": {},
     "output_type": "execute_result"
    }
   ],
   "source": [
    "#split \n",
    "np.char.split(a)# split every word list items."
   ]
  },
  {
   "cell_type": "code",
   "execution_count": 237,
   "id": "cc133c8f",
   "metadata": {},
   "outputs": [
    {
     "data": {
      "text/plain": [
       "array(list(['hello', 'India']), dtype=object)"
      ]
     },
     "execution_count": 237,
     "metadata": {},
     "output_type": "execute_result"
    }
   ],
   "source": [
    "# splitlines:- it is used when there \\n\n",
    "np.char.splitlines(\"hello\\nIndia\")"
   ]
  },
  {
   "cell_type": "code",
   "execution_count": 240,
   "id": "5e13236d",
   "metadata": {},
   "outputs": [
    {
     "data": {
      "text/plain": [
       "array(['d:m:y', 'd/m/y'], dtype='<U5')"
      ]
     },
     "execution_count": 240,
     "metadata": {},
     "output_type": "execute_result"
    }
   ],
   "source": [
    "#join\n",
    "s1 = \"dmy\"\n",
    "s2 = \"dmy\"\n",
    "np.char.join([\":\",\"/\"],[s1,s2])"
   ]
  },
  {
   "cell_type": "code",
   "execution_count": 244,
   "id": "de76d17f",
   "metadata": {},
   "outputs": [
    {
     "data": {
      "text/plain": [
       "array('Indian', dtype='<U6')"
      ]
     },
     "execution_count": 244,
     "metadata": {},
     "output_type": "execute_result"
    }
   ],
   "source": [
    "# replace()\n",
    "np.char.replace(s1,'dmy',\"Indian\")"
   ]
  },
  {
   "cell_type": "code",
   "execution_count": 245,
   "id": "ac553dc3",
   "metadata": {},
   "outputs": [
    {
     "data": {
      "text/plain": [
       "array(True)"
      ]
     },
     "execution_count": 245,
     "metadata": {},
     "output_type": "execute_result"
    }
   ],
   "source": [
    "# equal\n",
    "np.char.equal(s1,s2)"
   ]
  },
  {
   "cell_type": "code",
   "execution_count": 246,
   "id": "9010bbfb",
   "metadata": {},
   "outputs": [
    {
     "data": {
      "text/plain": [
       "array(2)"
      ]
     },
     "execution_count": 246,
     "metadata": {},
     "output_type": "execute_result"
    }
   ],
   "source": [
    "# count:- it is used to count occurrence\n",
    "np.char.count(a,\"a\")"
   ]
  },
  {
   "cell_type": "code",
   "execution_count": 247,
   "id": "229c0155",
   "metadata": {},
   "outputs": [
    {
     "data": {
      "text/plain": [
       "'I am Indian '"
      ]
     },
     "execution_count": 247,
     "metadata": {},
     "output_type": "execute_result"
    }
   ],
   "source": [
    "a"
   ]
  },
  {
   "cell_type": "code",
   "execution_count": 249,
   "id": "7d113d7e",
   "metadata": {},
   "outputs": [
    {
     "data": {
      "text/plain": [
       "array(9)"
      ]
     },
     "execution_count": 249,
     "metadata": {},
     "output_type": "execute_result"
    }
   ],
   "source": [
    "# find:- used to find indes\n",
    "np.char.find(a,\"an\")"
   ]
  },
  {
   "cell_type": "code",
   "execution_count": 251,
   "id": "198c7e4e",
   "metadata": {},
   "outputs": [
    {
     "data": {
      "text/plain": [
       "False"
      ]
     },
     "execution_count": 251,
     "metadata": {},
     "output_type": "execute_result"
    }
   ],
   "source": [
    "a.islower()"
   ]
  },
  {
   "cell_type": "code",
   "execution_count": 252,
   "id": "17f5aff9",
   "metadata": {},
   "outputs": [
    {
     "data": {
      "text/plain": [
       "False"
      ]
     },
     "execution_count": 252,
     "metadata": {},
     "output_type": "execute_result"
    }
   ],
   "source": [
    "a.isupper()"
   ]
  },
  {
   "cell_type": "code",
   "execution_count": 253,
   "id": "df358c0e",
   "metadata": {},
   "outputs": [
    {
     "name": "stdout",
     "output_type": "stream",
     "text": [
      "False\n"
     ]
    }
   ],
   "source": [
    "print(a.islower() or a.isupper()  )"
   ]
  },
  {
   "cell_type": "code",
   "execution_count": 254,
   "id": "4b23d538",
   "metadata": {},
   "outputs": [
    {
     "data": {
      "text/plain": [
       "False"
      ]
     },
     "execution_count": 254,
     "metadata": {},
     "output_type": "execute_result"
    }
   ],
   "source": [
    "a.isalpha()"
   ]
  },
  {
   "cell_type": "code",
   "execution_count": null,
   "id": "55ec241f",
   "metadata": {},
   "outputs": [],
   "source": []
  }
 ],
 "metadata": {
  "kernelspec": {
   "display_name": "Python 3 (ipykernel)",
   "language": "python",
   "name": "python3"
  },
  "language_info": {
   "codemirror_mode": {
    "name": "ipython",
    "version": 3
   },
   "file_extension": ".py",
   "mimetype": "text/x-python",
   "name": "python",
   "nbconvert_exporter": "python",
   "pygments_lexer": "ipython3",
   "version": "3.9.7"
  }
 },
 "nbformat": 4,
 "nbformat_minor": 5
}
