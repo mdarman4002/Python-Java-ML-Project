{
 "cells": [
  {
   "cell_type": "markdown",
   "id": "5bb18e45",
   "metadata": {},
   "source": [
    "# rank()"
   ]
  },
  {
   "cell_type": "code",
   "execution_count": null,
   "id": "49a458d7",
   "metadata": {},
   "outputs": [],
   "source": [
    "\n",
    "select * , rank() over(order by sales desc) Rank_ # desc--> descending order\n",
    "from [dbo].[Advancedsql-_]  # sales ---> column name"
   ]
  },
  {
   "cell_type": "markdown",
   "id": "bba3436e",
   "metadata": {},
   "source": [
    "# dense_rank()"
   ]
  },
  {
   "cell_type": "code",
   "execution_count": null,
   "id": "51d5193a",
   "metadata": {},
   "outputs": [],
   "source": [
    "\n",
    "select * , rank() over(order by sales desc) Rank_,\n",
    "dense_rank()  over(order by sales desc ) Dense_rank_\n",
    "\n",
    "from [dbo].[dense_rank]\n",
    "\n"
   ]
  },
  {
   "cell_type": "markdown",
   "id": "129d202c",
   "metadata": {},
   "source": [
    "# row_number()"
   ]
  },
  {
   "cell_type": "code",
   "execution_count": null,
   "id": "b7249f33",
   "metadata": {},
   "outputs": [],
   "source": [
    "\n",
    "select * , rank() over(order by sales desc) Rank_,\n",
    "\n",
    "row_number() over(order by sales desc) row_num\n",
    "from [dbo].[dense_rank]\n"
   ]
  },
  {
   "cell_type": "markdown",
   "id": "f1d88584",
   "metadata": {},
   "source": [
    "# row_between(),preceding ,following, unbounded preceding and following"
   ]
  },
  {
   "cell_type": "code",
   "execution_count": null,
   "id": "ad44c642",
   "metadata": {},
   "outputs": [],
   "source": [
    "\n",
    "select * from [dbo].[Row_between];\n",
    "\n",
    "select *, sum(sales) over(order by date rows between 1 preceding and 1 following)total_sales_today_tomorrow_nextday\n",
    "from [dbo].[Row_between];  # date in ordered way\n",
    "\n",
    "select *, sum(sales) over(order by date rows between unbounded preceding and unbounded following)\n",
    "  total_sales_today_tomorrow_nextday\n",
    "from [dbo].[Row_between];"
   ]
  },
  {
   "cell_type": "markdown",
   "id": "72ba75b0",
   "metadata": {},
   "source": [
    "# Running sum"
   ]
  },
  {
   "cell_type": "code",
   "execution_count": null,
   "id": "82d26f63",
   "metadata": {},
   "outputs": [],
   "source": [
    "select *, sum(sales) over(order by date rows between unbounded preceding and current row) runnning_sum from [dbo].[running_sum];\n"
   ]
  },
  {
   "cell_type": "markdown",
   "id": "a8d3d38f",
   "metadata": {},
   "source": [
    "# running sum with partion"
   ]
  },
  {
   "cell_type": "code",
   "execution_count": null,
   "id": "148ab3e9",
   "metadata": {},
   "outputs": [],
   "source": [
    "# Partion in alphabetical order then running sum\n",
    "select *, sum(sales) over(partition by state order by date rows between unbounded\n",
    "preceding and current row) running_total from [dbo].[running_sum_partion];"
   ]
  },
  {
   "cell_type": "markdown",
   "id": "2042b8d9",
   "metadata": {},
   "source": [
    "# first_value(), last_value()"
   ]
  },
  {
   "cell_type": "code",
   "execution_count": null,
   "id": "d89eb74b",
   "metadata": {},
   "outputs": [],
   "source": [
    "# last_value()---> there must be provide rows between unbounded preceding\n",
    "select *, first_value(sales) over(partition by state order by date) first_day_sales from [dbo].[first_last_nth]\n",
    "select *, last_value(sales) over(partition by state order by date rows between unbounded preceding and\n",
    "unbounded following) last_day_sales from [dbo].[first_last_nth]\n"
   ]
  }
 ],
 "metadata": {
  "kernelspec": {
   "display_name": "Python 3 (ipykernel)",
   "language": "python",
   "name": "python3"
  },
  "language_info": {
   "codemirror_mode": {
    "name": "ipython",
    "version": 3
   },
   "file_extension": ".py",
   "mimetype": "text/x-python",
   "name": "python",
   "nbconvert_exporter": "python",
   "pygments_lexer": "ipython3",
   "version": "3.9.7"
  }
 },
 "nbformat": 4,
 "nbformat_minor": 5
}
