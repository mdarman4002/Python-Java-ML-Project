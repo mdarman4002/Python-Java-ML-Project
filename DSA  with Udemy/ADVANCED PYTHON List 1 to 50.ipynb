{
 "cells": [
  {
   "cell_type": "markdown",
   "id": "7ea29502",
   "metadata": {},
   "source": [
    "# 1. Write a program illustrating class definition and accessing class members."
   ]
  },
  {
   "cell_type": "code",
   "execution_count": 2,
   "id": "6b2e7c8c",
   "metadata": {},
   "outputs": [
    {
     "name": "stdout",
     "output_type": "stream",
     "text": [
      "I am Mohammad Arman,persuing B.Tech (cse-ds)\n"
     ]
    }
   ],
   "source": [
    "class Arman:\n",
    "    a=\"Mohammad Arman\"\n",
    "    b=\"B.Tech (cse-ds)\"\n",
    "    def __init__(self):\n",
    "        print(f\"I am {Arman.a},persuing {Arman.b}\")\n",
    "obj=Arman()"
   ]
  },
  {
   "cell_type": "markdown",
   "id": "e0e27881",
   "metadata": {},
   "source": [
    "# 2. Write a program to implement default constructor, parameterized constructor, and destructor."
   ]
  },
  {
   "cell_type": "code",
   "execution_count": 5,
   "id": "fe9e89a3",
   "metadata": {},
   "outputs": [
    {
     "name": "stdout",
     "output_type": "stream",
     "text": [
      "Enter your name: Mohammad Arman\n",
      "Enter your age: 17\n",
      "Mohammad Arman, after 1 yrs you will be eligible to give vote\n"
     ]
    }
   ],
   "source": [
    "class default:\n",
    "    def __init__(self):\n",
    "        self.n=input(\"Enter your name: \")\n",
    "        self.a=int(input(\"Enter your age: \"))\n",
    "    def show(self):\n",
    "        remain= 18 - self.a\n",
    "        if self.a >= 18 :\n",
    "            print(\"**********Congratulation*************\")\n",
    "            print(f\"{self.n} , your are eligible to give vote\")\n",
    "        else:\n",
    "            print(\"******** sorry *********\")\n",
    "            print(f\"{self.n}, after {remain} yrs you will be eligible to give vote...\")\n",
    "obj_1=default()\n",
    "obj_1.show()"
   ]
  },
  {
   "cell_type": "code",
   "execution_count": 8,
   "id": "3635706c",
   "metadata": {},
   "outputs": [
    {
     "name": "stdout",
     "output_type": "stream",
     "text": [
      "Your name is Arman and your designation is conquer\n"
     ]
    }
   ],
   "source": [
    "class parameterize:\n",
    "    def __init__(self,name,des):\n",
    "        self.name=name\n",
    "        self.des=des\n",
    "        \n",
    "    def show(self):\n",
    "        print(f\"Your name is {self.name} and your designation is {self.des}\")\n",
    "obj=parameterize(\"Arman\",\"conquer\")\n",
    "obj.show()"
   ]
  },
  {
   "cell_type": "code",
   "execution_count": 1,
   "id": "b75d0ca5",
   "metadata": {},
   "outputs": [
    {
     "name": "stdout",
     "output_type": "stream",
     "text": [
      "class has been deleted\n"
     ]
    },
    {
     "ename": "TypeError",
     "evalue": "__init__() should return None, not 'str'",
     "output_type": "error",
     "traceback": [
      "\u001b[1;31m---------------------------------------------------------------------------\u001b[0m",
      "\u001b[1;31mTypeError\u001b[0m                                 Traceback (most recent call last)",
      "\u001b[1;32m~\\AppData\\Local\\Temp/ipykernel_4488/3623847807.py\u001b[0m in \u001b[0;36m<module>\u001b[1;34m\u001b[0m\n\u001b[0;32m      6\u001b[0m     \u001b[1;32mdef\u001b[0m \u001b[0m__del__\u001b[0m\u001b[1;33m(\u001b[0m\u001b[0mself\u001b[0m\u001b[1;33m)\u001b[0m\u001b[1;33m:\u001b[0m\u001b[1;33m\u001b[0m\u001b[1;33m\u001b[0m\u001b[0m\n\u001b[0;32m      7\u001b[0m         \u001b[0mprint\u001b[0m\u001b[1;33m(\u001b[0m\u001b[1;34m\"class has been deleted\"\u001b[0m\u001b[1;33m)\u001b[0m\u001b[1;33m\u001b[0m\u001b[1;33m\u001b[0m\u001b[0m\n\u001b[1;32m----> 8\u001b[1;33m \u001b[0mobj\u001b[0m\u001b[1;33m=\u001b[0m\u001b[0mdestructer\u001b[0m\u001b[1;33m(\u001b[0m\u001b[1;36m9\u001b[0m\u001b[1;33m,\u001b[0m\u001b[1;36m8\u001b[0m\u001b[1;33m)\u001b[0m\u001b[1;33m\u001b[0m\u001b[1;33m\u001b[0m\u001b[0m\n\u001b[0m\u001b[0;32m      9\u001b[0m \u001b[0mprint\u001b[0m\u001b[1;33m(\u001b[0m\u001b[0mobj\u001b[0m\u001b[1;33m)\u001b[0m\u001b[1;33m\u001b[0m\u001b[1;33m\u001b[0m\u001b[0m\n\u001b[0;32m     10\u001b[0m \u001b[0mobj\u001b[0m\u001b[1;33m.\u001b[0m\u001b[0m__del__\u001b[0m\u001b[1;33m(\u001b[0m\u001b[1;33m)\u001b[0m\u001b[1;33m\u001b[0m\u001b[1;33m\u001b[0m\u001b[0m\n",
      "\u001b[1;31mTypeError\u001b[0m: __init__() should return None, not 'str'"
     ]
    }
   ],
   "source": [
    "class destructer:\n",
    "    def __init__(self,a,b):\n",
    "        self.a=a\n",
    "        self.b=b\n",
    "        return f\"value of a: {self.a} and b: {self.b}\"\n",
    "    def __del__(self):\n",
    "        print(\"class has been deleted\")\n",
    "obj=destructer(9,8)\n",
    "print(obj)\n",
    "obj.__del__()"
   ]
  },
  {
   "cell_type": "code",
   "execution_count": 2,
   "id": "1363d36e",
   "metadata": {},
   "outputs": [
    {
     "name": "stdout",
     "output_type": "stream",
     "text": [
      "Are you(friend) from: srf\n",
      "Arman, Your freind's name is Arnav and his birthplace is srf\n",
      "Arman, Your freind's name is Arnav and his birthplace is srf\n"
     ]
    }
   ],
   "source": [
    "class dest:\n",
    "    def __init__(self,a,aim):\n",
    "        self.a=a\n",
    "        self.aim=aim\n",
    "    def show(self):\n",
    "        print(f\"name: {self.a} and your destiny is {self.aim}\")\n",
    "class friend(dest):\n",
    "    def __init__(self,name=0,a=0,aim=0):\n",
    "        super().__init__(a,aim)\n",
    "        self.w=input(\"Are you(friend) from: \")\n",
    "        self.name=name\n",
    "    def show(self):\n",
    "        print(f\"{self.a}, Your freind's name is {self.name} and his birthplace is {self.w}\")\n",
    "obj=friend('Arnav','Arman','developer')\n",
    "obj.show()\n",
    "#del obj\n",
    "obj.show()"
   ]
  },
  {
   "cell_type": "raw",
   "id": "7776936e",
   "metadata": {},
   "source": [
    "obj.show()"
   ]
  },
  {
   "cell_type": "markdown",
   "id": "0bebfffd",
   "metadata": {},
   "source": [
    "# 3. Create a Python class named Rectangle constructed by a length and width. a. Create a method called area which will compute the area of a rectangle."
   ]
  },
  {
   "cell_type": "code",
   "execution_count": 47,
   "id": "b8136354",
   "metadata": {},
   "outputs": [
    {
     "name": "stdout",
     "output_type": "stream",
     "text": [
      "enter lenght: 4\n",
      "Enter breadth: 4\n",
      "Area of rectangel: 16.0\n"
     ]
    }
   ],
   "source": [
    "class Rectangle:\n",
    "    def __init__(self):\n",
    "        self.l=float(input(\"enter lenght: \"))\n",
    "        self.b=float(input(\"Enter breadth: \"))\n",
    "    def area(self):\n",
    "        a=self.l * self.b\n",
    "        print(f\"Area of rectangel: {a}\")\n",
    "obj_1=Rectangle()\n",
    "obj_1.area()"
   ]
  },
  {
   "cell_type": "markdown",
   "id": "1c3e4a58",
   "metadata": {},
   "source": [
    "# 4. Create a class called Numbers, which has a single class attribute called MULTIPLIER, and a constructor which takes the parameters x and y (these should all be numbers). a. Write an instance method called add which returns the sum of the attributes x and y. b. Write a class method called multiply, which takes a single number parameter a and returns the product of a and MULTIPLIER. c. Write a static method called subtract, which takes two number objects, b and c, and returns b - c. d. Write a method called value which returns a tuple containing the values of x and y."
   ]
  },
  {
   "cell_type": "code",
   "execution_count": 10,
   "id": "f1157a68",
   "metadata": {},
   "outputs": [
    {
     "name": "stdout",
     "output_type": "stream",
     "text": [
      "Multiplication of 67 and 10: 670\n",
      "Subtraction of 8 and 4: 4\n"
     ]
    }
   ],
   "source": [
    "class Numbers:\n",
    "    MULTIPLIER=10\n",
    "    def __init__(self,x,y):\n",
    "        self.x=x\n",
    "        self.y=y\n",
    "    def add(self):\n",
    "        return f\"sum:{self.x + self.y}\"\n",
    "    @classmethod\n",
    "    def multiply(self,a):\n",
    "        #self.a=a\n",
    "        print(f\"Multiplication of {a} and {Numbers.MULTIPLIER}: {(a)*(Numbers.MULTIPLIER)}\")\n",
    "    @staticmethod\n",
    "    def subtract(b,c):\n",
    "#         self.b=b\n",
    "#         self.c=c\n",
    "        print(f\"Subtraction of {b} and {c}: {b - c}\")\n",
    "a=Numbers(5,4)\n",
    "a.add()\n",
    "Numbers.multiply(67)\n",
    "Numbers.subtract(8,4)\n",
    "    \n",
    "         "
   ]
  },
  {
   "cell_type": "markdown",
   "id": "9ffb2e12",
   "metadata": {},
   "source": [
    "# 5. Create a class named as Student to store the name and marks in three subjects. Use List to store the marks. a. Write an instance method called compute to compute total marks and average marks of a student. b. Write a method called display to display student information."
   ]
  },
  {
   "cell_type": "code",
   "execution_count": 1,
   "id": "e17b0f98",
   "metadata": {},
   "outputs": [
    {
     "name": "stdout",
     "output_type": "stream",
     "text": [
      "Enter your name: Arman\n",
      "Enter marks obtainded in 1st subject: 96\n",
      "Enter marks obtaind in 2nd subject: 85\n",
      "Enter marks obtaind in 3rd subject: 86\n",
      "*************student's marks**************\n",
      "list of student's got marks: [96.0, 85.0, 86.0]\n",
      "average marks of student: 89.0\n"
     ]
    }
   ],
   "source": [
    "class student:\n",
    "    lst=[]\n",
    "    def __init__(self):\n",
    "        self.name=input(\"Enter your name: \")\n",
    "        self.f_sub=float(input(\"Enter marks obtainded in 1st subject: \"))\n",
    "        self.s_sub=float(input(\"Enter marks obtaind in 2nd subject: \"))\n",
    "        self.t_sub=float(input(\"Enter marks obtaind in 3rd subject: \"))\n",
    "    def compute(self):\n",
    "        student.lst.append(self.f_sub)\n",
    "        student.lst.append(self.s_sub)\n",
    "        student.lst.append(self.t_sub)\n",
    "        #print(f\"list of student's got marks: {student.lst}\")\n",
    "\n",
    "        \n",
    "    def display(self):\n",
    "        avg=((self.f_sub + self.s_sub + self.t_sub)/300)*100\n",
    "        \n",
    "        print(\"*************student's marks**************\")\n",
    "        print(f\"list of student's got marks: {student.lst}\")\n",
    "\n",
    "        print(f\"average marks of student: {avg}\")\n",
    "        \n",
    "        \n",
    "        \n",
    "obj=student()\n",
    "obj.compute()\n",
    "obj.display()"
   ]
  },
  {
   "cell_type": "markdown",
   "id": "320e9efd",
   "metadata": {},
   "source": [
    "# 6. Create a class Employee that keeps a track of the number of employees in an organization and also stores their name, designation and salary details. a. Write a method called getdata to take input (name, designation, salary) from user. b. Write a method called average to find average salary of all the employees in the organization. c. Write a method called display to print all the information of an employee."
   ]
  },
  {
   "cell_type": "code",
   "execution_count": 2,
   "id": "916184e6",
   "metadata": {},
   "outputs": [
    {
     "ename": "IndentationError",
     "evalue": "expected an indented block (Temp/ipykernel_6608/1799096685.py, line 11)",
     "output_type": "error",
     "traceback": [
      "\u001b[1;36m  File \u001b[1;32m\"C:\\Users\\DELL\\AppData\\Local\\Temp/ipykernel_6608/1799096685.py\"\u001b[1;36m, line \u001b[1;32m11\u001b[0m\n\u001b[1;33m    def dishplay(self):\u001b[0m\n\u001b[1;37m    ^\u001b[0m\n\u001b[1;31mIndentationError\u001b[0m\u001b[1;31m:\u001b[0m expected an indented block\n"
     ]
    }
   ],
   "source": [
    "class Employee:\n",
    "    def __init__(self):\n",
    "        self.id=int(input(\"Enter your name id: \"))\n",
    "        \n",
    "    def getdata(self):\n",
    "        self.name=input(\"Enter your name: \")\n",
    "        self.des=input(\"Enter your designation: \")\n",
    "        self.salary=int(input(\"Enter your salary: \"))\n",
    "    def average(self):\n",
    "        \n",
    "    def dishplay(self):\n",
    "        print(\"********* Employee details **********\")\n",
    "        print(f\"Employee id: {self.id}\")\n",
    "        print(f\"name of the Employee: {self.name}\")\n",
    "        print(f\"Designation: {self.des}\")\n",
    "        print(f\"Salary: {self.salary}\")\n",
    "        #print(f\"Avarage salary: {}\")\n",
    "        \n",
    "obj=Employee()\n",
    "obj.getdata()\n",
    "obj.average()\n",
    "obj.dishplay()\n",
    "        "
   ]
  },
  {
   "cell_type": "markdown",
   "id": "850d12d7",
   "metadata": {},
   "source": [
    "# 7. Create a Python class named Circle constructed by a radius. Use a class variable to define the value of constant PI. a. Write two methods to be named as area and circum to compute the area and the perimeter of a circle respectively by using class variable PI. b. Write a method called display to print area and perimeter."
   ]
  },
  {
   "cell_type": "code",
   "execution_count": 27,
   "id": "78821db8",
   "metadata": {
    "scrolled": true
   },
   "outputs": [
    {
     "name": "stdout",
     "output_type": "stream",
     "text": [
      "Enter radius of the circle: 2.5\n",
      "*****************\n",
      "Area of circle: 19.625\n",
      "Perimeter of circle: 15.700000000000001\n"
     ]
    }
   ],
   "source": [
    "class Circle:\n",
    "    pi=3.14\n",
    "    def __init__(self):\n",
    "        self.r=float(input(\"Enter radius of the circle: \"))\n",
    "    def area(self):\n",
    "        self.a=Circle.pi*self.r**2\n",
    "        #print(f\"Area of circle: {a}\")\n",
    "    def perimeter(self):\n",
    "        self.p=2*Circle.pi*self.r\n",
    "        #print(f\"Perimeter of circle: {self.a}\")\n",
    "    def display(self):\n",
    "        print(\"*****************\")\n",
    "        print(f\"Area of circle: {self.a}\")\n",
    "        print(f\"Perimeter of circle: {self.p}\")\n",
    "\n",
    "obj_1=Circle()\n",
    "obj_1.area()\n",
    "obj_1.perimeter()\n",
    "obj_1.display()"
   ]
  },
  {
   "cell_type": "markdown",
   "id": "d5407de3",
   "metadata": {},
   "source": [
    "# 8. Create a class called String that stores a string and all its status details such as number of uppercase letters, lowercase letters, vowels ,consonants and space in instance variables. a. Write methods named as count_uppercase, count_lowercase, count_vowels, count_consonants and count_space to count corresponding values. b. Write a method called display to print string along with all the values computed by methods in (a)."
   ]
  },
  {
   "cell_type": "code",
   "execution_count": null,
   "id": "ae1d783e",
   "metadata": {},
   "outputs": [],
   "source": []
  },
  {
   "cell_type": "markdown",
   "id": "7957ec4e",
   "metadata": {},
   "source": [
    "# 9. Write a program that has a class called Fraction with attributes numerator and denominator. a. Write a method called getdata to enter the values of the attributes. b. Write a method show to print the fraction in simplified form"
   ]
  },
  {
   "cell_type": "code",
   "execution_count": 14,
   "id": "fa0d09f6",
   "metadata": {},
   "outputs": [
    {
     "name": "stdout",
     "output_type": "stream",
     "text": [
      "Enter numerator value: 45\n",
      "Enter denominator value: 8\n",
      "fraction of the given input 45 and 8 is 45/8\n"
     ]
    }
   ],
   "source": [
    "class Fraction:\n",
    "    def __init__(self):\n",
    "        self.n=int(input(\"Enter numerator value: \"))\n",
    "        self.d=int(input(\"Enter denominator value: \"))\n",
    "    def getdata(self):\n",
    "        self.f=(self.n/self.d)\n",
    "        #print(self.f)\n",
    "    def show(self):\n",
    "        print(f\"fraction of the given input {self.n} and {self.d} is {self.n}/{self.d}\")\n",
    "obj=Fraction()\n",
    "obj.getdata()\n",
    "obj.show()"
   ]
  },
  {
   "cell_type": "code",
   "execution_count": 25,
   "id": "57764b62",
   "metadata": {},
   "outputs": [
    {
     "name": "stdout",
     "output_type": "stream",
     "text": [
      "Enter how much wanna store: 4\n",
      "Enter number: 5\n",
      "Enter number: 785\n",
      "Enter number: 54\n",
      "Enter number: 5\n",
      "list of number:  [5.0, 785.0, 54.0, 5.0]\n",
      "max number 785.0\n"
     ]
    }
   ],
   "source": [
    "class number:\n",
    "    def __init__(self):\n",
    "        self.num = []\n",
    "        \n",
    "    def insert(self):\n",
    "        self.storenum = int(input(\"Enter how much wanna store: \"))\n",
    "        \n",
    "        for i in range(self.storenum):\n",
    "            n = float(input(\"Enter number: \"))\n",
    "            self.num.append(n)\n",
    "    def output(self):\n",
    "        print(\"list of number: \",self.num)\n",
    "        print(f\"max number {max(self.num)}\")\n",
    "obj = number()\n",
    "obj.insert()\n",
    "obj.output()"
   ]
  },
  {
   "cell_type": "markdown",
   "id": "db179629",
   "metadata": {},
   "source": [
    "# 11. Write a program that has a class Point with attributes x and y. a. Write a method called midpoint that returns a midpoint of a line joining two points. b. Write a method called length that returns the length of a line joining two points."
   ]
  },
  {
   "cell_type": "code",
   "execution_count": 32,
   "id": "db0193e8",
   "metadata": {},
   "outputs": [
    {
     "name": "stdout",
     "output_type": "stream",
     "text": [
      "Enter the value of x1: 4.2\n",
      "Enter the value of y1: 5.6\n",
      "Enter the value of x2: 8\n",
      "Enter the value of y2: 9.2\n",
      "mid point of 4.2 and 8.0 is 6.1 \n",
      "mid point of 5.6 and 9.2 is 14.799999999999999\n",
      "The lengh of the point is 5.2345009313209605\n"
     ]
    }
   ],
   "source": [
    "class Point:\n",
    "    def __init__(self):\n",
    "        self.x1=float(input(\"Enter the value of x1: \"))\n",
    "        self.y1=float(input(\"Enter the value of y1: \"))\n",
    "        self.x2=float(input(\"Enter the value of x2: \"))\n",
    "        self.y2=float(input(\"Enter the value of y2: \"))\n",
    "    def midpoint(self):\n",
    "        m1=(self.x1 + self.x2)/2\n",
    "        m2=(self.y2 + self.y1)/2\n",
    "        print(f\"mid point of {self.x1} and {self.x2} is {m1} \\nmid point of {self.y1} and {self.y2} is {m2}\")\n",
    "    def length(self):\n",
    "        l=((self.x2 - self.x1)**2 + (self.y2 - self.y1)**2)**0.5\n",
    "        print(f\"The lengh of the point is {l}\")\n",
    "obj=Point()\n",
    "obj.midpoint()\n",
    "obj.length()\n",
    "        \n",
    "        \n",
    "        "
   ]
  },
  {
   "cell_type": "markdown",
   "id": "dad2e392",
   "metadata": {},
   "source": [
    "# 12. Create a class called Complex. Write a menu driven program to read, display, add and subtract two complex numbers by creating corresponding instance methods."
   ]
  },
  {
   "cell_type": "code",
   "execution_count": 36,
   "id": "95ffdb68",
   "metadata": {},
   "outputs": [
    {
     "name": "stdout",
     "output_type": "stream",
     "text": [
      "Enter first complex number: 4\n",
      "Enter second complex number: 8\n",
      "sum of these complex number: (12+0j) \n",
      "subtaction of these complex number: (-4+0j)\n"
     ]
    }
   ],
   "source": [
    "class Complex:\n",
    "    def __init__(self):\n",
    "        self.c1=complex(input(\"Enter first complex number: \"))\n",
    "        self.c2=complex(input(\"Enter second complex number: \"))\n",
    "    def add(self):\n",
    "        self.add=self.c1 + self.c2\n",
    "    def subtract(self):\n",
    "        self.sub=self.c1 - self.c2\n",
    "    def show(self):\n",
    "        print(f\"sum of these complex number: {self.add} \\nsubtaction of these complex number: {self.sub}\")\n",
    "obj=Complex()\n",
    "obj.add()\n",
    "obj.subtract()\n",
    "obj.show()"
   ]
  },
  {
   "cell_type": "markdown",
   "id": "ad5ccb1f",
   "metadata": {},
   "source": [
    "# 13. Write a Program to illustrate the use of __str__(), __repr__(), __new__, __doc__, __dict__, __name__ and __bases__ methods."
   ]
  },
  {
   "cell_type": "code",
   "execution_count": null,
   "id": "59120670",
   "metadata": {},
   "outputs": [],
   "source": []
  },
  {
   "cell_type": "markdown",
   "id": "0c7bfe1f",
   "metadata": {},
   "source": [
    "# 14. Create a BankAccount class. Your class should support the following methods: a. __init__(self, account_no) b. deposit (self, account_no, amount) c. withdraw (self, account_no, amount) d. get_balance (self, account_no)"
   ]
  },
  {
   "cell_type": "code",
   "execution_count": 42,
   "id": "635ec5b5",
   "metadata": {},
   "outputs": [
    {
     "name": "stdout",
     "output_type": "stream",
     "text": [
      "Enter your a\\c no: 1545\n",
      "Enter deposit amount: 1000\n",
      "Enter withdraw amount: 100\n",
      "***********your account details************\n",
      "Your deposit amount: 1000\n",
      "You did withdraw amount: 100\n",
      "Now your remaining amount in your account: 900\n",
      "Enter your a\\c no: 545\n",
      "Enter deposit amount: 100\n",
      "Enter withdraw amount: 200\n",
      "***********your account details************\n",
      "Your deposit amount: 100\n",
      "You did withdraw amount: 200\n",
      "you enter excess amount than deposit,please try again\n"
     ]
    }
   ],
   "source": [
    "class BankAccount:\n",
    "    t=0\n",
    "    def __init__(self):\n",
    "        self.ac_no=input(\"Enter your a\\c no: \")\n",
    "    def deposit(self):\n",
    "        self.amount=int(input(\"Enter deposit amount: \"))\n",
    "        self.total_deposit= self.amount + BankAccount.t\n",
    "    def withdraw(self):\n",
    "        self.w_draw=int(input(\"Enter withdraw amount: \"))\n",
    "        self.r_amount=self.total_deposit - self.w_draw\n",
    "    def get(self):\n",
    "        print(\"***********your account details************\")\n",
    "        print(f\"Your deposit amount: {self.amount}\")\n",
    "        print(f\"You did withdraw amount: {self.w_draw}\")\n",
    "        if self.amount >= self.w_draw:\n",
    "            print(f\"Now your remaining amount in your account: {self.r_amount}\")\n",
    "        else:\n",
    "            print(\"you enter excess amount than deposit,please try again\")\n",
    "for i in range(2):\n",
    "    obj=BankAccount()\n",
    "    obj.deposit()\n",
    "    obj.withdraw()\n",
    "    obj.get()"
   ]
  },
  {
   "cell_type": "markdown",
   "id": "b9527284",
   "metadata": {},
   "source": [
    "# 15. Write a program to illustrate the use of following built-in methods: a. hasattr(obj,attr) b. getattr(object, attribute_name [, default]) c. setattr(object, name, value) d. delattr(class_name, name)"
   ]
  },
  {
   "cell_type": "code",
   "execution_count": 6,
   "id": "c8728ca0",
   "metadata": {},
   "outputs": [
    {
     "name": "stdout",
     "output_type": "stream",
     "text": [
      "power  125\n",
      "add 8\n",
      "sub 2\n",
      "mul 15\n",
      "truediv 2.5\n",
      "divmod (2, 1)\n",
      "mod 1\n",
      "greater than True\n",
      "lesthan True\n",
      "equal True\n",
      "gt and equl True\n",
      "15\n",
      "5\n",
      "[<class '__main__.method'>, <class 'object'>]\n"
     ]
    }
   ],
   "source": [
    "# rough\n",
    "a = 5\n",
    "print('power ',a.__pow__(3))\n",
    "print('add',a.__add__(3))\n",
    "print('sub',a.__sub__(3))\n",
    "print(\"mul\",a.__mul__(3))\n",
    "print('truediv',a.__truediv__(2))\n",
    "print(\"divmod\",a.__divmod__(2))\n",
    "print(\"mod\",a.__mod__(2))\n",
    "\n",
    "print(\"greater than\",a.__gt__(1))\n",
    "print(\"lesthan\",a.__lt__(6))\n",
    "print(\"equal\",a.__eq__(5))\n",
    "print(\"gt and equl\",a.__ge__(4))\n",
    "\n",
    "class method:\n",
    "    b = 10\n",
    "    @classmethod\n",
    "    def add(cls):\n",
    "        print(cls.b.__add__(5))\n",
    "        \n",
    "    @staticmethod\n",
    "    def stat():\n",
    "        c = 5\n",
    "        print(c)\n",
    "        \n",
    "obj = method()\n",
    "obj.add()\n",
    "obj.stat()\n",
    "print(method.mro())"
   ]
  },
  {
   "cell_type": "markdown",
   "id": "638bfab9",
   "metadata": {},
   "source": [
    "\n",
    "# 16 Write a program to create class Employee. Display the personal information and salary details of 5 employees using single inheritance."
   ]
  },
  {
   "cell_type": "code",
   "execution_count": 8,
   "id": "506da1c9",
   "metadata": {},
   "outputs": [
    {
     "name": "stdout",
     "output_type": "stream",
     "text": [
      "Enter your company name: arma\n",
      "Enter your id: skf\n",
      "Enter your name: sarma\n",
      "Enter your designation: skjf\n",
      "Enter your salary: 1\n",
      "******* 1 employee details ******* \n",
      "Your company name: arma\n",
      "Your id : skf\n",
      "Your name: sarma\n",
      "Your designation: skjf\n",
      "Your salary: 1.0\n",
      "Enter your company name: afj\n",
      "Enter your id: sf\n",
      "Enter your name: sf\n",
      "Enter your designation: adf\n",
      "Enter your salary: 23\n",
      "******* 2 employee details ******* \n",
      "Your company name: afj\n",
      "Your id : sf\n",
      "Your name: sf\n",
      "Your designation: adf\n",
      "Your salary: 23.0\n",
      "Enter your company name: sf\n",
      "Enter your id: afd3\n",
      "Enter your name: aff\n",
      "Enter your designation: s2\n",
      "Enter your salary: 12\n",
      "******* 3 employee details ******* \n",
      "Your company name: sf\n",
      "Your id : afd3\n",
      "Your name: aff\n",
      "Your designation: s2\n",
      "Your salary: 12.0\n",
      "[<class '__main__.Employee'>, <class 'object'>]\n"
     ]
    }
   ],
   "source": [
    "class Employee:\n",
    "    \n",
    "    def e_detail(self):\n",
    "        self.c_name=input(\"Enter your company name: \")\n",
    "        self.id=input(\"Enter your id: \")\n",
    "        self.name=input(\"Enter your name: \")\n",
    "        self.des=input(\"Enter your designation: \")\n",
    "class em(Employee):\n",
    "    def detail(self):\n",
    "        self.salary=float(input(\"Enter your salary: \"))\n",
    "        \n",
    "    def Display(self):\n",
    "        \n",
    "            print(f\"******* {i} employee details ******* \")\n",
    "            print(f\"Your company name: {self.c_name}\")\n",
    "            print(f\"Your id : {self.id}\")\n",
    "            print(f\"Your name: {self.name}\")\n",
    "            print(f\"Your designation: {self.des}\")\n",
    "            print(f\"Your salary: {self.salary}\")\n",
    "for i in range(1,4):\n",
    "    obj=em()\n",
    "    obj.e_detail()\n",
    "    obj.detail()\n",
    "    obj.Display()\n",
    "print(Employee.mro())"
   ]
  },
  {
   "cell_type": "code",
   "execution_count": null,
   "id": "6b84aece",
   "metadata": {},
   "outputs": [],
   "source": [
    "a"
   ]
  },
  {
   "cell_type": "code",
   "execution_count": 1,
   "id": "a3684407",
   "metadata": {},
   "outputs": [
    {
     "ename": "SyntaxError",
     "evalue": "invalid syntax (Temp/ipykernel_5700/556552351.py, line 13)",
     "output_type": "error",
     "traceback": [
      "\u001b[1;36m  File \u001b[1;32m\"C:\\Users\\DELL\\AppData\\Local\\Temp/ipykernel_5700/556552351.py\"\u001b[1;36m, line \u001b[1;32m13\u001b[0m\n\u001b[1;33m    self.\u001b[0m\n\u001b[1;37m         ^\u001b[0m\n\u001b[1;31mSyntaxError\u001b[0m\u001b[1;31m:\u001b[0m invalid syntax\n"
     ]
    }
   ],
   "source": [
    "class Employee:\n",
    "    def e_details(self):\n",
    "        self.id=input(\"Enter your id: \")\n",
    "        self.name=input(\"Enter your name: \")\n",
    "        self.team_name=input(\"Enter your team name: \")\n",
    "        self.salary=int(input(\"Enter your salary: \"))\n",
    "        self.boss_name=input(\"Enter your boss name: \")\n",
    "        self.team_name=input(\"Enter your team name: \")\n",
    "          \n",
    "class Manager(Employee):\n",
    "        \n",
    "    def show(self):\n",
    "        self.\n",
    "        \n",
    "        if self.salary >= 150000:\n",
    "            print(f\"You are under manager, his name is {self.boss_name}\")\n",
    "            print(f\"Your id: {self.id}\")\n",
    "            print(f\"Your team name is: {self.team_name}\")\n",
    "            print(f\"Your name is {self.name}\")\n",
    "            print(f\"You entered salary: {self.salary}\")\n",
    "        \n",
    "        \n",
    "class Team_leader(Employee):\n",
    "    def display(self):\n",
    "        self.boss_name=input(\"Enter your boss name: \")\n",
    "        if self.salary <= 150000:\n",
    "            print(\"********************************\")\n",
    "            print(f\"You are under Team leader, his name is {self.boss_name}\")\n",
    "            print(f\"Your id: {self.id}\")\n",
    "            print(f\"Your team name is: {self.team_name}\")\n",
    "            print(f\"Your name is {self.name}\")\n",
    "            print(f\"You entered salary: {self.salary}\")\n",
    "        \n",
    "for i in range(1,3):\n",
    "    obj1=Manager()\n",
    "#obj1.m_details()\n",
    "#obj1.e_details()\n",
    "    obj1.show()\n",
    "    obj2=Team_leader()\n",
    "#obj2.e_details()\n",
    "    obj2.display()\n",
    "#obj.show()                \n",
    "    \n",
    "         \n",
    "            \n",
    "            \n",
    "    \n",
    "\n",
    "    "
   ]
  },
  {
   "cell_type": "markdown",
   "id": "5fccc019",
   "metadata": {},
   "source": [
    "# 17. WAP that extends the class Employee. Derive two classes Manager and Team Leader from Employee class. Display all the details of the employee working under a particular Manager and Team Leader."
   ]
  },
  {
   "cell_type": "code",
   "execution_count": 2,
   "id": "e89c4917",
   "metadata": {},
   "outputs": [
    {
     "name": "stdout",
     "output_type": "stream",
     "text": [
      "Enter your name: arman\n",
      "Enter your id: iasf\n",
      "Enter your house no: noida\n",
      "Enter your aadhar no: 2993\n",
      "Enter your a\\c no: wafj23\n",
      "1 employee******************about arman********************\n",
      "name: arman \n",
      "id: iasf \n",
      "house no: noida\n",
      "Aadhar no: 2993 \n",
      "a\\c number: wafj23\n",
      "2 employee entering details \n",
      "Enter your name: asfjj\n",
      "Enter your id: sifj\n",
      "Enter your house no: noidia\n",
      "Enter your aadhar no: 2349\n",
      "Enter your a\\c no: 1f3\n",
      "2 employee******************about asfjj********************\n",
      "name: asfjj \n",
      "id: sifj \n",
      "house no: noidia\n",
      "Aadhar no: 2349 \n",
      "a\\c number: 1f3\n",
      "3 employee entering details \n"
     ]
    }
   ],
   "source": [
    "class employee:\n",
    "    def detail(self):\n",
    "        self.name=input(\"Enter your name: \")\n",
    "        self.id=input(\"Enter your id: \")\n",
    "class emp(employee):\n",
    "    def _detail(self):\n",
    "        self.hn=input(\"Enter your house no: \")\n",
    "        self.adh=input(\"Enter your aadhar no: \")\n",
    "        self.ac=input(\"Enter your a\\c no: \")\n",
    "    def show(self):\n",
    "        print(f\"{i+1} employee******************about {self.name}********************\")\n",
    "        print(f\"name: {self.name} \\nid: {self.id} \\nhouse no: {self.hn}\")\n",
    "        print(f\"Aadhar no: {self.adh} \\na\\c number: {self.ac}\")\n",
    "        print(\"                                                 \")\n",
    "        print(f\"{i+2} employee entering details \")\n",
    "for i in range(2):\n",
    "    obj=emp()\n",
    "    obj.detail()\n",
    "    obj._detail()\n",
    "    obj.show()\n",
    "        "
   ]
  },
  {
   "cell_type": "markdown",
   "id": "6c1e88ae",
   "metadata": {},
   "source": [
    "# 18. Write a program that has a class Point. Define another class Location which has two objects (Location and destination) of class Point. Also, define a function in Location that prints the reflection on the y-axis."
   ]
  },
  {
   "cell_type": "code",
   "execution_count": null,
   "id": "06090782",
   "metadata": {},
   "outputs": [],
   "source": [
    "class point:\n",
    "    \n",
    "class Location(point):\n",
    "    def Location(self):\n",
    "        self"
   ]
  },
  {
   "cell_type": "code",
   "execution_count": null,
   "id": "f783bd13",
   "metadata": {},
   "outputs": [],
   "source": []
  },
  {
   "cell_type": "code",
   "execution_count": 18,
   "id": "81bbc4dd",
   "metadata": {},
   "outputs": [
    {
     "ename": "NameError",
     "evalue": "name 'self' is not defined",
     "output_type": "error",
     "traceback": [
      "\u001b[1;31m---------------------------------------------------------------------------\u001b[0m",
      "\u001b[1;31mNameError\u001b[0m                                 Traceback (most recent call last)",
      "\u001b[1;32m~\\AppData\\Local\\Temp/ipykernel_3436/2831690755.py\u001b[0m in \u001b[0;36m<module>\u001b[1;34m\u001b[0m\n\u001b[0;32m      4\u001b[0m         \u001b[0mself\u001b[0m\u001b[1;33m.\u001b[0m\u001b[0ms\u001b[0m\u001b[1;33m=\u001b[0m\u001b[0mint\u001b[0m\u001b[1;33m(\u001b[0m\u001b[0minput\u001b[0m\u001b[1;33m(\u001b[0m\u001b[1;34m\"Enter salary: \"\u001b[0m\u001b[1;33m)\u001b[0m\u001b[1;33m)\u001b[0m\u001b[1;33m\u001b[0m\u001b[1;33m\u001b[0m\u001b[0m\n\u001b[0;32m      5\u001b[0m \u001b[1;33m\u001b[0m\u001b[0m\n\u001b[1;32m----> 6\u001b[1;33m \u001b[1;32mclass\u001b[0m \u001b[0mmanager\u001b[0m\u001b[1;33m(\u001b[0m\u001b[0me\u001b[0m\u001b[1;33m)\u001b[0m\u001b[1;33m:\u001b[0m\u001b[1;33m\u001b[0m\u001b[1;33m\u001b[0m\u001b[0m\n\u001b[0m\u001b[0;32m      7\u001b[0m     \u001b[1;32mif\u001b[0m \u001b[0mself\u001b[0m\u001b[1;33m.\u001b[0m\u001b[0ms\u001b[0m \u001b[1;33m>=\u001b[0m \u001b[1;36m100\u001b[0m\u001b[1;33m:\u001b[0m\u001b[1;33m\u001b[0m\u001b[1;33m\u001b[0m\u001b[0m\n\u001b[0;32m      8\u001b[0m         \u001b[1;32mdef\u001b[0m \u001b[0mshow\u001b[0m\u001b[1;33m(\u001b[0m\u001b[0mself\u001b[0m\u001b[1;33m)\u001b[0m\u001b[1;33m:\u001b[0m\u001b[1;33m\u001b[0m\u001b[1;33m\u001b[0m\u001b[0m\n",
      "\u001b[1;32m~\\AppData\\Local\\Temp/ipykernel_3436/2831690755.py\u001b[0m in \u001b[0;36mmanager\u001b[1;34m()\u001b[0m\n\u001b[0;32m      5\u001b[0m \u001b[1;33m\u001b[0m\u001b[0m\n\u001b[0;32m      6\u001b[0m \u001b[1;32mclass\u001b[0m \u001b[0mmanager\u001b[0m\u001b[1;33m(\u001b[0m\u001b[0me\u001b[0m\u001b[1;33m)\u001b[0m\u001b[1;33m:\u001b[0m\u001b[1;33m\u001b[0m\u001b[1;33m\u001b[0m\u001b[0m\n\u001b[1;32m----> 7\u001b[1;33m     \u001b[1;32mif\u001b[0m \u001b[0mself\u001b[0m\u001b[1;33m.\u001b[0m\u001b[0ms\u001b[0m \u001b[1;33m>=\u001b[0m \u001b[1;36m100\u001b[0m\u001b[1;33m:\u001b[0m\u001b[1;33m\u001b[0m\u001b[1;33m\u001b[0m\u001b[0m\n\u001b[0m\u001b[0;32m      8\u001b[0m         \u001b[1;32mdef\u001b[0m \u001b[0mshow\u001b[0m\u001b[1;33m(\u001b[0m\u001b[0mself\u001b[0m\u001b[1;33m)\u001b[0m\u001b[1;33m:\u001b[0m\u001b[1;33m\u001b[0m\u001b[1;33m\u001b[0m\u001b[0m\n\u001b[0;32m      9\u001b[0m             \u001b[0mprint\u001b[0m\u001b[1;33m(\u001b[0m\u001b[1;34m\"*********** m ***********\"\u001b[0m\u001b[1;33m)\u001b[0m\u001b[1;33m\u001b[0m\u001b[1;33m\u001b[0m\u001b[0m\n",
      "\u001b[1;31mNameError\u001b[0m: name 'self' is not defined"
     ]
    }
   ],
   "source": [
    "class e:\n",
    "    def details(self):\n",
    "        self.n=input(\"name: \")\n",
    "        self.s=int(input(\"Enter salary: \"))\n",
    "\n",
    "class manager(e):\n",
    "    if self.s >= 100:\n",
    "        def show(self):\n",
    "            print(\"*********** m ***********\")\n",
    "            print(f\"name: {self.n}\")\n",
    "            print(f\"salary: {self.s}\")\n",
    "\n",
    "        \n",
    "obj=manager()\n",
    "obj.show()\n",
    "\n"
   ]
  },
  {
   "cell_type": "code",
   "execution_count": 5,
   "id": "6d2f08f2",
   "metadata": {},
   "outputs": [
    {
     "name": "stdout",
     "output_type": "stream",
     "text": [
      "Enter a string: Mohammad Arman\n",
      "no of uppercase: 2\n"
     ]
    }
   ],
   "source": [
    "class tocheck:\n",
    "    count = 0\n",
    "    def __init__(self):\n",
    "        self.input = input(\"Enter a string: \")\n",
    "    def uppercase(self):\n",
    "        s=0\n",
    "        for u in self.input:\n",
    "            if (\"A\"<=u and u<=\"Z\" and u!=\" \"):\n",
    "                s+=1\n",
    "        print(f\"no of uppercase: {s}\")\n",
    "obj=tocheck()\n",
    "obj.uppercase()\n",
    "        "
   ]
  },
  {
   "cell_type": "code",
   "execution_count": 15,
   "id": "daecc202",
   "metadata": {},
   "outputs": [
    {
     "ename": "NameError",
     "evalue": "name 'b' is not defined",
     "output_type": "error",
     "traceback": [
      "\u001b[1;31m---------------------------------------------------------------------------\u001b[0m",
      "\u001b[1;31mNameError\u001b[0m                                 Traceback (most recent call last)",
      "\u001b[1;32m~\\AppData\\Local\\Temp/ipykernel_6608/1790415609.py\u001b[0m in \u001b[0;36m<module>\u001b[1;34m\u001b[0m\n\u001b[0;32m     13\u001b[0m \u001b[0mobj\u001b[0m\u001b[1;33m=\u001b[0m\u001b[0mrec\u001b[0m\u001b[1;33m(\u001b[0m\u001b[1;36m8\u001b[0m\u001b[1;33m,\u001b[0m\u001b[1;36m9\u001b[0m\u001b[1;33m)\u001b[0m\u001b[1;33m\u001b[0m\u001b[1;33m\u001b[0m\u001b[0m\n\u001b[0;32m     14\u001b[0m \u001b[0mobj\u001b[0m\u001b[1;33m.\u001b[0m\u001b[0marea\u001b[0m\u001b[1;33m(\u001b[0m\u001b[1;36m5\u001b[0m\u001b[1;33m,\u001b[0m\u001b[1;36m9\u001b[0m\u001b[1;33m)\u001b[0m\u001b[1;33m\u001b[0m\u001b[1;33m\u001b[0m\u001b[0m\n\u001b[1;32m---> 15\u001b[1;33m \u001b[0mobj\u001b[0m\u001b[1;33m.\u001b[0m\u001b[0mS\u001b[0m\u001b[1;33m(\u001b[0m\u001b[1;33m)\u001b[0m\u001b[1;33m\u001b[0m\u001b[1;33m\u001b[0m\u001b[0m\n\u001b[0m\u001b[0;32m     16\u001b[0m \u001b[1;33m\u001b[0m\u001b[0m\n",
      "\u001b[1;32m~\\AppData\\Local\\Temp/ipykernel_6608/1790415609.py\u001b[0m in \u001b[0;36mS\u001b[1;34m(self)\u001b[0m\n\u001b[0;32m      4\u001b[0m         \u001b[0mself\u001b[0m\u001b[1;33m.\u001b[0m\u001b[0mb\u001b[0m\u001b[1;33m=\u001b[0m\u001b[0mb\u001b[0m\u001b[1;33m\u001b[0m\u001b[1;33m\u001b[0m\u001b[0m\n\u001b[0;32m      5\u001b[0m     \u001b[1;32mdef\u001b[0m \u001b[0mS\u001b[0m\u001b[1;33m(\u001b[0m\u001b[0mself\u001b[0m\u001b[1;33m)\u001b[0m\u001b[1;33m:\u001b[0m\u001b[1;33m\u001b[0m\u001b[1;33m\u001b[0m\u001b[0m\n\u001b[1;32m----> 6\u001b[1;33m         \u001b[0mprint\u001b[0m\u001b[1;33m(\u001b[0m\u001b[1;34m\"a and b\"\u001b[0m\u001b[1;33m,\u001b[0m\u001b[0ma\u001b[0m\u001b[1;33m,\u001b[0m\u001b[0mb\u001b[0m\u001b[1;33m)\u001b[0m\u001b[1;33m\u001b[0m\u001b[1;33m\u001b[0m\u001b[0m\n\u001b[0m\u001b[0;32m      7\u001b[0m \u001b[1;32mclass\u001b[0m \u001b[0mrec\u001b[0m\u001b[1;33m(\u001b[0m\u001b[0mcal\u001b[0m\u001b[1;33m)\u001b[0m\u001b[1;33m:\u001b[0m\u001b[1;33m\u001b[0m\u001b[1;33m\u001b[0m\u001b[0m\n\u001b[0;32m      8\u001b[0m     \u001b[1;32mdef\u001b[0m \u001b[0marea\u001b[0m\u001b[1;33m(\u001b[0m\u001b[0mself\u001b[0m\u001b[1;33m,\u001b[0m\u001b[0ma\u001b[0m\u001b[1;33m,\u001b[0m\u001b[0mb\u001b[0m\u001b[1;33m)\u001b[0m\u001b[1;33m:\u001b[0m\u001b[1;33m\u001b[0m\u001b[1;33m\u001b[0m\u001b[0m\n",
      "\u001b[1;31mNameError\u001b[0m: name 'b' is not defined"
     ]
    }
   ],
   "source": [
    "class cal:\n",
    "    def __init__(self,a,b):\n",
    "        self.a=a\n",
    "        self.b=b\n",
    "    def S(self):\n",
    "        print(\"a and b\",a,b)\n",
    "class rec(cal):\n",
    "    def area(self,a,b):\n",
    "        super().__init__(a,b)\n",
    "       # print(\"a and b\",a,b)\n",
    "    def show(self):\n",
    "        print(\"a and b\",a,b)\n",
    "obj=rec(8,9)\n",
    "obj.area(5,9)\n",
    "obj.S()\n",
    "        "
   ]
  },
  {
   "cell_type": "code",
   "execution_count": 18,
   "id": "ae3f462f",
   "metadata": {},
   "outputs": [
    {
     "name": "stdout",
     "output_type": "stream",
     "text": [
      "othr greater\n"
     ]
    }
   ],
   "source": [
    "class compare:\n",
    "    def __init__(self,a):\n",
    "        self.a = a\n",
    "       # self.b = b\n",
    "    def __gt__(self,other):\n",
    "        if self.a > other.a :\n",
    "            return True\n",
    "        else:\n",
    "            return False\n",
    "obj = compare(5)\n",
    "obj2 = compare(6)\n",
    "if obj     > obj2:\n",
    "    print(\" a greater\")\n",
    "else:\n",
    "    print(\"othr greater\")"
   ]
  },
  {
   "cell_type": "code",
   "execution_count": null,
   "id": "bc31f3e2",
   "metadata": {},
   "outputs": [],
   "source": [
    "class f:\n",
    "    def __init__(self):\n",
    "        self.a=[2,4,5]\n",
    "    def simplify(self):\n",
    "        map(labda x:x(self.a))"
   ]
  },
  {
   "cell_type": "code",
   "execution_count": 19,
   "id": "84463b5e",
   "metadata": {},
   "outputs": [],
   "source": [
    "from tkinter import *\n",
    "\n",
    "win=Tk()\n",
    "win.title(\"Destroy\")\n",
    "\n",
    "win.after(2000,win.destroy)\n",
    "win.mainloop()"
   ]
  },
  {
   "cell_type": "code",
   "execution_count": 74,
   "id": "528d0647",
   "metadata": {},
   "outputs": [
    {
     "ename": "TypeError",
     "evalue": "Can't instantiate abstract class Father with abstract method disp",
     "output_type": "error",
     "traceback": [
      "\u001b[1;31m---------------------------------------------------------------------------\u001b[0m",
      "\u001b[1;31mTypeError\u001b[0m                                 Traceback (most recent call last)",
      "\u001b[1;32m~\\AppData\\Local\\Temp/ipykernel_10988/2873287184.py\u001b[0m in \u001b[0;36m<module>\u001b[1;34m\u001b[0m\n\u001b[0;32m      6\u001b[0m     \u001b[1;32mdef\u001b[0m \u001b[0mshow\u001b[0m\u001b[1;33m(\u001b[0m\u001b[0mself\u001b[0m\u001b[1;33m)\u001b[0m\u001b[1;33m:\u001b[0m\u001b[1;33m\u001b[0m\u001b[1;33m\u001b[0m\u001b[0m\n\u001b[0;32m      7\u001b[0m         \u001b[0mprint\u001b[0m\u001b[1;33m(\u001b[0m\u001b[1;34m\"arman\"\u001b[0m\u001b[1;33m)\u001b[0m\u001b[1;33m\u001b[0m\u001b[1;33m\u001b[0m\u001b[0m\n\u001b[1;32m----> 8\u001b[1;33m \u001b[0mobj\u001b[0m \u001b[1;33m=\u001b[0m \u001b[0mFather\u001b[0m\u001b[1;33m(\u001b[0m\u001b[1;33m)\u001b[0m\u001b[1;33m\u001b[0m\u001b[1;33m\u001b[0m\u001b[0m\n\u001b[0m\u001b[0;32m      9\u001b[0m \u001b[0mobj\u001b[0m\u001b[1;33m.\u001b[0m\u001b[0mshow\u001b[0m\u001b[1;33m(\u001b[0m\u001b[1;33m)\u001b[0m\u001b[1;33m\u001b[0m\u001b[1;33m\u001b[0m\u001b[0m\n\u001b[0;32m     10\u001b[0m \u001b[1;33m\u001b[0m\u001b[0m\n",
      "\u001b[1;31mTypeError\u001b[0m: Can't instantiate abstract class Father with abstract method disp"
     ]
    }
   ],
   "source": [
    "from abc import ABC, abstractmethod\n",
    "class Father(ABC):\n",
    "    @abstractmethod\n",
    "    def disp(self):\n",
    "        pass\n",
    "    def show(self):\n",
    "        print(\"arman\")\n",
    "obj = Father()\n",
    "obj.show()\n",
    "\n"
   ]
  },
  {
   "cell_type": "code",
   "execution_count": 87,
   "id": "bb7d9dbe",
   "metadata": {},
   "outputs": [
    {
     "name": "stdout",
     "output_type": "stream",
     "text": [
      "inside parent\n",
      "inside parent\n",
      "inside child\n"
     ]
    }
   ],
   "source": [
    "class parent:\n",
    "    def __init__(self):\n",
    "        self.value = \"inside parent\"\n",
    "   # def show(self):\n",
    "        print(self.value)\n",
    "class child(parent):\n",
    "    def __init__(self):\n",
    "        super().__init__()\n",
    "        self.value = 'inside child'\n",
    "    def show(self):\n",
    "        \n",
    "        print(self.value)\n",
    "o1=parent()\n",
    "o2=child()\n",
    "#o1.show()\n",
    "o2.show()"
   ]
  },
  {
   "cell_type": "code",
   "execution_count": 112,
   "id": "9d179088",
   "metadata": {},
   "outputs": [
    {
     "name": "stdout",
     "output_type": "stream",
     "text": [
      "<class 'str'>\n"
     ]
    }
   ],
   "source": [
    "print(type(\"math\"))"
   ]
  },
  {
   "cell_type": "code",
   "execution_count": 160,
   "id": "3730e31f",
   "metadata": {},
   "outputs": [
    {
     "name": "stdout",
     "output_type": "stream",
     "text": [
      "[5, 15, 25, 35, 45, 55, 65, 75, 85, 95]\n"
     ]
    }
   ],
   "source": [
    "n=[i for i in range(101) if i % 5 == 0 and i % 10 != 0]\n",
    "print(n)"
   ]
  },
  {
   "cell_type": "code",
   "execution_count": 166,
   "id": "86c971bf",
   "metadata": {},
   "outputs": [
    {
     "name": "stdout",
     "output_type": "stream",
     "text": [
      "[[1, 3, 5, 7], [2, 4, 6, 8]]\n"
     ]
    }
   ],
   "source": [
    "matrix = [[1,2],[3,4],[5,6],[7,8]]\n",
    "transposed = [[j [i] for j in matrix] for i in range(2)]\n",
    "print(transposed)"
   ]
  },
  {
   "cell_type": "code",
   "execution_count": 134,
   "id": "1a6410fd",
   "metadata": {},
   "outputs": [
    {
     "data": {
      "text/plain": [
       "2147324419888"
      ]
     },
     "execution_count": 134,
     "metadata": {},
     "output_type": "execute_result"
    }
   ],
   "source": [
    "id(\"arman\")"
   ]
  },
  {
   "cell_type": "code",
   "execution_count": 146,
   "id": "b95c6b10",
   "metadata": {},
   "outputs": [
    {
     "ename": "SyntaxError",
     "evalue": "invalid syntax (Temp/ipykernel_10988/1116565220.py, line 3)",
     "output_type": "error",
     "traceback": [
      "\u001b[1;36m  File \u001b[1;32m\"C:\\Users\\DELL\\AppData\\Local\\Temp/ipykernel_10988/1116565220.py\"\u001b[1;36m, line \u001b[1;32m3\u001b[0m\n\u001b[1;33m    global x = \"10\"\u001b[0m\n\u001b[1;37m             ^\u001b[0m\n\u001b[1;31mSyntaxError\u001b[0m\u001b[1;31m:\u001b[0m invalid syntax\n"
     ]
    }
   ],
   "source": []
  },
  {
   "cell_type": "code",
   "execution_count": null,
   "id": "5a502dc3",
   "metadata": {},
   "outputs": [],
   "source": []
  },
  {
   "cell_type": "code",
   "execution_count": 171,
   "id": "24ede18c",
   "metadata": {},
   "outputs": [
    {
     "ename": "AttributeError",
     "evalue": "'child' object has no attribute 'Show'",
     "output_type": "error",
     "traceback": [
      "\u001b[1;31m---------------------------------------------------------------------------\u001b[0m",
      "\u001b[1;31mAttributeError\u001b[0m                            Traceback (most recent call last)",
      "\u001b[1;32m~\\AppData\\Local\\Temp/ipykernel_10988/3068514981.py\u001b[0m in \u001b[0;36m<module>\u001b[1;34m\u001b[0m\n\u001b[0;32m     12\u001b[0m \u001b[1;33m\u001b[0m\u001b[0m\n\u001b[0;32m     13\u001b[0m \u001b[0mC\u001b[0m\u001b[1;33m=\u001b[0m\u001b[0mchild\u001b[0m\u001b[1;33m(\u001b[0m\u001b[1;33m)\u001b[0m\u001b[1;33m\u001b[0m\u001b[1;33m\u001b[0m\u001b[0m\n\u001b[1;32m---> 14\u001b[1;33m \u001b[0mC\u001b[0m\u001b[1;33m.\u001b[0m\u001b[0mShow\u001b[0m\u001b[1;33m(\u001b[0m\u001b[1;33m)\u001b[0m\u001b[1;33m\u001b[0m\u001b[1;33m\u001b[0m\u001b[0m\n\u001b[0m\u001b[0;32m     15\u001b[0m \u001b[0mC\u001b[0m\u001b[1;33m.\u001b[0m\u001b[0mdisp\u001b[0m\u001b[1;33m(\u001b[0m\u001b[1;33m)\u001b[0m\u001b[1;33m\u001b[0m\u001b[1;33m\u001b[0m\u001b[0m\n\u001b[0;32m     16\u001b[0m \u001b[1;33m\u001b[0m\u001b[0m\n",
      "\u001b[1;31mAttributeError\u001b[0m: 'child' object has no attribute 'Show'"
     ]
    }
   ],
   "source": [
    "from abc import ABC , abstractmethod\n",
    "class Father(ABC):\n",
    "    @abstractmethod\n",
    "    def disp(self):\n",
    "        print(\"This is disp mehtod\")\n",
    "    def show(self):\n",
    "        print(\"This is show method\")\n",
    "class child(Father):\n",
    "    def disp(self):\n",
    "        print(\"Nothing Personal\")\n",
    "\n",
    "\n",
    "C=child()\n",
    "C.Show()\n",
    "C.disp()\n",
    "\n",
    "        \n",
    "\n",
    "#F=Father()\n",
    "#F.disp()\n",
    "#F.show()"
   ]
  },
  {
   "cell_type": "code",
   "execution_count": null,
   "id": "158643f2",
   "metadata": {},
   "outputs": [],
   "source": []
  }
 ],
 "metadata": {
  "kernelspec": {
   "display_name": "Python 3 (ipykernel)",
   "language": "python",
   "name": "python3"
  },
  "language_info": {
   "codemirror_mode": {
    "name": "ipython",
    "version": 3
   },
   "file_extension": ".py",
   "mimetype": "text/x-python",
   "name": "python",
   "nbconvert_exporter": "python",
   "pygments_lexer": "ipython3",
   "version": "3.9.7"
  }
 },
 "nbformat": 4,
 "nbformat_minor": 5
}
