{
 "cells": [
  {
   "cell_type": "code",
   "execution_count": null,
   "id": "2098a858",
   "metadata": {},
   "outputs": [],
   "source": []
  },
  {
   "cell_type": "code",
   "execution_count": null,
   "id": "03d97fa3",
   "metadata": {},
   "outputs": [],
   "source": [
    "class Node:\n",
    "    def__init__(self,value):\n",
    "        self.value = value\n",
    "        self.left = None\n",
    "        self.right = None\n",
    "        \n",
    "class Tree:\n",
    "    def createNode(self,value):\n",
    "        new_node = Node(value)\n",
    "        \n",
    "    def insert(self,node,value):\n",
    "        if node is None:\n",
    "            new_node = createNode(self,value)\n",
    "        if node.value > value:\n",
    "            new_node = self.insert(node.left,value)\n",
    "        else:\n",
    "            new_node = self.insert(node.right,value)\n",
    "            \n",
    "        "
   ]
  },
  {
   "cell_type": "code",
   "execution_count": null,
   "id": "044b4550",
   "metadata": {},
   "outputs": [],
   "source": []
  }
 ],
 "metadata": {
  "kernelspec": {
   "display_name": "Python 3 (ipykernel)",
   "language": "python",
   "name": "python3"
  },
  "language_info": {
   "codemirror_mode": {
    "name": "ipython",
    "version": 3
   },
   "file_extension": ".py",
   "mimetype": "text/x-python",
   "name": "python",
   "nbconvert_exporter": "python",
   "pygments_lexer": "ipython3",
   "version": "3.9.7"
  }
 },
 "nbformat": 4,
 "nbformat_minor": 5
}
