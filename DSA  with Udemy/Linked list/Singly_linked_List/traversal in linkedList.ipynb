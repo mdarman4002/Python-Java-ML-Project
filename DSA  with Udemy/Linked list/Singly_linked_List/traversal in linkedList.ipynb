{
 "cells": [
  {
   "cell_type": "code",
   "execution_count": null,
   "id": "f8e58c3e",
   "metadata": {},
   "outputs": [],
   "source": [
    "class Node:\n",
    "    def __init__(self,value):\n",
    "        self.value =value\n",
    "        self.next = None\n",
    "        \n",
    "class LinkedList:\n",
    "    \n",
    "    def __init__(self):\n",
    "        self.head = None\n",
    "        self.tail = None\n",
    "        self.length = 0\n",
    "    def Append(self,value):\n",
    "        new_node = Node(value)\n",
    "        \n",
    "        if self.head is None:\n",
    "            self.head = new_node\n",
    "            self.tail = new_node\n",
    "            self.length +=1\n",
    "        else:\n",
    "            self.tail.next = new_node\n",
    "            self.tail = new_node\n",
    "    def Print(self):\n",
    "        current_node = self.head\n",
    "        result = \" \"\n",
    "        while current_node is not None:\n",
    "            result += str(current_node)\n",
    "        print(result)\n",
    "        \n",
    "    \n",
    "obj = LinkedList()\n",
    "print(obj)\n",
    "obj.Append(10)\n",
    "obj.Append(20)\n",
    "obj.Append(30)\n",
    "print(\"head: \",obj.head.value)\n",
    "print(\"tail: \", obj.tail.value)\n",
    "obj.Print()\n",
    "\n"
   ]
  },
  {
   "cell_type": "code",
   "execution_count": null,
   "id": "9e0e8ea7",
   "metadata": {},
   "outputs": [],
   "source": [
    "print(\"h\")"
   ]
  },
  {
   "cell_type": "code",
   "execution_count": null,
   "id": "95a25bc8",
   "metadata": {},
   "outputs": [],
   "source": []
  }
 ],
 "metadata": {
  "kernelspec": {
   "display_name": "Python 3 (ipykernel)",
   "language": "python",
   "name": "python3"
  },
  "language_info": {
   "codemirror_mode": {
    "name": "ipython",
    "version": 3
   },
   "file_extension": ".py",
   "mimetype": "text/x-python",
   "name": "python",
   "nbconvert_exporter": "python",
   "pygments_lexer": "ipython3",
   "version": "3.9.7"
  }
 },
 "nbformat": 4,
 "nbformat_minor": 5
}
