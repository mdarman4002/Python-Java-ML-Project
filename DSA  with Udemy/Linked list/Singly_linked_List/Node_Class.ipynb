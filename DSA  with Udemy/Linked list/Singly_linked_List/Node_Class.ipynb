{
 "cells": [
  {
   "cell_type": "code",
   "execution_count": 4,
   "id": "a6c11a18",
   "metadata": {},
   "outputs": [
    {
     "name": "stdout",
     "output_type": "stream",
     "text": [
      "<__main__.Node object at 0x0000022F9CFF9F10>\n"
     ]
    }
   ],
   "source": [
    "class Node:\n",
    "    def __init__(self,value): # Constant time O(1)\n",
    "        self.value=value\n",
    "        self.next = None\n",
    "        \n",
    "new_node = Node(10)\n",
    "print(new_node)\n",
    "# time and space complexity of this node class is O(1)"
   ]
  },
  {
   "cell_type": "markdown",
   "id": "fa968e6c",
   "metadata": {},
   "source": [
    "# empty_linked_List"
   ]
  },
  {
   "cell_type": "code",
   "execution_count": 6,
   "id": "8203527b",
   "metadata": {},
   "outputs": [
    {
     "name": "stdout",
     "output_type": "stream",
     "text": [
      "0\n",
      "head location:  <__main__.emptyLinkedList object at 0x0000017158644310>\n",
      "tail location:  <__main__.emptyLinkedList object at 0x0000017158644310>\n"
     ]
    }
   ],
   "source": [
    "class Node:\n",
    "    def __init__(self,value):\n",
    "        self.value= value\n",
    "        self.next = None\n",
    "class emptyLinkedList:\n",
    "    def __init__(self):\n",
    "        self.head = None\n",
    "        self.tail = None\n",
    "        self.length = 0;\n",
    "new_linkedList = emptyLinkedList()\n",
    "print(new_linkedList.length)\n",
    "print(\"head location: \",new_linkedList)\n",
    "print(\"tail location: \",new_linkedList) # head and tail both are locating same location\n",
    "# space and time complexity is O(1)"
   ]
  },
  {
   "cell_type": "markdown",
   "id": "276de065",
   "metadata": {},
   "source": [
    "# single_value in linked list"
   ]
  },
  {
   "cell_type": "code",
   "execution_count": 7,
   "id": "d2511b51",
   "metadata": {},
   "outputs": [
    {
     "name": "stdout",
     "output_type": "stream",
     "text": [
      "<__main__.LinkedList object at 0x000001715861A6A0>\n",
      "1\n"
     ]
    }
   ],
   "source": [
    "class Node:\n",
    "    def __init__(self,value): # Constant time O(1)\n",
    "        self.value=value\n",
    "        self.next = None\n",
    "        \n",
    "class LinkedList:\n",
    "    def __init__(self,value):\n",
    "        new_node= Node(value)\n",
    "        self.head = new_node\n",
    "        self.tail = new_node\n",
    "        self.length = 1\n",
    "    \n",
    "        \n",
    "new_linked_list = LinkedList(15)\n",
    "print(new_linked_list)\n",
    "print(new_linked_list.length)\n",
    "\n",
    "# space and time complexity is O(1)"
   ]
  },
  {
   "cell_type": "markdown",
   "id": "c644a56d",
   "metadata": {},
   "source": [
    "# insertion(append) in linked_List "
   ]
  },
  {
   "cell_type": "code",
   "execution_count": 13,
   "id": "9d4c59ca",
   "metadata": {},
   "outputs": [
    {
     "name": "stdout",
     "output_type": "stream",
     "text": [
      "<__main__.LinkedList object at 0x0000017158708DF0>\n",
      "4\n",
      "<__main__.Node object at 0x00000171586146A0>\n",
      "head value:  15\n",
      "tail value:  17\n"
     ]
    }
   ],
   "source": [
    "class Node:\n",
    "    def __init__(self,value):\n",
    "        self.value = value\n",
    "        self.next =None\n",
    "class LinkedList:\n",
    "    def __init__(self,value):\n",
    "        self.head = None\n",
    "        self.tail = None\n",
    "        self.length = 0\n",
    "        \n",
    "    def append(self,value):\n",
    "        new_node = Node(value)\n",
    "        if self.head is None:\n",
    "            self.head = new_node\n",
    "            self.tail = new_node\n",
    "        else:\n",
    "            self.tail.next = new_node\n",
    "            self.tail= new_node\n",
    "        self.length += 1\n",
    "#new_linked_list = LinkedList(10)  # not be add\n",
    "new_linked_list = LinkedList(None)  # Initialize with an initial value of 10\n",
    "new_linked_list.append(15)\n",
    "new_linked_list.append(10)\n",
    "new_linked_list.append(1)\n",
    "new_linked_list.append(17)\n",
    "\n",
    "print((new_linked_list))\n",
    "print(new_linked_list.length)\n",
    "print(new_linked_list.head)\n",
    "print(\"head value: \",new_linked_list.head.value)\n",
    "print(\"tail value: \",new_linked_list.tail.value)"
   ]
  },
  {
   "cell_type": "code",
   "execution_count": 4,
   "id": "dc1eba04",
   "metadata": {},
   "outputs": [
    {
     "ename": "TypeError",
     "evalue": "__init__() missing 1 required positional argument: 'value'",
     "output_type": "error",
     "traceback": [
      "\u001b[1;31m---------------------------------------------------------------------------\u001b[0m",
      "\u001b[1;31mTypeError\u001b[0m                                 Traceback (most recent call last)",
      "\u001b[1;32m~\\AppData\\Local\\Temp/ipykernel_13800/2811968627.py\u001b[0m in \u001b[0;36m<module>\u001b[1;34m\u001b[0m\n\u001b[0;32m     19\u001b[0m             \u001b[0mself\u001b[0m\u001b[1;33m.\u001b[0m\u001b[0mtail\u001b[0m \u001b[1;33m=\u001b[0m \u001b[0mnew_value\u001b[0m\u001b[1;33m\u001b[0m\u001b[1;33m\u001b[0m\u001b[0m\n\u001b[0;32m     20\u001b[0m         \u001b[0mself\u001b[0m\u001b[1;33m.\u001b[0m\u001b[0mlength\u001b[0m \u001b[1;33m+=\u001b[0m \u001b[1;36m1\u001b[0m\u001b[1;33m\u001b[0m\u001b[1;33m\u001b[0m\u001b[0m\n\u001b[1;32m---> 21\u001b[1;33m \u001b[0mnewList\u001b[0m \u001b[1;33m=\u001b[0m \u001b[0mList\u001b[0m\u001b[1;33m(\u001b[0m\u001b[1;33m)\u001b[0m\u001b[1;33m\u001b[0m\u001b[1;33m\u001b[0m\u001b[0m\n\u001b[0m\u001b[0;32m     22\u001b[0m \u001b[0mnewList\u001b[0m\u001b[1;33m.\u001b[0m\u001b[0mappend\u001b[0m\u001b[1;33m(\u001b[0m\u001b[1;36m2\u001b[0m\u001b[1;33m)\u001b[0m\u001b[1;33m\u001b[0m\u001b[1;33m\u001b[0m\u001b[0m\n\u001b[0;32m     23\u001b[0m \u001b[0mnewList\u001b[0m\u001b[1;33m.\u001b[0m\u001b[0mappend\u001b[0m\u001b[1;33m(\u001b[0m\u001b[1;36m5\u001b[0m\u001b[1;33m)\u001b[0m\u001b[1;33m\u001b[0m\u001b[1;33m\u001b[0m\u001b[0m\n",
      "\u001b[1;31mTypeError\u001b[0m: __init__() missing 1 required positional argument: 'value'"
     ]
    }
   ],
   "source": [
    "#1,4,5,8\n",
    "\n",
    "class Node :\n",
    "    def __init__(self,value):\n",
    "        self.value = value\n",
    "        self.next = None\n",
    "class List:\n",
    "    def __init__(self,value):\n",
    "        self.head= None\n",
    "        self.tail = None\n",
    "        self.length = 0\n",
    "    def appending(self,value):\n",
    "        new_value = Node(value)\n",
    "        if self.head is None:\n",
    "            self.head = new_value\n",
    "            self.tail= new_value\n",
    "        else:\n",
    "            self.tail.next = new_value\n",
    "            self.tail = new_value\n",
    "        self.length += 1\n",
    "newList = List()\n",
    "newList.append(2)\n",
    "newList.append(5)\n",
    "newList.append(1)\n",
    "newList.append(7)\n",
    "print(newList)\n",
    "print(\"head value: \",newList.head.value)\n",
    "print(\"tail value: \",newList.tail.value)"
   ]
  },
  {
   "cell_type": "code",
   "execution_count": 9,
   "id": "c37b3df1",
   "metadata": {},
   "outputs": [
    {
     "name": "stdout",
     "output_type": "stream",
     "text": [
      "<__main__.LinkedList object at 0x00000171586146A0>\n",
      "4\n"
     ]
    }
   ],
   "source": [
    "class Node:\n",
    "    def __init__(self, value):\n",
    "        self.value = value\n",
    "        self.next = None\n",
    "\n",
    "class LinkedList:\n",
    "    def __init__(self, value):\n",
    "        self.head = None\n",
    "        self.tail = None\n",
    "        self.length = 0\n",
    "        \n",
    "    def append(self, value):\n",
    "        new_node = Node(value)\n",
    "        if self.head is None:\n",
    "            self.head = new_node\n",
    "            self.tail = new_node\n",
    "        else:\n",
    "            self.tail.next = new_node\n",
    "            self.tail = new_node\n",
    "        self.length += 1\n",
    "\n",
    "new_linked_list = LinkedList(10)  # Initialize with an initial value of 10\n",
    "new_linked_list.append(15)\n",
    "new_linked_list.append(10)\n",
    "new_linked_list.append(1)\n",
    "new_linked_list.append(17)\n",
    "\n",
    "print(new_linked_list)\n",
    "print(new_linked_list.length)\n"
   ]
  },
  {
   "cell_type": "code",
   "execution_count": null,
   "id": "e07c6c56",
   "metadata": {},
   "outputs": [],
   "source": []
  }
 ],
 "metadata": {
  "kernelspec": {
   "display_name": "Python 3 (ipykernel)",
   "language": "python",
   "name": "python3"
  },
  "language_info": {
   "codemirror_mode": {
    "name": "ipython",
    "version": 3
   },
   "file_extension": ".py",
   "mimetype": "text/x-python",
   "name": "python",
   "nbconvert_exporter": "python",
   "pygments_lexer": "ipython3",
   "version": "3.9.7"
  }
 },
 "nbformat": 4,
 "nbformat_minor": 5
}
