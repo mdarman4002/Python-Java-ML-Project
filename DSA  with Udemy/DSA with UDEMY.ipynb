{
 "cells": [
  {
   "cell_type": "markdown",
   "id": "f3f9dc5a",
   "metadata": {},
   "source": [
    "# Recursion"
   ]
  },
  {
   "cell_type": "code",
   "execution_count": null,
   "id": "5c37847d",
   "metadata": {},
   "outputs": [],
   "source": []
  },
  {
   "cell_type": "markdown",
   "id": "21457168",
   "metadata": {},
   "source": [
    "# sum of number\n"
   ]
  },
  {
   "cell_type": "code",
   "execution_count": 1,
   "id": "f835a7b7",
   "metadata": {},
   "outputs": [
    {
     "name": "stdout",
     "output_type": "stream",
     "text": [
      "55\n"
     ]
    }
   ],
   "source": [
    "def Sum(num):\n",
    "    if num <=0:\n",
    "        return num\n",
    "       # print(\"take value more than zero\")\n",
    "    else:\n",
    "        S = num + Sum(num-1)\n",
    "        #print(\"sum: \",S)\n",
    "        return num +Sum(num-1)\n",
    "num = 10\n",
    "obj = (Sum(num))\n",
    "print(obj)\n",
    "# obj = sum(num)\n",
    "# print(\"sum: \",obj)\n",
    "\n",
    "# def recursion(n):\n",
    "#     if n<= 1 :\n",
    "#         return n\n",
    "#     else:\n",
    "#         return n + recursion(n-1)\n",
    "# n = 10\n",
    "# print(recursion(n))"
   ]
  },
  {
   "cell_type": "code",
   "execution_count": null,
   "id": "993a1266",
   "metadata": {},
   "outputs": [],
   "source": []
  },
  {
   "cell_type": "code",
   "execution_count": null,
   "id": "a9c57a1c",
   "metadata": {},
   "outputs": [],
   "source": [
    "def rec(num):\n",
    "    if num <=1:\n",
    "        return num\n",
    "    else:\n",
    "        return num + rec(num)\n",
    "num  = 10\n",
    "print(rec(num))"
   ]
  },
  {
   "cell_type": "code",
   "execution_count": null,
   "id": "53a95dc1",
   "metadata": {},
   "outputs": [],
   "source": [
    "def recursion(n):\n",
    "    if n<= 0 :\n",
    "        return n\n",
    "    else:\n",
    "        return n + recursion(n-1)\n",
    "n = 10\n",
    "print(recursion(n))"
   ]
  },
  {
   "cell_type": "markdown",
   "id": "8470cfe8",
   "metadata": {},
   "source": [
    "# factorial"
   ]
  },
  {
   "cell_type": "code",
   "execution_count": null,
   "id": "a5314157",
   "metadata": {},
   "outputs": [],
   "source": [
    "def fact(num):\n",
    "    if num <= 1:\n",
    "        return num\n",
    "    else:\n",
    "        return num * fact(num-1)\n",
    "num = 5\n",
    "print(fact(num))"
   ]
  },
  {
   "cell_type": "code",
   "execution_count": null,
   "id": "f26336bf",
   "metadata": {},
   "outputs": [],
   "source": [
    "# import sys\n",
    "# sys.setrecursionlimit(50)\n",
    "def r(n):\n",
    "    assert n>=0 and int(n) ==n, \"the number must be +ve integer only\"\n",
    "    if n in [0,1]:\n",
    "        return 1\n",
    "    else:\n",
    "        return n * r(n- 1)\n",
    "print(r(10))"
   ]
  },
  {
   "cell_type": "markdown",
   "id": "b4f2cf4d",
   "metadata": {},
   "source": [
    "# fibonacci"
   ]
  },
  {
   "cell_type": "code",
   "execution_count": null,
   "id": "12c6e6b8",
   "metadata": {},
   "outputs": [],
   "source": [
    "def fib(num):\n",
    "    if num == 0 or num==1:\n",
    "        return num\n",
    "    else:\n",
    "        return fib(num -1) + fib(num - 2)\n",
    "num = 5\n",
    "\n",
    "for i in range(num):\n",
    "    print(fib(i))"
   ]
  },
  {
   "cell_type": "code",
   "execution_count": null,
   "id": "1cc892aa",
   "metadata": {},
   "outputs": [],
   "source": [
    "def fibonacci(n):\n",
    "    assert n >= 0 and int(n) == n, 'fibonacci number cannot be float or -ve number'\n",
    "    if n in [0,1]:\n",
    "        return n\n",
    "    else:\n",
    "        return fibonacci(n-1) + fibonacci(n-2)\n",
    "num = 5\n",
    "for i in range (num):\n",
    "    print(fibonacci(i))"
   ]
  },
  {
   "cell_type": "code",
   "execution_count": null,
   "id": "96f7fcff",
   "metadata": {},
   "outputs": [],
   "source": [
    "n = int(input(\"range; \"))\n",
    "f = 0\n",
    "s = 1 \n",
    "Sum =0\n",
    "\n",
    "for i in range(n):\n",
    "    print(\"i: \",i,\" fib; \",f)\n",
    "    Sum = Sum + f\n",
    "    f = s\n",
    "    \n",
    "    "
   ]
  },
  {
   "cell_type": "code",
   "execution_count": null,
   "id": "79da7ea1",
   "metadata": {},
   "outputs": [],
   "source": [
    "num = int(input(\"Enter number range: \"))\n",
    "first= 0\n",
    "second = 1\n",
    "Sum = 0\n",
    "\n",
    "for i in range (num):\n",
    "    print(\"fib: on index \",[i],\":\",first)\n",
    "    Sum = Sum + first \n",
    "    Next =first + second\n",
    "    first = second\n",
    "    second = Next\n",
    "    \n"
   ]
  },
  {
   "cell_type": "code",
   "execution_count": null,
   "id": "ace6f717",
   "metadata": {},
   "outputs": [],
   "source": [
    "def fib(num):\n",
    "    if  num ==0 or num==1:\n",
    "        return num\n",
    "    else:\n",
    "        return fib(num - 1) , fib(num-2) # put  + instead of ,\n",
    "num = int(input(\"enter fib range: \"))\n",
    "for i in range(num):\n",
    "    print(fib(i))"
   ]
  },
  {
   "cell_type": "code",
   "execution_count": null,
   "id": "f0409f35",
   "metadata": {},
   "outputs": [],
   "source": [
    "def rec(num):\n",
    "    if num ==  1:\n",
    "        return num\n",
    "    else:\n",
    "        return num * rec(num - 1)\n",
    "\n",
    "print(rec(5))"
   ]
  },
  {
   "cell_type": "code",
   "execution_count": null,
   "id": "54dc2dcb",
   "metadata": {},
   "outputs": [],
   "source": [
    "def power(base, exp):\n",
    "    return base * power(base , exp-1)\n",
    "print(power(4,2))"
   ]
  },
  {
   "cell_type": "markdown",
   "id": "a088e767",
   "metadata": {},
   "source": [
    "# sys module in python"
   ]
  },
  {
   "cell_type": "code",
   "execution_count": null,
   "id": "fbd4a350",
   "metadata": {},
   "outputs": [],
   "source": [
    "import numpy as np\n",
    "import pandas as pd"
   ]
  },
  {
   "cell_type": "code",
   "execution_count": null,
   "id": "82eaf52c",
   "metadata": {},
   "outputs": [],
   "source": [
    "import sys\n",
    "print(sys.version)\n",
    "print(\"hello\")\n",
    "sys.exit()\n",
    "print('arman')"
   ]
  },
  {
   "cell_type": "code",
   "execution_count": null,
   "id": "f48a3268",
   "metadata": {},
   "outputs": [],
   "source": [
    "import sys\n",
    "for x in sys.argv:\n",
    "    print(x)"
   ]
  },
  {
   "cell_type": "code",
   "execution_count": null,
   "id": "94f3ffc0",
   "metadata": {},
   "outputs": [],
   "source": [
    "#print(sys.path())\n",
    "# \n",
    "def sumofdigit(num):\n",
    "    assert num >=0 and int(num)==num, \"only take +ve integer\"\n",
    "    if num ==0:\n",
    "        return 0\n",
    "    else:\n",
    "        return num % 10 + sumofdigit(num //10)\n",
    "num = 45212\n",
    "print(sumofdigit(num))"
   ]
  },
  {
   "cell_type": "code",
   "execution_count": null,
   "id": "3d15afad",
   "metadata": {},
   "outputs": [],
   "source": [
    "def firstMethod():\n",
    "    #secondMethod()\n",
    "    print(\"I am the first Method\")\n",
    "\n",
    "def secondMethod():\n",
    "    thirdMethod()\n",
    "    print(\"I am the second Method\")\n",
    "\n",
    "\n",
    "def thirdMethod():\n",
    "    fourthMethod()\n",
    "    print(\"I am the third Method\")\n",
    "\n",
    "def fourthMethod():\n",
    "    thirdMethod()\n",
    "    print(\"I am the fourth Method\")\n",
    "\n",
    "#thirdMethod()\n",
    "#print(\"------------\")\n",
    "#secondMethod()\n",
    "fourthMethod()"
   ]
  },
  {
   "cell_type": "markdown",
   "id": "cd110306",
   "metadata": {},
   "source": [
    "# how to find sum of digit using recursion"
   ]
  },
  {
   "cell_type": "code",
   "execution_count": null,
   "id": "d8043585",
   "metadata": {},
   "outputs": [],
   "source": [
    "def sumdigit(n):\n",
    "    assert n>=0 and int(n) ==n, \"the number has to be +ve integer only!\"\n",
    "    if n==0:\n",
    "        return 0\n",
    "    else:\n",
    "        return 100 + sumdigit(int(n//10))\n",
    "print(sumdigit(4502))"
   ]
  },
  {
   "cell_type": "code",
   "execution_count": null,
   "id": "54e1942d",
   "metadata": {},
   "outputs": [],
   "source": [
    "def gcd(a,b):\n",
    "    if b==0:\n",
    "        return a\n",
    "    else:\n",
    "        return gcd(b, a%b)\n",
    "print(gcd(63,6))"
   ]
  },
  {
   "cell_type": "code",
   "execution_count": null,
   "id": "8ccde293",
   "metadata": {},
   "outputs": [],
   "source": [
    "3%6"
   ]
  },
  {
   "cell_type": "markdown",
   "id": "c289552d",
   "metadata": {},
   "source": [
    "# how to calculate power of a number using recursion"
   ]
  },
  {
   "cell_type": "code",
   "execution_count": null,
   "id": "012b85fd",
   "metadata": {},
   "outputs": [],
   "source": [
    "\n",
    "def power(base,exp):\n",
    "    assert int(exp) == exp, 'the exponent must be integer only!'\n",
    "    if exp == 0:\n",
    "        return 1\n",
    "    elif exp < 0:\n",
    "        return 1/ base * power(base, exp + 1)\n",
    "        #return base * power(base,exp)\n",
    "    \n",
    "    return base * power(base,exp-1)\n",
    "    \n",
    "print(power(4.025,-2))\n"
   ]
  },
  {
   "cell_type": "markdown",
   "id": "97af9698",
   "metadata": {},
   "source": [
    "# how to calculate GCD of two numbers using recursion"
   ]
  },
  {
   "cell_type": "code",
   "execution_count": null,
   "id": "1cfb6e48",
   "metadata": {},
   "outputs": [],
   "source": [
    "def gcd(a,b):\n",
    "    #assert int(a) == a and int(b) == b,\"value must be integer\"\n",
    "    if a < 0:\n",
    "        a = -1 * a\n",
    "    if b < 0:\n",
    "        b = -1 * b\n",
    "    if b == 0:\n",
    "        return a\n",
    "    else:\n",
    "        return gcd(b, a%b)\n",
    "print(gcd(63,-6))"
   ]
  },
  {
   "cell_type": "code",
   "execution_count": null,
   "id": "596e5307",
   "metadata": {},
   "outputs": [],
   "source": [
    "def gcd(a,b):\n",
    "    if b== 0:\n",
    "        return a\n",
    "    return gcd(b, a%b)\n",
    "print(gcd(63,1))"
   ]
  },
  {
   "cell_type": "markdown",
   "id": "c1c3bad9",
   "metadata": {},
   "source": [
    "# Decimal to Binaray using recursion"
   ]
  },
  {
   "cell_type": "code",
   "execution_count": null,
   "id": "051b338f",
   "metadata": {},
   "outputs": [],
   "source": [
    "def decimalTobinary(n):\n",
    "    assert int(n) == n, 'parameter must be an integer'\n",
    "    if n == 0:\n",
    "        return 0\n",
    "    else:\n",
    "        return n%2 + 10* decimalTobinary(n//2)\n",
    "print(decimalTobinary(9))\n"
   ]
  },
  {
   "cell_type": "code",
   "execution_count": null,
   "id": "4cf25d41",
   "metadata": {},
   "outputs": [],
   "source": [
    "10/2"
   ]
  },
  {
   "cell_type": "markdown",
   "id": "b04a6c4f",
   "metadata": {},
   "source": [
    "# Product of array"
   ]
  },
  {
   "cell_type": "code",
   "execution_count": null,
   "id": "374ff782",
   "metadata": {},
   "outputs": [],
   "source": [
    "def productofarray(array):\n",
    "    if len(array) == 0:\n",
    "        return 1\n",
    "    else:\n",
    "        return array[0] * productofarray(array[1:])\n",
    "print(productofarray([5,4,3,2,1]))"
   ]
  },
  {
   "cell_type": "code",
   "execution_count": null,
   "id": "132dc3e8",
   "metadata": {},
   "outputs": [],
   "source": [
    "a = [1,2,3,4]\n",
    "for i in range(0,len(a), 2):\n",
    "    print(a[i])\n",
    "    "
   ]
  },
  {
   "cell_type": "code",
   "execution_count": null,
   "id": "bd2c51d1",
   "metadata": {},
   "outputs": [],
   "source": [
    "a = [1,2,3,4,5]\n",
    "for i in a:\n",
    "    for j in a:\n",
    "        print(i,j,end=\" \\n\")"
   ]
  },
  {
   "cell_type": "markdown",
   "id": "0b9762e1",
   "metadata": {},
   "source": [
    "# Biggest number from an Array"
   ]
  },
  {
   "cell_type": "code",
   "execution_count": null,
   "id": "f099e7dc",
   "metadata": {},
   "outputs": [],
   "source": [
    "def findbiggestNumber(array):\n",
    "    biggestNumber = array[0]\n",
    "    for i in range(1,len(array)):\n",
    "        if array[i] > biggestNumber:\n",
    "            biggestNumber = array[i]\n",
    "    print(biggestNumber)\n",
    "\n",
    "findbiggestNumber([4,5,80,150,34,2,48,6])"
   ]
  },
  {
   "cell_type": "markdown",
   "id": "d5ad766e",
   "metadata": {},
   "source": [
    "# Biggest number from an Array using recusion"
   ]
  },
  {
   "cell_type": "code",
   "execution_count": null,
   "id": "f8e3be74",
   "metadata": {},
   "outputs": [],
   "source": [
    "def findbiggestNumRec(array, n ):\n",
    "    if n == 1:\n",
    "        return array[0]\n",
    "    else:\n",
    "        return max(array[n-1]), findbiggestNumRec(array, n-1)\n",
    "array = [4,5,80,150,34,2,48,6]\n",
    "n=len(array)\n",
    "print(findbiggestNumRec(array,n))"
   ]
  },
  {
   "cell_type": "code",
   "execution_count": null,
   "id": "687777d8",
   "metadata": {},
   "outputs": [],
   "source": [
    "a=[4,5,80,150,34,2,48,6]\n",
    "print(len(a))"
   ]
  },
  {
   "cell_type": "code",
   "execution_count": null,
   "id": "be238314",
   "metadata": {},
   "outputs": [],
   "source": [
    "def f(n):\n",
    "    if n <= 1:\n",
    "        return 1\n",
    "    return f(n-1) + f(n-1)\n",
    "print(f(4))"
   ]
  },
  {
   "cell_type": "markdown",
   "id": "004fbe19",
   "metadata": {},
   "source": [
    "# addition and multiplication of array"
   ]
  },
  {
   "cell_type": "code",
   "execution_count": null,
   "id": "7d667c38",
   "metadata": {},
   "outputs": [],
   "source": [
    "def addmul(array):\n",
    "    Sum = 0\n",
    "    mul = 1\n",
    "    for i in array:\n",
    "        Sum+=i\n",
    "    for j in array:\n",
    "        mul*=j\n",
    "    print(\"sum of array: \", Sum, \"\\nand Multiplicatio of array: \", mul)\n",
    "\n",
    "(addmul([5,7,4,3]))"
   ]
  },
  {
   "cell_type": "code",
   "execution_count": null,
   "id": "8937500b",
   "metadata": {},
   "outputs": [],
   "source": [
    "def Array(array):\n",
    "    for i in  range (len(array)):\n",
    "        for j in array:\n",
    "            print(\"i: \",i,\" j: \",j)\n",
    "Array([1,2,3,4])"
   ]
  },
  {
   "cell_type": "markdown",
   "id": "b3eb1837",
   "metadata": {},
   "source": [
    "# Reverse the array"
   ]
  },
  {
   "cell_type": "code",
   "execution_count": null,
   "id": "2b2f5f85",
   "metadata": {},
   "outputs": [],
   "source": [
    "def reversearray(array):\n",
    "    for i in range (0,int(len(array)/2)):\n",
    "        reverse= len(array)- i - 1\n",
    "        temp = array[i]\n",
    "        array[i] = array[reverse]\n",
    "        array[reverse] = temp\n",
    "    print(array)\n",
    "reversearray([1,2,3,4,45,47,6,67,4,21,32])\n",
    "        "
   ]
  },
  {
   "cell_type": "code",
   "execution_count": null,
   "id": "e81a3d46",
   "metadata": {},
   "outputs": [],
   "source": [
    "a=[1,2,3,4]\n",
    "print((a[-1::-1]))"
   ]
  },
  {
   "cell_type": "markdown",
   "id": "5fcef953",
   "metadata": {},
   "source": [
    "# Linked List"
   ]
  },
  {
   "cell_type": "code",
   "execution_count": null,
   "id": "a79352f4",
   "metadata": {},
   "outputs": [],
   "source": [
    "# normal linked list\n",
    "class Node:\n",
    "    def __init__(self, value=None):\n",
    "        self.value = value\n",
    "        self.next = None\n",
    "\n",
    "class SLinkedList:\n",
    "    def __init__(self):\n",
    "        self.head = None\n",
    "        self.tail = None\n",
    "        \n",
    "singlyLinkedList = SLinkedList()\n",
    "node1 = Node(1)\n",
    "node2 = Node(2)\n",
    "\n",
    "singlyLinkedList.head = node1\n",
    "singlyLinkedList.head.next = node2\n",
    "singlyLinkedList.tail = node2"
   ]
  },
  {
   "cell_type": "markdown",
   "id": "45dbdd2b",
   "metadata": {},
   "source": [
    "# Insertion to linked list in Memory"
   ]
  },
  {
   "cell_type": "code",
   "execution_count": null,
   "id": "dbf9e48f",
   "metadata": {},
   "outputs": [],
   "source": [
    "# insertion in beginning\n",
    "class Node:\n",
    "    def __init__(self, value=None):\n",
    "        self.value = value\n",
    "        self.next = None\n",
    "\n",
    "class SLinkedList:\n",
    "    def __init__(self):\n",
    "        self.head = None\n",
    "        self.tail = None\n",
    "    def __iter__(self):\n",
    "        node = self.head\n",
    "        while node:\n",
    "            yield node\n",
    "            node = node.next\n",
    "    def insertSLL(self, value, location):\n",
    "        newNode = Node(value)\n",
    "        if self.head is None:\n",
    "            self.head = newNode\n",
    "            self.tail = newNode\n",
    "        else:\n",
    "            if location == 0:\n",
    "                newNode.next = self.head\n",
    "                self.head = newNode\n",
    "            elif location == 1:\n",
    "                newNode.next = None\n",
    "                self.tail.next = newNode\n",
    "                self.tail = newNode\n",
    "            else:\n",
    "                tempNode = self.head\n",
    "                index = 0\n",
    "                while index < location - 1:\n",
    "                    tempNode = tempNode.next\n",
    "                    index +=1\n",
    "                nextNode = tempNode.next\n",
    "                tempNode.next = newNode\n",
    "                newNode.next = nextNode\n",
    "                \n",
    "singlyLinkedList = SLinkedList()\n",
    "                \n",
    "singlyLinkedList.insertSLL(1,1)\n",
    "                \n",
    "singlyLinkedList.insertSLL(2,1)\n",
    "singlyLinkedList.insertSLL(3,1)\n",
    "singlyLinkedList.insertSLL(4,1)\n",
    "\n",
    "singlyLinkedList.insertSLL(0,0)\n",
    "singlyLinkedList.insertSLL(0,3)\n",
    "print([node.value for node in singlyLinkedList])\n",
    "                \n",
    "                \n",
    "                \n",
    "                \n",
    "                \n",
    "                \n",
    "                \n",
    "                "
   ]
  },
  {
   "cell_type": "markdown",
   "id": "5c75bb5a",
   "metadata": {},
   "source": [
    "# sum of digits"
   ]
  },
  {
   "cell_type": "code",
   "execution_count": null,
   "id": "f54f30ad",
   "metadata": {},
   "outputs": [],
   "source": [
    "Sum = 0\n",
    "num = 78728\n",
    "Num = num\n",
    "while num >0:\n",
    "   \n",
    "    rem = num %10\n",
    "    Sum+=rem\n",
    "    num = num //10\n",
    "print(Sum)\n",
    "print(Num)\n",
    "\n"
   ]
  },
  {
   "cell_type": "code",
   "execution_count": null,
   "id": "1e95fdac",
   "metadata": {},
   "outputs": [],
   "source": [
    " def sumofdigit(num):\n",
    "    S = 0\n",
    "    for i in str(num):\n",
    "        S += int(i)\n",
    "    return S\n",
    "print(sumofdigit(123))"
   ]
  },
  {
   "cell_type": "code",
   "execution_count": null,
   "id": "9e96632d",
   "metadata": {},
   "outputs": [],
   "source": [
    "def dectobin(num):\n",
    "    if num <0:\n",
    "        return num\n",
    "    elif num >0:\n",
    "        return\n",
    "    "
   ]
  },
  {
   "cell_type": "code",
   "execution_count": null,
   "id": "bd265504",
   "metadata": {},
   "outputs": [],
   "source": [
    "lst = []\n",
    "def prime(num):\n",
    "    for i in range(1,num):\n",
    "        if num % i == 0:\n",
    "            lst.append(i)\n",
    "(prime(100))\n",
    "print(lst)\n",
    "            \n",
    "\n",
    "    "
   ]
  },
  {
   "cell_type": "code",
   "execution_count": null,
   "id": "c0a8e335",
   "metadata": {},
   "outputs": [],
   "source": [
    "def fact(num):\n",
    "    if num == 0:\n",
    "        return 1 \n",
    "    elif num <=-1 or num >=1:\n",
    "        return num* fact(num-1)\n",
    "    else:\n",
    "        return \" wrong input\"\n",
    "print(fact(-5))\n",
    "        \n"
   ]
  },
  {
   "cell_type": "code",
   "execution_count": null,
   "id": "0a1889f5",
   "metadata": {},
   "outputs": [],
   "source": [
    "def decbin(num):\n",
    "    if num ==0:\n",
    "        return 0\n",
    "    else: \n",
    "        return (num % 2) + 10*decbin(num // 2)\n",
    "decbin(5)"
   ]
  },
  {
   "cell_type": "markdown",
   "id": "87bc6b3e",
   "metadata": {},
   "source": [
    "# Binary to Decimal"
   ]
  },
  {
   "cell_type": "code",
   "execution_count": null,
   "id": "c6536138",
   "metadata": {},
   "outputs": [],
   "source": [
    "def bindec(num):\n",
    "    \n",
    "    if num ==1:\n",
    "        return 1\n",
    "    elif num == 0:\n",
    "        return 0\n",
    "    else:\n",
    "        Sum = 0\n",
    "        num_str=str(num)\n",
    "        rev = str(num_str[-1::-1])\n",
    "        for i in range((len(rev))):\n",
    "            #s += (2**int(i))*(int(rev[i]))\n",
    "            Sum += (2**int(i))*(int(rev[i]))\n",
    "        print(Sum)\n",
    "            #print((2**int(i))*(int(rev[i])) )\n",
    "            \n",
    "(bindec(10000))\n",
    "            \n",
    "            \n",
    "            \n",
    "            "
   ]
  },
  {
   "cell_type": "code",
   "execution_count": null,
   "id": "c20f12b2",
   "metadata": {},
   "outputs": [],
   "source": [
    "def Array(arr):\n",
    "    T = 1\n",
    "    for i in range(len(arr)):\n",
    "        T = T* arr[i]\n",
    "    return T\n",
    "    \n",
    "    \n",
    "    \n",
    "    \n",
    "print(Array([1,2,3]))"
   ]
  },
  {
   "cell_type": "code",
   "execution_count": null,
   "id": "d2781c61",
   "metadata": {},
   "outputs": [],
   "source": [
    "a= [1,2,3,4,5,6]\n",
    "T = 1\n",
    "for i in range(len(a)):\n",
    "    T  *=  a[i]\n",
    "print(T)\n",
    "    "
   ]
  },
  {
   "cell_type": "code",
   "execution_count": null,
   "id": "bed57da7",
   "metadata": {},
   "outputs": [],
   "source": [
    "x = str(14566)\n",
    "y = x[-1::-1]\n",
    "print(x)\n",
    "print(y)"
   ]
  },
  {
   "cell_type": "code",
   "execution_count": 6,
   "id": "7f374259",
   "metadata": {},
   "outputs": [
    {
     "name": "stdout",
     "output_type": "stream",
     "text": [
      "nohtyp\n"
     ]
    }
   ],
   "source": [
    "\n",
    "def reverse(strng):\n",
    "\n",
    "    for i in strng:\n",
    "        return strng[-1::-1]\n",
    "print(reverse(\"python\"))"
   ]
  },
  {
   "cell_type": "code",
   "execution_count": 10,
   "id": "845a55fd",
   "metadata": {},
   "outputs": [
    {
     "name": "stdout",
     "output_type": "stream",
     "text": [
      "125248\n"
     ]
    }
   ],
   "source": [
    "def rev(s):\n",
    "    for i in s:\n",
    "        return s[-1::-1]\n",
    "print(rev('842521'))"
   ]
  },
  {
   "cell_type": "code",
   "execution_count": null,
   "id": "e1bce116",
   "metadata": {},
   "outputs": [],
   "source": [
    "def isPalindrome(strng):\n",
    "    if strng == strng[-1::-1]:\n",
    "        return True\n",
    "    return False\n",
    "isPalindrome(\"aramara\")"
   ]
  },
  {
   "cell_type": "code",
   "execution_count": 15,
   "id": "f620046c",
   "metadata": {},
   "outputs": [
    {
     "name": "stdout",
     "output_type": "stream",
     "text": [
      "input: 452\n",
      "False\n"
     ]
    }
   ],
   "source": [
    "def pal(chek):\n",
    "    if chek == chek[-1::-1]:\n",
    "        return \"True\"\n",
    "    \n",
    "    return \"False\"\n",
    "    \n",
    "    \n",
    "inp = int(input(\"input: \" ))\n",
    "Str= str(inp)\n",
    "print(pal(Str))"
   ]
  },
  {
   "cell_type": "markdown",
   "id": "22f513b6",
   "metadata": {},
   "source": [
    "# find maximum number from array"
   ]
  },
  {
   "cell_type": "code",
   "execution_count": null,
   "id": "da78b705",
   "metadata": {},
   "outputs": [],
   "source": [
    "def maxarray(array):\n",
    "    Max=array[0]\n",
    "    for i in range(0,len(array)):\n",
    "        if Max < array[i]:\n",
    "            temp = array[i] \n",
    "            array[i] = Max\n",
    "            Max = temp\n",
    "    return Max;\n",
    "            \n",
    "    \n",
    "    \n",
    "array=[48,58,78,7,784,1,0,102]\n",
    "print(maxarray(array))"
   ]
  },
  {
   "cell_type": "code",
   "execution_count": 16,
   "id": "f478f460",
   "metadata": {},
   "outputs": [
    {
     "name": "stdout",
     "output_type": "stream",
     "text": [
      "Max:  85\n"
     ]
    }
   ],
   "source": [
    "def Max(array):\n",
    "    M= max(array)\n",
    "    print(\"Max: \",M)\n",
    "array = [14,54,85,69]\n",
    "Max(array)"
   ]
  },
  {
   "cell_type": "code",
   "execution_count": null,
   "id": "2e7a8d5d",
   "metadata": {},
   "outputs": [],
   "source": [
    "x = 10\n",
    "y = 5\n",
    "temp = x\n",
    "x = y\n",
    "y = temp\n",
    "print(\"x: \",x,\" y; \", y)"
   ]
  },
  {
   "cell_type": "code",
   "execution_count": 20,
   "id": "a526730c",
   "metadata": {},
   "outputs": [
    {
     "name": "stdout",
     "output_type": "stream",
     "text": [
      "78\n"
     ]
    }
   ],
   "source": [
    "a= [48,58,78,7]\n",
    "b = len(a)\n",
    "print(a[b-2])"
   ]
  },
  {
   "cell_type": "code",
   "execution_count": 5,
   "id": "1644072c",
   "metadata": {},
   "outputs": [
    {
     "name": "stdout",
     "output_type": "stream",
     "text": [
      "78\n"
     ]
    }
   ],
   "source": [
    "def MaxRec(arr,Len):\n",
    "    if Len == 1:\n",
    "        return arr[0]\n",
    "    else:\n",
    "        #max(arr[Len -1],MaxRec(arr,Len-1))\n",
    "         return max(arr[Len -1],MaxRec(arr,Len-1))\n",
    "\n",
    "arr= [48,58,78,7]\n",
    "Len= len(arr)\n",
    "print(MaxRec(arr,Len)) "
   ]
  },
  {
   "cell_type": "code",
   "execution_count": 2,
   "id": "4d86e7d7",
   "metadata": {},
   "outputs": [
    {
     "name": "stdout",
     "output_type": "stream",
     "text": [
      "78\n"
     ]
    }
   ],
   "source": [
    "def rec(array,l):\n",
    "    \"\"\"\n",
    "    if l==1:\n",
    "        return array[0]\n",
    "    else: \"\"\"\n",
    "    Max = array[0]\n",
    "    for i in range(1,len(array)):\n",
    "        \n",
    "        if Max < array[i]:\n",
    "            temp = array[i]\n",
    "            array[i] = Max\n",
    "            Max = temp\n",
    "    return Max\n",
    "\n",
    "\n",
    "array = [12,4,56,78,11]\n",
    "l = len(array)\n",
    "print(rec(array,l))"
   ]
  },
  {
   "cell_type": "code",
   "execution_count": 3,
   "id": "a20e626d",
   "metadata": {},
   "outputs": [
    {
     "data": {
      "text/plain": [
       "False"
      ]
     },
     "execution_count": 3,
     "metadata": {},
     "output_type": "execute_result"
    }
   ],
   "source": [
    "someRecursive([1,2,3,4], isOdd) # true\n",
    "someRecursive([4,6,8,9], isOdd) # true\n",
    "someRecursive([4,6,8], isOdd) # false"
   ]
  },
  {
   "cell_type": "code",
   "execution_count": 4,
   "id": "bb554292",
   "metadata": {},
   "outputs": [
    {
     "name": "stdout",
     "output_type": "stream",
     "text": [
      "False\n"
     ]
    }
   ],
   "source": [
    "def checkodd(array):\n",
    "    for i in array:\n",
    "        if array[i] % 2 ==0:\n",
    "            return False\n",
    "        else:\n",
    "            return True\n",
    "\n",
    "array = [1,2,3,4]        \n",
    "print(checkodd(array))"
   ]
  },
  {
   "cell_type": "code",
   "execution_count": 21,
   "id": "1fbc1503",
   "metadata": {},
   "outputs": [
    {
     "ename": "NameError",
     "evalue": "name 'cb' is not defined",
     "output_type": "error",
     "traceback": [
      "\u001b[1;31m---------------------------------------------------------------------------\u001b[0m",
      "\u001b[1;31mNameError\u001b[0m                                 Traceback (most recent call last)",
      "\u001b[1;32m~\\AppData\\Local\\Temp/ipykernel_6096/2083819432.py\u001b[0m in \u001b[0;36m<module>\u001b[1;34m\u001b[0m\n\u001b[0;32m     12\u001b[0m         \u001b[1;32mreturn\u001b[0m \u001b[1;32mTrue\u001b[0m\u001b[1;33m\u001b[0m\u001b[1;33m\u001b[0m\u001b[0m\n\u001b[0;32m     13\u001b[0m \u001b[0marr\u001b[0m \u001b[1;33m=\u001b[0m \u001b[1;33m[\u001b[0m\u001b[1;36m1\u001b[0m\u001b[1;33m,\u001b[0m\u001b[1;36m2\u001b[0m\u001b[1;33m,\u001b[0m\u001b[1;36m3\u001b[0m\u001b[1;33m,\u001b[0m\u001b[1;36m4\u001b[0m\u001b[1;33m]\u001b[0m\u001b[1;33m\u001b[0m\u001b[1;33m\u001b[0m\u001b[0m\n\u001b[1;32m---> 14\u001b[1;33m \u001b[0mprint\u001b[0m\u001b[1;33m(\u001b[0m\u001b[0msomeRecursive\u001b[0m\u001b[1;33m(\u001b[0m\u001b[0marr\u001b[0m\u001b[1;33m,\u001b[0m\u001b[0mcb\u001b[0m\u001b[1;33m)\u001b[0m\u001b[1;33m)\u001b[0m\u001b[1;33m\u001b[0m\u001b[1;33m\u001b[0m\u001b[0m\n\u001b[0m",
      "\u001b[1;31mNameError\u001b[0m: name 'cb' is not defined"
     ]
    }
   ],
   "source": [
    "def someRecursive(arr, cb):\n",
    "    if len(arr) == 0:\n",
    "        return False\n",
    "    if not(cb(arr[0])):\n",
    "        return someRecursive(arr[1:], cb)\n",
    "    return True\n",
    "\n",
    "def isOdd(num):\n",
    "    if num%2==0:\n",
    "        return False\n",
    "    else:\n",
    "        return True\n",
    "arr = [1,2,3,4]\n",
    "print(someRecursive(arr,cb))"
   ]
  },
  {
   "cell_type": "markdown",
   "id": "7f4995b7",
   "metadata": {},
   "source": [
    "# lec 27"
   ]
  },
  {
   "cell_type": "code",
   "execution_count": 22,
   "id": "8d428267",
   "metadata": {},
   "outputs": [],
   "source": [
    "import array"
   ]
  },
  {
   "cell_type": "code",
   "execution_count": 23,
   "id": "176efd1b",
   "metadata": {},
   "outputs": [
    {
     "name": "stdout",
     "output_type": "stream",
     "text": [
      "array('i')\n"
     ]
    }
   ],
   "source": [
    "ar = array.array('i')\n",
    "print(ar)"
   ]
  },
  {
   "cell_type": "code",
   "execution_count": 27,
   "id": "ba4bfc30",
   "metadata": {},
   "outputs": [
    {
     "name": "stdout",
     "output_type": "stream",
     "text": [
      "array('i', [1, 2, 3])\n"
     ]
    }
   ],
   "source": [
    "ar = array.array('i',[1,2,3]) # i means only integer can store\n",
    "print(ar)                      # otherwise throw error"
   ]
  },
  {
   "cell_type": "code",
   "execution_count": 28,
   "id": "bb18ef1a",
   "metadata": {},
   "outputs": [],
   "source": [
    "import numpy as np"
   ]
  },
  {
   "cell_type": "code",
   "execution_count": 32,
   "id": "83fe80ea",
   "metadata": {},
   "outputs": [
    {
     "name": "stdout",
     "output_type": "stream",
     "text": [
      "[]\n",
      "array('i')\n"
     ]
    }
   ],
   "source": [
    "ar = np.array([])  # there are no memory allocated becuase it's empty\n",
    "print(ar)\n",
    "\n",
    "ar = array.array('i')\n",
    "print(ar)\n",
    "\n",
    "# . Time complexity and  space complexity of empty array and numpy ,both O(1)\n",
    "#  because we can store any number of data in array and numpy"
   ]
  },
  {
   "cell_type": "code",
   "execution_count": 31,
   "id": "4edfdca2",
   "metadata": {},
   "outputs": [
    {
     "name": "stdout",
     "output_type": "stream",
     "text": [
      "[1 2 5]\n"
     ]
    }
   ],
   "source": [
    "ar = np.array([1,2,5])\n",
    "print(ar)"
   ]
  },
  {
   "cell_type": "code",
   "execution_count": null,
   "id": "38ec1c3c",
   "metadata": {},
   "outputs": [],
   "source": [
    " \"\"\"Time complexity and  space complexity both O(n) because we can store any number of data \n",
    "  in array and numpy\"\"\""
   ]
  },
  {
   "cell_type": "code",
   "execution_count": 1,
   "id": "17a30735",
   "metadata": {},
   "outputs": [
    {
     "ename": "NameError",
     "evalue": "name 'array' is not defined",
     "output_type": "error",
     "traceback": [
      "\u001b[1;31m---------------------------------------------------------------------------\u001b[0m",
      "\u001b[1;31mNameError\u001b[0m                                 Traceback (most recent call last)",
      "\u001b[1;32m~\\AppData\\Local\\Temp/ipykernel_14256/1788742488.py\u001b[0m in \u001b[0;36m<module>\u001b[1;34m\u001b[0m\n\u001b[1;32m----> 1\u001b[1;33m \u001b[0mar\u001b[0m \u001b[1;33m=\u001b[0m \u001b[0marray\u001b[0m\u001b[1;33m.\u001b[0m\u001b[0marray\u001b[0m\u001b[1;33m(\u001b[0m\u001b[1;34m'i'\u001b[0m\u001b[1;33m,\u001b[0m\u001b[1;33m[\u001b[0m\u001b[1;36m1\u001b[0m\u001b[1;33m,\u001b[0m\u001b[1;36m2\u001b[0m\u001b[1;33m,\u001b[0m\u001b[1;36m5\u001b[0m\u001b[1;33m]\u001b[0m\u001b[1;33m)\u001b[0m\u001b[1;33m\u001b[0m\u001b[1;33m\u001b[0m\u001b[0m\n\u001b[0m\u001b[0;32m      2\u001b[0m \u001b[0mprint\u001b[0m\u001b[1;33m(\u001b[0m\u001b[0mar\u001b[0m\u001b[1;33m)\u001b[0m\u001b[1;33m\u001b[0m\u001b[1;33m\u001b[0m\u001b[0m\n",
      "\u001b[1;31mNameError\u001b[0m: name 'array' is not defined"
     ]
    }
   ],
   "source": [
    "ar = array.array('i',[1,2,5])\n",
    "print(ar)"
   ]
  },
  {
   "cell_type": "code",
   "execution_count": 4,
   "id": "8ead81c8",
   "metadata": {},
   "outputs": [
    {
     "name": "stdout",
     "output_type": "stream",
     "text": [
      "array('i', [1, 2, 4, 5, 6])\n"
     ]
    }
   ],
   "source": [
    "from array import *\n",
    "\n",
    "arr1= array('i',[1,2,3,4,5,6])\n",
    "arr1.remove(3)\n",
    "print(arr1)"
   ]
  },
  {
   "cell_type": "code",
   "execution_count": 8,
   "id": "10ff75d7",
   "metadata": {},
   "outputs": [
    {
     "name": "stdout",
     "output_type": "stream",
     "text": [
      "at index: 3 is 4\n"
     ]
    }
   ],
   "source": [
    "arr1= array('i',[1,2,3,4,5,6])\n",
    "index = 3\n",
    "def indexing(arr,index):\n",
    "    return arr[index]\n",
    "print(\"at index:\",index,\"is\",indexing(arr1,index))"
   ]
  },
  {
   "cell_type": "code",
   "execution_count": 9,
   "id": "6d11f86d",
   "metadata": {},
   "outputs": [
    {
     "name": "stdout",
     "output_type": "stream",
     "text": [
      "array('i', [1, 2, 3, 4, 5, 6])\n",
      "[1, 2, 3, 4, 5, 6]\n"
     ]
    }
   ],
   "source": [
    "print(arr1)\n",
    "print(arr1.tolist()) # convert into list"
   ]
  },
  {
   "cell_type": "code",
   "execution_count": 16,
   "id": "bc8e496c",
   "metadata": {},
   "outputs": [
    {
     "name": "stdout",
     "output_type": "stream",
     "text": [
      "b'\\x01\\x00\\x00\\x00\\x02\\x00\\x00\\x00\\x03\\x00\\x00\\x00\\x04\\x00\\x00\\x00\\x05\\x00\\x00\\x00\\x06\\x00\\x00\\x00'\n"
     ]
    }
   ],
   "source": [
    "# arr1.tostring()\n",
    "into_Bytes = (arr1.tobytes()) # coverted into bytes\n",
    "print(into_Bytes)"
   ]
  },
  {
   "cell_type": "code",
   "execution_count": 27,
   "id": "daa34c53",
   "metadata": {},
   "outputs": [
    {
     "name": "stdout",
     "output_type": "stream",
     "text": [
      "array('i', [1, 2, 3, 4, 5, 6])\n"
     ]
    }
   ],
   "source": [
    "temp = array('i')\n",
    "(temp.frombytes(into_Bytes))   # from bytes to integer\n",
    "print(temp)\n"
   ]
  },
  {
   "cell_type": "code",
   "execution_count": null,
   "id": "52d924d9",
   "metadata": {},
   "outputs": [],
   "source": []
  }
 ],
 "metadata": {
  "kernelspec": {
   "display_name": "Python 3 (ipykernel)",
   "language": "python",
   "name": "python3"
  },
  "language_info": {
   "codemirror_mode": {
    "name": "ipython",
    "version": 3
   },
   "file_extension": ".py",
   "mimetype": "text/x-python",
   "name": "python",
   "nbconvert_exporter": "python",
   "pygments_lexer": "ipython3",
   "version": "3.9.7"
  }
 },
 "nbformat": 4,
 "nbformat_minor": 5
}
