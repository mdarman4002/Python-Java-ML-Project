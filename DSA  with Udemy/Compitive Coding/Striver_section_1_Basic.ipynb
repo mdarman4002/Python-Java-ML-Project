{
 "cells": [
  {
   "cell_type": "code",
   "execution_count": null,
   "id": "18358c18",
   "metadata": {},
   "outputs": [],
   "source": [
    "def firstMethod():\n",
    "    #secondMethod()\n",
    "    print(\"I am the first Method\")\n",
    "\n",
    "def secondMethod():\n",
    "    thirdMethod()\n",
    "    print(\"I am the second Method\")\n",
    "\n",
    "\n",
    "def thirdMethod():\n",
    "    fourthMethod()\n",
    "    print(\"I am the third Method\")\n",
    "\n",
    "def fourthMethod():\n",
    "    thirdMethod()\n",
    "    print(\"I am the fourth Method\")\n",
    "\n",
    "#thirdMethod()\n",
    "#print(\"------------\")\n",
    "#secondMethod()\n",
    "fourthMethod()"
   ]
  },
  {
   "cell_type": "code",
   "execution_count": 6,
   "id": "602f7613",
   "metadata": {},
   "outputs": [
    {
     "name": "stdout",
     "output_type": "stream",
     "text": [
      "Character\n",
      "1\n"
     ]
    }
   ],
   "source": [
    "from typing import *\n",
    "\n",
    "def dataTypes(type: str):\n",
    "    if type==\"Integer\" or type==\"Float\":\n",
    "        print('4')\n",
    "    elif type =='Long' or type == 'Double':\n",
    "        print(\"8\")\n",
    "    elif type=='Character':\n",
    "        print(\"1\")\n",
    "type=input()\n",
    "dataTypes(type)"
   ]
  },
  {
   "cell_type": "code",
   "execution_count": 11,
   "id": "cec66a4c",
   "metadata": {},
   "outputs": [
    {
     "name": "stdout",
     "output_type": "stream",
     "text": [
      "4 4\n",
      "equal\n"
     ]
    }
   ],
   "source": [
    "from typing import *\n",
    "\n",
    "def compareIfElse(a: int, b: int):\n",
    "    if a> b:\n",
    "        print(\"greater\")\n",
    "    elif a<b:\n",
    "        print(\"smaller\")\n",
    "    elif a==b:\n",
    "        print(\"equal\")\n",
    "    \n",
    "    \n",
    "\n",
    "a,b = (input().split(\" \"))\n",
    "\n",
    "compareIfElse(a,b)"
   ]
  },
  {
   "cell_type": "code",
   "execution_count": 42,
   "id": "b2eb6936",
   "metadata": {},
   "outputs": [
    {
     "name": "stdout",
     "output_type": "stream",
     "text": [
      "1\n",
      "12\n",
      "452.16\n"
     ]
    }
   ],
   "source": [
    "from typing import *\n",
    "\n",
    "def areaSwitchCase(ch: int,  lst):\n",
    "    if ch==1:\n",
    "        ar = 3.14*r**2\n",
    "        #area = format(ar,\".8f\")\n",
    "        area = round(ar,5)\n",
    "        print(area)\n",
    "    elif ch==2:\n",
    "        print(l*b)\n",
    "\n",
    "ch = int(input())\n",
    "if ch == 1:\n",
    "    r=float(input())\n",
    "    areaSwitchCase(ch,[r])\n",
    "elif ch == 2:\n",
    "    l,b = map(int,input().split())\n",
    "    areaSwitchCase(ch,[l,b]) \n"
   ]
  },
  {
   "cell_type": "code",
   "execution_count": 30,
   "id": "8ba084c8",
   "metadata": {},
   "outputs": [
    {
     "name": "stdout",
     "output_type": "stream",
     "text": [
      "3.141592653589793\n"
     ]
    }
   ],
   "source": [
    "print(math.pi)"
   ]
  },
  {
   "cell_type": "code",
   "execution_count": 40,
   "id": "0d290c53",
   "metadata": {},
   "outputs": [
    {
     "name": "stdout",
     "output_type": "stream",
     "text": [
      "3.14\n"
     ]
    }
   ],
   "source": [
    "a = 3.141592653589793\n",
    "print(round(a,2))"
   ]
  },
  {
   "cell_type": "code",
   "execution_count": 45,
   "id": "22bc690c",
   "metadata": {},
   "outputs": [
    {
     "name": "stdout",
     "output_type": "stream",
     "text": [
      "2,5\n"
     ]
    },
    {
     "ename": "ValueError",
     "evalue": "invalid literal for int() with base 10: '2,5'",
     "output_type": "error",
     "traceback": [
      "\u001b[1;31m---------------------------------------------------------------------------\u001b[0m",
      "\u001b[1;31mValueError\u001b[0m                                Traceback (most recent call last)",
      "\u001b[1;32m~\\AppData\\Local\\Temp/ipykernel_14032/1516743699.py\u001b[0m in \u001b[0;36m<module>\u001b[1;34m\u001b[0m\n\u001b[1;32m----> 1\u001b[1;33m \u001b[0mx\u001b[0m\u001b[1;33m,\u001b[0m\u001b[0my\u001b[0m \u001b[1;33m=\u001b[0m \u001b[1;33m[\u001b[0m\u001b[0mint\u001b[0m\u001b[1;33m(\u001b[0m\u001b[0mx\u001b[0m\u001b[1;33m)\u001b[0m \u001b[1;32mfor\u001b[0m  \u001b[0mx\u001b[0m \u001b[1;32min\u001b[0m \u001b[0minput\u001b[0m\u001b[1;33m(\u001b[0m\u001b[1;33m)\u001b[0m\u001b[1;33m.\u001b[0m\u001b[0msplit\u001b[0m\u001b[1;33m(\u001b[0m\u001b[1;33m)\u001b[0m\u001b[1;33m]\u001b[0m\u001b[1;33m\u001b[0m\u001b[1;33m\u001b[0m\u001b[0m\n\u001b[0m",
      "\u001b[1;32m~\\AppData\\Local\\Temp/ipykernel_14032/1516743699.py\u001b[0m in \u001b[0;36m<listcomp>\u001b[1;34m(.0)\u001b[0m\n\u001b[1;32m----> 1\u001b[1;33m \u001b[0mx\u001b[0m\u001b[1;33m,\u001b[0m\u001b[0my\u001b[0m \u001b[1;33m=\u001b[0m \u001b[1;33m[\u001b[0m\u001b[0mint\u001b[0m\u001b[1;33m(\u001b[0m\u001b[0mx\u001b[0m\u001b[1;33m)\u001b[0m \u001b[1;32mfor\u001b[0m  \u001b[0mx\u001b[0m \u001b[1;32min\u001b[0m \u001b[0minput\u001b[0m\u001b[1;33m(\u001b[0m\u001b[1;33m)\u001b[0m\u001b[1;33m.\u001b[0m\u001b[0msplit\u001b[0m\u001b[1;33m(\u001b[0m\u001b[1;33m)\u001b[0m\u001b[1;33m]\u001b[0m\u001b[1;33m\u001b[0m\u001b[1;33m\u001b[0m\u001b[0m\n\u001b[0m",
      "\u001b[1;31mValueError\u001b[0m: invalid literal for int() with base 10: '2,5'"
     ]
    }
   ],
   "source": [
    "x,y = [int(x) for  x in input().split()]"
   ]
  },
  {
   "cell_type": "code",
   "execution_count": null,
   "id": "cdabbb2b",
   "metadata": {},
   "outputs": [],
   "source": []
  },
  {
   "cell_type": "code",
   "execution_count": null,
   "id": "93b33d3c",
   "metadata": {},
   "outputs": [],
   "source": []
  },
  {
   "cell_type": "code",
   "execution_count": null,
   "id": "fc0c1bc1",
   "metadata": {},
   "outputs": [],
   "source": []
  },
  {
   "cell_type": "code",
   "execution_count": null,
   "id": "b0153a0f",
   "metadata": {},
   "outputs": [],
   "source": []
  },
  {
   "cell_type": "code",
   "execution_count": null,
   "id": "bdef0767",
   "metadata": {},
   "outputs": [],
   "source": []
  },
  {
   "cell_type": "code",
   "execution_count": null,
   "id": "c69e457a",
   "metadata": {},
   "outputs": [],
   "source": []
  },
  {
   "cell_type": "code",
   "execution_count": null,
   "id": "c34c4987",
   "metadata": {},
   "outputs": [],
   "source": []
  }
 ],
 "metadata": {
  "kernelspec": {
   "display_name": "Python 3 (ipykernel)",
   "language": "python",
   "name": "python3"
  },
  "language_info": {
   "codemirror_mode": {
    "name": "ipython",
    "version": 3
   },
   "file_extension": ".py",
   "mimetype": "text/x-python",
   "name": "python",
   "nbconvert_exporter": "python",
   "pygments_lexer": "ipython3",
   "version": "3.9.7"
  }
 },
 "nbformat": 4,
 "nbformat_minor": 5
}
