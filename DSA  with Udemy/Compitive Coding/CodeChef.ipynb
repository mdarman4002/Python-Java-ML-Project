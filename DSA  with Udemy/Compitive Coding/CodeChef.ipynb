{
 "cells": [
  {
   "cell_type": "markdown",
   "id": "4bee5f93",
   "metadata": {},
   "source": [
    "# codechef take input which is less"
   ]
  },
  {
   "cell_type": "code",
   "execution_count": 1,
   "id": "7c987847",
   "metadata": {},
   "outputs": [
    {
     "name": "stdout",
     "output_type": "stream",
     "text": [
      "Enter range: 2\n",
      "Enter two charges : 4 4\n",
      "ANY\n",
      "Enter two charges : 8 4\n",
      "SECOND\n"
     ]
    }
   ],
   "source": [
    "Range = int(input(\"Enter range: \"))\n",
    "for i in range(Range):\n",
    "    r1, r2 = map(int,input(\"Enter two charges : \").split(\" \"))\n",
    "    if r1 > r2:\n",
    "        print(\"SECOND\")\n",
    "    elif r2 > r1:\n",
    "        print(\"FIRST\")\n",
    "    else:\n",
    "        print(\"ANY\")\n",
    "        \n",
    "range_ = int(input())\n",
    "\n"
   ]
  },
  {
   "cell_type": "code",
   "execution_count": null,
   "id": "8159faf5",
   "metadata": {},
   "outputs": [],
   "source": [
    "Range = int(input())\n",
    "i = 0\n",
    "while i < Range:\n",
    "    i= i+1\n",
    "    input_1 = input()\n",
    "    input_2 = input_1.split(\" \")\n",
    "    if int(input_1[0]) < int(input_2[1]):\n",
    "        print(\"FIRST IS LESS\")\n",
    "    elif int(input_1[0] > int(input_2[1])):\n",
    "        print(\"SECOND IS LESS\")\n",
    "    else:\n",
    "        print(\"TAKE ANY\")\n",
    "        \n",
    " "
   ]
  },
  {
   "cell_type": "markdown",
   "id": "d96b0bf2",
   "metadata": {},
   "source": [
    "# who is faster in race"
   ]
  },
  {
   "cell_type": "code",
   "execution_count": null,
   "id": "4bf4ba7c",
   "metadata": {},
   "outputs": [],
   "source": [
    "Range = int(input(\"Enter range: \"))\n",
    "for i in range(Range):\n",
    "    r1, r2, r3, r4 = map(int,input(\"Enter 4 input(distance and hrs): \").split())\n",
    "    Alice = r1 /r2\n",
    "    Bob = r3/r4\n",
    "    if Alice > Bob:\n",
    "        print(\"Alice\")\n",
    "    elif Alice < Bob:\n",
    "        print(\"Bob\")\n",
    "    else:\n",
    "        print(\"Equal\")\n",
    "\n"
   ]
  },
  {
   "cell_type": "markdown",
   "id": "9d20c58f",
   "metadata": {},
   "source": [
    "# Chef has a rectangular plate of length N cmNcm and width M cmMcm. He wants to make a wireframe around the plate. The wireframe costs XX rupees per cm.Determine the cost Chef needs to incur to buy the wireframe.\n",
    "3                     \n",
    "10 10 10\n",
    "23 3 12\n",
    "1000 1000 1000\n",
    "\n",
    "400\n",
    "624\n",
    "4000000\n"
   ]
  },
  {
   "cell_type": "code",
   "execution_count": null,
   "id": "465bf1e2",
   "metadata": {},
   "outputs": [],
   "source": [
    "Range = int(input())\n",
    "for i in range(Range):\n",
    "    l_1, l_2, cost = map(int,input(\"Enter 3 input: \").split())\n",
    "    total = (2*l_1 + 2*l_2) * cost\n",
    "    print(total)\n",
    "    "
   ]
  },
  {
   "cell_type": "code",
   "execution_count": null,
   "id": "00602859",
   "metadata": {},
   "outputs": [],
   "source": [
    "\n",
    "lis=[]\n",
    "t=int(input())\n",
    "while t>0:\n",
    "    n=int(input())\n",
    "    lis.append(n)\n",
    "    t-=1\n",
    "lis.sort()\n",
    "for i in range(0,len(lis)):\n",
    "    print(lis[i])\n"
   ]
  },
  {
   "cell_type": "code",
   "execution_count": null,
   "id": "3ebb63ce",
   "metadata": {},
   "outputs": [],
   "source": [
    "Range = int(input())\n",
    "for i in range(Range):\n",
    "    num_1, num_2 = map(int,input().split())\n",
    "    total = (num_1 * num_2)\n",
    "    print(total)"
   ]
  },
  {
   "cell_type": "code",
   "execution_count": null,
   "id": "e4258227",
   "metadata": {},
   "outputs": [],
   "source": [
    "\"\"\"\n",
    "3\n",
    "4\n",
    "20 22 19 84    # sum of all numbers in last if 3 then yes otherwise no\n",
    "4\n",
    "1 9 8 4\n",
    "5\n",
    "12 34 56 78 90\n",
    "YES\n",
    "YES\n",
    "NO\n",
    "\"\"\"\n",
    "\n",
    "\n",
    "\n",
    "Range = int(input())\n",
    "for i in range(Range):\n",
    "    Input_range = int(input())\n",
    "    for j in range(Input_range):\n",
    "        Input_value = int(input().split())\n",
    "        "
   ]
  },
  {
   "cell_type": "code",
   "execution_count": null,
   "id": "27ee555a",
   "metadata": {},
   "outputs": [],
   "source": [
    "total, submission,unsolve = map(int,input().split())\n",
    "f_output = total - submission\n",
    "s_output = f_output - unsolve\n",
    "print(f_output,s_output)"
   ]
  },
  {
   "cell_type": "code",
   "execution_count": null,
   "id": "964baaa3",
   "metadata": {},
   "outputs": [],
   "source": [
    "Range = int(input())\n",
    "for i in range(Range):\n",
    "    f, s = map(int,input().split())\n",
    "    if f >= s:\n",
    "        print(f)\n",
    "    else:\n",
    "        print(s)"
   ]
  },
  {
   "cell_type": "markdown",
   "id": "ce0c4c13",
   "metadata": {},
   "source": [
    "# There are NN cards on a table, out of which XX cards are face-up and the remaining are face-down.\n",
    "\n",
    "In one operation, we can do the following:"
   ]
  },
  {
   "cell_type": "code",
   "execution_count": null,
   "id": "bb29ec50",
   "metadata": {},
   "outputs": [],
   "source": [
    "Range = int(input())\n",
    "for i in range(Range):\n",
    "    x,y =  map(int,input().split())\n",
    "    if x == y:\n",
    "        print(x-y)\n",
    "    elif x > y:\n",
    "        print(y)\n",
    "    else:\n",
    "        print(x)\n",
    "    "
   ]
  },
  {
   "cell_type": "code",
   "execution_count": null,
   "id": "68bc11d3",
   "metadata": {},
   "outputs": [],
   "source": [
    "min(5,2)"
   ]
  },
  {
   "cell_type": "code",
   "execution_count": null,
   "id": "a6a41c85",
   "metadata": {},
   "outputs": [],
   "source": [
    "Range = int(input())\n",
    "for i in range(Range):\n",
    "    inp = int(input())\n",
    "    output = inp//25\n",
    "    f_output = output + 1\n",
    "    print(f_output)\n",
    "        "
   ]
  },
  {
   "cell_type": "code",
   "execution_count": null,
   "id": "9a808cb7",
   "metadata": {},
   "outputs": [],
   "source": [
    "print(int(1 / 25) + (1% 25 > 0))\n"
   ]
  },
  {
   "cell_type": "code",
   "execution_count": null,
   "id": "c0405869",
   "metadata": {},
   "outputs": [],
   "source": [
    "Range = int(input())\n",
    "for i in range(Range):\n",
    "    inp = int(input())\n",
    "    # output = inp//25\n",
    "    # f_output = output + 1\n",
    "    # print(f_output)\n",
    "    print(int(inp / 25) + (inp % 25 > 0))\n",
    "    \n",
    "    "
   ]
  },
  {
   "cell_type": "code",
   "execution_count": null,
   "id": "ad4a8e29",
   "metadata": {},
   "outputs": [],
   "source": [
    "a, b, c = map(int,input().split())\n",
    "if (a>b and a>c):\n",
    "    print(\"Alice\")\n",
    "elif (b>a and b>c):\n",
    "    print(\"Bob\")\n",
    "else:\n",
    "    print(\"Charlie\")"
   ]
  },
  {
   "cell_type": "code",
   "execution_count": null,
   "id": "901dfef3",
   "metadata": {},
   "outputs": [],
   "source": [
    "Range = int(input())\n",
    "for i in range(Range):\n",
    "    inp = int(input())\n",
    "    output = (inp * 60 )/20\n",
    "    print(int(output))"
   ]
  },
  {
   "cell_type": "code",
   "execution_count": 12,
   "id": "e6d3e4a0",
   "metadata": {},
   "outputs": [
    {
     "name": "stdout",
     "output_type": "stream",
     "text": [
      "2\n",
      "aff\n",
      "sfsf\n"
     ]
    },
    {
     "ename": "TypeError",
     "evalue": "string indices must be integers",
     "output_type": "error",
     "traceback": [
      "\u001b[1;31m---------------------------------------------------------------------------\u001b[0m",
      "\u001b[1;31mTypeError\u001b[0m                                 Traceback (most recent call last)",
      "\u001b[1;32m~\\AppData\\Local\\Temp/ipykernel_13532/881357765.py\u001b[0m in \u001b[0;36m<module>\u001b[1;34m\u001b[0m\n\u001b[0;32m      4\u001b[0m     \u001b[0ms2\u001b[0m \u001b[1;33m=\u001b[0m \u001b[0mstr\u001b[0m\u001b[1;33m(\u001b[0m\u001b[0minput\u001b[0m\u001b[1;33m(\u001b[0m\u001b[1;33m)\u001b[0m\u001b[1;33m)\u001b[0m\u001b[1;33m\u001b[0m\u001b[1;33m\u001b[0m\u001b[0m\n\u001b[0;32m      5\u001b[0m     \u001b[1;32mfor\u001b[0m \u001b[0mj\u001b[0m \u001b[1;32min\u001b[0m \u001b[0ms1\u001b[0m\u001b[1;33m:\u001b[0m\u001b[1;33m\u001b[0m\u001b[1;33m\u001b[0m\u001b[0m\n\u001b[1;32m----> 6\u001b[1;33m         \u001b[1;32mif\u001b[0m \u001b[0mint\u001b[0m\u001b[1;33m(\u001b[0m\u001b[0ms1\u001b[0m\u001b[1;33m[\u001b[0m\u001b[0mj\u001b[0m\u001b[1;33m]\u001b[0m\u001b[1;33m)\u001b[0m \u001b[1;33m==\u001b[0m \u001b[0mint\u001b[0m\u001b[1;33m(\u001b[0m\u001b[0ms2\u001b[0m\u001b[1;33m[\u001b[0m\u001b[0mj\u001b[0m\u001b[1;33m]\u001b[0m\u001b[1;33m)\u001b[0m\u001b[1;33m:\u001b[0m\u001b[1;33m\u001b[0m\u001b[1;33m\u001b[0m\u001b[0m\n\u001b[0m\u001b[0;32m      7\u001b[0m             \u001b[0mprint\u001b[0m\u001b[1;33m(\u001b[0m\u001b[1;34m\"G\"\u001b[0m\u001b[1;33m)\u001b[0m\u001b[1;33m\u001b[0m\u001b[1;33m\u001b[0m\u001b[0m\n\u001b[0;32m      8\u001b[0m         \u001b[1;32melse\u001b[0m\u001b[1;33m:\u001b[0m\u001b[1;33m\u001b[0m\u001b[1;33m\u001b[0m\u001b[0m\n",
      "\u001b[1;31mTypeError\u001b[0m: string indices must be integers"
     ]
    }
   ],
   "source": [
    "Range = int(input())\n",
    "for i in range(Range):\n",
    "    s1 = (input())\n",
    "    s2 = str(input())\n",
    "    for j in s1:\n",
    "        if int(s1[j]) == int(s2[j]):\n",
    "            print(\"G\")\n",
    "        else:\n",
    "            print(\"B\")\n",
    "    \n",
    "    "
   ]
  },
  {
   "cell_type": "code",
   "execution_count": null,
   "id": "643ccdde",
   "metadata": {},
   "outputs": [],
   "source": [
    "ABCDE\n",
    "EDCBA\n",
    "ROUND\n",
    "RINGS\n",
    "START\n",
    "STUNT\n",
    "\n",
    "\n",
    "BBGBB\n",
    "GBBBB\n",
    "GGBBG"
   ]
  },
  {
   "cell_type": "code",
   "execution_count": 11,
   "id": "a35ad788",
   "metadata": {},
   "outputs": [
    {
     "name": "stdout",
     "output_type": "stream",
     "text": [
      "value in list x:  10\n",
      "value in list y:  10\n"
     ]
    }
   ],
   "source": [
    "# x = list(map(int,input(\"Enter some number to keep in list: \").split()))\n",
    "x = 5\n",
    "y =10\n",
    "temp = y\n",
    "x= y\n",
    "#temp = y\n",
    "#x == y\n",
    "print(\"value in list x: \",x)\n",
    "print(\"value in list y: \",y)\n",
    "    "
   ]
  },
  {
   "cell_type": "markdown",
   "id": "69965d58",
   "metadata": {},
   "source": [
    "# swaping with input list"
   ]
  },
  {
   "cell_type": "code",
   "execution_count": 17,
   "id": "4889dd89",
   "metadata": {},
   "outputs": [
    {
     "name": "stdout",
     "output_type": "stream",
     "text": [
      "Enter some numbers: 5 4\n",
      "value in list x:  12\n",
      "value in list y:  [5, 4]\n"
     ]
    }
   ],
   "source": [
    "x = list(map(int,input(\"Enter some numbers: \").split()))\n",
    "y =12\n",
    "temp = x\n",
    "x = y\n",
    "y = temp\n",
    "#temp = y\n",
    "#x == y\n",
    "print(\"value in list x: \",x)\n",
    "print(\"value in list y: \",y)\n",
    "    "
   ]
  },
  {
   "cell_type": "code",
   "execution_count": 21,
   "id": "3ab9ee90",
   "metadata": {},
   "outputs": [
    {
     "name": "stdout",
     "output_type": "stream",
     "text": [
      "2\n",
      "3 3\n"
     ]
    },
    {
     "ename": "ValueError",
     "evalue": "invalid literal for int() with base 10: '3 3'",
     "output_type": "error",
     "traceback": [
      "\u001b[1;31m---------------------------------------------------------------------------\u001b[0m",
      "\u001b[1;31mValueError\u001b[0m                                Traceback (most recent call last)",
      "\u001b[1;32m~\\AppData\\Local\\Temp/ipykernel_6604/2083335433.py\u001b[0m in \u001b[0;36m<module>\u001b[1;34m\u001b[0m\n\u001b[0;32m      1\u001b[0m \u001b[0mRange\u001b[0m \u001b[1;33m=\u001b[0m \u001b[0mint\u001b[0m\u001b[1;33m(\u001b[0m\u001b[0minput\u001b[0m\u001b[1;33m(\u001b[0m\u001b[1;33m)\u001b[0m\u001b[1;33m)\u001b[0m\u001b[1;33m\u001b[0m\u001b[1;33m\u001b[0m\u001b[0m\n\u001b[0;32m      2\u001b[0m \u001b[1;32mfor\u001b[0m \u001b[0mi\u001b[0m \u001b[1;32min\u001b[0m \u001b[0mrange\u001b[0m\u001b[1;33m(\u001b[0m\u001b[0mRange\u001b[0m\u001b[1;33m)\u001b[0m\u001b[1;33m:\u001b[0m\u001b[1;33m\u001b[0m\u001b[1;33m\u001b[0m\u001b[0m\n\u001b[1;32m----> 3\u001b[1;33m     \u001b[0minp_i\u001b[0m \u001b[1;33m=\u001b[0m \u001b[0mint\u001b[0m\u001b[1;33m(\u001b[0m\u001b[0minput\u001b[0m\u001b[1;33m(\u001b[0m\u001b[1;33m)\u001b[0m\u001b[1;33m)\u001b[0m\u001b[1;33m\u001b[0m\u001b[1;33m\u001b[0m\u001b[0m\n\u001b[0m\u001b[0;32m      4\u001b[0m     \u001b[1;32mfor\u001b[0m \u001b[0mj\u001b[0m \u001b[1;32min\u001b[0m \u001b[0mrange\u001b[0m\u001b[1;33m(\u001b[0m\u001b[0minp_i\u001b[0m\u001b[1;33m)\u001b[0m\u001b[1;33m:\u001b[0m\u001b[1;33m\u001b[0m\u001b[1;33m\u001b[0m\u001b[0m\n\u001b[0;32m      5\u001b[0m         \u001b[0minp_j\u001b[0m \u001b[1;33m=\u001b[0m \u001b[0mmap\u001b[0m\u001b[1;33m(\u001b[0m\u001b[0mstr\u001b[0m\u001b[1;33m,\u001b[0m\u001b[0minput\u001b[0m\u001b[1;33m(\u001b[0m\u001b[1;33m)\u001b[0m\u001b[1;33m.\u001b[0m\u001b[0msplit\u001b[0m\u001b[1;33m(\u001b[0m\u001b[1;33m)\u001b[0m\u001b[1;33m)\u001b[0m\u001b[1;33m\u001b[0m\u001b[1;33m\u001b[0m\u001b[0m\n",
      "\u001b[1;31mValueError\u001b[0m: invalid literal for int() with base 10: '3 3'"
     ]
    }
   ],
   "source": [
    "Range = int(input())\n",
    "for i in range(Range):\n",
    "    inp_i = int(input())\n",
    "    for j in range(inp_i):\n",
    "        inp_j = map(str,input().split())\n",
    "        print(int(inp_j))"
   ]
  },
  {
   "cell_type": "code",
   "execution_count": null,
   "id": "5cdce3c4",
   "metadata": {},
   "outputs": [],
   "source": [
    "w1, w2, w3, w4 = map(int,input().split())\n",
    "l=[]\n",
    "l.append(w1)\n",
    "l.append(w2)\n",
    "l.append(w3)\n",
    "l.append(w4)\n",
    "s = 0\n",
    "for i in range(len(l)):\n",
    "    if l[i] >= 10:\n",
    "        s+=1\n",
    "print(s)"
   ]
  },
  {
   "cell_type": "code",
   "execution_count": 1,
   "id": "5b5a1c12",
   "metadata": {},
   "outputs": [
    {
     "name": "stdout",
     "output_type": "stream",
     "text": [
      "2\n",
      "5\n",
      "120\n",
      "6\n",
      "720\n"
     ]
    }
   ],
   "source": [
    "def factorial(n):\n",
    "    if n==0:\n",
    "        return 1\n",
    "    elif n==1:\n",
    "        return 1\n",
    "    else:\n",
    "        return n*factorial(n-1)\n",
    "n=int(input())\n",
    "for i in range(n):\n",
    "    num=int(input())\n",
    "    print(factorial(num))\n"
   ]
  },
  {
   "cell_type": "code",
   "execution_count": 8,
   "id": "64cb3e25",
   "metadata": {},
   "outputs": [
    {
     "name": "stdout",
     "output_type": "stream",
     "text": [
      "2\n",
      "3\n",
      "1 3 6000\n"
     ]
    },
    {
     "ename": "TypeError",
     "evalue": "'map' object is not subscriptable",
     "output_type": "error",
     "traceback": [
      "\u001b[1;31m---------------------------------------------------------------------------\u001b[0m",
      "\u001b[1;31mTypeError\u001b[0m                                 Traceback (most recent call last)",
      "\u001b[1;32m~\\AppData\\Local\\Temp/ipykernel_8560/1652365291.py\u001b[0m in \u001b[0;36m<module>\u001b[1;34m\u001b[0m\n\u001b[0;32m      5\u001b[0m     \u001b[1;32mfor\u001b[0m \u001b[0mj\u001b[0m \u001b[1;32min\u001b[0m \u001b[0mrange\u001b[0m\u001b[1;33m(\u001b[0m\u001b[0minner_input\u001b[0m\u001b[1;33m)\u001b[0m\u001b[1;33m:\u001b[0m\u001b[1;33m\u001b[0m\u001b[1;33m\u001b[0m\u001b[0m\n\u001b[0;32m      6\u001b[0m         \u001b[0minp\u001b[0m \u001b[1;33m=\u001b[0m \u001b[0mmap\u001b[0m\u001b[1;33m(\u001b[0m\u001b[0mint\u001b[0m\u001b[1;33m,\u001b[0m\u001b[0minput\u001b[0m\u001b[1;33m(\u001b[0m\u001b[1;33m)\u001b[0m\u001b[1;33m.\u001b[0m\u001b[0msplit\u001b[0m\u001b[1;33m(\u001b[0m\u001b[1;33m)\u001b[0m\u001b[1;33m)\u001b[0m\u001b[1;33m\u001b[0m\u001b[1;33m\u001b[0m\u001b[0m\n\u001b[1;32m----> 7\u001b[1;33m         \u001b[1;32mif\u001b[0m \u001b[0minp\u001b[0m\u001b[1;33m[\u001b[0m\u001b[0mj\u001b[0m\u001b[1;33m]\u001b[0m \u001b[1;33m>=\u001b[0m \u001b[1;36m1000\u001b[0m\u001b[1;33m:\u001b[0m\u001b[1;33m\u001b[0m\u001b[1;33m\u001b[0m\u001b[0m\n\u001b[0m\u001b[0;32m      8\u001b[0m             \u001b[0ms\u001b[0m\u001b[1;33m+=\u001b[0m\u001b[1;36m1\u001b[0m\u001b[1;33m\u001b[0m\u001b[1;33m\u001b[0m\u001b[0m\n\u001b[0;32m      9\u001b[0m         \u001b[0mprint\u001b[0m\u001b[1;33m(\u001b[0m\u001b[0ms\u001b[0m\u001b[1;33m)\u001b[0m\u001b[1;33m\u001b[0m\u001b[1;33m\u001b[0m\u001b[0m\n",
      "\u001b[1;31mTypeError\u001b[0m: 'map' object is not subscriptable"
     ]
    }
   ],
   "source": [
    "Range = int(input())  #2\n",
    "s = 0\n",
    "for i in range(Range): #0 ,1,2\n",
    "    inner_input = int(input())\n",
    "    if inner_input > 0:\n",
    "        x = [int(x) for x in input().split()]\n",
    "            \n",
    "        \n",
    "#     for j in range(inner_input):\n",
    "#         inp = map(int,input().split())\n",
    "#         if inp[j] >= 1000:\n",
    "#             s+=1\n",
    "#         print(s)"
   ]
  },
  {
   "cell_type": "code",
   "execution_count": 18,
   "id": "5c414128",
   "metadata": {},
   "outputs": [
    {
     "name": "stdout",
     "output_type": "stream",
     "text": [
      "Enter multiple value: 2\n",
      "Number of list is:  [2]\n"
     ]
    }
   ],
   "source": [
    "input_ = 3\n",
    "x = [int(x) for x in input(\"Enter multiple value: \").split()]\n",
    "print(\"Number of list is: \", x) "
   ]
  },
  {
   "cell_type": "code",
   "execution_count": 19,
   "id": "5e5dd9b8",
   "metadata": {},
   "outputs": [
    {
     "name": "stdout",
     "output_type": "stream",
     "text": [
      "4\n",
      "4 1 1\n",
      "0\n",
      "2 10 7\n",
      "6\n",
      "8 5 4\n",
      "8\n",
      " 9 7 0\n",
      "63\n"
     ]
    }
   ],
   "source": [
    "# cook your dish here\n",
    "Range = int(input())\n",
    "for i in range(Range):\n",
    "    fine, t_passenger,with_ticket = map(int,input().split())\n",
    "    t_fine = (t_passenger - with_ticket) * fine\n",
    "    print(t_fine)"
   ]
  },
  {
   "cell_type": "code",
   "execution_count": 21,
   "id": "0688fb5e",
   "metadata": {},
   "outputs": [
    {
     "name": "stdout",
     "output_type": "stream",
     "text": [
      "2\n",
      "444444\n",
      "6\n",
      "100000\n",
      "0\n"
     ]
    }
   ],
   "source": [
    "\n",
    "t = int(input())\n",
    "for i in range(t):\n",
    "    fours = 0\n",
    "    num = int(input())\n",
    "    while(num):\n",
    "        if(num%10 == 4):\n",
    "            fours +=1\n",
    "        num = int(num/10)\n",
    "    print(fours)"
   ]
  },
  {
   "cell_type": "code",
   "execution_count": 10,
   "id": "82e3a717",
   "metadata": {},
   "outputs": [
    {
     "name": "stdout",
     "output_type": "stream",
     "text": [
      "300 120.00\n",
      "120.0\n"
     ]
    }
   ],
   "source": [
    "n,atm=(input().split())\n",
    "n=int(n)\n",
    "atm = float(atm)\n",
    "if (n <atm and n%5==0):\n",
    "    print((atm - n - .50))\n",
    "else:\n",
    "    print((atm))\n",
    "    "
   ]
  },
  {
   "cell_type": "code",
   "execution_count": 12,
   "id": "2978b107",
   "metadata": {},
   "outputs": [
    {
     "name": "stdout",
     "output_type": "stream",
     "text": [
      "Enter three values: 5 2 6\n",
      "First Number is:  5\n",
      "Second Number is:  2\n",
      "Third Number is:  6.0\n",
      "Enter three values: .5 42 5\n",
      "Please type 2 integers followed by a float\n",
      "Enter three values: *\n",
      "Please type 2 integers followed by a float\n"
     ]
    },
    {
     "ename": "KeyboardInterrupt",
     "evalue": "Interrupted by user",
     "output_type": "error",
     "traceback": [
      "\u001b[1;31m---------------------------------------------------------------------------\u001b[0m",
      "\u001b[1;31mKeyboardInterrupt\u001b[0m                         Traceback (most recent call last)",
      "\u001b[1;32m~\\AppData\\Local\\Temp/ipykernel_9432/2374560761.py\u001b[0m in \u001b[0;36m<module>\u001b[1;34m\u001b[0m\n\u001b[0;32m     11\u001b[0m \u001b[1;32mwhile\u001b[0m \u001b[1;32mTrue\u001b[0m\u001b[1;33m:\u001b[0m\u001b[1;33m\u001b[0m\u001b[1;33m\u001b[0m\u001b[0m\n\u001b[0;32m     12\u001b[0m     \u001b[1;32mtry\u001b[0m\u001b[1;33m:\u001b[0m\u001b[1;33m\u001b[0m\u001b[1;33m\u001b[0m\u001b[0m\n\u001b[1;32m---> 13\u001b[1;33m         \u001b[0mx\u001b[0m\u001b[1;33m,\u001b[0m \u001b[0my\u001b[0m\u001b[1;33m,\u001b[0m \u001b[0mz\u001b[0m \u001b[1;33m=\u001b[0m \u001b[0minput\u001b[0m\u001b[1;33m(\u001b[0m\u001b[1;34m\"Enter three values: \"\u001b[0m\u001b[1;33m)\u001b[0m\u001b[1;33m.\u001b[0m\u001b[0msplit\u001b[0m\u001b[1;33m(\u001b[0m\u001b[1;33m)\u001b[0m\u001b[1;33m\u001b[0m\u001b[1;33m\u001b[0m\u001b[0m\n\u001b[0m\u001b[0;32m     14\u001b[0m         \u001b[0mx\u001b[0m \u001b[1;33m=\u001b[0m \u001b[0mint\u001b[0m\u001b[1;33m(\u001b[0m\u001b[0mx\u001b[0m\u001b[1;33m)\u001b[0m\u001b[1;33m\u001b[0m\u001b[1;33m\u001b[0m\u001b[0m\n\u001b[0;32m     15\u001b[0m         \u001b[0my\u001b[0m \u001b[1;33m=\u001b[0m \u001b[0mint\u001b[0m\u001b[1;33m(\u001b[0m\u001b[0my\u001b[0m\u001b[1;33m)\u001b[0m\u001b[1;33m\u001b[0m\u001b[1;33m\u001b[0m\u001b[0m\n",
      "\u001b[1;32m~\\anaconda3\\lib\\site-packages\\ipykernel\\kernelbase.py\u001b[0m in \u001b[0;36mraw_input\u001b[1;34m(self, prompt)\u001b[0m\n\u001b[0;32m   1004\u001b[0m                 \u001b[1;34m\"raw_input was called, but this frontend does not support input requests.\"\u001b[0m\u001b[1;33m\u001b[0m\u001b[1;33m\u001b[0m\u001b[0m\n\u001b[0;32m   1005\u001b[0m             )\n\u001b[1;32m-> 1006\u001b[1;33m         return self._input_request(\n\u001b[0m\u001b[0;32m   1007\u001b[0m             \u001b[0mstr\u001b[0m\u001b[1;33m(\u001b[0m\u001b[0mprompt\u001b[0m\u001b[1;33m)\u001b[0m\u001b[1;33m,\u001b[0m\u001b[1;33m\u001b[0m\u001b[1;33m\u001b[0m\u001b[0m\n\u001b[0;32m   1008\u001b[0m             \u001b[0mself\u001b[0m\u001b[1;33m.\u001b[0m\u001b[0m_parent_ident\u001b[0m\u001b[1;33m[\u001b[0m\u001b[1;34m\"shell\"\u001b[0m\u001b[1;33m]\u001b[0m\u001b[1;33m,\u001b[0m\u001b[1;33m\u001b[0m\u001b[1;33m\u001b[0m\u001b[0m\n",
      "\u001b[1;32m~\\anaconda3\\lib\\site-packages\\ipykernel\\kernelbase.py\u001b[0m in \u001b[0;36m_input_request\u001b[1;34m(self, prompt, ident, parent, password)\u001b[0m\n\u001b[0;32m   1049\u001b[0m             \u001b[1;32mexcept\u001b[0m \u001b[0mKeyboardInterrupt\u001b[0m\u001b[1;33m:\u001b[0m\u001b[1;33m\u001b[0m\u001b[1;33m\u001b[0m\u001b[0m\n\u001b[0;32m   1050\u001b[0m                 \u001b[1;31m# re-raise KeyboardInterrupt, to truncate traceback\u001b[0m\u001b[1;33m\u001b[0m\u001b[1;33m\u001b[0m\u001b[0m\n\u001b[1;32m-> 1051\u001b[1;33m                 \u001b[1;32mraise\u001b[0m \u001b[0mKeyboardInterrupt\u001b[0m\u001b[1;33m(\u001b[0m\u001b[1;34m\"Interrupted by user\"\u001b[0m\u001b[1;33m)\u001b[0m \u001b[1;32mfrom\u001b[0m \u001b[1;32mNone\u001b[0m\u001b[1;33m\u001b[0m\u001b[1;33m\u001b[0m\u001b[0m\n\u001b[0m\u001b[0;32m   1052\u001b[0m             \u001b[1;32mexcept\u001b[0m \u001b[0mException\u001b[0m\u001b[1;33m:\u001b[0m\u001b[1;33m\u001b[0m\u001b[1;33m\u001b[0m\u001b[0m\n\u001b[0;32m   1053\u001b[0m                 \u001b[0mself\u001b[0m\u001b[1;33m.\u001b[0m\u001b[0mlog\u001b[0m\u001b[1;33m.\u001b[0m\u001b[0mwarning\u001b[0m\u001b[1;33m(\u001b[0m\u001b[1;34m\"Invalid Message:\"\u001b[0m\u001b[1;33m,\u001b[0m \u001b[0mexc_info\u001b[0m\u001b[1;33m=\u001b[0m\u001b[1;32mTrue\u001b[0m\u001b[1;33m)\u001b[0m\u001b[1;33m\u001b[0m\u001b[1;33m\u001b[0m\u001b[0m\n",
      "\u001b[1;31mKeyboardInterrupt\u001b[0m: Interrupted by user"
     ]
    },
    {
     "name": "stdout",
     "output_type": "stream",
     "text": [
      "Enter three values: 12\n"
     ]
    }
   ],
   "source": [
    "#The problem is that you convert every part of the input to int. So, first take your input from the user as-is, raw:\n",
    "\n",
    "x, y, z = input(\"Enter three values: \").split()\n",
    "#And now work on them according to your needs:\n",
    "\n",
    "print(\"First Number is: \", int(x)) \n",
    "print(\"Second Number is: \", int(y))\n",
    "print(\"Third Number is: \", float(z))\n",
    "#Of course you should do some kind of a type check, like:\n",
    "\n",
    "while True:\n",
    "    try:\n",
    "        x, y, z = input(\"Enter three values: \").split()\n",
    "        x = int(x)\n",
    "        y = int(y)\n",
    "        z = float(z)\n",
    "        break\n",
    "    except (TypeError, ValueError):\n",
    "        print(\"Please type 2 integers followed by a float\")"
   ]
  },
  {
   "cell_type": "code",
   "execution_count": 16,
   "id": "8787db1e",
   "metadata": {},
   "outputs": [
    {
     "name": "stdout",
     "output_type": "stream",
     "text": [
      "42 120.00\n"
     ]
    }
   ],
   "source": [
    "n,atm=(input().split())\n",
    "n=int(n)\n",
    "# 0<n<=2000\n",
    "# 0<= atm <=2000\n",
    "atm = float(atm)\n",
    "if (0<n<=2000 and 0<= atm <=2000) :\n",
    "    if (n <atm and n%5==0):\n",
    "        print((atm - n - 0.50))\n",
    "    else:\n",
    "        print((atm))"
   ]
  },
  {
   "cell_type": "code",
   "execution_count": 17,
   "id": "d20e2b51",
   "metadata": {},
   "outputs": [
    {
     "name": "stdout",
     "output_type": "stream",
     "text": [
      "5\n",
      "42\n",
      "NO\n",
      "67\n",
      "YES\n",
      "402\n",
      "YES\n",
      "45000\n",
      "YES\n",
      "45005\n",
      "NO\n"
     ]
    }
   ],
   "source": [
    "Range = int(input())\n",
    "for i in range(Range):\n",
    "    inp = int(input())\n",
    "    if 67 <= inp <= 45000:\n",
    "        print(\"YES\")\n",
    "    else:\n",
    "        print(\"NO\")"
   ]
  },
  {
   "cell_type": "code",
   "execution_count": 22,
   "id": "2e3d9562",
   "metadata": {},
   "outputs": [
    {
     "name": "stdout",
     "output_type": "stream",
     "text": [
      "4\n",
      "5 3 2\n",
      "Setter\n",
      "1 2 4\n",
      "Editorialist\n",
      "2 5 1\n",
      "Tester\n",
      "9 4 5\n",
      "Setter\n"
     ]
    }
   ],
   "source": [
    "Range = int(input())\n",
    "for i in range(Range):\n",
    "    p, t, e, = map(int,input().split())\n",
    "    if (p>t) and (p>e):\n",
    "        print(\"Setter\")\n",
    "    elif (e>p) and (e>t):\n",
    "        print(\"Editorialist\")\n",
    "    else:\n",
    "        print(\"Tester\")\n",
    "    "
   ]
  },
  {
   "cell_type": "code",
   "execution_count": 34,
   "id": "bb2d5840",
   "metadata": {},
   "outputs": [
    {
     "name": "stdout",
     "output_type": "stream",
     "text": [
      "2\n",
      "jk\n"
     ]
    },
    {
     "ename": "TypeError",
     "evalue": "'builtin_function_or_method' object is not subscriptable",
     "output_type": "error",
     "traceback": [
      "\u001b[1;31m---------------------------------------------------------------------------\u001b[0m",
      "\u001b[1;31mTypeError\u001b[0m                                 Traceback (most recent call last)",
      "\u001b[1;32m~\\AppData\\Local\\Temp/ipykernel_9432/4132469271.py\u001b[0m in \u001b[0;36m<module>\u001b[1;34m\u001b[0m\n\u001b[0;32m      4\u001b[0m     \u001b[0minp\u001b[0m \u001b[1;33m=\u001b[0m \u001b[0minput\u001b[0m\u001b[1;33m(\u001b[0m\u001b[1;33m)\u001b[0m\u001b[1;33m.\u001b[0m\u001b[0msplit\u001b[0m\u001b[1;33m(\u001b[0m\u001b[1;33m)\u001b[0m\u001b[1;33m\u001b[0m\u001b[1;33m\u001b[0m\u001b[0m\n\u001b[0;32m      5\u001b[0m     \u001b[0ml\u001b[0m\u001b[1;33m.\u001b[0m\u001b[0mappend\u001b[0m\u001b[1;33m(\u001b[0m\u001b[0minp\u001b[0m\u001b[1;33m)\u001b[0m\u001b[1;33m\u001b[0m\u001b[1;33m\u001b[0m\u001b[0m\n\u001b[1;32m----> 6\u001b[1;33m     \u001b[1;32mfor\u001b[0m \u001b[0mj\u001b[0m \u001b[1;32min\u001b[0m \u001b[0mrange\u001b[0m\u001b[1;33m(\u001b[0m\u001b[0ml\u001b[0m\u001b[1;33m[\u001b[0m\u001b[0mlen\u001b[0m\u001b[1;33m[\u001b[0m\u001b[0mi\u001b[0m\u001b[1;33m]\u001b[0m\u001b[1;33m]\u001b[0m\u001b[1;33m)\u001b[0m\u001b[1;33m:\u001b[0m\u001b[1;33m\u001b[0m\u001b[1;33m\u001b[0m\u001b[0m\n\u001b[0m\u001b[0;32m      7\u001b[0m         \u001b[1;32mif\u001b[0m \u001b[0minp\u001b[0m\u001b[1;33m[\u001b[0m\u001b[0mj\u001b[0m\u001b[1;33m]\u001b[0m \u001b[1;32mand\u001b[0m \u001b[0minp\u001b[0m\u001b[1;33m[\u001b[0m\u001b[0mj\u001b[0m\u001b[1;33m+\u001b[0m\u001b[1;36m1\u001b[0m\u001b[1;33m]\u001b[0m \u001b[1;33m==\u001b[0m \u001b[1;34m'a'\u001b[0m \u001b[1;32mor\u001b[0m \u001b[1;34m'e'\u001b[0m \u001b[1;32mor\u001b[0m \u001b[1;34m'i'\u001b[0m \u001b[1;32mor\u001b[0m \u001b[1;34m'u'\u001b[0m \u001b[1;32mor\u001b[0m \u001b[1;34m'o'\u001b[0m \u001b[1;33m:\u001b[0m\u001b[1;33m\u001b[0m\u001b[1;33m\u001b[0m\u001b[0m\n\u001b[0;32m      8\u001b[0m             \u001b[0mprint\u001b[0m\u001b[1;33m(\u001b[0m\u001b[1;34m\"Happy\"\u001b[0m\u001b[1;33m)\u001b[0m\u001b[1;33m\u001b[0m\u001b[1;33m\u001b[0m\u001b[0m\n",
      "\u001b[1;31mTypeError\u001b[0m: 'builtin_function_or_method' object is not subscriptable"
     ]
    }
   ],
   "source": [
    "Range = int(input())\n",
    "l =[]\n",
    "for i in range(Range):\n",
    "    inp = input().split()\n",
    "    l.append(inp)\n",
    "    for j in range():\n",
    "        if inp[j] and inp[j+1] == 'a' or 'e' or 'i' or 'u' or 'o' :\n",
    "            print(\"Happy\")\n",
    "        else:\n",
    "            print(\"Sad\")\n",
    "    "
   ]
  },
  {
   "cell_type": "code",
   "execution_count": 32,
   "id": "9fbc3b9d",
   "metadata": {},
   "outputs": [
    {
     "name": "stdout",
     "output_type": "stream",
     "text": [
      "2\n",
      "dg\n",
      "yes\n",
      "aeiou\n",
      "yes\n",
      "[['dg'], ['aeiou']]\n"
     ]
    }
   ],
   "source": [
    "Range = int(input())\n",
    "l = []\n",
    "for i in range(Range):\n",
    "   \n",
    "    inp = input().split()\n",
    "    l.append(inp)\n",
    "    if l[i] == 'a' or 'e' or 'i' or 'u' or 'o' :\n",
    "        print (\"yes\")\n",
    "    else:\n",
    "        print('no')\n",
    "    \n",
    "print(l)"
   ]
  },
  {
   "cell_type": "code",
   "execution_count": 26,
   "id": "db403fee",
   "metadata": {},
   "outputs": [
    {
     "name": "stdout",
     "output_type": "stream",
     "text": [
      "4\n"
     ]
    }
   ],
   "source": [
    "print(len(l))"
   ]
  },
  {
   "cell_type": "code",
   "execution_count": 30,
   "id": "87188ee1",
   "metadata": {},
   "outputs": [],
   "source": [
    "if l[1] == i:\n",
    "    print(\"tre\")"
   ]
  },
  {
   "cell_type": "code",
   "execution_count": 38,
   "id": "8b456063",
   "metadata": {},
   "outputs": [
    {
     "name": "stdout",
     "output_type": "stream",
     "text": [
      "0b1\n"
     ]
    }
   ],
   "source": [
    "print(bin(0b0001))"
   ]
  },
  {
   "cell_type": "code",
   "execution_count": 41,
   "id": "9383a957",
   "metadata": {},
   "outputs": [
    {
     "name": "stdout",
     "output_type": "stream",
     "text": [
      "aeiou aeiouu "
     ]
    }
   ],
   "source": [
    "# Python3 program to find all substring that\n",
    "# contain all vowels\n",
    "\n",
    "# Returns true if x is vowel.\n",
    "def isVowel(x):\n",
    "\t\n",
    "\t# Function to check whether a character is\n",
    "\t# vowel or not\n",
    "\tif (x == 'a' or x == 'e' or x == 'i' or\n",
    "\t\tx == 'o' or x == 'u'):\n",
    "\t\treturn True\n",
    "\treturn False\n",
    "\n",
    "def FindSubstring(str1):\n",
    "\n",
    "\t# To store vowels\n",
    "\n",
    "\t# Outer loop picks starting character and\n",
    "\t# inner loop picks ending character.\n",
    "\tn = len(str1)\n",
    "\tfor i in range(n):\n",
    "\t\thash = dict()\n",
    "\t\tfor j in range(i, n):\n",
    "\n",
    "\t\t\t# If current character is not vowel,\n",
    "\t\t\t# then no more result substrings\n",
    "\t\t\t# possible starting from str1[i].\n",
    "\t\t\tif (isVowel(str1[j]) == False):\n",
    "\t\t\t\tbreak\n",
    "\n",
    "\t\t\t# If vowel, then we insert it in hash\n",
    "\t\t\thash[str1[j]] = 1\n",
    "\n",
    "\t\t\t# If all vowels are present in current\n",
    "\t\t\t# substring\n",
    "\t\t\tif (len(hash) == 5):\n",
    "\t\t\t\tprint(str1[i:j + 1], end = \" \")\n",
    "\n",
    "# Driver code\n",
    "str1 = \"aeoibsddaeiouudb\"\n",
    "FindSubstring(str1)\n",
    "\n",
    "# This code is contributed by Mohit Kumar\n"
   ]
  },
  {
   "cell_type": "code",
   "execution_count": 48,
   "id": "2080b27c",
   "metadata": {},
   "outputs": [
    {
     "name": "stdout",
     "output_type": "stream",
     "text": [
      "ajf\n",
      "0\n"
     ]
    }
   ],
   "source": [
    "def count_substring(string):\n",
    "    counter = 0\n",
    "    sub_string = \"a\",'e','i','o','u'\n",
    "    for x in range(0,len(string)-len(sub_string)+1):\n",
    "        if string[x:x+ len(sub_string)] == sub_string:\n",
    "            counter +=1\n",
    "            \n",
    "    \n",
    "    \n",
    "    return counter\n",
    "if __name__=='__main__':\n",
    "    string = input().strip()\n",
    "    \n",
    "#     sub_string = input().strip()\n",
    "\n",
    "    \n",
    "    count = count_substring(string)\n",
    "    print(count)"
   ]
  },
  {
   "cell_type": "code",
   "execution_count": 69,
   "id": "00f6c709",
   "metadata": {},
   "outputs": [
    {
     "name": "stdout",
     "output_type": "stream",
     "text": [
      "Enter a string: arman\n",
      "['a', 'ar', 'arm', 'arma', 'arman', 'r', 'rm', 'rma', 'rman', 'm', 'ma', 'man', 'a', 'an', 'n']\n",
      "yes\n"
     ]
    }
   ],
   "source": [
    "str1 = input(\"Enter a string: \")\n",
    "list1 = []\n",
    "for i in range(len(str1)):\n",
    "    for j in range(i+1,len(str1)+1):\n",
    "        list1.append(str1[i:j])\n",
    "    \n",
    "\n",
    "print(list1)\n",
    "if  'ae' or 'aei'or 'aeio'or 'aeiou' or 'ei'or 'eio'or 'eiou' or 'io' or 'iou' or 'ou' in list1 :\n",
    "    print(\"yes\")\n",
    "\n",
    "                   "
   ]
  },
  {
   "cell_type": "code",
   "execution_count": 70,
   "id": "4c8ca823",
   "metadata": {},
   "outputs": [
    {
     "ename": "TypeError",
     "evalue": "int() argument must be a string, a bytes-like object or a number, not 'method'",
     "output_type": "error",
     "traceback": [
      "\u001b[1;31m---------------------------------------------------------------------------\u001b[0m",
      "\u001b[1;31mTypeError\u001b[0m                                 Traceback (most recent call last)",
      "\u001b[1;32m~\\AppData\\Local\\Temp/ipykernel_9432/132325787.py\u001b[0m in \u001b[0;36m<module>\u001b[1;34m\u001b[0m\n\u001b[1;32m----> 1\u001b[1;33m \u001b[0mRange\u001b[0m \u001b[1;33m=\u001b[0m \u001b[0mint\u001b[0m\u001b[1;33m(\u001b[0m\u001b[0minput\u001b[0m\u001b[1;33m)\u001b[0m\u001b[1;33m\u001b[0m\u001b[1;33m\u001b[0m\u001b[0m\n\u001b[0m\u001b[0;32m      2\u001b[0m \u001b[0mlist1\u001b[0m \u001b[1;33m=\u001b[0m \u001b[1;33m[\u001b[0m\u001b[1;33m]\u001b[0m\u001b[1;33m\u001b[0m\u001b[1;33m\u001b[0m\u001b[0m\n\u001b[0;32m      3\u001b[0m \u001b[1;32mfor\u001b[0m \u001b[0mi\u001b[0m \u001b[1;32min\u001b[0m \u001b[0mrange\u001b[0m\u001b[1;33m(\u001b[0m\u001b[0mRange\u001b[0m\u001b[1;33m)\u001b[0m\u001b[1;33m:\u001b[0m\u001b[1;33m\u001b[0m\u001b[1;33m\u001b[0m\u001b[0m\n\u001b[0;32m      4\u001b[0m     \u001b[0minp\u001b[0m \u001b[1;33m=\u001b[0m \u001b[0minput\u001b[0m\u001b[1;33m(\u001b[0m\u001b[1;33m)\u001b[0m\u001b[1;33m\u001b[0m\u001b[1;33m\u001b[0m\u001b[0m\n\u001b[0;32m      5\u001b[0m     \u001b[1;32mfor\u001b[0m \u001b[0mj\u001b[0m \u001b[1;32min\u001b[0m \u001b[0mrange\u001b[0m\u001b[1;33m(\u001b[0m\u001b[0mlen\u001b[0m\u001b[1;33m(\u001b[0m\u001b[0minp\u001b[0m\u001b[1;33m)\u001b[0m\u001b[1;33m)\u001b[0m\u001b[1;33m:\u001b[0m\u001b[1;33m\u001b[0m\u001b[1;33m\u001b[0m\u001b[0m\n",
      "\u001b[1;31mTypeError\u001b[0m: int() argument must be a string, a bytes-like object or a number, not 'method'"
     ]
    }
   ],
   "source": [
    "Range = int(input)\n",
    "list1 = []\n",
    "for i in range(Range):\n",
    "    inp = input()\n",
    "    for j in range(len(inp)):\n",
    "        for k in range(j+1,len(inp)+1):\n",
    "            list1.append(inp[j:k])\n",
    "    if  'ae' or 'aei'or 'aeio'or 'aeiou' or 'ei'or 'eio'or 'eiou' or 'io' or 'iou' or 'ou' in list1 :\n",
    "        print(\"Happy\")\n",
    "    else:\n",
    "        print(\"Sad\")\n",
    "\n",
    "\n"
   ]
  },
  {
   "cell_type": "code",
   "execution_count": 71,
   "id": "2030e958",
   "metadata": {},
   "outputs": [
    {
     "ename": "TypeError",
     "evalue": "int() argument must be a string, a bytes-like object or a number, not 'method'",
     "output_type": "error",
     "traceback": [
      "\u001b[1;31m---------------------------------------------------------------------------\u001b[0m",
      "\u001b[1;31mTypeError\u001b[0m                                 Traceback (most recent call last)",
      "\u001b[1;32m~\\AppData\\Local\\Temp/ipykernel_9432/3837504102.py\u001b[0m in \u001b[0;36m<module>\u001b[1;34m\u001b[0m\n\u001b[1;32m----> 1\u001b[1;33m \u001b[0mRange\u001b[0m \u001b[1;33m=\u001b[0m \u001b[0mint\u001b[0m\u001b[1;33m(\u001b[0m\u001b[0minput\u001b[0m\u001b[1;33m)\u001b[0m\u001b[1;33m\u001b[0m\u001b[1;33m\u001b[0m\u001b[0m\n\u001b[0m\u001b[0;32m      2\u001b[0m \u001b[0mlist1\u001b[0m \u001b[1;33m=\u001b[0m \u001b[1;33m[\u001b[0m\u001b[1;33m]\u001b[0m\u001b[1;33m\u001b[0m\u001b[1;33m\u001b[0m\u001b[0m\n\u001b[0;32m      3\u001b[0m \u001b[1;32mfor\u001b[0m \u001b[0mi\u001b[0m \u001b[1;32min\u001b[0m \u001b[0mrange\u001b[0m\u001b[1;33m(\u001b[0m\u001b[0mRange\u001b[0m\u001b[1;33m)\u001b[0m\u001b[1;33m:\u001b[0m\u001b[1;33m\u001b[0m\u001b[1;33m\u001b[0m\u001b[0m\n\u001b[0;32m      4\u001b[0m     \u001b[0minp\u001b[0m \u001b[1;33m=\u001b[0m \u001b[0minput\u001b[0m\u001b[1;33m(\u001b[0m\u001b[1;33m)\u001b[0m\u001b[1;33m\u001b[0m\u001b[1;33m\u001b[0m\u001b[0m\n\u001b[0;32m      5\u001b[0m     \u001b[1;32mfor\u001b[0m \u001b[0mj\u001b[0m \u001b[1;32min\u001b[0m \u001b[0mrange\u001b[0m\u001b[1;33m(\u001b[0m\u001b[0mlen\u001b[0m\u001b[1;33m(\u001b[0m\u001b[0minp\u001b[0m\u001b[1;33m)\u001b[0m\u001b[1;33m)\u001b[0m\u001b[1;33m:\u001b[0m\u001b[1;33m\u001b[0m\u001b[1;33m\u001b[0m\u001b[0m\n",
      "\u001b[1;31mTypeError\u001b[0m: int() argument must be a string, a bytes-like object or a number, not 'method'"
     ]
    }
   ],
   "source": [
    "Range = int(input)\n",
    "list1 = []\n",
    "for i in range(Range):\n",
    "    inp = input()\n",
    "    for j in range(len(inp)):\n",
    "        for k in range(j+1,len(inp)+1):\n",
    "            list1.append(inp[j:k])\n",
    "    if  'ae' or 'aei'or 'aeio'or 'aeiou' or 'ei'or 'eio'or 'eiou' or 'io' or 'iou' or 'ou' in list1 :\n",
    "        print(\"Happy\")\n",
    "    else:\n",
    "        print(\"Sad\")"
   ]
  },
  {
   "cell_type": "code",
   "execution_count": 5,
   "id": "fd1f0267",
   "metadata": {},
   "outputs": [
    {
     "name": "stdout",
     "output_type": "stream",
     "text": [
      "4\n",
      "1 10\n",
      "NO\n",
      "10 1\n",
      "NO\n",
      "11 1\n",
      "YES\n",
      "97 7\n",
      "YES\n"
     ]
    }
   ],
   "source": [
    "range_ = int(input())\n",
    "\n",
    "for i in range(range_):\n",
    "    inp_1, inp_2 = map(int,input().split(\" \"))\n",
    "    Max = inp_2 * 10\n",
    "    if inp_1 > Max:\n",
    "        print(\"YES\")\n",
    "    else:\n",
    "        print(\"NO\")\n",
    "    \n"
   ]
  },
  {
   "cell_type": "code",
   "execution_count": 12,
   "id": "80a12472",
   "metadata": {},
   "outputs": [
    {
     "name": "stdout",
     "output_type": "stream",
     "text": [
      "Enter multiple value: 4,8,5\n",
      "Number of list is:  [4, 8, 5]\n"
     ]
    }
   ],
   "source": [
    "y = [int(x) for x in input(\"Enter multiple value: \").split(\",\")]\n",
    "print(\"Number of list is: \", y) \n",
    "    \n",
    "    "
   ]
  },
  {
   "cell_type": "code",
   "execution_count": 15,
   "id": "7f96470a",
   "metadata": {},
   "outputs": [
    {
     "name": "stdout",
     "output_type": "stream",
     "text": [
      "input: 1,2,3\n",
      "[1, 2, 3]\n"
     ]
    }
   ],
   "source": [
    "x = [int(i) for i in input(\"input: \").split(\",\")]\n",
    "print(x)"
   ]
  },
  {
   "cell_type": "code",
   "execution_count": 17,
   "id": "b1a852d9",
   "metadata": {},
   "outputs": [
    {
     "name": "stdout",
     "output_type": "stream",
     "text": [
      "Enter row: 2\n",
      "Enter column: 2\n",
      "1\n",
      "2\n",
      "3\n",
      "4\n",
      "[[1, 2], [3, 4]]\n"
     ]
    }
   ],
   "source": [
    "row = int(input(\"Enter row: \"))\n",
    "column = int(input(\"Enter column: \"))\n",
    "matrix = [[int(input()) for x in range(column)] for y in range(row)]\n",
    "print(matrix)"
   ]
  },
  {
   "cell_type": "code",
   "execution_count": 5,
   "id": "2403943f",
   "metadata": {},
   "outputs": [
    {
     "name": "stdout",
     "output_type": "stream",
     "text": [
      "Jan\n",
      "Feb\n",
      "March\n",
      "May\n"
     ]
    }
   ],
   "source": [
    "Mnts = [\"Jan\", \"Feb\", \"March\",\"Apr\",\"May\"]\n",
    "for x in Mnts:\n",
    "    if x == \"Apr\":\n",
    "        continue\n",
    "    print(x)"
   ]
  },
  {
   "cell_type": "code",
   "execution_count": 8,
   "id": "6a6458a5",
   "metadata": {},
   "outputs": [
    {
     "name": "stdout",
     "output_type": "stream",
     "text": [
      "3\n",
      "100 200 10\n",
      "10.0\n",
      "111 199 11\n",
      "8.0\n",
      "190 200 10\n",
      "1.0\n"
     ]
    }
   ],
   "source": [
    "Range = int(input())\n",
    "for i in range(Range):\n",
    "    a,b,c=map(int,input().split(\" \"))\n",
    "    sub= b-a\n",
    "    divide = sub/c\n",
    "    print(divide)"
   ]
  },
  {
   "cell_type": "code",
   "execution_count": 1,
   "id": "37c9efbe",
   "metadata": {},
   "outputs": [
    {
     "name": "stdout",
     "output_type": "stream",
     "text": [
      "3\n",
      "15\n",
      "YES\n",
      "3\n",
      "YES\n",
      "65\n",
      "NO\n"
     ]
    }
   ],
   "source": [
    "Range = int(input())\n",
    "for i in range(Range):\n",
    "    inp = int(input())\n",
    "    if inp>15:\n",
    "        print(\"NO\")\n",
    "    else:\n",
    "        print(\"YES\")\n"
   ]
  },
  {
   "cell_type": "code",
   "execution_count": 6,
   "id": "7e7dc9b8",
   "metadata": {},
   "outputs": [
    {
     "name": "stdout",
     "output_type": "stream",
     "text": [
      "4 5 2 7 8\n",
      "READY FOR BATTLE\n"
     ]
    }
   ],
   "source": [
    "test = int(input())\n",
    "lst = list(map(int,input().split()))\n",
    "even, odd =0,0\n",
    "for i in lst:\n",
    "    if (i % 2 == 0):\n",
    "        even +=1\n",
    "    else:\n",
    "        odd+=1\n",
    "if (even > odd):\n",
    "    print(\"READY FOR BATTLE\")\n",
    "else:\n",
    "    print('NOT READY')"
   ]
  },
  {
   "cell_type": "markdown",
   "id": "c1d27086",
   "metadata": {},
   "source": [
    "# decimal to others conversion"
   ]
  },
  {
   "cell_type": "code",
   "execution_count": null,
   "id": "f79d2bd1",
   "metadata": {},
   "outputs": [],
   "source": [
    "n = 10\n",
    "print(\"%o\"%(n))           # decimal to octal\n",
    "print(\"%x\"%(n))           # decimal to hexa\n",
    "print(bin(n))             # decimal to bin"
   ]
  },
  {
   "cell_type": "code",
   "execution_count": 9,
   "id": "b35e283b",
   "metadata": {},
   "outputs": [
    {
     "name": "stdout",
     "output_type": "stream",
     "text": [
      "2\n",
      "4 3 8 5 7\n",
      "NOT READY\n"
     ]
    }
   ],
   "source": [
    "# cook your dish here Mahasena problem\n",
    "test_ = int(input())\n",
    "lst_ = (map(int,input().split()))\n",
    "even, odd =0,0\n",
    "for i in lst_:\n",
    "    if (i % 2 == 0):\n",
    "        even +=1\n",
    "    else:\n",
    "        odd+=1\n",
    "if (even > odd):\n",
    "    print(\"READY FOR BATTLE\")\n",
    "else:\n",
    "    print('NOT READY')"
   ]
  },
  {
   "cell_type": "code",
   "execution_count": 14,
   "id": "4c6af20a",
   "metadata": {},
   "outputs": [
    {
     "name": "stdout",
     "output_type": "stream",
     "text": [
      "4\n",
      "10 8 12\n",
      "Take second dose now\n",
      "14 2 10\n",
      "Too Late\n",
      "4444 5555 6666\n",
      "Too Early\n",
      "8 8 12\n",
      "Take second dose now\n"
     ]
    }
   ],
   "source": [
    "# cook your dish here\n",
    "Range = int(input())\n",
    "for i in range(Range):\n",
    "    pt_day, ft_day, lt_day = map(int,input().split())\n",
    "    if (ft_day <= pt_day < lt_day):\n",
    "        print(\"Take second dose now\")\n",
    "    elif (ft_day < pt_day > lt_day):\n",
    "        print(\"Too Late\")\n",
    "    else:\n",
    "        print(\"Too Early\")"
   ]
  },
  {
   "cell_type": "code",
   "execution_count": 15,
   "id": "aeb9e22f",
   "metadata": {},
   "outputs": [
    {
     "name": "stdout",
     "output_type": "stream",
     "text": [
      "2\n",
      "1\n",
      "1\n",
      "3\n",
      "2\n"
     ]
    }
   ],
   "source": [
    "for t in range(int(input())):\n",
    "    n = int(input())\n",
    "    print((n//2)+1)"
   ]
  },
  {
   "cell_type": "code",
   "execution_count": null,
   "id": "81ea1e96",
   "metadata": {},
   "outputs": [
    {
     "name": "stdout",
     "output_type": "stream",
     "text": [
      "3\n",
      "7\n",
      "4\n",
      "3\n",
      "2\n"
     ]
    }
   ],
   "source": [
    "for i in range(int(input())):\n",
    "    inp = int(input())\n",
    "    print((inp//2) + 1)"
   ]
  },
  {
   "cell_type": "code",
   "execution_count": 1,
   "id": "66218fcf",
   "metadata": {},
   "outputs": [
    {
     "name": "stdout",
     "output_type": "stream",
     "text": [
      "3\n",
      "1\n",
      "99\n",
      "25\n",
      "75\n",
      "100\n",
      "0\n"
     ]
    }
   ],
   "source": [
    "for i in range(int(input())):\n",
    "    inp = int(input())\n",
    "    print(100-inp)"
   ]
  },
  {
   "cell_type": "code",
   "execution_count": 3,
   "id": "ad2a7063",
   "metadata": {},
   "outputs": [
    {
     "name": "stdout",
     "output_type": "stream",
     "text": [
      "3\n",
      "10 20 35\n",
      "NO\n",
      "50 60 70\n",
      "YES\n",
      "45 84 94\n",
      "NO\n"
     ]
    }
   ],
   "source": [
    "# cook your dish here\n",
    "for i in range(int(input())):\n",
    "    s1,s2,s3 = map(int,input().split(\" \"))\n",
    "    total = s1 + s2 + s3\n",
    "    if total == 180:\n",
    "        print(\"YES\")\n",
    "    else:\n",
    "        print(\"NO\")"
   ]
  },
  {
   "cell_type": "code",
   "execution_count": 16,
   "id": "1ae3997d",
   "metadata": {},
   "outputs": [
    {
     "name": "stdout",
     "output_type": "stream",
     "text": [
      "8\n",
      "num: 8\n",
      "number is 8, that's u entered\n"
     ]
    }
   ],
   "source": [
    "num = int(input())\n",
    "print(\"num: %d\" %(num))\n",
    "print(\"number is {}, that's u entered\".format(num))"
   ]
  },
  {
   "cell_type": "code",
   "execution_count": 26,
   "id": "4fef9214",
   "metadata": {},
   "outputs": [
    {
     "name": "stdout",
     "output_type": "stream",
     "text": [
      "5\n",
      "num:  5\n",
      "num 5 ok.\n",
      "num 5\n",
      "0b101\n"
     ]
    }
   ],
   "source": [
    "num=int(input())\n",
    "print(\"num: \",num)\n",
    "print(\"num {} ok.\".format(num))\n",
    "print(\"num %d\"%num)\n",
    "print(bin(num))\n"
   ]
  },
  {
   "cell_type": "code",
   "execution_count": 31,
   "id": "a6751557",
   "metadata": {},
   "outputs": [
    {
     "name": "stdout",
     "output_type": "stream",
     "text": [
      "n octal: %o 10\n",
      "10 u entered and convertion in ocatal 10\n"
     ]
    }
   ],
   "source": [
    "num = 10\n",
    "print(\"n octal: %o {}\".format((num)))\n",
    "print(\"{} u entered and convertion in ocatal {}\".format(num,10))"
   ]
  },
  {
   "cell_type": "code",
   "execution_count": 38,
   "id": "6f45b0ec",
   "metadata": {},
   "outputs": [
    {
     "name": "stdout",
     "output_type": "stream",
     "text": [
      "10 ->10\n"
     ]
    }
   ],
   "source": [
    "n = 10\n",
    "print(\"{} ->{}\".format(n,n))"
   ]
  },
  {
   "cell_type": "code",
   "execution_count": 42,
   "id": "cbf5c4a2",
   "metadata": {},
   "outputs": [
    {
     "name": "stdout",
     "output_type": "stream",
     "text": [
      "4\n",
      "97\n",
      "YES\n",
      "42\n",
      "NO\n",
      "80\n",
      "YES\n",
      "10\n",
      "NO\n"
     ]
    }
   ],
   "source": [
    "for i in range(int(input())):\n",
    "    inp = int(input())\n",
    "    if inp <= 79:\n",
    "        print(\"NO\")\n",
    "    else:\n",
    "        print(\"YES\")"
   ]
  },
  {
   "cell_type": "code",
   "execution_count": 44,
   "id": "517354c6",
   "metadata": {},
   "outputs": [
    {
     "name": "stdout",
     "output_type": "stream",
     "text": [
      "4\n",
      "1 1 1 3\n",
      "NO\n",
      "2 3 1 5\n",
      "YES\n",
      "4 2 3 4\n",
      "YES\n",
      "2 1 4 7\n",
      "NO\n"
     ]
    }
   ],
   "source": [
    "for i in range(int(input())):\n",
    "    A,B,C,N = map(int,input().split(\" \"))\n",
    "    if (A + B) >= N:\n",
    "        print(\"YES\")\n",
    "    elif (A + C) >= N:\n",
    "        print(\"YES\"\n",
    "    elif (B + C) >= N:\n",
    "        print(\"YES\")\n",
    "    else:\n",
    "        print(\"NO\")"
   ]
  },
  {
   "cell_type": "code",
   "execution_count": 45,
   "id": "d583da3f",
   "metadata": {},
   "outputs": [
    {
     "name": "stdout",
     "output_type": "stream",
     "text": [
      "Yes\n"
     ]
    }
   ],
   "source": [
    "# Python program to check\n",
    "# if a string is palindrome\n",
    "# or not\n",
    "\n",
    "x = \"malayalam\"\n",
    "\n",
    "w = \"\"\n",
    "for i in x:\n",
    "\tw = i + w\n",
    "\n",
    "if (x == w):\n",
    "\tprint(\"Yes\")\n",
    "else:\n",
    "\tprint(\"No\")\n"
   ]
  },
  {
   "cell_type": "code",
   "execution_count": 54,
   "id": "bd7c01b8",
   "metadata": {},
   "outputs": [
    {
     "name": "stdout",
     "output_type": "stream",
     "text": [
      "Yes\n"
     ]
    }
   ],
   "source": [
    "x = \"malayalam\"\n",
    "w= ''\n",
    "for i in x:\n",
    "    w = i + w\n",
    "if (x == w):\n",
    "    print(\"Yes\")\n",
    "else:\n",
    "    print('No')"
   ]
  },
  {
   "cell_type": "code",
   "execution_count": 56,
   "id": "962bcd85",
   "metadata": {},
   "outputs": [
    {
     "name": "stdout",
     "output_type": "stream",
     "text": [
      "m\n",
      "ma\n",
      "mal\n",
      "mala\n",
      "malay\n",
      "malaya\n",
      "malayal\n",
      "malayala\n",
      "malayalam\n",
      "malayalamn\n"
     ]
    }
   ],
   "source": [
    "x = \"malayalamn\"\n",
    "w= ''\n",
    "for i in x:\n",
    "    w = w + i\n",
    "    print(w)"
   ]
  },
  {
   "cell_type": "code",
   "execution_count": 62,
   "id": "edd06a16",
   "metadata": {},
   "outputs": [
    {
     "name": "stdout",
     "output_type": "stream",
     "text": [
      "Enter name: malayalam\n",
      "m\n",
      "am\n",
      "lam\n",
      "alam\n",
      "yalam\n",
      "ayalam\n",
      "layalam\n",
      "alayalam\n",
      "malayalam\n",
      "yes palindrom\n"
     ]
    }
   ],
   "source": [
    "inp = str(input(\"Enter name: \"))\n",
    "x = \"\"\n",
    "for i in inp:\n",
    "    x = i + x\n",
    "    print(x)\n",
    "if inp == x:\n",
    "    print(\"yes palindrom\")\n",
    "else:\n",
    "    print(\"nO\")"
   ]
  },
  {
   "cell_type": "code",
   "execution_count": 63,
   "id": "f72a9ffc",
   "metadata": {},
   "outputs": [
    {
     "name": "stdout",
     "output_type": "stream",
     "text": [
      "Range input: 2\n",
      "inner input: 5\n",
      "String input: arman\n",
      "inner input: 2 \n",
      "String input: afjs\n"
     ]
    }
   ],
   "source": [
    "Range = int(input(\"Range input: \"))\n",
    "for i in range(Range):\n",
    "    Int = int(input('inner input: '))\n",
    "    Str = str(input(\"String input: \"))\n",
    "    "
   ]
  },
  {
   "cell_type": "code",
   "execution_count": 64,
   "id": "91c5d3f0",
   "metadata": {},
   "outputs": [
    {
     "name": "stdout",
     "output_type": "stream",
     "text": [
      "2\n"
     ]
    }
   ],
   "source": [
    "\n",
    "def isPalindrome(Str):\n",
    "    Len = len(Str)\n",
    "    if (Len == 1):\n",
    "        return True\n",
    "    ptr1 = 0\n",
    "    ptr2 = Len - 1\n",
    "    while (ptr2 > ptr1):\n",
    "\n",
    "        if (Str[ptr1] != Str[ptr2]):\n",
    "            return False\n",
    "        ptr1 += 1\n",
    "        ptr2 -= 1\n",
    "\n",
    "    return True\n",
    "\n",
    "# Recursive function to count number of appends\n",
    "def noOfAppends(s):\n",
    "\n",
    "    if (isPalindrome(s)):\n",
    "    return 0\n",
    "    del s[0]\n",
    "\n",
    "    return 1 + noOfAppends(s)\n",
    "\n",
    "# Driver Code\n",
    "se = \"abede\"\n",
    "s = [i for i in se]\n",
    "print(noOfAppends(s))\n",
    "\n"
   ]
  },
  {
   "cell_type": "code",
   "execution_count": 70,
   "id": "e1f0904b",
   "metadata": {},
   "outputs": [
    {
     "name": "stdout",
     "output_type": "stream",
     "text": [
      "Enter range; 1\n",
      "inner input: 2\n",
      "String input: babjkh\n",
      "-1\n"
     ]
    }
   ],
   "source": [
    "def isPalindrome(Str):\n",
    "    Len = len(Str)\n",
    "    if (Len == 1):\n",
    "        return True\n",
    "    ptr1 = 0\n",
    "    ptr2 = Len - 1\n",
    "    while (ptr2 > ptr1):\n",
    "\n",
    "        if (Str[ptr1] != Str[ptr2]):\n",
    "            return False\n",
    "        ptr1 += 1\n",
    "        ptr2 -= 1\n",
    "\n",
    "    return True\n",
    "\n",
    "# Recursive function to count number of appends\n",
    "def noOfAppends(s):\n",
    "\n",
    "    if (isPalindrome(s)):\n",
    "        return 0\n",
    "    del s[-1]\n",
    "\n",
    "    return 1 + noOfAppends(s)\n",
    "\n",
    "# Driver Code\n",
    "#se = \"abede\"\n",
    "#s = [i for i in se]\n",
    "Range = int(input(\"Enter range; \"))\n",
    "for i in range(Range):\n",
    "    Int = int(input('inner input: '))\n",
    "    Str = str(input(\"String input: \"))\n",
    "    print(noOfAppends(s))\n"
   ]
  },
  {
   "cell_type": "code",
   "execution_count": 71,
   "id": "f4d7543c",
   "metadata": {},
   "outputs": [
    {
     "name": "stdout",
     "output_type": "stream",
     "text": [
      "<itertools.permutations object at 0x000001DF95B0C270>\n",
      "('1', '2', '3')\n",
      "('1', '3', '2')\n",
      "('2', '1', '3')\n",
      "('2', '3', '1')\n",
      "('3', '1', '2')\n",
      "('3', '2', '1')\n"
     ]
    }
   ],
   "source": [
    "from itertools import permutations  \n",
    "seq = permutations(['1','2','3'])  \n",
    "print(seq)  \n",
    "for p in list(seq):  \n",
    "    print(p)  "
   ]
  },
  {
   "cell_type": "code",
   "execution_count": 73,
   "id": "9ec214fc",
   "metadata": {},
   "outputs": [
    {
     "name": "stdout",
     "output_type": "stream",
     "text": [
      "Enter range; 2\n",
      "inut; 2\n"
     ]
    },
    {
     "ename": "TypeError",
     "evalue": "'int' object is not iterable",
     "output_type": "error",
     "traceback": [
      "\u001b[1;31m---------------------------------------------------------------------------\u001b[0m",
      "\u001b[1;31mTypeError\u001b[0m                                 Traceback (most recent call last)",
      "\u001b[1;32m~\\AppData\\Local\\Temp/ipykernel_8232/2757742019.py\u001b[0m in \u001b[0;36m<module>\u001b[1;34m\u001b[0m\n\u001b[0;32m      2\u001b[0m \u001b[0mRange\u001b[0m \u001b[1;33m=\u001b[0m \u001b[0mint\u001b[0m\u001b[1;33m(\u001b[0m\u001b[0minput\u001b[0m\u001b[1;33m(\u001b[0m\u001b[1;34m\"Enter range; \"\u001b[0m\u001b[1;33m)\u001b[0m\u001b[1;33m)\u001b[0m\u001b[1;33m\u001b[0m\u001b[1;33m\u001b[0m\u001b[0m\n\u001b[0;32m      3\u001b[0m \u001b[1;32mfor\u001b[0m \u001b[0mi\u001b[0m \u001b[1;32min\u001b[0m \u001b[0mrange\u001b[0m\u001b[1;33m(\u001b[0m\u001b[0mRange\u001b[0m\u001b[1;33m)\u001b[0m\u001b[1;33m:\u001b[0m\u001b[1;33m\u001b[0m\u001b[1;33m\u001b[0m\u001b[0m\n\u001b[1;32m----> 4\u001b[1;33m     \u001b[0minp\u001b[0m \u001b[1;33m=\u001b[0m \u001b[0mpermutations\u001b[0m\u001b[1;33m(\u001b[0m\u001b[0mint\u001b[0m\u001b[1;33m(\u001b[0m\u001b[0minput\u001b[0m\u001b[1;33m(\u001b[0m\u001b[1;34m\"inut; \"\u001b[0m\u001b[1;33m)\u001b[0m\u001b[1;33m)\u001b[0m\u001b[1;33m)\u001b[0m\u001b[1;33m\u001b[0m\u001b[1;33m\u001b[0m\u001b[0m\n\u001b[0m\u001b[0;32m      5\u001b[0m     \u001b[0mprint\u001b[0m\u001b[1;33m(\u001b[0m\u001b[0minp\u001b[0m\u001b[1;33m)\u001b[0m\u001b[1;33m\u001b[0m\u001b[1;33m\u001b[0m\u001b[0m\n\u001b[0;32m      6\u001b[0m \u001b[1;33m\u001b[0m\u001b[0m\n",
      "\u001b[1;31mTypeError\u001b[0m: 'int' object is not iterable"
     ]
    }
   ],
   "source": [
    "from itertools import permutations\n",
    "Range = int(input(\"Enter range; \"))\n",
    "for i in range(Range):\n",
    "    inp = permutations(int(input(\"inut; \")))\n",
    "    print(inp)\n",
    "    "
   ]
  },
  {
   "cell_type": "code",
   "execution_count": 76,
   "id": "1e5cd06b",
   "metadata": {},
   "outputs": [
    {
     "ename": "TypeError",
     "evalue": "'int' object is not iterable",
     "output_type": "error",
     "traceback": [
      "\u001b[1;31m---------------------------------------------------------------------------\u001b[0m",
      "\u001b[1;31mTypeError\u001b[0m                                 Traceback (most recent call last)",
      "\u001b[1;32m~\\AppData\\Local\\Temp/ipykernel_8232/372880509.py\u001b[0m in \u001b[0;36m<module>\u001b[1;34m\u001b[0m\n\u001b[0;32m      1\u001b[0m \u001b[1;32mfrom\u001b[0m \u001b[0mitertools\u001b[0m \u001b[1;32mimport\u001b[0m \u001b[0mpermutations\u001b[0m\u001b[1;33m\u001b[0m\u001b[1;33m\u001b[0m\u001b[0m\n\u001b[1;32m----> 2\u001b[1;33m \u001b[0mseq\u001b[0m \u001b[1;33m=\u001b[0m \u001b[0mpermutations\u001b[0m\u001b[1;33m(\u001b[0m \u001b[1;36m2\u001b[0m\u001b[1;33m)\u001b[0m\u001b[1;33m\u001b[0m\u001b[1;33m\u001b[0m\u001b[0m\n\u001b[0m\u001b[0;32m      3\u001b[0m \u001b[1;32mfor\u001b[0m \u001b[0mp\u001b[0m \u001b[1;32min\u001b[0m \u001b[0mlist\u001b[0m\u001b[1;33m(\u001b[0m\u001b[0mseq\u001b[0m\u001b[1;33m)\u001b[0m\u001b[1;33m:\u001b[0m\u001b[1;33m\u001b[0m\u001b[1;33m\u001b[0m\u001b[0m\n\u001b[0;32m      4\u001b[0m     \u001b[0mprint\u001b[0m\u001b[1;33m(\u001b[0m\u001b[0mp\u001b[0m\u001b[1;33m)\u001b[0m\u001b[1;33m\u001b[0m\u001b[1;33m\u001b[0m\u001b[0m\n",
      "\u001b[1;31mTypeError\u001b[0m: 'int' object is not iterable"
     ]
    }
   ],
   "source": [
    "from itertools import permutations  \n",
    "seq = permutations( 2)  \n",
    "for p in list(seq):  \n",
    "    print(p)  "
   ]
  },
  {
   "cell_type": "code",
   "execution_count": 86,
   "id": "e6ff12cf",
   "metadata": {},
   "outputs": [
    {
     "ename": "SyntaxError",
     "evalue": "invalid syntax (Temp/ipykernel_8232/40820397.py, line 6)",
     "output_type": "error",
     "traceback": [
      "\u001b[1;36m  File \u001b[1;32m\"C:\\Users\\DELL\\AppData\\Local\\Temp/ipykernel_8232/40820397.py\"\u001b[1;36m, line \u001b[1;32m6\u001b[0m\n\u001b[1;33m    per = permutations([for j in range(1,inp)])\u001b[0m\n\u001b[1;37m                        ^\u001b[0m\n\u001b[1;31mSyntaxError\u001b[0m\u001b[1;31m:\u001b[0m invalid syntax\n"
     ]
    }
   ],
   "source": [
    "from itertools import permutations\n",
    "Range = int(input(\"range: \"))\n",
    "for i in range(Range):\n",
    "    inp = int(input())\n",
    "    \n",
    "    per = permutations([for j in range(1,inp)])\n",
    "    print(per)"
   ]
  },
  {
   "cell_type": "code",
   "execution_count": 85,
   "id": "dd1e0f2b",
   "metadata": {},
   "outputs": [
    {
     "name": "stdout",
     "output_type": "stream",
     "text": [
      "input: 3\n",
      "[3]\n"
     ]
    }
   ],
   "source": [
    "Range = int(input(\"Range; \"))\n",
    "x = [int(i) for i in range(Range).split(\" \")]\n",
    "print(x)"
   ]
  },
  {
   "cell_type": "code",
   "execution_count": 84,
   "id": "1571b011",
   "metadata": {},
   "outputs": [
    {
     "ename": "SyntaxError",
     "evalue": "invalid syntax (Temp/ipykernel_8232/121836970.py, line 1)",
     "output_type": "error",
     "traceback": [
      "\u001b[1;36m  File \u001b[1;32m\"C:\\Users\\DELL\\AppData\\Local\\Temp/ipykernel_8232/121836970.py\"\u001b[1;36m, line \u001b[1;32m1\u001b[0m\n\u001b[1;33m    a = [ for i in range(1,5):print(i)]\u001b[0m\n\u001b[1;37m          ^\u001b[0m\n\u001b[1;31mSyntaxError\u001b[0m\u001b[1;31m:\u001b[0m invalid syntax\n"
     ]
    }
   ],
   "source": [
    "x = [int(i) for i in input(\"input: \").split(\",\")]\n",
    "print(x)\n"
   ]
  },
  {
   "cell_type": "code",
   "execution_count": 87,
   "id": "c42938ac",
   "metadata": {},
   "outputs": [
    {
     "ename": "SyntaxError",
     "evalue": "invalid syntax (Temp/ipykernel_8232/2495695805.py, line 5)",
     "output_type": "error",
     "traceback": [
      "\u001b[1;36m  File \u001b[1;32m\"C:\\Users\\DELL\\AppData\\Local\\Temp/ipykernel_8232/2495695805.py\"\u001b[1;36m, line \u001b[1;32m5\u001b[0m\n\u001b[1;33m    per =  permutations(list(for j in range(1,inp)))\u001b[0m\n\u001b[1;37m                             ^\u001b[0m\n\u001b[1;31mSyntaxError\u001b[0m\u001b[1;31m:\u001b[0m invalid syntax\n"
     ]
    }
   ],
   "source": [
    "from itertools import permutations\n",
    "Range = int(input())\n",
    "for i in range(Range):\n",
    "    inp = int(input())\n",
    "    per =  permutations(list(for j in range(1,inp)))\n",
    "    print(per)"
   ]
  },
  {
   "cell_type": "code",
   "execution_count": 88,
   "id": "0a6b1597",
   "metadata": {},
   "outputs": [
    {
     "ename": "SyntaxError",
     "evalue": "invalid syntax (Temp/ipykernel_8232/3212291738.py, line 1)",
     "output_type": "error",
     "traceback": [
      "\u001b[1;36m  File \u001b[1;32m\"C:\\Users\\DELL\\AppData\\Local\\Temp/ipykernel_8232/3212291738.py\"\u001b[1;36m, line \u001b[1;32m1\u001b[0m\n\u001b[1;33m    per = (list(for j in range(1,inp)))\u001b[0m\n\u001b[1;37m                ^\u001b[0m\n\u001b[1;31mSyntaxError\u001b[0m\u001b[1;31m:\u001b[0m invalid syntax\n"
     ]
    }
   ],
   "source": [
    "per = (list(for j in range(1,inp)))\n",
    "print(per)"
   ]
  },
  {
   "cell_type": "code",
   "execution_count": 3,
   "id": "dcbc294c",
   "metadata": {},
   "outputs": [
    {
     "name": "stdout",
     "output_type": "stream",
     "text": [
      "3\n",
      "2 2\n",
      "5 1\n",
      "0\n",
      "4 1\n",
      "5 1 7 4\n",
      "6\n",
      "4 3\n",
      "15 70 100 31\n",
      "30\n"
     ]
    }
   ],
   "source": [
    "Range = int(input())\n",
    "for i in range(Range):\n",
    "    n_s,n_s_p = map(int,input().split())\n",
    "    m_s = list(map(int,input().split()))\n",
    "    #S = m_s.sort()\n",
    "    p = sorted(m_s, reverse = True)\n",
    "    ans = p[n_s_p - 1]-1\n",
    "    print(ans)"
   ]
  },
  {
   "cell_type": "code",
   "execution_count": null,
   "id": "20618e14",
   "metadata": {},
   "outputs": [],
   "source": []
  }
 ],
 "metadata": {
  "kernelspec": {
   "display_name": "Python 3 (ipykernel)",
   "language": "python",
   "name": "python3"
  },
  "language_info": {
   "codemirror_mode": {
    "name": "ipython",
    "version": 3
   },
   "file_extension": ".py",
   "mimetype": "text/x-python",
   "name": "python",
   "nbconvert_exporter": "python",
   "pygments_lexer": "ipython3",
   "version": "3.9.7"
  }
 },
 "nbformat": 4,
 "nbformat_minor": 5
}
