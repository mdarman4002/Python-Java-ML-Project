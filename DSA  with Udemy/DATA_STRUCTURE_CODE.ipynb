{
 "cells": [
  {
   "cell_type": "code",
   "execution_count": null,
   "id": "8167c406",
   "metadata": {},
   "outputs": [],
   "source": []
  },
  {
   "cell_type": "code",
   "execution_count": 2,
   "id": "a09de911",
   "metadata": {},
   "outputs": [
    {
     "name": "stdout",
     "output_type": "stream",
     "text": [
      "['one', 'two', 'three', 'four', 'five']\n",
      "['zero', 'one', 'two', 'three', 'four', 'five']\n"
     ]
    }
   ],
   "source": [
    "lst = ['one', 'two', 'three','five']\n",
    "lst.insert(3, 'four')\n",
    "\n",
    "print(lst)\n",
    "lst.insert(0, 'zero')\n",
    "print(lst)"
   ]
  },
  {
   "cell_type": "code",
   "execution_count": 5,
   "id": "cc81703c",
   "metadata": {},
   "outputs": [],
   "source": []
  },
  {
   "cell_type": "code",
   "execution_count": 3,
   "id": "029f2cbf",
   "metadata": {},
   "outputs": [
    {
     "data": {
      "text/plain": [
       "['zero', 'one', 'two', 'three', 'four', 'five']"
      ]
     },
     "execution_count": 3,
     "metadata": {},
     "output_type": "execute_result"
    }
   ],
   "source": [
    "lst"
   ]
  },
  {
   "cell_type": "code",
   "execution_count": 11,
   "id": "1187e94f",
   "metadata": {},
   "outputs": [],
   "source": [
    "lst.insert(0,\"hi\")"
   ]
  },
  {
   "cell_type": "code",
   "execution_count": 14,
   "id": "c18db63a",
   "metadata": {},
   "outputs": [
    {
     "data": {
      "text/plain": [
       "'hi'"
      ]
     },
     "execution_count": 14,
     "metadata": {},
     "output_type": "execute_result"
    }
   ],
   "source": [
    "lst.pop(0)"
   ]
  },
  {
   "cell_type": "code",
   "execution_count": 15,
   "id": "60877824",
   "metadata": {},
   "outputs": [
    {
     "data": {
      "text/plain": [
       "['hi', 'zero', 'one', 'two', 'three', 'four']"
      ]
     },
     "execution_count": 15,
     "metadata": {},
     "output_type": "execute_result"
    }
   ],
   "source": [
    "lst"
   ]
  },
  {
   "cell_type": "code",
   "execution_count": 17,
   "id": "e22697e4",
   "metadata": {},
   "outputs": [
    {
     "name": "stdout",
     "output_type": "stream",
     "text": [
      "Sorted array is:\n",
      " 11  12  22  25  34  64  90 "
     ]
    }
   ],
   "source": [
    "# Python program for implementation of Bubble Sort\n",
    "\n",
    "def bubbleSort(arr):\n",
    "\tn = len(arr)\n",
    "\t# optimize code, so if the array is already sorted, it doesn't need\n",
    "\t# to go through the entire process\n",
    "\tswapped = False\n",
    "\t# Traverse through all array elements\n",
    "\tfor i in range(n-1):\n",
    "\t\t# range(n) also work but outer loop will\n",
    "\t\t# repeat one time more than needed.\n",
    "\t\t# Last i elements are already in place\n",
    "\t\tfor j in range(0, n-i-1):\n",
    "\n",
    "\t\t\t# traverse the array from 0 to n-i-1\n",
    "\t\t\t# Swap if the element found is greater\n",
    "\t\t\t# than the next element\n",
    "\t\t\tif arr[j] > arr[j + 1]:\n",
    "\t\t\t\tswapped = True\n",
    "\t\t\t\tarr[j], arr[j + 1] = arr[j + 1], arr[j]\n",
    "\t\t\n",
    "\t\tif not swapped:\n",
    "\t\t\t# if we haven't needed to make a single swap, we\n",
    "\t\t\t# can just exit the main loop.\n",
    "\t\t\treturn\n",
    "\n",
    "\n",
    "# Driver code to test above\n",
    "arr = [64, 34, 25, 12, 22, 11, 90]\n",
    "\n",
    "bubbleSort(arr)\n",
    "\n",
    "print(\"Sorted array is:\")\n",
    "for i in range(len(arr)):\n",
    "\tprint(\"% d\" % arr[i], end=\" \")\n"
   ]
  },
  {
   "cell_type": "markdown",
   "id": "12e3ea4a",
   "metadata": {},
   "source": [
    "# time complexity"
   ]
  },
  {
   "cell_type": "code",
   "execution_count": 4,
   "id": "1b2dcc04",
   "metadata": {},
   "outputs": [
    {
     "name": "stdout",
     "output_type": "stream",
     "text": [
      "Execution time for 1st array: 0.0\n",
      "Execution time for 1st array: 0.0\n"
     ]
    }
   ],
   "source": [
    "import time\n",
    "def first_number(array):\n",
    "    return array[0]\n",
    "\n",
    "start = time.time()\n",
    "first_number([58,65,89,35,74,91])\n",
    "print(\"Execution time for 1st array: {}\".format(time.time() - start))\n",
    "\n",
    "def second_number(array_lst):\n",
    "    return array_lst[0]\n",
    "start2 = time.time()\n",
    "second_number([25,65,98,65,94,81,28,37,51,17,29,34,49,98,])\n",
    "print(\"Execution time for 1st array: {}\".format(time.time() - start2))\n"
   ]
  },
  {
   "cell_type": "code",
   "execution_count": 7,
   "id": "25f3dc3e",
   "metadata": {},
   "outputs": [
    {
     "name": "stdout",
     "output_type": "stream",
     "text": [
      "array 58\n",
      "Execution time for 1st array: 0.0\n"
     ]
    }
   ],
   "source": [
    "import time\n",
    "def first(array):\n",
    "    s = 0\n",
    "    for i in array:\n",
    "        s += i\n",
    "        \n",
    "        return s\n",
    "start = time.time()\n",
    "print(\"array\",first([58,65,89,35,74,91]))\n",
    "print(\"Execution time for 1st array: {}\".format(time.time() - start))\n",
    "\n"
   ]
  },
  {
   "cell_type": "code",
   "execution_count": 12,
   "id": "61086e1a",
   "metadata": {},
   "outputs": [
    {
     "name": "stdout",
     "output_type": "stream",
     "text": [
      "array 2:  None\n",
      "Execution time for 2nd array: start 1678171721.228957, end 1678171721.228957\n"
     ]
    }
   ],
   "source": [
    "def second(array):\n",
    "    s = 0\n",
    "    for i in array:\n",
    "        s += i\n",
    "\n",
    "start2 = time.time()\n",
    "print(\"array 2: \",second([58,65,89,35,74,91,25,65,98,65,94,73,71,93,47,77,996,81,28,37,51,17,29,34,49,98,929,93,98,21,51,69]))\n",
    "print(\"Execution time for 2nd array: start {}, end {}\".format(start2,time.time()))\n"
   ]
  },
  {
   "cell_type": "code",
   "execution_count": 25,
   "id": "9c4da01f",
   "metadata": {},
   "outputs": [
    {
     "name": "stdout",
     "output_type": "stream",
     "text": [
      "Tue Mar  7 12:27:16 2023\n",
      "i:  0\n",
      "i:  1\n",
      "i:  2\n",
      "i:  3\n",
      "i:  4\n"
     ]
    }
   ],
   "source": [
    "import time\n",
    "print(time.ctime())\n",
    "\n",
    "for i in range(5):\n",
    "    print(\"i: \",i)\n",
    "    time.sleep(.4)"
   ]
  },
  {
   "cell_type": "code",
   "execution_count": 46,
   "id": "4a5d5e00",
   "metadata": {},
   "outputs": [
    {
     "name": "stdout",
     "output_type": "stream",
     "text": [
      "time.struct_time(tm_year=2023, tm_mon=3, tm_mday=7, tm_hour=12, tm_min=32, tm_sec=19, tm_wday=1, tm_yday=66, tm_isdst=0)\n",
      "Tue Mar  7 12:38:39 2023\n",
      "time.struct_time(tm_year=1970, tm_mon=1, tm_mday=2, tm_hour=5, tm_min=30, tm_sec=0, tm_wday=4, tm_yday=2, tm_isdst=0)\n"
     ]
    }
   ],
   "source": [
    "print(time.localtime(1678172539.871941))\n",
    "print(time.ctime())\n",
    "print(time.localtime(86400))"
   ]
  },
  {
   "cell_type": "code",
   "execution_count": 9,
   "id": "a157719c",
   "metadata": {},
   "outputs": [
    {
     "data": {
      "text/plain": [
       "[25, 35, 58, 65, 74, 89, 91, 98]"
      ]
     },
     "execution_count": 9,
     "metadata": {},
     "output_type": "execute_result"
    }
   ],
   "source": [
    "lst = [58,65,89,35,74,91,25,65,98]\n",
    "lst.remove(65)\n",
    "lst.sort()\n",
    "lst"
   ]
  },
  {
   "cell_type": "code",
   "execution_count": 62,
   "id": "125eea29",
   "metadata": {},
   "outputs": [
    {
     "name": "stdout",
     "output_type": "stream",
     "text": [
      "[2.0, 5.0, 896.0, 9.0, 7.0]\n"
     ]
    },
    {
     "ename": "IndexError",
     "evalue": "list index out of range",
     "output_type": "error",
     "traceback": [
      "\u001b[1;31m---------------------------------------------------------------------------\u001b[0m",
      "\u001b[1;31mIndexError\u001b[0m                                Traceback (most recent call last)",
      "\u001b[1;32m~\\AppData\\Local\\Temp/ipykernel_6152/30054703.py\u001b[0m in \u001b[0;36m<module>\u001b[1;34m\u001b[0m\n\u001b[0;32m      7\u001b[0m \u001b[0mprint\u001b[0m\u001b[1;33m(\u001b[0m\u001b[0mlst\u001b[0m\u001b[1;33m)\u001b[0m\u001b[1;33m\u001b[0m\u001b[1;33m\u001b[0m\u001b[0m\n\u001b[0;32m      8\u001b[0m \u001b[1;31m#print(a)\u001b[0m\u001b[1;33m\u001b[0m\u001b[1;33m\u001b[0m\u001b[0m\n\u001b[1;32m----> 9\u001b[1;33m \u001b[0mprint\u001b[0m\u001b[1;33m(\u001b[0m\u001b[0mlst\u001b[0m\u001b[1;33m[\u001b[0m\u001b[1;36m7\u001b[0m\u001b[1;33m]\u001b[0m\u001b[1;33m)\u001b[0m\u001b[1;33m\u001b[0m\u001b[1;33m\u001b[0m\u001b[0m\n\u001b[0m",
      "\u001b[1;31mIndexError\u001b[0m: list index out of range"
     ]
    }
   ],
   "source": [
    "from array import *;\n",
    "arr = array('d',[2,5,896,9,7])\n",
    "lst = []\n",
    "for i in arr:\n",
    "    a=lst.append(i) \n",
    "\n",
    "print(lst)\n",
    "#print(a)\n",
    "print(lst[7])"
   ]
  },
  {
   "cell_type": "code",
   "execution_count": 52,
   "id": "7f4133af",
   "metadata": {},
   "outputs": [
    {
     "name": "stdout",
     "output_type": "stream",
     "text": [
      "896\n"
     ]
    }
   ],
   "source": [
    "print(int(arr[2]))"
   ]
  },
  {
   "cell_type": "code",
   "execution_count": 53,
   "id": "410ed516",
   "metadata": {},
   "outputs": [
    {
     "data": {
      "text/plain": [
       "1"
      ]
     },
     "execution_count": 53,
     "metadata": {},
     "output_type": "execute_result"
    }
   ],
   "source": [
    "arr.index(5)"
   ]
  },
  {
   "cell_type": "code",
   "execution_count": 56,
   "id": "2f405867",
   "metadata": {},
   "outputs": [
    {
     "name": "stdout",
     "output_type": "stream",
     "text": [
      "array('d', [2.0, 55.0, 896.0, 9.0, 7.0])\n"
     ]
    }
   ],
   "source": [
    "arr[1] = 55\n",
    "print(arr)"
   ]
  },
  {
   "cell_type": "code",
   "execution_count": 59,
   "id": "b4d63349",
   "metadata": {},
   "outputs": [
    {
     "data": {
      "text/plain": [
       "[[45, 89, 85], [4, 65, 89]]"
      ]
     },
     "execution_count": 59,
     "metadata": {},
     "output_type": "execute_result"
    }
   ],
   "source": [
    "arr_ = [[45,89,85],[4,65,89]]\n",
    "arr_"
   ]
  },
  {
   "cell_type": "code",
   "execution_count": 60,
   "id": "4045e24f",
   "metadata": {},
   "outputs": [
    {
     "data": {
      "text/plain": [
       "65"
      ]
     },
     "execution_count": 60,
     "metadata": {},
     "output_type": "execute_result"
    }
   ],
   "source": [
    "arr_[1][1]"
   ]
  },
  {
   "cell_type": "markdown",
   "id": "393811ff",
   "metadata": {},
   "source": [
    "# linear search"
   ]
  },
  {
   "cell_type": "code",
   "execution_count": 72,
   "id": "be6e11dc",
   "metadata": {
    "scrolled": false
   },
   "outputs": [
    {
     "name": "stdout",
     "output_type": "stream",
     "text": [
      "Enter range : 5\n",
      "Enter value : 84\n",
      "Enter value : 96\n",
      "Enter value : 87\n",
      "Enter value : 35\n",
      "Enter value : 62\n",
      "[84, 96, 87, 35, 62]\n",
      "Enter find value 35\n",
      "num on index:  3\n"
     ]
    }
   ],
   "source": [
    "Range= int(input(\"Enter range : \"))\n",
    "lst = []\n",
    "for i in range(Range):\n",
    "    num = int(input(\"Enter value : \"))\n",
    "    lst.append(num)\n",
    "\n",
    "print(lst)\n",
    "i_num = int(input(\"Enter find value \"))\n",
    "if i_num in lst:\n",
    "    Index = lst.index(i_num)\n",
    "    print(\"num on index: \",Index)\n",
    "else:\n",
    "    print(\"element is not found\")"
   ]
  },
  {
   "cell_type": "code",
   "execution_count": 67,
   "id": "767a905b",
   "metadata": {},
   "outputs": [
    {
     "data": {
      "text/plain": [
       "1"
      ]
     },
     "execution_count": 67,
     "metadata": {},
     "output_type": "execute_result"
    }
   ],
   "source": [
    "l = [2,5,6]\n",
    "l.index(5)"
   ]
  },
  {
   "cell_type": "markdown",
   "id": "79aa8a40",
   "metadata": {},
   "source": [
    "# linear search"
   ]
  },
  {
   "cell_type": "code",
   "execution_count": 13,
   "id": "7d32b386",
   "metadata": {},
   "outputs": [
    {
     "name": "stdout",
     "output_type": "stream",
     "text": [
      "7\n",
      "Enter finding number; 6\n",
      "index on 2\n"
     ]
    }
   ],
   "source": [
    "ar = [1,2,6,4,8,9,7]\n",
    "print(len(ar))\n",
    "num = eval(input(\"Enter finding number; \"))\n",
    "for i in range(len(ar)):\n",
    "    if ar[i] == num:\n",
    "        print(\"index on\", ar.index(num))\n",
    "        break\n",
    "    \n"
   ]
  },
  {
   "cell_type": "markdown",
   "id": "ccd0ce6d",
   "metadata": {},
   "source": [
    "# linear search"
   ]
  },
  {
   "cell_type": "code",
   "execution_count": 27,
   "id": "f141a8f9",
   "metadata": {},
   "outputs": [
    {
     "name": "stdout",
     "output_type": "stream",
     "text": [
      "58 doesn't exit in list\n"
     ]
    },
    {
     "data": {
      "text/plain": [
       "False"
      ]
     },
     "execution_count": 27,
     "metadata": {},
     "output_type": "execute_result"
    }
   ],
   "source": [
    "def linear_search(lst,n_find):\n",
    "    i = 0\n",
    "    while i < len(lst):\n",
    "        if lst[i] == n_found:\n",
    "            print(\"index on\", lst.index(n_found))\n",
    "            i = i + 1\n",
    "            return True;\n",
    "        i = i + 1\n",
    "        \n",
    "    else:\n",
    "        print(n_found,\"doesn't exit in list\")\n",
    "        return False;\n",
    "     \n",
    "    \n",
    "lst = [2,5,48,9,6]\n",
    "n_found = 58\n",
    "linear_search(lst,n_found)"
   ]
  },
  {
   "cell_type": "code",
   "execution_count": null,
   "id": "71a5349c",
   "metadata": {},
   "outputs": [],
   "source": [
    "l = [3, 4, 5, 5, 6 , 7, 45, 46, 49, 67, 79, 81, 82, 89]\n",
    "num = int(input(\"Enter searching number: \"))\n",
    "index = l.index(num)\n",
    "print(index)\n",
    "\n"
   ]
  },
  {
   "cell_type": "markdown",
   "id": "a4136c12",
   "metadata": {},
   "source": [
    "# Binary search"
   ]
  },
  {
   "cell_type": "code",
   "execution_count": 36,
   "id": "2f9ece38",
   "metadata": {},
   "outputs": [
    {
     "ename": "TypeError",
     "evalue": "'int' object is not subscriptable",
     "output_type": "error",
     "traceback": [
      "\u001b[1;31m---------------------------------------------------------------------------\u001b[0m",
      "\u001b[1;31mTypeError\u001b[0m                                 Traceback (most recent call last)",
      "\u001b[1;32m~\\AppData\\Local\\Temp/ipykernel_5204/3035588228.py\u001b[0m in \u001b[0;36m<module>\u001b[1;34m\u001b[0m\n\u001b[0;32m      6\u001b[0m         \u001b[1;32mif\u001b[0m \u001b[0mmid\u001b[0m \u001b[1;33m==\u001b[0m \u001b[0mnum\u001b[0m\u001b[1;33m:\u001b[0m\u001b[1;33m\u001b[0m\u001b[1;33m\u001b[0m\u001b[0m\n\u001b[0;32m      7\u001b[0m             \u001b[0mprint\u001b[0m\u001b[1;33m(\u001b[0m\u001b[1;34m\"value on index : \"\u001b[0m\u001b[1;33m)\u001b[0m\u001b[1;33m\u001b[0m\u001b[1;33m\u001b[0m\u001b[0m\n\u001b[1;32m----> 8\u001b[1;33m         \u001b[1;32melif\u001b[0m \u001b[0mmid\u001b[0m\u001b[1;33m[\u001b[0m\u001b[0mi\u001b[0m\u001b[1;33m-\u001b[0m\u001b[1;36m1\u001b[0m\u001b[1;33m]\u001b[0m \u001b[1;33m==\u001b[0m \u001b[0mnum\u001b[0m\u001b[1;33m:\u001b[0m\u001b[1;33m\u001b[0m\u001b[1;33m\u001b[0m\u001b[0m\n\u001b[0m\u001b[0;32m      9\u001b[0m             \u001b[0mprint\u001b[0m\u001b[1;33m(\u001b[0m\u001b[1;34m\"value on index: \"\u001b[0m\u001b[1;33m)\u001b[0m\u001b[1;33m\u001b[0m\u001b[1;33m\u001b[0m\u001b[0m\n\u001b[0;32m     10\u001b[0m \u001b[1;33m\u001b[0m\u001b[0m\n",
      "\u001b[1;31mTypeError\u001b[0m: 'int' object is not subscriptable"
     ]
    }
   ],
   "source": [
    "\n",
    "\n",
    "lst = [4,7,8,12,45,99]\n",
    "num = 7\n",
    "mid = (0 + len(lst))//2\n",
    "for i in range(len(lst)):\n",
    "    if lst[mid] >= num:\n",
    "        if mid == num:\n",
    "            print(\"value on index : \")\n",
    "        elif mid[i-1] == num:\n",
    "            print(\"value on index: \")\n",
    "            \n",
    "    else:\n",
    "        print(\"nothing\")\n",
    "    "
   ]
  },
  {
   "cell_type": "code",
   "execution_count": 33,
   "id": "088e3284",
   "metadata": {},
   "outputs": [
    {
     "data": {
      "text/plain": [
       "3"
      ]
     },
     "execution_count": 33,
     "metadata": {},
     "output_type": "execute_result"
    }
   ],
   "source": [
    "7//2"
   ]
  },
  {
   "cell_type": "code",
   "execution_count": 51,
   "id": "bbc97638",
   "metadata": {},
   "outputs": [
    {
     "ename": "KeyboardInterrupt",
     "evalue": "",
     "output_type": "error",
     "traceback": [
      "\u001b[1;31m---------------------------------------------------------------------------\u001b[0m",
      "\u001b[1;31mKeyboardInterrupt\u001b[0m                         Traceback (most recent call last)",
      "\u001b[1;32m~\\AppData\\Local\\Temp/ipykernel_5204/2587778858.py\u001b[0m in \u001b[0;36m<module>\u001b[1;34m\u001b[0m\n\u001b[0;32m     24\u001b[0m \u001b[0mlst\u001b[0m \u001b[1;33m=\u001b[0m \u001b[1;33m[\u001b[0m\u001b[1;36m4\u001b[0m\u001b[1;33m,\u001b[0m\u001b[1;36m7\u001b[0m\u001b[1;33m,\u001b[0m\u001b[1;36m8\u001b[0m\u001b[1;33m,\u001b[0m\u001b[1;36m12\u001b[0m\u001b[1;33m,\u001b[0m\u001b[1;36m45\u001b[0m\u001b[1;33m,\u001b[0m\u001b[1;36m99\u001b[0m\u001b[1;33m]\u001b[0m\u001b[1;33m\u001b[0m\u001b[1;33m\u001b[0m\u001b[0m\n\u001b[0;32m     25\u001b[0m \u001b[0mnum\u001b[0m \u001b[1;33m=\u001b[0m \u001b[1;36m99\u001b[0m\u001b[1;33m\u001b[0m\u001b[1;33m\u001b[0m\u001b[0m\n\u001b[1;32m---> 26\u001b[1;33m \u001b[0mBinary_search\u001b[0m\u001b[1;33m(\u001b[0m\u001b[0mlst\u001b[0m\u001b[1;33m,\u001b[0m\u001b[0mnum\u001b[0m\u001b[1;33m)\u001b[0m\u001b[1;33m\u001b[0m\u001b[1;33m\u001b[0m\u001b[0m\n\u001b[0m\u001b[0;32m     27\u001b[0m \u001b[1;33m\u001b[0m\u001b[0m\n\u001b[0;32m     28\u001b[0m \u001b[1;32mif\u001b[0m \u001b[0mBinary_search\u001b[0m\u001b[1;33m(\u001b[0m\u001b[0mlst\u001b[0m\u001b[1;33m,\u001b[0m\u001b[0mnum\u001b[0m\u001b[1;33m)\u001b[0m\u001b[1;33m:\u001b[0m\u001b[1;33m\u001b[0m\u001b[1;33m\u001b[0m\u001b[0m\n",
      "\u001b[1;32m~\\AppData\\Local\\Temp/ipykernel_5204/2587778858.py\u001b[0m in \u001b[0;36mBinary_search\u001b[1;34m(lst, num)\u001b[0m\n\u001b[0;32m     18\u001b[0m \u001b[1;33m\u001b[0m\u001b[0m\n\u001b[0;32m     19\u001b[0m         \u001b[1;32melse\u001b[0m\u001b[1;33m:\u001b[0m\u001b[1;33m\u001b[0m\u001b[1;33m\u001b[0m\u001b[0m\n\u001b[1;32m---> 20\u001b[1;33m             \u001b[1;32mif\u001b[0m \u001b[0mlst\u001b[0m\u001b[1;33m[\u001b[0m\u001b[0mmid\u001b[0m\u001b[1;33m]\u001b[0m \u001b[1;33m<\u001b[0m \u001b[0mnum\u001b[0m\u001b[1;33m:\u001b[0m\u001b[1;33m\u001b[0m\u001b[1;33m\u001b[0m\u001b[0m\n\u001b[0m\u001b[0;32m     21\u001b[0m                 \u001b[0ml\u001b[0m \u001b[1;33m=\u001b[0m \u001b[0mmid\u001b[0m\u001b[1;33m\u001b[0m\u001b[1;33m\u001b[0m\u001b[0m\n\u001b[0;32m     22\u001b[0m             \u001b[1;32melse\u001b[0m\u001b[1;33m:\u001b[0m\u001b[1;33m\u001b[0m\u001b[1;33m\u001b[0m\u001b[0m\n",
      "\u001b[1;31mKeyboardInterrupt\u001b[0m: "
     ]
    }
   ],
   "source": [
    "pos = -1\n",
    "def Binary_search(lst,num):\n",
    "#     for i in range(len(lst)):\n",
    "    l = 0\n",
    "    u = len(lst)-1\n",
    "    \n",
    "#     for i in range(len(lst)):\n",
    "    while l <= u:\n",
    "        mid = (l+u) // 2 \n",
    "        \n",
    "        if lst[mid] == num:\n",
    "            globals()['pos'] = mid\n",
    "            return True\n",
    "#             if mid == num:\n",
    "#                 print(\"value on index : \")\n",
    "#             elif mid[i-1] == num:\n",
    "#                 print(\"value on index: \")\n",
    "        \n",
    "        else:\n",
    "            if lst[mid] < num:\n",
    "                l = mid\n",
    "            else:\n",
    "                u = mid\n",
    "lst = [4,7,8,12,45,99]\n",
    "num = 99\n",
    "Binary_search(lst,num)\n",
    "\n",
    "if Binary_search(lst,num):\n",
    "    print(\"found at\", pos + 1)\n",
    "else:\n",
    "    print(\"not found\")"
   ]
  },
  {
   "cell_type": "markdown",
   "id": "2d127338",
   "metadata": {},
   "source": [
    "# Binaray search"
   ]
  },
  {
   "cell_type": "code",
   "execution_count": 4,
   "id": "406cf9f1",
   "metadata": {},
   "outputs": [
    {
     "data": {
      "text/plain": [
       "89"
      ]
     },
     "execution_count": 4,
     "metadata": {},
     "output_type": "execute_result"
    }
   ],
   "source": [
    "l = [3, 4, 5, 5, 6 , 6, 7, 7, 45, 46, 49, 67, 79, 81, 82, 89]\n",
    "low = l[0]\n",
    "high = l[15]"
   ]
  },
  {
   "cell_type": "markdown",
   "id": "9206c605",
   "metadata": {},
   "source": [
    "# Selection sort()"
   ]
  },
  {
   "cell_type": "code",
   "execution_count": 11,
   "id": "9277d6a2",
   "metadata": {},
   "outputs": [
    {
     "name": "stdout",
     "output_type": "stream",
     "text": [
      "original list  [5, 15, 3, 12, 17, 0]\n",
      "new list  [0, 3, 5, 12, 15, 17]\n"
     ]
    }
   ],
   "source": [
    "lst = [5,15,3,12,17,0]\n",
    "print(\"original list \",lst)\n",
    "\n",
    "for i in range(len(lst)):\n",
    "# minm_val = min(lst)\n",
    "# minm_index = lst.index(minm_val)\n",
    "# #lst[0], lst[minm_ind] = lst[minm_ind], lst[0]\n",
    "# temp = lst[0]\n",
    "# lst[0] = lst[minm_index]\n",
    "# lst[minm_index] = temp\n",
    "    \n",
    "    minm_val = min(lst[i:])\n",
    "    minm_index = lst.index(minm_val)\n",
    "#lst[0], lst[minm_ind] = lst[minm_ind], lst[0]\n",
    "    temp = lst[i]\n",
    "    lst[i] = lst[minm_index]\n",
    "    lst[minm_index] = temp\n",
    "\n",
    "print(\"new list \", lst)"
   ]
  },
  {
   "cell_type": "code",
   "execution_count": 21,
   "id": "571f46c7",
   "metadata": {},
   "outputs": [
    {
     "name": "stdout",
     "output_type": "stream",
     "text": [
      "[25, 36, 41, 47, 54, 84, 96]\n"
     ]
    }
   ],
   "source": [
    "l = [54,84,96,25,47,41,36]\n",
    "for i in range(len(l)):\n",
    "    min_val = min(l[i:])\n",
    "    min_ind = l.index(min_val)\n",
    "    temp = l[i]\n",
    "    l[i] = l[min_ind]\n",
    "    l[min_ind] = temp\n",
    "print(l)"
   ]
  },
  {
   "cell_type": "code",
   "execution_count": null,
   "id": "22fd4a66",
   "metadata": {},
   "outputs": [],
   "source": [
    "temp = lst[i]\n",
    "lst[i]= lst[min_ind]\n",
    "lst[min_ind] = temp\n",
    "lst[i],lst[min_ind] = lst[min_ind], lst[i]"
   ]
  },
  {
   "cell_type": "markdown",
   "id": "df58d5f5",
   "metadata": {},
   "source": [
    "# selection sort with dublication"
   ]
  },
  {
   "cell_type": "code",
   "execution_count": 26,
   "id": "d6516873",
   "metadata": {},
   "outputs": [
    {
     "name": "stdout",
     "output_type": "stream",
     "text": [
      "[0, 0, 25, 36, 36, 41, 47, 54, 84, 84, 96]\n"
     ]
    }
   ],
   "source": [
    "l = [54,84,0,96,25,84,36,47,41,36,0]\n",
    "for i in range(len(l)-1):\n",
    "    min_val = min(l[i:])\n",
    "    min_ind = l.index(min_val,i)\n",
    "    if l[i] != l[min_ind]:\n",
    "        l[i],l[min_ind] = l[min_ind], l[i]\n",
    "#     temp = l[i]\n",
    "#     l[i] = l[min_ind]\n",
    "#     l[min_ind] = temp\n",
    "print(l)"
   ]
  },
  {
   "cell_type": "code",
   "execution_count": 40,
   "id": "75940967",
   "metadata": {},
   "outputs": [
    {
     "name": "stdout",
     "output_type": "stream",
     "text": [
      "unsorted list  [54, 84, 0, 96, 25, 84, 36, 47, 41, 36, 0]\n",
      "sorted list  [0, 0, 25, 36, 36, 41, 47, 54, 84, 84, 96]\n"
     ]
    }
   ],
   "source": [
    "#selection sort ascending order\n",
    "lst = [54,84,0,96,25,84,36,47,41,36,0]\n",
    "print(\"unsorted list \",lst)\n",
    "\n",
    "for i in range(len(lst)-1):\n",
    "    m_val = lst[i]  # assume lst[i] is minimum value in the list\n",
    "    for j in range(i+1, len(lst)):\n",
    "        if lst[j] < m_val:\n",
    "            m_val = lst[j]\n",
    "            \n",
    "    m_ind = lst.index(m_val,i)\n",
    "    if lst[i] != lst[m_ind]:\n",
    "        lst[i],lst[m_ind] = lst[m_ind], lst[i]\n",
    "print(\"sorted list \",lst)"
   ]
  },
  {
   "cell_type": "code",
   "execution_count": 41,
   "id": "5b538125",
   "metadata": {},
   "outputs": [
    {
     "name": "stdout",
     "output_type": "stream",
     "text": [
      "unsorted list  [54, 84, 0, 96, 25, 84, 36, 47, 41, 36, 0]\n",
      "sorted list  [96, 84, 84, 54, 47, 41, 36, 36, 25, 0, 0]\n"
     ]
    }
   ],
   "source": [
    "#selection sort ascending order\n",
    "lst = [54,84,0,96,25,84,36,47,41,36,0]\n",
    "print(\"unsorted list \",lst)\n",
    "\n",
    "for i in range(len(lst)-1):\n",
    "    m_val = lst[i]  # assume lst[i] is maxmum value in the list\n",
    "    for j in range(i+1, len(lst)):\n",
    "        if lst[j] > m_val:\n",
    "            m_val = lst[j]\n",
    "            \n",
    "    m_ind = lst.index(m_val,i)\n",
    "    if lst[i] != lst[m_ind]:\n",
    "        lst[i],lst[m_ind] = lst[m_ind], lst[i]\n",
    "print(\"sorted list \",lst)"
   ]
  },
  {
   "cell_type": "code",
   "execution_count": 43,
   "id": "81a3c5af",
   "metadata": {},
   "outputs": [
    {
     "name": "stdout",
     "output_type": "stream",
     "text": [
      "Ragne5\n",
      "Enter number: 14\n",
      "Enter number: 54\n",
      "Enter number: 84\n",
      "Enter number: 96\n",
      "Enter number: 73\n",
      "unsorted list  [14, 54, 84, 96, 73]\n",
      "sorted list  [96, 84, 73, 54, 14]\n"
     ]
    }
   ],
   "source": [
    "# usnig index , descending \n",
    "Range = int(input(\"Ragne\"))\n",
    "lst = [int(input(\"Enter number: \")) for i in range(Range)]\n",
    "print(\"unsorted list \",lst)\n",
    "\n",
    "for i in range(len(lst)-1):\n",
    "    m_ind = i\n",
    "    for j in range(i+1, len(lst)):\n",
    "        if lst[j] > lst[m_ind]:  # descending (< for ascending)\n",
    "            m_ind = j\n",
    "            \n",
    "    if lst[i] != lst[m_ind]:\n",
    "        lst[i],lst[m_ind] = lst[m_ind], lst[i]\n",
    "print(\"sorted list \",lst)"
   ]
  },
  {
   "cell_type": "markdown",
   "id": "f568108c",
   "metadata": {},
   "source": [
    "# Bubble sort() also called sinking sort"
   ]
  },
  {
   "cell_type": "code",
   "execution_count": 62,
   "id": "db26a9d5",
   "metadata": {},
   "outputs": [
    {
     "name": "stdout",
     "output_type": "stream",
     "text": [
      "how many number you want to enter: 5\n",
      "enter value\n",
      "45\n",
      "8\n",
      "58\n",
      "-3\n",
      "58\n",
      "unsorted list  [45, 8, 58, -3, 58]\n",
      "[-3, 8, 45, 58, 58]\n"
     ]
    }
   ],
   "source": [
    "# ascending order\n",
    "#lst = [54,84,96,25,47,41,36]\n",
    "#lst =[10,15,4,23,0]\n",
    "\n",
    "\n",
    "lst = []\n",
    "Range =int(input(\"how many number you want to enter: \"))\n",
    "print(\"enter value\")\n",
    "for k in range(Range):\n",
    "   lst.append(int(input())) \n",
    "\n",
    "print(\"unsorted list \",lst)\n",
    "# for i in range(len(lst) - 1):\n",
    "#     if lst[i] > lst[i+1]:\n",
    "#         lst[i],lst[i+1] = lst[i+1], lst[i]\n",
    "                                        # can take below logic\n",
    "    \n",
    "for j in range(len(lst) -1): # for j in range(len(lst) -1, 0,-1):\n",
    "    for i in range(len(lst) - 1-j): # for i in range(j)\n",
    "        if lst[i] > lst[i+1]:\n",
    "            lst[i],lst[i+1] = lst[i+1], lst[i]\n",
    "\n",
    "#             #print(\"sorted list \", lst)\n",
    "#         else:\n",
    "#             print(lst)\n",
    "#     print()\n",
    "        \n",
    "print(lst)"
   ]
  },
  {
   "cell_type": "markdown",
   "id": "ac536333",
   "metadata": {},
   "source": [
    "# Quik sort "
   ]
  },
  {
   "cell_type": "code",
   "execution_count": null,
   "id": "5e029153",
   "metadata": {},
   "outputs": [],
   "source": [
    "#to get the correct position of the pivot element\n",
    "def pivot_place(list1,first,last):# len_find(fist,last)\n",
    "    pivot = list1[first]\n",
    "    "
   ]
  },
  {
   "cell_type": "markdown",
   "id": "8795d2bf",
   "metadata": {},
   "source": [
    "# Merge sort()"
   ]
  },
  {
   "cell_type": "code",
   "execution_count": 71,
   "id": "413feef2",
   "metadata": {},
   "outputs": [
    {
     "name": "stdout",
     "output_type": "stream",
     "text": [
      "Enter the range: 5\n",
      "Enter value: 12\n",
      "Enter value: 15548\n",
      "Enter value: 7\n",
      "Enter value: 66\n",
      "Enter value: 5\n",
      "sorted list  [15548, 66, 12, 7, 5]\n"
     ]
    }
   ],
   "source": [
    "# Ascending order\n",
    "def mergesort(list1):\n",
    "    # deviding \n",
    "    if len(list1) > 1: # base case\n",
    "        mid = len(list1) // 2\n",
    "        left_sublist = list1[:mid]\n",
    "        right_sublist = list1[mid:]\n",
    "        mergesort(left_sublist)  # recursive function\n",
    "        mergesort(right_sublist)  # recursive function\n",
    "        \n",
    "        # merging\n",
    "        \n",
    "        i = 0\n",
    "        j = 0\n",
    "        k = 0\n",
    "        while i < len(left_sublist) and j < len(right_sublist):\n",
    "            \n",
    "            if left_sublist[i] < right_sublist[j]:# changed (>) for desceinding\n",
    "                list1[k] = left_sublist[i]\n",
    "                i = i +1\n",
    "                k = k +1\n",
    "            \n",
    "            else :\n",
    "                list1[k] = right_sublist[j]\n",
    "                j = j+1\n",
    "                k = k+1\n",
    "                \n",
    "                #\n",
    "        while i < len(left_sublist):\n",
    "            list1[k] = left_sublist[i]\n",
    "            i = i +1\n",
    "            k = k +1\n",
    "        \n",
    "        # to check any values are left out or not\n",
    "        while j < len(left_sublist):\n",
    "            list1[k] = right_sublist[j]\n",
    "            j = j+1\n",
    "            k = k+1  \n",
    "    \n",
    "   \n",
    "Range = int(input(\"Enter the range: \"))\n",
    "list1=[int(input(\"Enter value: \")) for i in range(Range)]\n",
    "mergesort(list1)\n",
    "print(\"sorted list \",list1)                      \n"
   ]
  },
  {
   "cell_type": "markdown",
   "id": "a5930a77",
   "metadata": {},
   "source": [
    "# Insertion sort"
   ]
  },
  {
   "cell_type": "code",
   "execution_count": 23,
   "id": "913528da",
   "metadata": {},
   "outputs": [
    {
     "name": "stdout",
     "output_type": "stream",
     "text": [
      "[1, 2, 3, 4, 5]\n"
     ]
    }
   ],
   "source": [
    "def InsertionSort(my_list):\n",
    "    for index in range(1,len(my_list)):\n",
    "        current_element = my_list[index]\n",
    "        pos = index\n",
    "        while current_element < my_list[pos-1] and  pos > 0:#  can change(>)\n",
    "            my_list[pos] = my_list[pos - 1]  # decreasing order \n",
    "            pos = pos -1\n",
    "        my_list[pos] = current_element\n",
    "    \n",
    "list1 = [2,4,3,5,1]\n",
    "InsertionSort(list1)\n",
    "print(list1)\n",
    "        \n",
    "        "
   ]
  },
  {
   "cell_type": "code",
   "execution_count": 19,
   "id": "d338c230",
   "metadata": {},
   "outputs": [
    {
     "name": "stdout",
     "output_type": "stream",
     "text": [
      "size of lst: 5\n",
      "9\n",
      "1\n",
      "6\n",
      "0\n",
      "1\n",
      "[1, 9, 6, 0, 1]\n",
      "[1, 6, 9, 0, 1]\n",
      "[1, 6, 0, 9, 1]\n",
      "[1, 0, 6, 9, 1]\n",
      "[0, 1, 6, 9, 1]\n",
      "[0, 1, 6, 1, 9]\n",
      "[0, 1, 1, 6, 9]\n"
     ]
    }
   ],
   "source": [
    "def insertionsort(lst):\n",
    "    for i in range(1,len(lst)):\n",
    "        current_element =lst[i]\n",
    "        #print(current_element)\n",
    "        position = i\n",
    "        #print(lst[i-1])\n",
    "        while current_element < lst[position -1] and position >0:\n",
    "            lst[position] = lst[position-1]\n",
    "            position = position-1\n",
    "            lst[position] = current_element\n",
    "            print(lst)\n",
    "size = int(input(\"size of lst: \"))\n",
    "lst = [int(input()) for i in range(size)]\n",
    "(insertionsort(lst))\n",
    "\n"
   ]
  },
  {
   "cell_type": "markdown",
   "id": "8ace4835",
   "metadata": {},
   "source": [
    "# shell sort"
   ]
  },
  {
   "cell_type": "code",
   "execution_count": 34,
   "id": "6bce8c4d",
   "metadata": {},
   "outputs": [
    {
     "name": "stdout",
     "output_type": "stream",
     "text": [
      "5\n",
      "4\n",
      "7\n",
      "8\n",
      "1\n",
      "0\n",
      "before sorted list:  [4, 7, 8, 1, 0]\n",
      "after sorted list:  [0, 1, 4, 7, 8]\n"
     ]
    }
   ],
   "source": [
    "def shellsort(lst):\n",
    "    gap = len(lst)//2\n",
    "    while gap >0:\n",
    "        for i in range(gap, len(lst)):\n",
    "            current_element = lst[i]\n",
    "            element_position =i\n",
    "            \n",
    "            while  element_position>=gap and current_element < lst[element_position-gap]:\n",
    "                lst[element_position] = lst[element_position-gap]\n",
    "                element_position = element_position - gap\n",
    "            lst[element_position] = current_element\n",
    "            #print(lst)\n",
    "        gap=gap//2\n",
    "            \n",
    "        \n",
    "        \n",
    "        \n",
    "    \n",
    "size = int(input())\n",
    "lst = [int(input()) for i in range(size)]\n",
    "print(\"before sorted list: \",lst)\n",
    "shellsort(lst)\n",
    "print(\"after sorted list: \",lst)"
   ]
  },
  {
   "cell_type": "markdown",
   "id": "148e1b9e",
   "metadata": {},
   "source": [
    "# Quick sort"
   ]
  },
  {
   "cell_type": "code",
   "execution_count": 1,
   "id": "3c9ee136",
   "metadata": {},
   "outputs": [
    {
     "name": "stdout",
     "output_type": "stream",
     "text": [
      "Unsorted Array\n",
      "[1, 7, 4, 1, 10, 9, -2]\n",
      "Sorted Array in Ascending Order:\n",
      "[-2, 1, 1, 4, 7, 9, 10]\n"
     ]
    }
   ],
   "source": [
    "\n",
    "def partition(array, low, high):\n",
    "\tpivot = array[high]\n",
    "\ti = low - 1   \n",
    "\tfor j in range(low, high):\n",
    "\t\tif array[j] <= pivot:            \n",
    "\t\t\ti = i + 1\n",
    "\t\t\t(array[i], array[j]) = (array[j], array[i])\n",
    "\n",
    "\t(array[i + 1], array[high]) = (array[high], array[i + 1])\n",
    "\n",
    "\treturn i + 1\n",
    "\n",
    "\n",
    "def quickSort(array, low, high):\n",
    "\tif low < high:\n",
    "\n",
    "\t\tpi = partition(array, low, high)\n",
    "\t\tquickSort(array, low, pi - 1)\n",
    "\t\tquickSort(array, pi + 1, high)\n",
    "data = [1, 7, 4, 1, 10, 9, -2]\n",
    "print(\"Unsorted Array\")\n",
    "print(data)\n",
    "\n",
    "size = len(data)\n",
    "\n",
    "quickSort(data, 0, size - 1)\n",
    "\n",
    "print('Sorted Array in Ascending Order:')\n",
    "print(data)\n"
   ]
  },
  {
   "cell_type": "markdown",
   "id": "f6eaefa6",
   "metadata": {},
   "source": [
    "# Single linked list"
   ]
  },
  {
   "cell_type": "code",
   "execution_count": 1,
   "id": "f9eb91da",
   "metadata": {},
   "outputs": [
    {
     "name": "stdout",
     "output_type": "stream",
     "text": [
      "5 8 "
     ]
    }
   ],
   "source": [
    "# Python3 program to prsecond linked list\n",
    "# according to data in the first linked list\n",
    "\n",
    "# Linked List Node\n",
    "class new_Node:\n",
    "\tdef __init__(self, data):\n",
    "\t\tself.data = data\n",
    "\t\tself.next = None\n",
    "def push(head_ref, new_data):\n",
    "\tnew_node = new_Node(new_data)\n",
    "\tnew_node.next = head_ref\n",
    "\thead_ref = new_node\n",
    "\treturn head_ref\n",
    "def printSecondList(l1,l2):\n",
    "\ttemp = l1\n",
    "\ttemp1 = l2\n",
    "\twhile (temp != None):\n",
    "\t\ti = 1\n",
    "\t\twhile (i < temp.data):\n",
    "\t\t\ttemp1 = temp1.next\n",
    "\t\t\ti += 1\n",
    "\t\tprint(temp1.data,end=\" \")\n",
    "\t\ttemp = temp.next\n",
    "\t\ttemp1 = l2\n",
    "\n",
    "# Driver Code\n",
    "l1 = None\n",
    "l2 = None\n",
    "\n",
    "# Creating 1st list\n",
    "# 2 . 5\n",
    "l1 = push(l1, 5)\n",
    "l1 = push(l1, 2)\n",
    "\n",
    "# Creating 2nd list\n",
    "# 4 . 5 . 6 . 7 . 8\n",
    "l2 = push(l2, 8)\n",
    "l2 = push(l2, 7)\n",
    "l2 = push(l2, 6)\n",
    "l2 = push(l2, 5)\n",
    "l2 = push(l2, 4)\n",
    "\n",
    "printSecondList(l1, l2)\n",
    "\n",
    "# This code is contributed by shubhamsingh10\n"
   ]
  },
  {
   "cell_type": "code",
   "execution_count": 2,
   "id": "94d67d40",
   "metadata": {},
   "outputs": [
    {
     "ename": "SyntaxError",
     "evalue": "invalid syntax (Temp/ipykernel_10932/660649777.py, line 8)",
     "output_type": "error",
     "traceback": [
      "\u001b[1;36m  File \u001b[1;32m\"C:\\Users\\DELL\\AppData\\Local\\Temp/ipykernel_10932/660649777.py\"\u001b[1;36m, line \u001b[1;32m8\u001b[0m\n\u001b[1;33m    return t = t + num\u001b[0m\n\u001b[1;37m             ^\u001b[0m\n\u001b[1;31mSyntaxError\u001b[0m\u001b[1;31m:\u001b[0m invalid syntax\n"
     ]
    }
   ],
   "source": [
    "t = 0\n",
    "def Sum(num):\n",
    "    if num == 0:\n",
    "        return 0\n",
    "    elif num==1:\n",
    "        return 1\n",
    "    else:\n",
    "        return t = t + num\n",
    "num= 10\n",
    "print(Sum(num))"
   ]
  },
  {
   "cell_type": "code",
   "execution_count": null,
   "id": "1c6f7e66",
   "metadata": {},
   "outputs": [],
   "source": [
    "def tri_recursion(k):\n",
    "    if(k > 0):\n",
    "        result = k + tri_recursion(k)\n",
    "        print(result)\n",
    "    else:\n",
    "        result = 0\n",
    "    return result\n",
    "\n",
    "print(\"\\n\\nRecursion Example Results\")\n",
    "tri_recursion(4)\n"
   ]
  },
  {
   "cell_type": "code",
   "execution_count": 1,
   "id": "00d0336f",
   "metadata": {},
   "outputs": [
    {
     "name": "stdout",
     "output_type": "stream",
     "text": [
      "ile\n"
     ]
    }
   ],
   "source": [
    "print(\"ile\")"
   ]
  },
  {
   "cell_type": "code",
   "execution_count": null,
   "id": "c41d17db",
   "metadata": {},
   "outputs": [],
   "source": []
  }
 ],
 "metadata": {
  "kernelspec": {
   "display_name": "Python 3 (ipykernel)",
   "language": "python",
   "name": "python3"
  },
  "language_info": {
   "codemirror_mode": {
    "name": "ipython",
    "version": 3
   },
   "file_extension": ".py",
   "mimetype": "text/x-python",
   "name": "python",
   "nbconvert_exporter": "python",
   "pygments_lexer": "ipython3",
   "version": "3.9.7"
  }
 },
 "nbformat": 4,
 "nbformat_minor": 5
}
