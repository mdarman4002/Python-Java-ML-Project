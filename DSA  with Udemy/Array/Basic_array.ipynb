{
 "cells": [
  {
   "cell_type": "code",
   "execution_count": 1,
   "id": "f5b39c12",
   "metadata": {},
   "outputs": [
    {
     "name": "stdout",
     "output_type": "stream",
     "text": [
      "array('i', [1, 2, 4, 5, 6])\n"
     ]
    }
   ],
   "source": [
    "from array import *\n",
    "\n",
    "arr1= array('i',[1,2,3,4,5,6])\n",
    "arr1.remove(3)\n",
    "print(arr1)"
   ]
  },
  {
   "cell_type": "code",
   "execution_count": 2,
   "id": "75e64539",
   "metadata": {},
   "outputs": [
    {
     "name": "stdout",
     "output_type": "stream",
     "text": [
      "at index: 3 is 4\n"
     ]
    }
   ],
   "source": [
    "arr1= array('i',[1,2,3,4,5,6])\n",
    "index = 3\n",
    "def indexing(arr,index):\n",
    "    return arr[index]\n",
    "print(\"at index:\",index,\"is\",indexing(arr1,index))"
   ]
  },
  {
   "cell_type": "code",
   "execution_count": 3,
   "id": "d3c9b009",
   "metadata": {},
   "outputs": [
    {
     "name": "stdout",
     "output_type": "stream",
     "text": [
      "array('i', [1, 2, 3, 4, 5, 6])\n",
      "[1, 2, 3, 4, 5, 6]\n"
     ]
    }
   ],
   "source": [
    "print(arr1)\n",
    "print(arr1.tolist()) # convert into list"
   ]
  },
  {
   "cell_type": "code",
   "execution_count": 4,
   "id": "1793be8b",
   "metadata": {},
   "outputs": [
    {
     "name": "stdout",
     "output_type": "stream",
     "text": [
      "b'\\x01\\x00\\x00\\x00\\x02\\x00\\x00\\x00\\x03\\x00\\x00\\x00\\x04\\x00\\x00\\x00\\x05\\x00\\x00\\x00\\x06\\x00\\x00\\x00'\n"
     ]
    }
   ],
   "source": [
    "# arr1.tostring()\n",
    "into_Bytes = (arr1.tobytes()) # coverted into bytes\n",
    "print(into_Bytes)"
   ]
  },
  {
   "cell_type": "code",
   "execution_count": 5,
   "id": "b3385670",
   "metadata": {},
   "outputs": [
    {
     "name": "stdout",
     "output_type": "stream",
     "text": [
      "array('i', [1, 2, 3, 4, 5, 6])\n"
     ]
    }
   ],
   "source": [
    "temp = array('i')\n",
    "(temp.frombytes(into_Bytes))   # from bytes to integer\n",
    "print(temp)\n"
   ]
  },
  {
   "cell_type": "code",
   "execution_count": null,
   "id": "a8079418",
   "metadata": {},
   "outputs": [],
   "source": []
  }
 ],
 "metadata": {
  "kernelspec": {
   "display_name": "Python 3 (ipykernel)",
   "language": "python",
   "name": "python3"
  },
  "language_info": {
   "codemirror_mode": {
    "name": "ipython",
    "version": 3
   },
   "file_extension": ".py",
   "mimetype": "text/x-python",
   "name": "python",
   "nbconvert_exporter": "python",
   "pygments_lexer": "ipython3",
   "version": "3.9.7"
  }
 },
 "nbformat": 4,
 "nbformat_minor": 5
}
