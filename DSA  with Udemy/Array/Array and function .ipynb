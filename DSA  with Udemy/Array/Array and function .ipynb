{
 "cells": [
  {
   "cell_type": "code",
   "execution_count": 17,
   "id": "55cb2019",
   "metadata": {},
   "outputs": [
    {
     "name": "stdout",
     "output_type": "stream",
     "text": [
      "[25, 32, 65, 69, 75, 98]\n"
     ]
    }
   ],
   "source": [
    "array=[25,65,98,69,75,32]\n",
    "array.sort()\n",
    "print(array)"
   ]
  },
  {
   "cell_type": "code",
   "execution_count": 18,
   "id": "f8b7cc44",
   "metadata": {},
   "outputs": [
    {
     "data": {
      "text/plain": [
       "25"
      ]
     },
     "execution_count": 18,
     "metadata": {},
     "output_type": "execute_result"
    }
   ],
   "source": [
    "array.pop(0)\n"
   ]
  },
  {
   "cell_type": "code",
   "execution_count": 19,
   "id": "c391af39",
   "metadata": {},
   "outputs": [
    {
     "data": {
      "text/plain": [
       "98"
      ]
     },
     "execution_count": 19,
     "metadata": {},
     "output_type": "execute_result"
    }
   ],
   "source": [
    "array.pop()"
   ]
  },
  {
   "cell_type": "code",
   "execution_count": 35,
   "id": "75c51aad",
   "metadata": {},
   "outputs": [
    {
     "data": {
      "text/plain": [
       "[75, 69, 96, 65, 32, 65]"
      ]
     },
     "execution_count": 35,
     "metadata": {},
     "output_type": "execute_result"
    }
   ],
   "source": [
    "array.append(65)\n",
    "#(array.sort())\n",
    "array"
   ]
  },
  {
   "cell_type": "code",
   "execution_count": 21,
   "id": "e0c12d6b",
   "metadata": {},
   "outputs": [
    {
     "data": {
      "text/plain": [
       "[32, 65, 65, 69, 75]"
      ]
     },
     "execution_count": 21,
     "metadata": {},
     "output_type": "execute_result"
    }
   ],
   "source": [
    "array.copy()"
   ]
  },
  {
   "cell_type": "code",
   "execution_count": 26,
   "id": "eb334a7f",
   "metadata": {},
   "outputs": [
    {
     "data": {
      "text/plain": [
       "1"
      ]
     },
     "execution_count": 26,
     "metadata": {},
     "output_type": "execute_result"
    }
   ],
   "source": [
    "array.count(75)"
   ]
  },
  {
   "cell_type": "code",
   "execution_count": 27,
   "id": "d102715d",
   "metadata": {},
   "outputs": [],
   "source": [
    "array.reverse()"
   ]
  },
  {
   "cell_type": "code",
   "execution_count": 28,
   "id": "27ef25d0",
   "metadata": {},
   "outputs": [
    {
     "data": {
      "text/plain": [
       "[75, 69, 65, 65, 32]"
      ]
     },
     "execution_count": 28,
     "metadata": {},
     "output_type": "execute_result"
    }
   ],
   "source": [
    "array"
   ]
  },
  {
   "cell_type": "code",
   "execution_count": 30,
   "id": "f7d80353",
   "metadata": {},
   "outputs": [],
   "source": [
    "array.remove(65)"
   ]
  },
  {
   "cell_type": "code",
   "execution_count": 31,
   "id": "1fb60695",
   "metadata": {},
   "outputs": [
    {
     "data": {
      "text/plain": [
       "[75, 69, 65, 32]"
      ]
     },
     "execution_count": 31,
     "metadata": {},
     "output_type": "execute_result"
    }
   ],
   "source": [
    "array"
   ]
  },
  {
   "cell_type": "code",
   "execution_count": 33,
   "id": "ba0fa408",
   "metadata": {},
   "outputs": [],
   "source": [
    "array.insert(2,96)"
   ]
  },
  {
   "cell_type": "code",
   "execution_count": 34,
   "id": "7b4e1535",
   "metadata": {},
   "outputs": [
    {
     "data": {
      "text/plain": [
       "[75, 69, 96, 65, 32]"
      ]
     },
     "execution_count": 34,
     "metadata": {},
     "output_type": "execute_result"
    }
   ],
   "source": [
    "array"
   ]
  },
  {
   "cell_type": "code",
   "execution_count": 36,
   "id": "18e5df52",
   "metadata": {},
   "outputs": [
    {
     "name": "stdout",
     "output_type": "stream",
     "text": [
      "Enter array range: 3\n",
      "25\n",
      "65\n",
      "84\n",
      "[25, 65, 84]\n"
     ]
    }
   ],
   "source": [
    "Range = int(input(\"Enter array range: \"))\n",
    "array = []\n",
    "for i in range(Range):\n",
    "    num = int(input())\n",
    "    array.append(num)\n",
    "print(array)\n",
    "    "
   ]
  },
  {
   "cell_type": "code",
   "execution_count": 38,
   "id": "9418b2a5",
   "metadata": {},
   "outputs": [
    {
     "data": {
      "text/plain": [
       "[25, 65, 84]"
      ]
     },
     "execution_count": 38,
     "metadata": {},
     "output_type": "execute_result"
    }
   ],
   "source": [
    "array.sort()\n",
    "array"
   ]
  },
  {
   "cell_type": "code",
   "execution_count": 41,
   "id": "bfa074c8",
   "metadata": {},
   "outputs": [],
   "source": [
    "array.insert(0,100)\n",
    "array.insert(2,-6)\n",
    "array.sort()"
   ]
  },
  {
   "cell_type": "code",
   "execution_count": 42,
   "id": "beb69a00",
   "metadata": {},
   "outputs": [
    {
     "name": "stdout",
     "output_type": "stream",
     "text": [
      "[-6, 25, 65, 84, 100, 100, 100]\n"
     ]
    }
   ],
   "source": [
    "print(array)"
   ]
  },
  {
   "cell_type": "code",
   "execution_count": 44,
   "id": "687426e3",
   "metadata": {},
   "outputs": [
    {
     "name": "stdout",
     "output_type": "stream",
     "text": [
      "armanhi\n"
     ]
    }
   ],
   "source": [
    "def name(n):\n",
    "    print(\"arman\"+ n)\n",
    "name(\"hi\")"
   ]
  },
  {
   "cell_type": "code",
   "execution_count": 51,
   "id": "89b94cc9",
   "metadata": {},
   "outputs": [
    {
     "name": "stdout",
     "output_type": "stream",
     "text": [
      "name:  18 \n",
      "age: arman\n"
     ]
    }
   ],
   "source": [
    "def a(age,name=\"Arman\"):\n",
    "    print(\"name: \",name,\"\\nage:\",age)\n",
    "a(\"arman\",18)\n",
    "    "
   ]
  },
  {
   "cell_type": "code",
   "execution_count": 56,
   "id": "a96a0f79",
   "metadata": {},
   "outputs": [
    {
     "name": "stdout",
     "output_type": "stream",
     "text": [
      "friends name;  faisal\n"
     ]
    }
   ],
   "source": [
    "def friend(*name):\n",
    "    print(\"friends name; \",name[1])\n",
    "friend(\"arman\",\"faisal\")"
   ]
  },
  {
   "cell_type": "code",
   "execution_count": 53,
   "id": "5a07eb59",
   "metadata": {},
   "outputs": [
    {
     "name": "stdout",
     "output_type": "stream",
     "text": [
      "The youngest child is Linus\n"
     ]
    }
   ],
   "source": [
    "def my_function(*kids):\n",
    "  print(\"The youngest child is \" + kids[2])\n",
    "\n",
    "my_function(\"Emil\", \"Tobias\", \"Linus\")"
   ]
  },
  {
   "cell_type": "code",
   "execution_count": 60,
   "id": "beac168e",
   "metadata": {},
   "outputs": [
    {
     "name": "stdout",
     "output_type": "stream",
     "text": [
      "print value \n",
      " faisal \n",
      " firdosh \n",
      " arman\n"
     ]
    }
   ],
   "source": [
    "def my_func(a1, a2, a3):\n",
    "    print(\"print value \\n\",a1,\"\\n\",a2,\"\\n\",a3)\n",
    "my_func(a3=\"arman\",a1=\"faisal\",a2=\"firdosh\")"
   ]
  },
  {
   "cell_type": "code",
   "execution_count": 64,
   "id": "91188cec",
   "metadata": {},
   "outputs": [
    {
     "name": "stdout",
     "output_type": "stream",
     "text": [
      "His last name is Refsnes\n"
     ]
    }
   ],
   "source": [
    "def my_function(**kid):\n",
    "  print(\"His last name is \" + kid[\"lname\"])\n",
    "\n",
    "my_function(fname = \"Tobias\", lname = \"Refsnes\")"
   ]
  },
  {
   "cell_type": "code",
   "execution_count": 65,
   "id": "f7031f29",
   "metadata": {},
   "outputs": [
    {
     "name": "stdout",
     "output_type": "stream",
     "text": [
      "I am from Sweden\n",
      "I am from India\n",
      "I am from Norway\n",
      "I am from Brazil\n"
     ]
    }
   ],
   "source": [
    "def my_function(country = \"Norway\"):\n",
    "  print(\"I am from \" + country)\n",
    "\n",
    "my_function(\"Sweden\")\n",
    "my_function(\"India\")\n",
    "my_function()\n",
    "my_function(\"Brazil\")"
   ]
  },
  {
   "cell_type": "code",
   "execution_count": 68,
   "id": "3f5060ca",
   "metadata": {},
   "outputs": [
    {
     "name": "stdout",
     "output_type": "stream",
     "text": [
      "apple\n",
      "mango\n",
      "banana\n"
     ]
    }
   ],
   "source": [
    "def loop(fruits):\n",
    "    for i in fruits:\n",
    "        print(i)\n",
    "fruits = [\"apple\",\"mango\",\"banana\"]\n",
    "loop(fruits)"
   ]
  },
  {
   "cell_type": "code",
   "execution_count": 69,
   "id": "f4741e2d",
   "metadata": {},
   "outputs": [],
   "source": [
    "def fuc():\n",
    "    pass"
   ]
  },
  {
   "cell_type": "code",
   "execution_count": 81,
   "id": "9043405d",
   "metadata": {},
   "outputs": [
    {
     "name": "stdout",
     "output_type": "stream",
     "text": [
      "Recursion Example Results\n",
      "\n",
      "1\n",
      "3\n",
      "6\n",
      "10\n",
      "15\n",
      "21\n"
     ]
    },
    {
     "data": {
      "text/plain": [
       "21"
      ]
     },
     "execution_count": 81,
     "metadata": {},
     "output_type": "execute_result"
    }
   ],
   "source": [
    "def tri_recursion(k):\n",
    "  if(k > 0):\n",
    "    result = k + tri_recursion(k - 1)\n",
    "    print(result)\n",
    "  else:\n",
    "    result = 0\n",
    "  return result\n",
    "\n",
    "print(\"Recursion Example Results\\n\")\n",
    "tri_recursion(6)"
   ]
  },
  {
   "cell_type": "code",
   "execution_count": null,
   "id": "5da5048b",
   "metadata": {},
   "outputs": [
    {
     "name": "stdout",
     "output_type": "stream",
     "text": [
      "Enter num to find fact: 5\n"
     ]
    }
   ],
   "source": [
    "def fact(num):\n",
    "    result= num * fact(num-1)\n",
    "    print(f\"factorial of {num} = \",result)\n",
    "    \n",
    "num = int(input(\"Enter num to find fact: \"))\n",
    "fact(num)"
   ]
  },
  {
   "cell_type": "code",
   "execution_count": null,
   "id": "36f9a77b",
   "metadata": {},
   "outputs": [],
   "source": []
  }
 ],
 "metadata": {
  "kernelspec": {
   "display_name": "Python 3 (ipykernel)",
   "language": "python",
   "name": "python3"
  },
  "language_info": {
   "codemirror_mode": {
    "name": "ipython",
    "version": 3
   },
   "file_extension": ".py",
   "mimetype": "text/x-python",
   "name": "python",
   "nbconvert_exporter": "python",
   "pygments_lexer": "ipython3",
   "version": "3.9.7"
  }
 },
 "nbformat": 4,
 "nbformat_minor": 5
}
