{
 "cells": [
  {
   "cell_type": "code",
   "execution_count": 1,
   "id": "1ce2871a",
   "metadata": {},
   "outputs": [
    {
     "name": "stdout",
     "output_type": "stream",
     "text": [
      "[[ 11 125  10   6]\n",
      " [ 10  14  11   5]\n",
      " [ 12  17  12   8]\n",
      " [ 15  18  14   9]]\n"
     ]
    }
   ],
   "source": [
    "import numpy as np\n",
    "\n",
    "twoDarray = np.array([[11,125,10,6],\n",
    "                    [10,14,11,5],\n",
    "                    [12,17,12,8],\n",
    "                    [15,18,14,9]])\n",
    "print(twoDarray)\n",
    "# space complexity --> O(n^2)\n",
    "# time complexity --> O(n *m)--> O(n)"
   ]
  },
  {
   "cell_type": "code",
   "execution_count": 5,
   "id": "0ff711c3",
   "metadata": {},
   "outputs": [
    {
     "data": {
      "text/plain": [
       "array([[  1,  11, 125,  10,   6],\n",
       "       [  2,  10,  14,  11,   5],\n",
       "       [  3,  12,  17,  12,   8],\n",
       "       [  4,  15,  18,  14,   9]])"
      ]
     },
     "execution_count": 5,
     "metadata": {},
     "output_type": "execute_result"
    }
   ],
   "source": [
    "NewtwoDarray = np.insert(twoDarray,0,[[1,2,3,4]], axis = 1)\n",
    "NewtwoDarray   # axis=1  ---> column wise"
   ]
  },
  {
   "cell_type": "code",
   "execution_count": 7,
   "id": "586bce9d",
   "metadata": {},
   "outputs": [
    {
     "data": {
      "text/plain": [
       "array([[ 11, 125,  10,   6],\n",
       "       [ 10,  14,  11,   5],\n",
       "       [ 12,  17,  12,   8],\n",
       "       [  1,   2,   3,   4],\n",
       "       [ 15,  18,  14,   9]])"
      ]
     },
     "execution_count": 7,
     "metadata": {},
     "output_type": "execute_result"
    }
   ],
   "source": [
    "NewtwoDarray = np.insert(twoDarray,3,[[1,2,3,4]], axis = 0\n",
    "                        )\n",
    "NewtwoDarray      # axis = 0 ---> row wise\n",
    "# time complexity --> O(n *m)--> O(n)"
   ]
  },
  {
   "cell_type": "code",
   "execution_count": 8,
   "id": "5947636d",
   "metadata": {},
   "outputs": [
    {
     "data": {
      "text/plain": [
       "array([[ 11, 125,  10,   6],\n",
       "       [ 10,  14,  11,   5],\n",
       "       [ 12,  17,  12,   8],\n",
       "       [ 15,  18,  14,   9],\n",
       "       [  1,   2,   3,   4]])"
      ]
     },
     "execution_count": 8,
     "metadata": {},
     "output_type": "execute_result"
    }
   ],
   "source": [
    "NewtwoDarray = np.append(twoDarray,[[1,2,3,4]], axis = 0)\n",
    "                        \n",
    "NewtwoDarray      # axis = 0 ---> row wise"
   ]
  },
  {
   "cell_type": "code",
   "execution_count": 30,
   "id": "ef9c4a87",
   "metadata": {},
   "outputs": [
    {
     "name": "stdout",
     "output_type": "stream",
     "text": [
      "5\n",
      "4\n",
      "12\n"
     ]
    }
   ],
   "source": [
    "import numpy as np\n",
    "\n",
    "twoDarray = np.array([[11,125,10,6,7],\n",
    "                    [10,14,11,5,10],\n",
    "                    [12,17,12,8,25],\n",
    "                    [15,18,14,9,95]])\n",
    "print(len(twoDarray[0])) #  ---> no of columns\n",
    "print(len(twoDarray))     # ---> no of rows\n",
    "\n",
    "def accessElement(array,RowIndex, ColumnIndex):\n",
    "    if RowIndex >= len(array) and ColumnIndex >= len(array[0]):\n",
    "        print(\"incorrect index\")\n",
    "    else:\n",
    "        print(array[RowIndex][ColumnIndex])\n",
    "(accessElement(twoDarray,2,2))\n",
    "\n",
    "# access time complexity is O(1)\n",
    "# space complexity is also O(1)"
   ]
  },
  {
   "cell_type": "markdown",
   "id": "8b39a204",
   "metadata": {},
   "source": [
    "# traversling two dimentional array"
   ]
  },
  {
   "cell_type": "code",
   "execution_count": 31,
   "id": "289f8bf6",
   "metadata": {},
   "outputs": [
    {
     "name": "stdout",
     "output_type": "stream",
     "text": [
      "11\n",
      "125\n",
      "10\n",
      "6\n",
      "7\n",
      "10\n",
      "14\n",
      "11\n",
      "5\n",
      "10\n",
      "12\n",
      "17\n",
      "12\n",
      "8\n",
      "25\n",
      "15\n",
      "18\n",
      "14\n",
      "9\n",
      "95\n"
     ]
    }
   ],
   "source": [
    "import numpy as np\n",
    "\n",
    "twoDarray = np.array([[11,125,10,6,7],\n",
    "                    [10,14,11,5,10],\n",
    "                    [12,17,12,8,25],\n",
    "                    [15,18,14,9,95]])\n",
    "def traverseArray(array):\n",
    "    for i in range(len(array)):\n",
    "        for j in range(len(array[0])):\n",
    "            print(array[i][j])\n",
    "traverseArray(twoDarray)\n",
    "# time complexity O(n)\n",
    "# space complexity O(1)"
   ]
  },
  {
   "cell_type": "markdown",
   "id": "713e1289",
   "metadata": {},
   "source": [
    "# searching element in 2D array"
   ]
  },
  {
   "cell_type": "code",
   "execution_count": 42,
   "id": "f4681938",
   "metadata": {},
   "outputs": [
    {
     "name": "stdout",
     "output_type": "stream",
     "text": [
      "The value is located at index:0 4\n"
     ]
    }
   ],
   "source": [
    "import numpy as np\n",
    "\n",
    "twoDarray = np.array([[11,125,10,6,7],\n",
    "                    [10,14,11,5,10],\n",
    "                    [12,17,12,8,25],\n",
    "                    [15,18,14,9,95]])\n",
    "def SearchElement(array,element):\n",
    "    for i in range(len(array)):\n",
    "        for j in range(len(array[0])):\n",
    "            if array[i][j] == element:\n",
    "                return \"The value is located at index:\"+str(i)+\" \"+str(j)\n",
    "    return \"the element is not found\"\n",
    "print(SearchElement(twoDarray,7))"
   ]
  },
  {
   "cell_type": "markdown",
   "id": "8e8ae89b",
   "metadata": {},
   "source": [
    "# deleting element in 2D array"
   ]
  },
  {
   "cell_type": "code",
   "execution_count": 46,
   "id": "6c9fd98f",
   "metadata": {},
   "outputs": [
    {
     "name": "stdout",
     "output_type": "stream",
     "text": [
      "[[ 11 125  10   6   7]\n",
      " [ 10  14  11   5  10]\n",
      " [ 15  18  14   9  95]]\n"
     ]
    }
   ],
   "source": [
    "import numpy as np\n",
    "\n",
    "twoDarray = np.array([[11,125,10,6,7],\n",
    "                    [10,14,11,5,10],\n",
    "                    [12,17,12,8,25],\n",
    "                    [15,18,14,9,95]])\n",
    "newArray = np.delete(twoDarray,2,axis = 0)\n",
    "print(newArray)\n",
    "# Time complexity and Space complexity both ----> O(n*m)--> O(n) because after deletion print the remaing data"
   ]
  },
  {
   "cell_type": "code",
   "execution_count": null,
   "id": "3e9ba252",
   "metadata": {},
   "outputs": [],
   "source": []
  },
  {
   "cell_type": "code",
   "execution_count": null,
   "id": "0ca09058",
   "metadata": {},
   "outputs": [],
   "source": []
  }
 ],
 "metadata": {
  "kernelspec": {
   "display_name": "Python 3 (ipykernel)",
   "language": "python",
   "name": "python3"
  },
  "language_info": {
   "codemirror_mode": {
    "name": "ipython",
    "version": 3
   },
   "file_extension": ".py",
   "mimetype": "text/x-python",
   "name": "python",
   "nbconvert_exporter": "python",
   "pygments_lexer": "ipython3",
   "version": "3.9.7"
  }
 },
 "nbformat": 4,
 "nbformat_minor": 5
}
