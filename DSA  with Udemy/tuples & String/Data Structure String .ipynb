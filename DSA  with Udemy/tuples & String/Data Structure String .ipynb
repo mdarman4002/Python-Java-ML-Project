{
 "cells": [
  {
   "cell_type": "markdown",
   "metadata": {},
   "source": [
    "# String"
   ]
  },
  {
   "cell_type": "markdown",
   "metadata": {},
   "source": [
    "A string is a sequence of charactures.\n",
    "\n",
    "Computer don't deal with charactures, they deal with numbers(binary). Even through you may see charactor on your screen, internally it is stored and manipulated as a combination of 0's and 1's.\n",
    "\n",
    "This conversion of charactors to a number called encoding, and the reverse process is decoding. ASCII and Unicode are some of the populator encoding used."
   ]
  },
  {
   "cell_type": "markdown",
   "metadata": {},
   "source": [
    "In Python, String is a sequence of unicode character."
   ]
  },
  {
   "cell_type": "markdown",
   "metadata": {},
   "source": [
    "# How to Create a String"
   ]
  },
  {
   "cell_type": "code",
   "execution_count": 1,
   "metadata": {},
   "outputs": [
    {
     "name": "stdout",
     "output_type": "stream",
     "text": [
      "hello hi\n",
      "hello hi \n",
      "hello hi\n"
     ]
    }
   ],
   "source": [
    "mystring = \"hello hi\"\n",
    "print(mystring)\n",
    "\n",
    "mystring = 'hello hi '\n",
    "print(mystring)\n",
    "\n",
    "mystring = '''hello hi'''\n",
    "print(mystring)"
   ]
  },
  {
   "cell_type": "markdown",
   "metadata": {},
   "source": [
    "# How to Access Character in String "
   ]
  },
  {
   "cell_type": "code",
   "execution_count": 4,
   "metadata": {},
   "outputs": [
    {
     "name": "stdout",
     "output_type": "stream",
     "text": [
      "o\n",
      "e\n",
      "lo\n"
     ]
    }
   ],
   "source": [
    "mystring = \"hello\"\n",
    "\n",
    "#print first character \n",
    "print(mystring[4])\n",
    "\n",
    "#print last character of string using negative indexing\n",
    "print(mystring[-4])\n",
    "\n",
    "#slicing of 2nd and 5th character \n",
    "print(mystring[3:5])"
   ]
  },
  {
   "cell_type": "code",
   "execution_count": null,
   "metadata": {},
   "outputs": [],
   "source": []
  },
  {
   "cell_type": "code",
   "execution_count": null,
   "metadata": {},
   "outputs": [],
   "source": []
  },
  {
   "cell_type": "markdown",
   "metadata": {},
   "source": [
    "If we try to access index out of range or use decimal number, we get errors."
   ]
  },
  {
   "cell_type": "code",
   "execution_count": 6,
   "metadata": {},
   "outputs": [
    {
     "ename": "IndexError",
     "evalue": "string index out of range",
     "output_type": "error",
     "traceback": [
      "\u001b[1;31m---------------------------------------------------------------------------\u001b[0m",
      "\u001b[1;31mIndexError\u001b[0m                                Traceback (most recent call last)",
      "\u001b[1;32m<ipython-input-6-51da74bbfeec>\u001b[0m in \u001b[0;36m<module>\u001b[1;34m\u001b[0m\n\u001b[1;32m----> 1\u001b[1;33m \u001b[0mprint\u001b[0m\u001b[1;33m(\u001b[0m\u001b[0mmystring\u001b[0m\u001b[1;33m[\u001b[0m\u001b[1;36m15\u001b[0m\u001b[1;33m]\u001b[0m\u001b[1;33m)\u001b[0m\u001b[1;33m\u001b[0m\u001b[1;33m\u001b[0m\u001b[0m\n\u001b[0m",
      "\u001b[1;31mIndexError\u001b[0m: string index out of range"
     ]
    }
   ],
   "source": [
    "print(mystring[15])"
   ]
  },
  {
   "cell_type": "code",
   "execution_count": 5,
   "metadata": {},
   "outputs": [
    {
     "ename": "TypeError",
     "evalue": "string indices must be integers",
     "output_type": "error",
     "traceback": [
      "\u001b[1;31m---------------------------------------------------------------------------\u001b[0m",
      "\u001b[1;31mTypeError\u001b[0m                                 Traceback (most recent call last)",
      "\u001b[1;32m<ipython-input-5-ed7a544e721c>\u001b[0m in \u001b[0;36m<module>\u001b[1;34m\u001b[0m\n\u001b[1;32m----> 1\u001b[1;33m \u001b[0mprint\u001b[0m\u001b[1;33m(\u001b[0m\u001b[0mmystring\u001b[0m\u001b[1;33m[\u001b[0m\u001b[1;36m1.5\u001b[0m\u001b[1;33m]\u001b[0m\u001b[1;33m)\u001b[0m\u001b[1;33m\u001b[0m\u001b[1;33m\u001b[0m\u001b[0m\n\u001b[0m",
      "\u001b[1;31mTypeError\u001b[0m: string indices must be integers"
     ]
    }
   ],
   "source": [
    "print(mystring[1.5])"
   ]
  },
  {
   "cell_type": "markdown",
   "metadata": {},
   "source": [
    "# How to change or Delete character in String "
   ]
  },
  {
   "cell_type": "markdown",
   "metadata": {},
   "source": [
    "Strings are immutable. This means that elements of as string can't be change once it has been assigned. "
   ]
  },
  {
   "cell_type": "markdown",
   "metadata": {},
   "source": [
    "We can simply reassign different string to the same name."
   ]
  },
  {
   "cell_type": "code",
   "execution_count": 12,
   "metadata": {},
   "outputs": [
    {
     "ename": "TypeError",
     "evalue": "'str' object does not support item assignment",
     "output_type": "error",
     "traceback": [
      "\u001b[1;31m---------------------------------------------------------------------------\u001b[0m",
      "\u001b[1;31mTypeError\u001b[0m                                 Traceback (most recent call last)",
      "\u001b[1;32m<ipython-input-12-660da19442f4>\u001b[0m in \u001b[0;36m<module>\u001b[1;34m\u001b[0m\n\u001b[0;32m      1\u001b[0m \u001b[0mmystring\u001b[0m \u001b[1;33m=\u001b[0m \u001b[1;34m\"hello\"\u001b[0m\u001b[1;33m\u001b[0m\u001b[1;33m\u001b[0m\u001b[0m\n\u001b[1;32m----> 2\u001b[1;33m \u001b[0mmystring\u001b[0m\u001b[1;33m[\u001b[0m\u001b[1;36m4\u001b[0m\u001b[1;33m]\u001b[0m \u001b[1;33m=\u001b[0m \u001b[1;34m'i'\u001b[0m \u001b[1;31m# strings are immutable.\u001b[0m\u001b[1;33m\u001b[0m\u001b[1;33m\u001b[0m\u001b[0m\n\u001b[0m",
      "\u001b[1;31mTypeError\u001b[0m: 'str' object does not support item assignment"
     ]
    }
   ],
   "source": [
    "mystring = \"hello\"\n",
    "mystring[4] = 'i' # strings are immutable."
   ]
  },
  {
   "cell_type": "markdown",
   "metadata": {},
   "source": [
    "We can't delete or remove characters from string. But delete entire string is possible using the keyword del."
   ]
  },
  {
   "cell_type": "code",
   "execution_count": 14,
   "metadata": {},
   "outputs": [],
   "source": [
    "del mystring"
   ]
  },
  {
   "cell_type": "code",
   "execution_count": 15,
   "metadata": {},
   "outputs": [
    {
     "ename": "NameError",
     "evalue": "name 'mystring' is not defined",
     "output_type": "error",
     "traceback": [
      "\u001b[1;31m---------------------------------------------------------------------------\u001b[0m",
      "\u001b[1;31mNameError\u001b[0m                                 Traceback (most recent call last)",
      "\u001b[1;32m<ipython-input-15-fe4c199fc922>\u001b[0m in \u001b[0;36m<module>\u001b[1;34m\u001b[0m\n\u001b[1;32m----> 1\u001b[1;33m \u001b[0mprint\u001b[0m\u001b[1;33m(\u001b[0m\u001b[0mmystring\u001b[0m\u001b[1;33m)\u001b[0m\u001b[1;33m\u001b[0m\u001b[1;33m\u001b[0m\u001b[0m\n\u001b[0m",
      "\u001b[1;31mNameError\u001b[0m: name 'mystring' is not defined"
     ]
    }
   ],
   "source": [
    "print(mystring)"
   ]
  },
  {
   "cell_type": "markdown",
   "metadata": {},
   "source": [
    "# String operations"
   ]
  },
  {
   "cell_type": "code",
   "execution_count": 20,
   "metadata": {},
   "outputs": [
    {
     "name": "stdout",
     "output_type": "stream",
     "text": [
      "2247579184488\n",
      "Harsh raj singh hello !\n",
      "Harsh raj singh Harsh raj singh Harsh raj singh \n",
      "hello !\n",
      "2247580148432\n"
     ]
    }
   ],
   "source": [
    "s1 = \"hello !\"\n",
    "s2 = \"Harsh raj singh \"\n",
    "print(id(s2))\n",
    "\n",
    "# concatenation of 2 strings\n",
    "print( s2 + s1 )\n",
    "\n",
    "# repeat string n times\n",
    "print(s2*3)\n",
    "\n",
    "s2 = s1\n",
    "print(s2)\n",
    "print(id(s2))"
   ]
  },
  {
   "cell_type": "markdown",
   "metadata": {},
   "source": [
    "# Iteration through strings"
   ]
  },
  {
   "cell_type": "code",
   "execution_count": 22,
   "metadata": {},
   "outputs": [
    {
     "name": "stdout",
     "output_type": "stream",
     "text": [
      "1 letter found\n"
     ]
    }
   ],
   "source": [
    "count = 0\n",
    "for l in \"hello word\":\n",
    "    if l=='w':\n",
    "        count += 1\n",
    "print(count,'letter found')"
   ]
  },
  {
   "cell_type": "markdown",
   "metadata": {},
   "source": [
    "# String membership test"
   ]
  },
  {
   "cell_type": "code",
   "execution_count": 25,
   "metadata": {},
   "outputs": [
    {
     "name": "stdout",
     "output_type": "stream",
     "text": [
      "False\n"
     ]
    }
   ],
   "source": [
    "print('a' in \"hello word\" ) # in operator to test memberhship"
   ]
  },
  {
   "cell_type": "code",
   "execution_count": 29,
   "metadata": {},
   "outputs": [
    {
     "name": "stdout",
     "output_type": "stream",
     "text": [
      "False\n"
     ]
    }
   ],
   "source": [
    "print('ow' in \"hello word\" )"
   ]
  },
  {
   "cell_type": "markdown",
   "metadata": {},
   "source": [
    "# Sring Methods"
   ]
  },
  {
   "cell_type": "markdown",
   "metadata": {},
   "source": [
    "some of the commonly used method are lower(),upper(), join(),split(), find(), replace() etc."
   ]
  },
  {
   "cell_type": "code",
   "execution_count": 30,
   "metadata": {},
   "outputs": [
    {
     "data": {
      "text/plain": [
       "'hello hi'"
      ]
     },
     "execution_count": 30,
     "metadata": {},
     "output_type": "execute_result"
    }
   ],
   "source": [
    "'HELLO HI'.lower()"
   ]
  },
  {
   "cell_type": "code",
   "execution_count": 31,
   "metadata": {},
   "outputs": [
    {
     "data": {
      "text/plain": [
       "'HELLO HI'"
      ]
     },
     "execution_count": 31,
     "metadata": {},
     "output_type": "execute_result"
    }
   ],
   "source": [
    "'hello hi'.upper()"
   ]
  },
  {
   "cell_type": "code",
   "execution_count": 32,
   "metadata": {},
   "outputs": [
    {
     "data": {
      "text/plain": [
       "['This', 'will', 'split', 'all', 'words', 'in', 'a', 'list']"
      ]
     },
     "execution_count": 32,
     "metadata": {},
     "output_type": "execute_result"
    }
   ],
   "source": [
    "\" This will split all words in a list\".split()"
   ]
  },
  {
   "cell_type": "code",
   "execution_count": 33,
   "metadata": {},
   "outputs": [
    {
     "data": {
      "text/plain": [
       "['THIS', 'WILL', 'SPLIT', 'ALL', 'WORDS', 'IN', 'A', 'LIST']"
      ]
     },
     "execution_count": 33,
     "metadata": {},
     "output_type": "execute_result"
    }
   ],
   "source": [
    "\" This will split all words in a list\".upper().split()"
   ]
  },
  {
   "cell_type": "code",
   "execution_count": 34,
   "metadata": {},
   "outputs": [
    {
     "data": {
      "text/plain": [
       "'THISWILLSPLITALLWORDSINALIST'"
      ]
     },
     "execution_count": 34,
     "metadata": {},
     "output_type": "execute_result"
    }
   ],
   "source": [
    "''.join(['THIS', 'WILL', 'SPLIT', 'ALL', 'WORDS', 'IN', 'A', 'LIST'])"
   ]
  },
  {
   "cell_type": "code",
   "execution_count": 35,
   "metadata": {},
   "outputs": [
    {
     "data": {
      "text/plain": [
       "'THIS WILL SPLIT ALL WORDS IN A LIST'"
      ]
     },
     "execution_count": 35,
     "metadata": {},
     "output_type": "execute_result"
    }
   ],
   "source": [
    "' '.join(['THIS', 'WILL', 'SPLIT', 'ALL', 'WORDS', 'IN', 'A', 'LIST'])"
   ]
  },
  {
   "cell_type": "code",
   "execution_count": 36,
   "metadata": {},
   "outputs": [
    {
     "data": {
      "text/plain": [
       "'this will split all words in a list'"
      ]
     },
     "execution_count": 36,
     "metadata": {},
     "output_type": "execute_result"
    }
   ],
   "source": [
    "' '.join(['THIS', 'WILL', 'SPLIT', 'ALL', 'WORDS', 'IN', 'A', 'LIST']).lower()"
   ]
  },
  {
   "cell_type": "code",
   "execution_count": 39,
   "metadata": {},
   "outputs": [
    {
     "data": {
      "text/plain": [
       "1"
      ]
     },
     "execution_count": 39,
     "metadata": {},
     "output_type": "execute_result"
    }
   ],
   "source": [
    "\"Good Morning\".find(\"o\")"
   ]
  },
  {
   "cell_type": "code",
   "execution_count": 40,
   "metadata": {},
   "outputs": [
    {
     "data": {
      "text/plain": [
       "'very Good moring'"
      ]
     },
     "execution_count": 40,
     "metadata": {},
     "output_type": "execute_result"
    }
   ],
   "source": [
    "\"Bad moring\".replace('Bad', 'very Good')"
   ]
  },
  {
   "cell_type": "code",
   "execution_count": 41,
   "metadata": {},
   "outputs": [
    {
     "name": "stdout",
     "output_type": "stream",
     "text": [
      "Bad moring\n",
      "Good moring\n"
     ]
    }
   ],
   "source": [
    "s1 = \"Bad moring\"\n",
    "\n",
    "s2 = s1.replace('Bad', 'Good')\n",
    "print(s1)\n",
    "\n",
    "print(s2)"
   ]
  },
  {
   "cell_type": "markdown",
   "metadata": {},
   "source": [
    "# Python Program to check where a string is palindrome or not ? "
   ]
  },
  {
   "cell_type": "code",
   "execution_count": 13,
   "metadata": {},
   "outputs": [
    {
     "name": "stdout",
     "output_type": "stream",
     "text": [
      "given string is not palindrome\n"
     ]
    }
   ],
   "source": [
    "mystr = \"AabbbaaA\"\n",
    "\n",
    "# convert entire string to either lower and upper case\n",
    "mystr = mystr.lower()\n",
    "\n",
    "#reverse string\n",
    "revstr = reversed(mystr)\n",
    "\n",
    "# check if the string is equal to its reverse \n",
    "if list(mystr) == list(revstr):\n",
    "    print(\"given string is palindrome\")\n",
    "else :\n",
    "    print(\"given string is not palindrome\")"
   ]
  },
  {
   "cell_type": "markdown",
   "metadata": {},
   "source": [
    "# Python program to Sort the Words in Alphabetic order ?"
   ]
  },
  {
   "cell_type": "code",
   "execution_count": 15,
   "metadata": {},
   "outputs": [
    {
     "name": "stdout",
     "output_type": "stream",
     "text": [
      "['Python', 'program', 'to', 'Sort', 'the', 'Words', 'in', 'Alphabetic', 'order', 'Harsh', 'harsh', 'raj', 'singh']\n",
      "\n",
      "Alphabetic\n",
      "Harsh\n",
      "Python\n",
      "Sort\n",
      "Words\n",
      "harsh\n",
      "in\n",
      "order\n",
      "program\n",
      "raj\n",
      "singh\n",
      "the\n",
      "to\n"
     ]
    }
   ],
   "source": [
    "mystr = \"Python program to Sort the Words in Alphabetic order Harsh harsh raj singh\"\n",
    "# break the string into list of words\n",
    "words = mystr.split()\n",
    "print(words)\n",
    "print(\"\")\n",
    "\n",
    "#short the list\n",
    "words.sort()\n",
    "\n",
    "# print sorted words are\n",
    "for word in words:\n",
    "    print(word)"
   ]
  },
  {
   "cell_type": "code",
   "execution_count": 5,
   "metadata": {},
   "outputs": [
    {
     "name": "stdout",
     "output_type": "stream",
     "text": [
      "JUG1 \t JUG2\n",
      "0\t0\n",
      "5\t0\n",
      "0\t5\n",
      "5\t5\n",
      "3\t7\n",
      "0\t3\n",
      "5\t3\n",
      "1\t7\n",
      "0\t1\n",
      "5\t1\n",
      "0\t6\n",
      "5\t6\n",
      "4\t7\n",
      "0\t4\n",
      "This program is run by Mohammad Arman\n"
     ]
    },
    {
     "name": "stderr",
     "output_type": "stream",
     "text": [
      "<>:8: SyntaxWarning: \"is\" with a literal. Did you mean \"==\"?\n",
      "<>:8: SyntaxWarning: \"is\" with a literal. Did you mean \"==\"?\n",
      "C:\\Users\\DELL\\AppData\\Local\\Temp/ipykernel_1976/132788966.py:8: SyntaxWarning: \"is\" with a literal. Did you mean \"==\"?\n",
      "  elif jug1 != 0 and jug2 is 0:\n"
     ]
    }
   ],
   "source": [
    "def pour(jug1,jug2):\n",
    "    max1,max2,fill = 5,7,4 #Change Maximum capacity and final capacity\n",
    "    print(\"%d\\t%d\" % (jug1, jug2))\n",
    "    if jug2 is fill:\n",
    "        return\n",
    "    elif jug2 is max2:\n",
    "        pour(0, jug1)\n",
    "    elif jug1 != 0 and jug2 is 0:\n",
    "        pour(0, jug1)\n",
    "    elif jug1 is fill:\n",
    "        pour(jug1, 0)\n",
    "    elif jug1 < max1:\n",
    "        pour(max1, jug2)\n",
    "    elif jug1 < (max2 - jug2):\n",
    "        pour(0, (jug1+jug2))\n",
    "    else:\n",
    "        pour(jug1 - (max2 - jug2), (max2 - jug2)+jug2)\n",
    "print(\"JUG1 \\t JUG2\")\n",
    "pour(0, 0)\n",
    "print(\"This program is run by Mohammad Arman\")\n"
   ]
  },
  {
   "cell_type": "code",
   "execution_count": 12,
   "metadata": {},
   "outputs": [
    {
     "name": "stdout",
     "output_type": "stream",
     "text": [
      "1 - 2\n",
      "3 - 5\n",
      "5 - 7\n",
      "11 - 13\n",
      "17 - 19\n",
      "29 - 31\n",
      "41 - 43\n",
      "59 - 61\n",
      "71 - 73\n",
      "This program is run by Mohammad Arman\n"
     ]
    }
   ],
   "source": [
    "\n",
    "def prime(num):\n",
    "    pr=True\n",
    "    for i in range(2,num//2+1):\n",
    "        if num%i==0:\n",
    "            pr=False\n",
    "            break\n",
    "    return pr\n",
    "upperBound=100\n",
    "print(1,\"-\",2)\n",
    "for i in range(3,upperBound,2):\n",
    "    if prime(i) and prime(i+2):\n",
    "        print(i,\"-\",i+2)\n",
    "print(\"This program is run by Mohammad Arman\")"
   ]
  },
  {
   "cell_type": "code",
   "execution_count": 11,
   "metadata": {},
   "outputs": [
    {
     "name": "stdout",
     "output_type": "stream",
     "text": [
      "Following is the Breadth-First Search\n",
      "5 3 7 2 4 8  \n",
      "This program is run by Mohammad Arman\n"
     ]
    }
   ],
   "source": [
    "graph = {\n",
    "  '5' : ['3','7'],\n",
    "  '3' : ['2', '4'],\n",
    "  '7' : ['8'],\n",
    "  '2' : [],\n",
    "  '4' : ['8'],\n",
    "  '8' : []\n",
    "}\n",
    "visited = [] # List for visited nodes.\n",
    "queue = []     #Initialize a queue\n",
    "def bfs(visited, graph, node): #function for BFS\n",
    "    visited.append(node)\n",
    "    queue.append(node)\n",
    "    while queue:          # Creating loop to visit each node\n",
    "        m = queue.pop(0) \n",
    "        print (m, end = \" \") \n",
    "        for neighbour in graph[m]:\n",
    "            if neighbour not in visited:\n",
    "                visited.append(neighbour)\n",
    "                queue.append(neighbour)\n",
    "print(\"Following is the Breadth-First Search\")\n",
    "bfs(visited, graph, '5')    # function calling\n",
    "print(\" \")\n",
    "print(\"This program is run by Mohammad Arman\")"
   ]
  },
  {
   "cell_type": "code",
   "execution_count": 14,
   "metadata": {},
   "outputs": [
    {
     "name": "stdout",
     "output_type": "stream",
     "text": [
      "Following is the Depth-First Search\n",
      "5\n",
      "3\n",
      "2\n",
      "4\n",
      "8\n",
      "7\n",
      " \n",
      "This program is run by Mohammad Arman\n"
     ]
    }
   ],
   "source": [
    "graph = {\n",
    "  '5' : ['3','7'],\n",
    "  '3' : ['2', '4'],\n",
    "  '7' : ['8'],\n",
    "  '2' : [],\n",
    "  '4' : ['8'],\n",
    "  '8' : []\n",
    "}\n",
    "\n",
    "visited = set() # Set to keep track of visited nodes of graph.\n",
    "def dfs(visited, graph, node):  #function for dfs \n",
    "    if node not in visited:\n",
    "        print (node)\n",
    "        visited.add(node)\n",
    "        for neighbour in graph[node]:\n",
    "            dfs(visited, graph, neighbour)\n",
    "print(\"Following is the Depth-First Search\")\n",
    "dfs(visited, graph, '5')\n",
    "print(\" \")\n",
    "print(\"This program is run by Mohammad Arman\")"
   ]
  },
  {
   "cell_type": "code",
   "execution_count": null,
   "metadata": {},
   "outputs": [],
   "source": []
  }
 ],
 "metadata": {
  "kernelspec": {
   "display_name": "Python 3 (ipykernel)",
   "language": "python",
   "name": "python3"
  },
  "language_info": {
   "codemirror_mode": {
    "name": "ipython",
    "version": 3
   },
   "file_extension": ".py",
   "mimetype": "text/x-python",
   "name": "python",
   "nbconvert_exporter": "python",
   "pygments_lexer": "ipython3",
   "version": "3.9.7"
  }
 },
 "nbformat": 4,
 "nbformat_minor": 2
}
